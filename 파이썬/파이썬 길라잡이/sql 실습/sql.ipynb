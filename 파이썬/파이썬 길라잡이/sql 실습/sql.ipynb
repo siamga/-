{
 "cells": [
  {
   "cell_type": "code",
   "execution_count": null,
   "metadata": {},
   "outputs": [],
   "source": [
    "import pymysql\n",
    "import pandas as pd"
   ]
  },
  {
   "cell_type": "code",
   "execution_count": null,
   "metadata": {},
   "outputs": [],
   "source": [
    "_db = pymysql.connect(\n",
    "    user = 'root',\n",
    "    passwd = 'qwer1234',\n",
    "    host = 'localhost',\n",
    "    db = 'ubion'\n",
    ")"
   ]
  },
  {
   "cell_type": "code",
   "execution_count": null,
   "metadata": {},
   "outputs": [],
   "source": [
    "cursor = _db.cursor(pymysql.cursors.DictCursor)"
   ]
  },
  {
   "cell_type": "code",
   "execution_count": null,
   "metadata": {},
   "outputs": [
    {
     "name": "stdout",
     "output_type": "stream",
     "text": [
      "[{'ID': '1', 'password': '1', 'name': '1', 'phone': '1', 'ads': '1', 'gender': 1, 'age': 1, 'regit_date': '1'}, {'ID': 'test', 'password': '1234', 'name': '고길동', 'phone': '01012345678', 'ads': '서울시 강북구 쌍문동', 'gender': 1, 'age': 45, 'regit_date': '20200310'}, {'ID': 'test1', 'password': '1235', 'name': 'dff', 'phone': '0105556954', 'ads': 'dgg', 'gender': 1, 'age': 12, 'regit_date': '85546'}, {'ID': 'test2', 'password': '5678', 'name': '둘리', 'phone': '01098765432', 'ads': '북극 어딘가', 'gender': 1, 'age': 10, 'regit_date': '20220310'}, {'ID': 'test3', 'password': '8589', 'name': '마이콜', 'phone': '01025985476', 'ads': '고길동 옆집', 'gender': 1, 'age': 28, 'regit_date': '20220310'}, {'ID': 'test4', 'password': '1569', 'name': '또치', 'phone': '0105874632', 'ads': '동물원', 'gender': 2, 'age': 4, 'regit_date': '20220310'}, {'ID': 'test5', 'password': '5689', 'name': '도우너', 'phone': '01012345678910', 'ads': '깐따삐아', 'gender': 1, 'age': 10, 'regit_date': '20220310'}, {'ID': 'test6', 'password': '3366', 'name': '희동이', 'phone': '0105896321', 'ads': '고길동집', 'gender': 1, 'age': 3, 'regit_date': '2022.03.11'}]\n"
     ]
    }
   ],
   "source": [
    "sql = 'SELECT * FROM user_info'\n",
    "\n",
    "cursor.execute(sql)\n",
    "result = cursor.fetchall()\n",
    "print(result)"
   ]
  },
  {
   "cell_type": "code",
   "execution_count": null,
   "metadata": {},
   "outputs": [
    {
     "data": {
      "text/html": [
       "<div>\n",
       "<style scoped>\n",
       "    .dataframe tbody tr th:only-of-type {\n",
       "        vertical-align: middle;\n",
       "    }\n",
       "\n",
       "    .dataframe tbody tr th {\n",
       "        vertical-align: top;\n",
       "    }\n",
       "\n",
       "    .dataframe thead th {\n",
       "        text-align: right;\n",
       "    }\n",
       "</style>\n",
       "<table border=\"1\" class=\"dataframe\">\n",
       "  <thead>\n",
       "    <tr style=\"text-align: right;\">\n",
       "      <th></th>\n",
       "      <th>ID</th>\n",
       "      <th>password</th>\n",
       "      <th>name</th>\n",
       "      <th>phone</th>\n",
       "      <th>ads</th>\n",
       "      <th>gender</th>\n",
       "      <th>age</th>\n",
       "      <th>regit_date</th>\n",
       "    </tr>\n",
       "  </thead>\n",
       "  <tbody>\n",
       "    <tr>\n",
       "      <th>0</th>\n",
       "      <td>1</td>\n",
       "      <td>1</td>\n",
       "      <td>1</td>\n",
       "      <td>1</td>\n",
       "      <td>1</td>\n",
       "      <td>1</td>\n",
       "      <td>1</td>\n",
       "      <td>1</td>\n",
       "    </tr>\n",
       "    <tr>\n",
       "      <th>1</th>\n",
       "      <td>test</td>\n",
       "      <td>1234</td>\n",
       "      <td>고길동</td>\n",
       "      <td>01012345678</td>\n",
       "      <td>서울시 강북구 쌍문동</td>\n",
       "      <td>1</td>\n",
       "      <td>45</td>\n",
       "      <td>20200310</td>\n",
       "    </tr>\n",
       "    <tr>\n",
       "      <th>2</th>\n",
       "      <td>test1</td>\n",
       "      <td>1235</td>\n",
       "      <td>dff</td>\n",
       "      <td>0105556954</td>\n",
       "      <td>dgg</td>\n",
       "      <td>1</td>\n",
       "      <td>12</td>\n",
       "      <td>85546</td>\n",
       "    </tr>\n",
       "    <tr>\n",
       "      <th>3</th>\n",
       "      <td>test2</td>\n",
       "      <td>5678</td>\n",
       "      <td>둘리</td>\n",
       "      <td>01098765432</td>\n",
       "      <td>북극 어딘가</td>\n",
       "      <td>1</td>\n",
       "      <td>10</td>\n",
       "      <td>20220310</td>\n",
       "    </tr>\n",
       "    <tr>\n",
       "      <th>4</th>\n",
       "      <td>test3</td>\n",
       "      <td>8589</td>\n",
       "      <td>마이콜</td>\n",
       "      <td>01025985476</td>\n",
       "      <td>고길동 옆집</td>\n",
       "      <td>1</td>\n",
       "      <td>28</td>\n",
       "      <td>20220310</td>\n",
       "    </tr>\n",
       "    <tr>\n",
       "      <th>5</th>\n",
       "      <td>test4</td>\n",
       "      <td>1569</td>\n",
       "      <td>또치</td>\n",
       "      <td>0105874632</td>\n",
       "      <td>동물원</td>\n",
       "      <td>2</td>\n",
       "      <td>4</td>\n",
       "      <td>20220310</td>\n",
       "    </tr>\n",
       "    <tr>\n",
       "      <th>6</th>\n",
       "      <td>test5</td>\n",
       "      <td>5689</td>\n",
       "      <td>도우너</td>\n",
       "      <td>01012345678910</td>\n",
       "      <td>깐따삐아</td>\n",
       "      <td>1</td>\n",
       "      <td>10</td>\n",
       "      <td>20220310</td>\n",
       "    </tr>\n",
       "    <tr>\n",
       "      <th>7</th>\n",
       "      <td>test6</td>\n",
       "      <td>3366</td>\n",
       "      <td>희동이</td>\n",
       "      <td>0105896321</td>\n",
       "      <td>고길동집</td>\n",
       "      <td>1</td>\n",
       "      <td>3</td>\n",
       "      <td>2022.03.11</td>\n",
       "    </tr>\n",
       "  </tbody>\n",
       "</table>\n",
       "</div>"
      ],
      "text/plain": [
       "      ID password name           phone          ads  gender  age  regit_date\n",
       "0      1        1    1               1            1       1    1           1\n",
       "1   test     1234  고길동     01012345678  서울시 강북구 쌍문동       1   45    20200310\n",
       "2  test1     1235  dff      0105556954          dgg       1   12       85546\n",
       "3  test2     5678   둘리     01098765432       북극 어딘가       1   10    20220310\n",
       "4  test3     8589  마이콜     01025985476       고길동 옆집       1   28    20220310\n",
       "5  test4     1569   또치      0105874632          동물원       2    4    20220310\n",
       "6  test5     5689  도우너  01012345678910         깐따삐아       1   10    20220310\n",
       "7  test6     3366  희동이      0105896321         고길동집       1    3  2022.03.11"
      ]
     },
     "execution_count": 11,
     "metadata": {},
     "output_type": "execute_result"
    }
   ],
   "source": [
    "# result를 데이터프레임으로 만들어라\n",
    "dt = pd.DataFrame(result)\n",
    "dt"
   ]
  },
  {
   "cell_type": "code",
   "execution_count": null,
   "metadata": {},
   "outputs": [
    {
     "ename": "IntegrityError",
     "evalue": "(1062, \"Duplicate entry 'test4' for key 'user_info.PRIMARY'\")",
     "output_type": "error",
     "traceback": [
      "\u001b[1;31m---------------------------------------------------------------------------\u001b[0m",
      "\u001b[1;31mIntegrityError\u001b[0m                            Traceback (most recent call last)",
      "\u001b[1;32mc:\\Users\\LG\\Downloads\\파이썬 길라잡이\\sql 실습\\sql.ipynb Cell 6'\u001b[0m in \u001b[0;36m<module>\u001b[1;34m\u001b[0m\n\u001b[0;32m      <a href='vscode-notebook-cell:/c%3A/Users/LG/Downloads/%ED%8C%8C%EC%9D%B4%EC%8D%AC%20%EA%B8%B8%EB%9D%BC%EC%9E%A1%EC%9D%B4/sql%20%EC%8B%A4%EC%8A%B5/sql.ipynb#ch0000005?line=0'>1</a>\u001b[0m sql \u001b[39m=\u001b[39m \u001b[39m\"\u001b[39m\u001b[39mINSERT INTO user_info VALUES (\u001b[39m\u001b[39m%s\u001b[39;00m\u001b[39m, \u001b[39m\u001b[39m%s\u001b[39;00m\u001b[39m, \u001b[39m\u001b[39m%s\u001b[39;00m\u001b[39m,\u001b[39m\u001b[39m%s\u001b[39;00m\u001b[39m,\u001b[39m\u001b[39m%s\u001b[39;00m\u001b[39m,\u001b[39m\u001b[39m%s\u001b[39;00m\u001b[39m,\u001b[39m\u001b[39m%s\u001b[39;00m\u001b[39m,\u001b[39m\u001b[39m%s\u001b[39;00m\u001b[39m)\u001b[39m\u001b[39m\"\u001b[39m\n\u001b[0;32m      <a href='vscode-notebook-cell:/c%3A/Users/LG/Downloads/%ED%8C%8C%EC%9D%B4%EC%8D%AC%20%EA%B8%B8%EB%9D%BC%EC%9E%A1%EC%9D%B4/sql%20%EC%8B%A4%EC%8A%B5/sql.ipynb#ch0000005?line=1'>2</a>\u001b[0m values \u001b[39m=\u001b[39m [\u001b[39m'\u001b[39m\u001b[39mtest4\u001b[39m\u001b[39m'\u001b[39m,\u001b[39m'\u001b[39m\u001b[39m1569\u001b[39m\u001b[39m'\u001b[39m,\u001b[39m'\u001b[39m\u001b[39m또치\u001b[39m\u001b[39m'\u001b[39m,\u001b[39m'\u001b[39m\u001b[39m0105874632\u001b[39m\u001b[39m'\u001b[39m,\u001b[39m'\u001b[39m\u001b[39m동물원\u001b[39m\u001b[39m'\u001b[39m,\u001b[39m2\u001b[39m,\u001b[39m4\u001b[39m,\u001b[39m'\u001b[39m\u001b[39m20220310\u001b[39m\u001b[39m'\u001b[39m] \n\u001b[1;32m----> <a href='vscode-notebook-cell:/c%3A/Users/LG/Downloads/%ED%8C%8C%EC%9D%B4%EC%8D%AC%20%EA%B8%B8%EB%9D%BC%EC%9E%A1%EC%9D%B4/sql%20%EC%8B%A4%EC%8A%B5/sql.ipynb#ch0000005?line=3'>4</a>\u001b[0m cursor\u001b[39m.\u001b[39;49mexecute(sql,values)\n\u001b[0;32m      <a href='vscode-notebook-cell:/c%3A/Users/LG/Downloads/%ED%8C%8C%EC%9D%B4%EC%8D%AC%20%EA%B8%B8%EB%9D%BC%EC%9E%A1%EC%9D%B4/sql%20%EC%8B%A4%EC%8A%B5/sql.ipynb#ch0000005?line=4'>5</a>\u001b[0m \u001b[39m#왜 % 구문을 사용하는데 문자열 맨 뒤에 %를 안쓰나?\u001b[39;00m\n\u001b[0;32m      <a href='vscode-notebook-cell:/c%3A/Users/LG/Downloads/%ED%8C%8C%EC%9D%B4%EC%8D%AC%20%EA%B8%B8%EB%9D%BC%EC%9E%A1%EC%9D%B4/sql%20%EC%8B%A4%EC%8A%B5/sql.ipynb#ch0000005?line=5'>6</a>\u001b[0m \u001b[39m#-> 여기서는 python의 % 구문 사용과는 다르게 \u001b[39;00m\n\u001b[0;32m      <a href='vscode-notebook-cell:/c%3A/Users/LG/Downloads/%ED%8C%8C%EC%9D%B4%EC%8D%AC%20%EA%B8%B8%EB%9D%BC%EC%9E%A1%EC%9D%B4/sql%20%EC%8B%A4%EC%8A%B5/sql.ipynb#ch0000005?line=6'>7</a>\u001b[0m \u001b[39m#pymysql내의 excute 함수에서 자체적으로 문자열에 단어나 문자를 추가해주는 방식이기에\u001b[39;00m\n\u001b[0;32m      <a href='vscode-notebook-cell:/c%3A/Users/LG/Downloads/%ED%8C%8C%EC%9D%B4%EC%8D%AC%20%EA%B8%B8%EB%9D%BC%EC%9E%A1%EC%9D%B4/sql%20%EC%8B%A4%EC%8A%B5/sql.ipynb#ch0000005?line=7'>8</a>\u001b[0m \u001b[39m#문자열 맨 뒤에 %를 추가하지 않아도 된다.\u001b[39;00m\n\u001b[0;32m     <a href='vscode-notebook-cell:/c%3A/Users/LG/Downloads/%ED%8C%8C%EC%9D%B4%EC%8D%AC%20%EA%B8%B8%EB%9D%BC%EC%9E%A1%EC%9D%B4/sql%20%EC%8B%A4%EC%8A%B5/sql.ipynb#ch0000005?line=9'>10</a>\u001b[0m _db\u001b[39m.\u001b[39mcommit()\n",
      "File \u001b[1;32m~\\AppData\\Local\\Programs\\Python\\Python310\\lib\\site-packages\\pymysql\\cursors.py:148\u001b[0m, in \u001b[0;36mCursor.execute\u001b[1;34m(self, query, args)\u001b[0m\n\u001b[0;32m    <a href='file:///c%3A/Users/LG/AppData/Local/Programs/Python/Python310/lib/site-packages/pymysql/cursors.py?line=143'>144</a>\u001b[0m     \u001b[39mpass\u001b[39;00m\n\u001b[0;32m    <a href='file:///c%3A/Users/LG/AppData/Local/Programs/Python/Python310/lib/site-packages/pymysql/cursors.py?line=145'>146</a>\u001b[0m query \u001b[39m=\u001b[39m \u001b[39mself\u001b[39m\u001b[39m.\u001b[39mmogrify(query, args)\n\u001b[1;32m--> <a href='file:///c%3A/Users/LG/AppData/Local/Programs/Python/Python310/lib/site-packages/pymysql/cursors.py?line=147'>148</a>\u001b[0m result \u001b[39m=\u001b[39m \u001b[39mself\u001b[39;49m\u001b[39m.\u001b[39;49m_query(query)\n\u001b[0;32m    <a href='file:///c%3A/Users/LG/AppData/Local/Programs/Python/Python310/lib/site-packages/pymysql/cursors.py?line=148'>149</a>\u001b[0m \u001b[39mself\u001b[39m\u001b[39m.\u001b[39m_executed \u001b[39m=\u001b[39m query\n\u001b[0;32m    <a href='file:///c%3A/Users/LG/AppData/Local/Programs/Python/Python310/lib/site-packages/pymysql/cursors.py?line=149'>150</a>\u001b[0m \u001b[39mreturn\u001b[39;00m result\n",
      "File \u001b[1;32m~\\AppData\\Local\\Programs\\Python\\Python310\\lib\\site-packages\\pymysql\\cursors.py:310\u001b[0m, in \u001b[0;36mCursor._query\u001b[1;34m(self, q)\u001b[0m\n\u001b[0;32m    <a href='file:///c%3A/Users/LG/AppData/Local/Programs/Python/Python310/lib/site-packages/pymysql/cursors.py?line=307'>308</a>\u001b[0m \u001b[39mself\u001b[39m\u001b[39m.\u001b[39m_last_executed \u001b[39m=\u001b[39m q\n\u001b[0;32m    <a href='file:///c%3A/Users/LG/AppData/Local/Programs/Python/Python310/lib/site-packages/pymysql/cursors.py?line=308'>309</a>\u001b[0m \u001b[39mself\u001b[39m\u001b[39m.\u001b[39m_clear_result()\n\u001b[1;32m--> <a href='file:///c%3A/Users/LG/AppData/Local/Programs/Python/Python310/lib/site-packages/pymysql/cursors.py?line=309'>310</a>\u001b[0m conn\u001b[39m.\u001b[39;49mquery(q)\n\u001b[0;32m    <a href='file:///c%3A/Users/LG/AppData/Local/Programs/Python/Python310/lib/site-packages/pymysql/cursors.py?line=310'>311</a>\u001b[0m \u001b[39mself\u001b[39m\u001b[39m.\u001b[39m_do_get_result()\n\u001b[0;32m    <a href='file:///c%3A/Users/LG/AppData/Local/Programs/Python/Python310/lib/site-packages/pymysql/cursors.py?line=311'>312</a>\u001b[0m \u001b[39mreturn\u001b[39;00m \u001b[39mself\u001b[39m\u001b[39m.\u001b[39mrowcount\n",
      "File \u001b[1;32m~\\AppData\\Local\\Programs\\Python\\Python310\\lib\\site-packages\\pymysql\\connections.py:548\u001b[0m, in \u001b[0;36mConnection.query\u001b[1;34m(self, sql, unbuffered)\u001b[0m\n\u001b[0;32m    <a href='file:///c%3A/Users/LG/AppData/Local/Programs/Python/Python310/lib/site-packages/pymysql/connections.py?line=545'>546</a>\u001b[0m     sql \u001b[39m=\u001b[39m sql\u001b[39m.\u001b[39mencode(\u001b[39mself\u001b[39m\u001b[39m.\u001b[39mencoding, \u001b[39m\"\u001b[39m\u001b[39msurrogateescape\u001b[39m\u001b[39m\"\u001b[39m)\n\u001b[0;32m    <a href='file:///c%3A/Users/LG/AppData/Local/Programs/Python/Python310/lib/site-packages/pymysql/connections.py?line=546'>547</a>\u001b[0m \u001b[39mself\u001b[39m\u001b[39m.\u001b[39m_execute_command(COMMAND\u001b[39m.\u001b[39mCOM_QUERY, sql)\n\u001b[1;32m--> <a href='file:///c%3A/Users/LG/AppData/Local/Programs/Python/Python310/lib/site-packages/pymysql/connections.py?line=547'>548</a>\u001b[0m \u001b[39mself\u001b[39m\u001b[39m.\u001b[39m_affected_rows \u001b[39m=\u001b[39m \u001b[39mself\u001b[39;49m\u001b[39m.\u001b[39;49m_read_query_result(unbuffered\u001b[39m=\u001b[39;49munbuffered)\n\u001b[0;32m    <a href='file:///c%3A/Users/LG/AppData/Local/Programs/Python/Python310/lib/site-packages/pymysql/connections.py?line=548'>549</a>\u001b[0m \u001b[39mreturn\u001b[39;00m \u001b[39mself\u001b[39m\u001b[39m.\u001b[39m_affected_rows\n",
      "File \u001b[1;32m~\\AppData\\Local\\Programs\\Python\\Python310\\lib\\site-packages\\pymysql\\connections.py:775\u001b[0m, in \u001b[0;36mConnection._read_query_result\u001b[1;34m(self, unbuffered)\u001b[0m\n\u001b[0;32m    <a href='file:///c%3A/Users/LG/AppData/Local/Programs/Python/Python310/lib/site-packages/pymysql/connections.py?line=772'>773</a>\u001b[0m \u001b[39melse\u001b[39;00m:\n\u001b[0;32m    <a href='file:///c%3A/Users/LG/AppData/Local/Programs/Python/Python310/lib/site-packages/pymysql/connections.py?line=773'>774</a>\u001b[0m     result \u001b[39m=\u001b[39m MySQLResult(\u001b[39mself\u001b[39m)\n\u001b[1;32m--> <a href='file:///c%3A/Users/LG/AppData/Local/Programs/Python/Python310/lib/site-packages/pymysql/connections.py?line=774'>775</a>\u001b[0m     result\u001b[39m.\u001b[39;49mread()\n\u001b[0;32m    <a href='file:///c%3A/Users/LG/AppData/Local/Programs/Python/Python310/lib/site-packages/pymysql/connections.py?line=775'>776</a>\u001b[0m \u001b[39mself\u001b[39m\u001b[39m.\u001b[39m_result \u001b[39m=\u001b[39m result\n\u001b[0;32m    <a href='file:///c%3A/Users/LG/AppData/Local/Programs/Python/Python310/lib/site-packages/pymysql/connections.py?line=776'>777</a>\u001b[0m \u001b[39mif\u001b[39;00m result\u001b[39m.\u001b[39mserver_status \u001b[39mis\u001b[39;00m \u001b[39mnot\u001b[39;00m \u001b[39mNone\u001b[39;00m:\n",
      "File \u001b[1;32m~\\AppData\\Local\\Programs\\Python\\Python310\\lib\\site-packages\\pymysql\\connections.py:1156\u001b[0m, in \u001b[0;36mMySQLResult.read\u001b[1;34m(self)\u001b[0m\n\u001b[0;32m   <a href='file:///c%3A/Users/LG/AppData/Local/Programs/Python/Python310/lib/site-packages/pymysql/connections.py?line=1153'>1154</a>\u001b[0m \u001b[39mdef\u001b[39;00m \u001b[39mread\u001b[39m(\u001b[39mself\u001b[39m):\n\u001b[0;32m   <a href='file:///c%3A/Users/LG/AppData/Local/Programs/Python/Python310/lib/site-packages/pymysql/connections.py?line=1154'>1155</a>\u001b[0m     \u001b[39mtry\u001b[39;00m:\n\u001b[1;32m-> <a href='file:///c%3A/Users/LG/AppData/Local/Programs/Python/Python310/lib/site-packages/pymysql/connections.py?line=1155'>1156</a>\u001b[0m         first_packet \u001b[39m=\u001b[39m \u001b[39mself\u001b[39;49m\u001b[39m.\u001b[39;49mconnection\u001b[39m.\u001b[39;49m_read_packet()\n\u001b[0;32m   <a href='file:///c%3A/Users/LG/AppData/Local/Programs/Python/Python310/lib/site-packages/pymysql/connections.py?line=1157'>1158</a>\u001b[0m         \u001b[39mif\u001b[39;00m first_packet\u001b[39m.\u001b[39mis_ok_packet():\n\u001b[0;32m   <a href='file:///c%3A/Users/LG/AppData/Local/Programs/Python/Python310/lib/site-packages/pymysql/connections.py?line=1158'>1159</a>\u001b[0m             \u001b[39mself\u001b[39m\u001b[39m.\u001b[39m_read_ok_packet(first_packet)\n",
      "File \u001b[1;32m~\\AppData\\Local\\Programs\\Python\\Python310\\lib\\site-packages\\pymysql\\connections.py:725\u001b[0m, in \u001b[0;36mConnection._read_packet\u001b[1;34m(self, packet_type)\u001b[0m\n\u001b[0;32m    <a href='file:///c%3A/Users/LG/AppData/Local/Programs/Python/Python310/lib/site-packages/pymysql/connections.py?line=722'>723</a>\u001b[0m     \u001b[39mif\u001b[39;00m \u001b[39mself\u001b[39m\u001b[39m.\u001b[39m_result \u001b[39mis\u001b[39;00m \u001b[39mnot\u001b[39;00m \u001b[39mNone\u001b[39;00m \u001b[39mand\u001b[39;00m \u001b[39mself\u001b[39m\u001b[39m.\u001b[39m_result\u001b[39m.\u001b[39munbuffered_active \u001b[39mis\u001b[39;00m \u001b[39mTrue\u001b[39;00m:\n\u001b[0;32m    <a href='file:///c%3A/Users/LG/AppData/Local/Programs/Python/Python310/lib/site-packages/pymysql/connections.py?line=723'>724</a>\u001b[0m         \u001b[39mself\u001b[39m\u001b[39m.\u001b[39m_result\u001b[39m.\u001b[39munbuffered_active \u001b[39m=\u001b[39m \u001b[39mFalse\u001b[39;00m\n\u001b[1;32m--> <a href='file:///c%3A/Users/LG/AppData/Local/Programs/Python/Python310/lib/site-packages/pymysql/connections.py?line=724'>725</a>\u001b[0m     packet\u001b[39m.\u001b[39;49mraise_for_error()\n\u001b[0;32m    <a href='file:///c%3A/Users/LG/AppData/Local/Programs/Python/Python310/lib/site-packages/pymysql/connections.py?line=725'>726</a>\u001b[0m \u001b[39mreturn\u001b[39;00m packet\n",
      "File \u001b[1;32m~\\AppData\\Local\\Programs\\Python\\Python310\\lib\\site-packages\\pymysql\\protocol.py:221\u001b[0m, in \u001b[0;36mMysqlPacket.raise_for_error\u001b[1;34m(self)\u001b[0m\n\u001b[0;32m    <a href='file:///c%3A/Users/LG/AppData/Local/Programs/Python/Python310/lib/site-packages/pymysql/protocol.py?line=218'>219</a>\u001b[0m \u001b[39mif\u001b[39;00m DEBUG:\n\u001b[0;32m    <a href='file:///c%3A/Users/LG/AppData/Local/Programs/Python/Python310/lib/site-packages/pymysql/protocol.py?line=219'>220</a>\u001b[0m     \u001b[39mprint\u001b[39m(\u001b[39m\"\u001b[39m\u001b[39merrno =\u001b[39m\u001b[39m\"\u001b[39m, errno)\n\u001b[1;32m--> <a href='file:///c%3A/Users/LG/AppData/Local/Programs/Python/Python310/lib/site-packages/pymysql/protocol.py?line=220'>221</a>\u001b[0m err\u001b[39m.\u001b[39;49mraise_mysql_exception(\u001b[39mself\u001b[39;49m\u001b[39m.\u001b[39;49m_data)\n",
      "File \u001b[1;32m~\\AppData\\Local\\Programs\\Python\\Python310\\lib\\site-packages\\pymysql\\err.py:143\u001b[0m, in \u001b[0;36mraise_mysql_exception\u001b[1;34m(data)\u001b[0m\n\u001b[0;32m    <a href='file:///c%3A/Users/LG/AppData/Local/Programs/Python/Python310/lib/site-packages/pymysql/err.py?line=140'>141</a>\u001b[0m \u001b[39mif\u001b[39;00m errorclass \u001b[39mis\u001b[39;00m \u001b[39mNone\u001b[39;00m:\n\u001b[0;32m    <a href='file:///c%3A/Users/LG/AppData/Local/Programs/Python/Python310/lib/site-packages/pymysql/err.py?line=141'>142</a>\u001b[0m     errorclass \u001b[39m=\u001b[39m InternalError \u001b[39mif\u001b[39;00m errno \u001b[39m<\u001b[39m \u001b[39m1000\u001b[39m \u001b[39melse\u001b[39;00m OperationalError\n\u001b[1;32m--> <a href='file:///c%3A/Users/LG/AppData/Local/Programs/Python/Python310/lib/site-packages/pymysql/err.py?line=142'>143</a>\u001b[0m \u001b[39mraise\u001b[39;00m errorclass(errno, errval)\n",
      "\u001b[1;31mIntegrityError\u001b[0m: (1062, \"Duplicate entry 'test4' for key 'user_info.PRIMARY'\")"
     ]
    }
   ],
   "source": [
    "sql = \"INSERT INTO user_info VALUES (%s, %s, %s,%s,%s,%s,%s,%s)\"\n",
    "values = ['test4','1569','또치','0105874632','동물원',2,4,'20220310'] \n",
    "\n",
    "cursor.execute(sql,values)\n",
    "#왜 % 구문을 사용하는데 문자열 맨 뒤에 %를 안쓰나?\n",
    "#-> 여기서는 python의 % 구문 사용과는 다르게 \n",
    "#pymysql내의 excute 함수에서 자체적으로 문자열에 단어나 문자를 추가해주는 방식이기에\n",
    "#문자열 맨 뒤에 %를 추가하지 않아도 된다.\n",
    "\n",
    "_db.commit()\n"
   ]
  },
  {
   "cell_type": "code",
   "execution_count": null,
   "metadata": {},
   "outputs": [
    {
     "ename": "NameError",
     "evalue": "name 'cursor' is not defined",
     "output_type": "error",
     "traceback": [
      "\u001b[1;31m---------------------------------------------------------------------------\u001b[0m",
      "\u001b[1;31mNameError\u001b[0m                                 Traceback (most recent call last)",
      "\u001b[1;32mc:\\Users\\LG\\Downloads\\파이썬 길라잡이\\sql 실습\\sql.ipynb Cell 7'\u001b[0m in \u001b[0;36m<module>\u001b[1;34m\u001b[0m\n\u001b[0;32m     <a href='vscode-notebook-cell:/c%3A/Users/LG/Downloads/%ED%8C%8C%EC%9D%B4%EC%8D%AC%20%EA%B8%B8%EB%9D%BC%EC%9E%A1%EC%9D%B4/sql%20%EC%8B%A4%EC%8A%B5/sql.ipynb#ch0000006?line=9'>10</a>\u001b[0m regit_date \u001b[39m=\u001b[39m \u001b[39minput\u001b[39m(\u001b[39m'\u001b[39m\u001b[39mregit_date :\u001b[39m\u001b[39m'\u001b[39m)\n\u001b[0;32m     <a href='vscode-notebook-cell:/c%3A/Users/LG/Downloads/%ED%8C%8C%EC%9D%B4%EC%8D%AC%20%EA%B8%B8%EB%9D%BC%EC%9E%A1%EC%9D%B4/sql%20%EC%8B%A4%EC%8A%B5/sql.ipynb#ch0000006?line=11'>12</a>\u001b[0m input_list \u001b[39m=\u001b[39m [_ID,pw,name,phone,ads,gender,age,regit_date]\n\u001b[1;32m---> <a href='vscode-notebook-cell:/c%3A/Users/LG/Downloads/%ED%8C%8C%EC%9D%B4%EC%8D%AC%20%EA%B8%B8%EB%9D%BC%EC%9E%A1%EC%9D%B4/sql%20%EC%8B%A4%EC%8A%B5/sql.ipynb#ch0000006?line=13'>14</a>\u001b[0m cursor\u001b[39m.\u001b[39mexecute(sql,input_list)\n\u001b[0;32m     <a href='vscode-notebook-cell:/c%3A/Users/LG/Downloads/%ED%8C%8C%EC%9D%B4%EC%8D%AC%20%EA%B8%B8%EB%9D%BC%EC%9E%A1%EC%9D%B4/sql%20%EC%8B%A4%EC%8A%B5/sql.ipynb#ch0000006?line=14'>15</a>\u001b[0m _db\u001b[39m.\u001b[39mcommit()\n",
      "\u001b[1;31mNameError\u001b[0m: name 'cursor' is not defined"
     ]
    }
   ],
   "source": [
    "sql = \"INSERT INTO user_info VALUES (%s, %s, %s,%s,%s,%s,%s,%s)\"\n",
    "\n",
    "_ID = input('ID : ')\n",
    "pw = input('passwrod : ')\n",
    "name = input('name : ')\n",
    "phone = input('phone : ')\n",
    "ads = input('address : ')\n",
    "gender = int(input('gender :'))\n",
    "age = int(input('age : '))\n",
    "regit_date = input('regit_date :')\n",
    "\n",
    "input_list = [_ID,pw,name,phone,ads,gender,age,regit_date]\n",
    "\n",
    "cursor.execute(sql,input_list)\n",
    "_db.commit()\n"
   ]
  },
  {
   "cell_type": "code",
   "execution_count": null,
   "metadata": {},
   "outputs": [],
   "source": [
    "update_sql = '''UPDATE user_info \n",
    "                SET phone = \"01012345678910\"\n",
    "                where name = \"도우너\" \n",
    "                '''\n",
    "\n",
    "cursor.execute(update_sql)\n",
    "_db.commit()\n",
    "\n"
   ]
  },
  {
   "cell_type": "code",
   "execution_count": 13,
   "metadata": {},
   "outputs": [],
   "source": [
    "delete_sql = '''\n",
    "             DELETE FROM user_info\n",
    "             where name = '1'\n",
    "             '''\n",
    "\n",
    "cursor.execute(delete_sql)\n",
    "_db.commit()"
   ]
  },
  {
   "cell_type": "code",
   "execution_count": 15,
   "metadata": {},
   "outputs": [
    {
     "name": "stdout",
     "output_type": "stream",
     "text": [
      "30\n"
     ]
    }
   ],
   "source": [
    "a = 30\n",
    "\n",
    "if a :\n",
    "    print(a)\n",
    "else:\n",
    "    print('b')"
   ]
  }
 ],
 "metadata": {
  "interpreter": {
   "hash": "793a361c9cb33761c67c8442ce1c830393d9eace081562163e5d71d68ad47fd0"
  },
  "kernelspec": {
   "display_name": "Python 3.10.2 64-bit",
   "language": "python",
   "name": "python3"
  },
  "language_info": {
   "codemirror_mode": {
    "name": "ipython",
    "version": 3
   },
   "file_extension": ".py",
   "mimetype": "text/x-python",
   "name": "python",
   "nbconvert_exporter": "python",
   "pygments_lexer": "ipython3",
   "version": "3.10.2"
  },
  "orig_nbformat": 4
 },
 "nbformat": 4,
 "nbformat_minor": 2
}
