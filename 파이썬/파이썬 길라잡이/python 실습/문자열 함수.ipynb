{
 "cells": [
  {
   "cell_type": "code",
   "execution_count": 6,
   "metadata": {},
   "outputs": [
    {
     "name": "stdout",
     "output_type": "stream",
     "text": [
      "H_e_l_l_o_"
     ]
    }
   ],
   "source": [
    "#len() -> 문자열 길이 출력\n",
    "a = 'Hello'\n",
    "\n",
    "a_len = len(a)\n",
    "\n",
    "for i in range(0,a_len):\n",
    "    print(a[i] + '_', end=\"\")"
   ]
  },
  {
   "cell_type": "code",
   "execution_count": 25,
   "metadata": {},
   "outputs": [
    {
     "name": "stdout",
     "output_type": "stream",
     "text": [
      "HELLO WORLD\n",
      "hello world\n",
      "hELLO WORLD\n",
      "Hello World\n"
     ]
    }
   ],
   "source": [
    "#upper(): 전체 문자의 대문자 전환\n",
    "#lower(): 문자 모두를 소문자로 전환\n",
    "#swapcase(): 대문자를 소문자, 소문자를 대문자로 변환\n",
    "#title(): 단어의 첫 문자만 대문자로 변환\n",
    "a = 'Hello world'\n",
    "\n",
    "print(a.upper())\n",
    "print(a.lower())\n",
    "print(a.swapcase())\n",
    "print(a.title())"
   ]
  },
  {
   "cell_type": "code",
   "execution_count": 34,
   "metadata": {},
   "outputs": [
    {
     "name": "stdout",
     "output_type": "stream",
     "text": [
      "2\n",
      "8\n",
      "8\n",
      "0\n"
     ]
    }
   ],
   "source": [
    "#count(): 문자열의 개수 출력\n",
    "#find(): 문자열의 앞부터 시작해 처음 나온 위치 출력\n",
    "#index(): 위치를 출력하지만 찾는 단어가 없으면 애러\n",
    "\n",
    "a = 'Hello World'\n",
    "print(a.count('o'))\n",
    "print(a.find('r'))\n",
    "print(a.index('r'))\n",
    "print(a.index(a))"
   ]
  },
  {
   "cell_type": "code",
   "execution_count": 36,
   "metadata": {},
   "outputs": [
    {
     "name": "stdout",
     "output_type": "stream",
     "text": [
      "Hello world \n",
      " Hello world \n"
     ]
    },
    {
     "data": {
      "text/plain": [
       "'Hello world'"
      ]
     },
     "execution_count": 36,
     "metadata": {},
     "output_type": "execute_result"
    }
   ],
   "source": [
    "#lstrip(): 문자열의 왼쪽 공백을 지운다.\n",
    "#rstrip(): 문자열의 오른쪽 공백을 지운다.\n",
    "#strip(): 문자열의 양쪽 공백을 지운다.\n",
    "\n",
    "a = ' Hello world '\n",
    "print(a.lstrip())\n",
    "print(a)\n",
    "a.rstrip()\n",
    "a.strip()"
   ]
  },
  {
   "cell_type": "code",
   "execution_count": 43,
   "metadata": {},
   "outputs": [
    {
     "name": "stdout",
     "output_type": "stream",
     "text": [
      "Hi world\n",
      "['Hello', 'world']\n",
      "b\n"
     ]
    }
   ],
   "source": [
    "#replace() : 문자열 안의 특정한 값을 다른 값으로 치환한다. \n",
    "#split() : 문자열을 괄호 안에 값으로 구분하여 나누어준다.(괄호 안이 값을 넣지 않으면 공백을 기준으로 한다.)\n",
    "a = 'Hello world'\n",
    "\n",
    "A = a.replace('Hello', 'Hi')\n",
    "print(A)\n",
    "\n",
    "B = a.split()\n",
    "print(B)\n",
    "\n",
    "b= 'a,b,c,d'\n",
    "C = b.split(',')\n",
    "print(C[1])"
   ]
  },
  {
   "cell_type": "code",
   "execution_count": null,
   "metadata": {},
   "outputs": [],
   "source": []
  }
 ],
 "metadata": {
  "interpreter": {
   "hash": "793a361c9cb33761c67c8442ce1c830393d9eace081562163e5d71d68ad47fd0"
  },
  "kernelspec": {
   "display_name": "Python 3.10.2 64-bit",
   "language": "python",
   "name": "python3"
  },
  "language_info": {
   "codemirror_mode": {
    "name": "ipython",
    "version": 3
   },
   "file_extension": ".py",
   "mimetype": "text/x-python",
   "name": "python",
   "nbconvert_exporter": "python",
   "pygments_lexer": "ipython3",
   "version": "3.10.2"
  },
  "orig_nbformat": 4
 },
 "nbformat": 4,
 "nbformat_minor": 2
}
