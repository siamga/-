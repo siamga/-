{
 "cells": [
  {
   "cell_type": "code",
   "execution_count": 1,
   "metadata": {},
   "outputs": [
    {
     "name": "stdout",
     "output_type": "stream",
     "text": [
      "스리즈의 값:  [5000 6000 6500 6500]\n",
      "스리즈의 인덱스 값:  Index(['아메리카노', '카페라떼', '카페모카', '카푸치노'], dtype='object')\n"
     ]
    }
   ],
   "source": [
    "# 판다스(pandas): 데이터 처리를 위한 라이브러리\n",
    "# Series, DataFrame, Panel의 3가지로 나뉜다.\n",
    "\n",
    "# Series: 1차원 배열 값과 인덱스 값을 부여한다.\n",
    "# Series 기본형: pandas.Series(배열값, 인덱스값)\n",
    "\n",
    "import pandas as pd\n",
    "\n",
    "pd_list = pd.Series([5000,6000,6500,6500],\n",
    "                    index=['아메리카노', '카페라떼','카페모카','카푸치노'])\n",
    "\n",
    "print(pd_list)\n",
    "\n",
    "\n",
    "#변수.values -> Series의 값만 출력\n",
    "#변수.index -> Series의 인덱스 값만 출력\n",
    "#기본형: Series로 만든 변수의 이름.(values, index)\n",
    "\n",
    "print('스리즈의 값: ',pd_list.values)\n",
    "print('스리즈의 인덱스 값: ',pd_list.index )\n"
   ]
  },
  {
   "cell_type": "code",
   "execution_count": 3,
   "metadata": {},
   "outputs": [
    {
     "name": "stdout",
     "output_type": "stream",
     "text": [
      "   A  B  C\n",
      "a  1  2  3\n",
      "b  4  5  6\n",
      "c  7  8  9\n",
      "데이터 프레임의 인덱스값 :  Index(['a', 'b', 'c'], dtype='object')\n",
      "데이터 프레임의 컬럼 값 :  Index(['A', 'B', 'C'], dtype='object')\n",
      "데이터 프레임의 값 :  [[1 2 3]\n",
      " [4 5 6]\n",
      " [7 8 9]]\n",
      "   0  1              2\n",
      "0  A  남  010-1234-5678\n",
      "1  B  여  010-4321-8765\n",
      "2  C  여  010-9876-1234\n",
      "  이름 성별           전화번호\n",
      "0  A  남  010-1234-5678\n",
      "1  B  여  010-4321-8765\n",
      "2  C  여  010-9876-1234\n"
     ]
    }
   ],
   "source": [
    "# DataFrame: 2차원 리스트, 행과 열 방향의 인덱스가 존재한다.\n",
    "# DataFrame 기본형: pandas.DataFrame(배열값, index = 행방향 인덱스 값, \n",
    "# columns = 열방향 인덱스 값)\n",
    "\n",
    "values =[ [1,2,3],[4,5,6],[7,8,9]]\n",
    "index = ['a','b','c']\n",
    "columns = ['A','B','C']\n",
    "\n",
    "pd_dataframe = pd.DataFrame(values,index=index,columns=columns)\n",
    "\n",
    "print(pd_dataframe)\n",
    "\n",
    "\n",
    "#변수.index -> DataFrame의 행방향 인덱스 값만 출력\n",
    "#변수. columns -> DataFrame의 열방향 인덱스 값만 출력\n",
    "#변수.values -> DataFrame의 값을 출력\n",
    "#기본형: DataFrame으로 만든 변수의 이름.(index, columns, values)\n",
    "\n",
    "print('데이터 프레임의 인덱스값 : ', pd_dataframe.index)\n",
    "print('데이터 프레임의 컬럼 값 : ', pd_dataframe.columns)\n",
    "print('데이터 프레임의 값 : ', pd_dataframe.values)\n",
    "\n",
    "\n",
    "#데이터프레임은 리스트와 딕셔너리를 이용해서 \n",
    "#데이터 프레임을 만들 수 있다.\n",
    "list_data = [['A','남','010-1234-5678'],\n",
    "             ['B','여','010-4321-8765'],\n",
    "             ['C','여','010-9876-1234']]\n",
    "\n",
    "pd_dataframe_2 = pd.DataFrame(list_data)\n",
    "\n",
    "print(pd_dataframe_2)\n",
    "\n",
    "\n",
    "\n",
    "#행이나 열의 이름을 지정할 수 있다.\n",
    "pd_dataframe_2 = pd.DataFrame(list_data, \n",
    "                            columns = ['이름','성별','전화번호'])\n",
    "print(pd_dataframe_2)\n"
   ]
  },
  {
   "cell_type": "code",
   "execution_count": 18,
   "metadata": {},
   "outputs": [
    {
     "name": "stdout",
     "output_type": "stream",
     "text": [
      "  이름 성별           전화번호\n",
      "0  A  남  010-1234-5678\n",
      "1  B  여  010-4321-8765\n",
      "2  C  여  010-9876-1234\n",
      "  이름 성별           전화번호\n",
      "0  A  남  010-1234-5678\n",
      "1  B  여  010-4321-8765\n",
      "  이름 성별           전화번호\n",
      "1  B  여  010-4321-8765\n",
      "2  C  여  010-9876-1234\n",
      "0    남\n",
      "1    여\n",
      "2    여\n",
      "Name: 성별, dtype: object\n"
     ]
    }
   ],
   "source": [
    "#딕셔너리형 데이터로 DataFrame을 돌리면 key 값이 columns 값이 된다.\n",
    "list_data_2 = {\n",
    "    '이름' : ['A','B','C'],\n",
    "    '성별' : ['남','여','여'],\n",
    "    '전화번호' : ['010-1234-5678','010-4321-8765','010-9876-1234']\n",
    "}\n",
    "\n",
    "pd_dataframe_3 = pd.DataFrame(list_data_2)\n",
    "\n",
    "print(pd_dataframe_3)\n",
    "\n",
    "\n",
    "#판다스에서는 데이터 프레임의 원하는 부분만 출력이 가능하다.\n",
    "# 데이터프레임명.head(n) -> 앞 부분을 n개 출력\n",
    "# 데이터프레임명.tail(n) -> 뒷 부분을 n개 출력\n",
    "# 데이터프레임명['열이름'] -> 해당하는 열의 값만 출력\n",
    "print(pd_dataframe_3.head(2))\n",
    "print(pd_dataframe_3.tail(2))\n",
    "print(pd_dataframe_3['성별'])"
   ]
  },
  {
   "cell_type": "code",
   "execution_count": 22,
   "metadata": {},
   "outputs": [
    {
     "name": "stdout",
     "output_type": "stream",
     "text": [
      "  Name  Gender          Phone\n",
      "0    A    male  010-1234-5678\n",
      "1    B  female  010-1234-5679\n",
      "2    C    male  010-1234-5680\n",
      "3    D  female  010-1234-5681\n",
      "4    E    male  010-1234-5682\n",
      "5    F  female  010-1234-5683\n",
      "6    G    male  010-1234-5684\n",
      "7    H  female  010-1234-5685\n",
      "8    I    male  010-1234-5686\n",
      "9    J  female  010-1234-5687\n"
     ]
    }
   ],
   "source": [
    "#판다스에서 외부 데이터파일(ex:csv,text,Excel,SQL,JSON)\n",
    "csv_data = pd.read_csv('example.csv')\n",
    "\n",
    "print(csv_data)"
   ]
  }
 ],
 "metadata": {
  "interpreter": {
   "hash": "793a361c9cb33761c67c8442ce1c830393d9eace081562163e5d71d68ad47fd0"
  },
  "kernelspec": {
   "display_name": "Python 3.10.2 64-bit",
   "language": "python",
   "name": "python3"
  },
  "language_info": {
   "codemirror_mode": {
    "name": "ipython",
    "version": 3
   },
   "file_extension": ".py",
   "mimetype": "text/x-python",
   "name": "python",
   "nbconvert_exporter": "python",
   "pygments_lexer": "ipython3",
   "version": "3.10.2"
  },
  "orig_nbformat": 4
 },
 "nbformat": 4,
 "nbformat_minor": 2
}
