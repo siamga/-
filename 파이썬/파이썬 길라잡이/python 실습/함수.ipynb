{
 "cells": [
  {
   "cell_type": "code",
   "execution_count": 8,
   "metadata": {},
   "outputs": [
    {
     "name": "stdout",
     "output_type": "stream",
     "text": [
      "1\n",
      "9\n"
     ]
    }
   ],
   "source": [
    "#######################################\n",
    "##def함수 예시                       ###\n",
    "##def 함수명(매개변수):              ###\n",
    "##   실행 코드1                      ###\n",
    "##   실행 코드2                      ##\n",
    "##    return 출력 값                 ##\n",
    "##                                   ##\n",
    "## 함수명(인자) <- 함수를 호출######  ## \n",
    "#######################################\n",
    "def func_1(a,b):\n",
    "    c = a + b\n",
    "    return c\n",
    "c=1\n",
    "d = func_1(3,6)\n",
    "\n",
    "print(c)\n",
    "print(d)"
   ]
  },
  {
   "cell_type": "code",
   "execution_count": 9,
   "metadata": {},
   "outputs": [],
   "source": [
    "def func_2(s_num, l_num, a_num) :       # s_num -> 1, l_num-> 11, a_num -> 1\n",
    "    sum = 0\n",
    "    for i in range(s_num,l_num,a_num):      #for i in range(1,11,1)\n",
    "        sum += i\n",
    "    return sum\n",
    "\n",
    "sum = func_2(1, 11, 1)      #1~10까지 숫자의 합"
   ]
  },
  {
   "cell_type": "code",
   "execution_count": 11,
   "metadata": {},
   "outputs": [
    {
     "name": "stdout",
     "output_type": "stream",
     "text": [
      "Hello\n"
     ]
    }
   ],
   "source": [
    "#매개 변수 없는 함수 예시\n",
    "\n",
    "def func_3():\n",
    "    return 'Hello'\n",
    "\n",
    "d= func_3()\n",
    "\n",
    "print(d)"
   ]
  },
  {
   "cell_type": "code",
   "execution_count": 4,
   "metadata": {},
   "outputs": [
    {
     "name": "stdout",
     "output_type": "stream",
     "text": [
      "15\n",
      "55\n",
      "30\n"
     ]
    }
   ],
   "source": [
    "def func_4(*args) :     # * -> 매개변수의 개수와 상관없이 인자를 넣을 때 작성\n",
    "    result = 0          # 매개변수의 종류와는 상관 없는게 튜플, 딕셔너리 등 기타 자료를 넣고 싶다면 그냥 인자에 넣으면 되니까.\n",
    "    for i in args :    \n",
    "        result += i\n",
    "    return result\n",
    "\n",
    "result = func_4(1,2,3,4,5)\n",
    "print(result)\n",
    "\n",
    "result2 = func_4(1,2,3,4,5,6,7,8,9,10)\n",
    "print(result2)\n",
    "\n",
    "result3 = func_4(2,4,6,8,10)\n",
    "print(result3)"
   ]
  }
 ],
 "metadata": {
  "interpreter": {
   "hash": "793a361c9cb33761c67c8442ce1c830393d9eace081562163e5d71d68ad47fd0"
  },
  "kernelspec": {
   "display_name": "Python 3.10.2 64-bit",
   "language": "python",
   "name": "python3"
  },
  "language_info": {
   "codemirror_mode": {
    "name": "ipython",
    "version": 3
   },
   "file_extension": ".py",
   "mimetype": "text/x-python",
   "name": "python",
   "nbconvert_exporter": "python",
   "pygments_lexer": "ipython3",
   "version": "3.10.2"
  },
  "orig_nbformat": 4
 },
 "nbformat": 4,
 "nbformat_minor": 2
}
