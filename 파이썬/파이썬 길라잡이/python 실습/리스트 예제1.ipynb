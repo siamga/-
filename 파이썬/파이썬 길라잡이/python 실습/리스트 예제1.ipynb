{
 "cells": [
  {
   "cell_type": "code",
   "execution_count": 52,
   "metadata": {},
   "outputs": [
    {
     "name": "stdout",
     "output_type": "stream",
     "text": [
      "{'name': 'test1', 'password': '1234'}\n",
      "{'name': 'test2', 'password': '1234'}\n",
      "{'name': 'test3', 'password': '1234'}\n",
      "{'name': 'test1', 'password': '1234'}\n",
      "{'name': 'test2', 'password': '1234'}\n",
      "{'name': 'test3', 'password': '1234'}\n"
     ]
    },
    {
     "data": {
      "text/plain": [
       "['1234', '1234', '1234']"
      ]
     },
     "execution_count": 52,
     "metadata": {},
     "output_type": "execute_result"
    }
   ],
   "source": [
    "dict_list=[{'name':'test1','password':'1234'},\n",
    "           {'name':'test2','password':'1234'},\n",
    "           {'name':'test3','password':'1234'}]\n",
    "        \n",
    "#list형태의 데이터를 각 항별로 순서대로 출력하는 for문을 작성하라\n",
    "for i in range(len(dict_list)):\n",
    "    print(dict_list[i])\n",
    "\n",
    "for i in dict_list:\n",
    "    print(i)\n",
    "\n",
    "\n",
    "\n",
    "def show(a):\n",
    "    b=[]\n",
    "    for i in range(len(dict_list)):\n",
    "        b.append(dict_list[i][a])\n",
    "\n",
    "    return b\n",
    "\n",
    "show('password')\n"
   ]
  },
  {
   "cell_type": "code",
   "execution_count": 26,
   "metadata": {},
   "outputs": [
    {
     "name": "stdout",
     "output_type": "stream",
     "text": [
      "{'name': 'test1', 'password': '1234'}\n",
      "{'name': 'test2', 'password': '1234'}\n",
      "{'name': 'test3', 'password': '1234'}\n"
     ]
    }
   ],
   "source": [
    "#list 데이터를 순서대로 출력하는 while문을 작성하라\n",
    "\n",
    "a=0\n",
    "while a < len(dict_list) :\n",
    "    print(dict_list[a])\n",
    "    a +=1"
   ]
  },
  {
   "cell_type": "code",
   "execution_count": 53,
   "metadata": {},
   "outputs": [
    {
     "name": "stdout",
     "output_type": "stream",
     "text": [
      "test1\n",
      "test2\n",
      "test3\n"
     ]
    }
   ],
   "source": [
    "dict_list=[{'name':'test1','password':'1234'},\n",
    "           {'name':'test2','password':'1234'},\n",
    "           {'name':'test3','password':'1234'}]\n",
    "\n",
    "#인자값에 키값을 넣어주고 키값에 해당하는 값만 출력하도록 함수를 만들어라.\n",
    "def show_value(a):\n",
    "    for i in dict_list:\n",
    "        print(i[a])\n",
    "\n",
    "show_value('name')\n",
    "    \n",
    "  \n",
    "    "
   ]
  },
  {
   "cell_type": "code",
   "execution_count": 55,
   "metadata": {},
   "outputs": [
    {
     "name": "stdout",
     "output_type": "stream",
     "text": [
      "11\n"
     ]
    }
   ],
   "source": [
    "def func_1(input_a, input_b):\n",
    "    result = input_a + input_b\n",
    "    return result\n",
    "\n",
    "print(func_1(5,6))"
   ]
  },
  {
   "cell_type": "code",
   "execution_count": 79,
   "metadata": {},
   "outputs": [
    {
     "name": "stdout",
     "output_type": "stream",
     "text": [
      "8\n"
     ]
    }
   ],
   "source": [
    "# 함수 생성 -> 매개변수 3개 -> def 함수1(a,b,c) ->함수 안에 함수를 하나 더 만들어서\n",
    "# 함수1-> a+b ,함수2->a+b의 값에 c를 빼주는 함수를 만들어라\n",
    "\n",
    "def func_2(a,b,c):\n",
    "    d = a + b\n",
    "    def func_3():\n",
    "        return d-c\n",
    "    return func_3()\n",
    "    \n",
    "\n",
    "print(func_2(9,10,11))\n",
    "    \n"
   ]
  },
  {
   "cell_type": "code",
   "execution_count": 81,
   "metadata": {},
   "outputs": [
    {
     "name": "stdout",
     "output_type": "stream",
     "text": [
      "0\n"
     ]
    }
   ],
   "source": [
    "#함수를 2개 만들어서 2번 함수에서 1번 함수를 호출하게 되는 방식\n",
    "def func_3(input_a,input_b):\n",
    "    sum = input_a + input_b\n",
    "    return sum\n",
    "\n",
    "def func_4(input_c, input_d,input_e):\n",
    "    sum = func_3(input_c,input_d)\n",
    "    result = sum - input_e\n",
    "    return result\n",
    "\n",
    "print(func_4(1,2,3))\n"
   ]
  },
  {
   "cell_type": "code",
   "execution_count": 95,
   "metadata": {},
   "outputs": [
    {
     "data": {
      "text/plain": [
       "-1"
      ]
     },
     "execution_count": 95,
     "metadata": {},
     "output_type": "execute_result"
    }
   ],
   "source": [
    "#함수를 3개 생성 \n",
    "#함수1: 두 수의 합을 출력\n",
    "#함수2: 두 수의 차를 출력\n",
    "#함수3: 변수 abc에 대해서 c의 값이 S면 함수1(a,b), c의 값이 d면 함수2(a,b)출력\n",
    "\n",
    "def plus(a,b):\n",
    "    return a+b\n",
    "\n",
    "def minus(a,b):\n",
    "    return a-b\n",
    "\n",
    "def func_5(a,b,c):\n",
    "    if c == 's':\n",
    "        return plus(a,b)\n",
    "    if c == 'd':\n",
    "        return minus(a,b)\n",
    "\n",
    "func_5(1,2,'d')"
   ]
  },
  {
   "cell_type": "code",
   "execution_count": 123,
   "metadata": {},
   "outputs": [
    {
     "data": {
      "text/plain": [
       "[1, 3, 5, 7, 9]"
      ]
     },
     "execution_count": 123,
     "metadata": {},
     "output_type": "execute_result"
    }
   ],
   "source": [
    "#함수->입력 2개, a~b, c=짝수나 홀수 출력 지정\n",
    "#if c=짝수 ->a~b 짝수 출력\n",
    "#if c=홀수 ->a~b 홀수 출력\n",
    "#a,b의 값은 \n",
    "\n",
    "def even(a,b):\n",
    "    c=[]\n",
    "    for i in range(min(a,b),max(a,b)+1):\n",
    "        if i % 2 == 0:\n",
    "            c.append(i)\n",
    "    return c\n",
    "            \n",
    "def odd(a,b):\n",
    "    c=[]\n",
    "    for i in range(min(a,b),max(a,b)+1):\n",
    "        if i % 2 == 1:\n",
    "            c.append(i)\n",
    "    return c\n",
    "\n",
    "def abc(a,b,c):\n",
    "    if c == '짝수':\n",
    "        d = even(a,b)\n",
    "        return d\n",
    "    \n",
    "    elif c == '홀수':\n",
    "        d = odd(a,b)\n",
    "        return d\n",
    "\n",
    "abc(10,1,'홀수')\n",
    "\n"
   ]
  }
 ],
 "metadata": {
  "interpreter": {
   "hash": "793a361c9cb33761c67c8442ce1c830393d9eace081562163e5d71d68ad47fd0"
  },
  "kernelspec": {
   "display_name": "Python 3.10.2 64-bit",
   "language": "python",
   "name": "python3"
  },
  "language_info": {
   "codemirror_mode": {
    "name": "ipython",
    "version": 3
   },
   "file_extension": ".py",
   "mimetype": "text/x-python",
   "name": "python",
   "nbconvert_exporter": "python",
   "pygments_lexer": "ipython3",
   "version": "3.10.2"
  },
  "orig_nbformat": 4
 },
 "nbformat": 4,
 "nbformat_minor": 2
}
