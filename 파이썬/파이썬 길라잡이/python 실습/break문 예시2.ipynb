{
 "cells": [
  {
   "cell_type": "code",
   "execution_count": 3,
   "metadata": {},
   "outputs": [
    {
     "name": "stdout",
     "output_type": "stream",
     "text": [
      "합계가 500 이상이 되는 범위의 숫자는 : 32\n"
     ]
    }
   ],
   "source": [
    "sum = 0\n",
    "i = 0\n",
    "\n",
    "for i in range(1, 100, 1) : \n",
    "    sum += i\n",
    "    if sum >= 500 :\n",
    "         break\n",
    "\n",
    "print('합계가 500 이상이 되는 범위의 숫자는 : %d'%i)\n"
   ]
  }
 ],
 "metadata": {
  "interpreter": {
   "hash": "793a361c9cb33761c67c8442ce1c830393d9eace081562163e5d71d68ad47fd0"
  },
  "kernelspec": {
   "display_name": "Python 3.10.2 64-bit",
   "language": "python",
   "name": "python3"
  },
  "language_info": {
   "codemirror_mode": {
    "name": "ipython",
    "version": 3
   },
   "file_extension": ".py",
   "mimetype": "text/x-python",
   "name": "python",
   "nbconvert_exporter": "python",
   "pygments_lexer": "ipython3",
   "version": "3.10.2"
  },
  "orig_nbformat": 4
 },
 "nbformat": 4,
 "nbformat_minor": 2
}
