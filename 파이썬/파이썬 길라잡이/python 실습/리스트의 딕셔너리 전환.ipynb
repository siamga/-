{
 "cells": [
  {
   "cell_type": "code",
   "execution_count": 12,
   "metadata": {},
   "outputs": [
    {
     "name": "stdout",
     "output_type": "stream",
     "text": [
      "{'a': 1, 'b': 2, 'c': 3}\n"
     ]
    }
   ],
   "source": [
    "#같은 길이의 리스트로 딕셔너리를 구성하라.\n",
    "A = ['a','b','c']\n",
    "B = [1,2,3]\n",
    "c = {}\n",
    "for i in range(len(A)):\n",
    "    c[A[i]]=B[i]\n",
    "\n",
    "print(c)"
   ]
  },
  {
   "cell_type": "code",
   "execution_count": 15,
   "metadata": {},
   "outputs": [
    {
     "name": "stdout",
     "output_type": "stream",
     "text": [
      "{'a': 1, 'b': 2, 'c': 3, 'd': 4, 'e': 5, 'f': 0}\n"
     ]
    }
   ],
   "source": [
    "#다른 길이의 리스트로 딕셔너리를 구성하라\n",
    "#key값에 맞는 value값이 없다면 0을 넣어라.\n",
    "#value값에 맞는 key값이 없다면 '미지수n'를 넣어라.\n",
    "A = ['a','b','c','d','e','f']\n",
    "B = [1,2,3,4,5]\n",
    "c = {}\n",
    "i = len(A)\n",
    "j = len(B)\n",
    "\n",
    "if i > j:\n",
    "    for k in range(i-j):\n",
    "        B.append(0)\n",
    "\n",
    "elif i < j:\n",
    "    for l in range(j-i):\n",
    "        A.append('불명%d'%(l+1))\n",
    "for m in range(max(i,j)):\n",
    "    c[A[m]] = B[m]        \n",
    "\n",
    "print(c)"
   ]
  }
 ],
 "metadata": {
  "interpreter": {
   "hash": "793a361c9cb33761c67c8442ce1c830393d9eace081562163e5d71d68ad47fd0"
  },
  "kernelspec": {
   "display_name": "Python 3.10.2 64-bit",
   "language": "python",
   "name": "python3"
  },
  "language_info": {
   "codemirror_mode": {
    "name": "ipython",
    "version": 3
   },
   "file_extension": ".py",
   "mimetype": "text/x-python",
   "name": "python",
   "nbconvert_exporter": "python",
   "pygments_lexer": "ipython3",
   "version": "3.10.2"
  },
  "orig_nbformat": 4
 },
 "nbformat": 4,
 "nbformat_minor": 2
}
