{
 "cells": [
  {
   "cell_type": "code",
   "execution_count": 2,
   "metadata": {},
   "outputs": [
    {
     "name": "stdout",
     "output_type": "stream",
     "text": [
      "[1 2 3 4 5]\n",
      "[[1 2 3]\n",
      " [4 5 6]]\n"
     ]
    }
   ],
   "source": [
    "# Numpy(넘파이) : 선형 대수 계산에 주로 사용되는 라이브러리,\n",
    "#                 속도, 편의성에서 우수하다.\n",
    "\n",
    "#넘파이(Numpy) - array() 예시\n",
    "# 리스트, 튜플, 배열에서 행렬을 생성한다.\n",
    "import numpy as np\n",
    "\n",
    "np_array_1 = np.array([1,2,3,4,5])\n",
    "print(np_array_1)\n",
    "\n",
    "np_array_2 = np.array([[1,2,3], [4,5,6]])\n",
    "print(np_array_2)"
   ]
  },
  {
   "cell_type": "code",
   "execution_count": 3,
   "metadata": {},
   "outputs": [
    {
     "name": "stdout",
     "output_type": "stream",
     "text": [
      "array_1의 축의 개수 :  1\n",
      "array_1의 크기 :  (5,)\n",
      "2\n",
      "(2, 3)\n"
     ]
    }
   ],
   "source": [
    "#np.array()로 만든 데이터 타입은 ndarray로 나타난다.\n",
    "#np.array()를 사용하면 축의 개수(ndim), 크기(shape)를 출력할 수 있다.\n",
    "print('array_1의 축의 개수 : ', np_array_1.ndim)\n",
    "print('array_1의 크기 : ', np_array_1.shape)\n",
    "\n",
    "print(np_array_2.ndim)\n",
    "print(np_array_2.shape)\n",
    "\n"
   ]
  },
  {
   "cell_type": "code",
   "execution_count": 4,
   "metadata": {},
   "outputs": [
    {
     "name": "stdout",
     "output_type": "stream",
     "text": [
      "[[0. 0. 0.]\n",
      " [0. 0. 0.]\n",
      " [0. 0. 0.]]\n",
      "[[1. 1. 1.]\n",
      " [1. 1. 1.]]\n"
     ]
    }
   ],
   "source": [
    "#zeros() : 영행렬을 생성한다.\n",
    "zero_array = np.zeros((3,3))\n",
    "\n",
    "print(zero_array)\n",
    "\n",
    "#ones() : 모든 원소가 1인 행렬을 생성한다.\n",
    "one_array = np.ones((2,3))\n",
    "\n",
    "print(one_array)\n"
   ]
  },
  {
   "cell_type": "code",
   "execution_count": 5,
   "metadata": {},
   "outputs": [
    {
     "name": "stdout",
     "output_type": "stream",
     "text": [
      "[[5 5 5 5]\n",
      " [5 5 5 5]\n",
      " [5 5 5 5]]\n",
      "[[1. 0. 0.]\n",
      " [0. 1. 0.]\n",
      " [0. 0. 1.]]\n"
     ]
    }
   ],
   "source": [
    "#full() : 모든 원소의 값을 지정 값으로 만든 행렬을 생성한다.\n",
    "full_array = np.full((3,4),5)\n",
    "\n",
    "print(full_array)\n",
    "\n",
    "#eye() : 단위행렬을 생성한다.\n",
    "eye_array = np.eye(3)\n",
    "\n",
    "print(eye_array)"
   ]
  },
  {
   "cell_type": "code",
   "execution_count": 6,
   "metadata": {},
   "outputs": [
    {
     "name": "stdout",
     "output_type": "stream",
     "text": [
      "[[0.41643512 0.11592573]\n",
      " [0.42822499 0.39227732]]\n"
     ]
    }
   ],
   "source": [
    "#random.random() : 0과 1 사이의 임의 값을 원소로 하는 배열 생성\n",
    "random_array = np.random.random((2,2))\n",
    "\n",
    "print(random_array)"
   ]
  },
  {
   "cell_type": "code",
   "execution_count": 7,
   "metadata": {},
   "outputs": [
    {
     "name": "stdout",
     "output_type": "stream",
     "text": [
      "[0 1 2 3 4 5 6 7 8 9]\n",
      "[ 1  3  5  7  9 11 13 15 17 19]\n",
      "[[ 0  1  2  3  4  5]\n",
      " [ 6  7  8  9 10 11]\n",
      " [12 13 14 15 16 17]\n",
      " [18 19 20 21 22 23]\n",
      " [24 25 26 27 28 29]]\n"
     ]
    }
   ],
   "source": [
    "#arrange() : 0부터 n-1까지의 원소값을 가지는 배열 생성\n",
    "arange_array = np.arange(10)\n",
    "\n",
    "print(arange_array)\n",
    "\n",
    "#arrange(i,j,k) : i부터 j-1까지 k씩 증가하는 배열 생성\n",
    "arange_array_2 = np.arange(1,20,2)\n",
    "\n",
    "print(arange_array_2)\n",
    "\n",
    "#reshape() : 배열의 데이터 변경 없이 구조만 바꾼다.\n",
    "arange_array_3 = np.arange(30)\n",
    "reshape_array = arange_array_3.reshape((5,6))\n",
    "\n",
    "print(reshape_array)"
   ]
  },
  {
   "cell_type": "code",
   "execution_count": 8,
   "metadata": {},
   "outputs": [
    {
     "name": "stdout",
     "output_type": "stream",
     "text": [
      "[[19 22]\n",
      " [43 50]]\n",
      "[[19 22]\n",
      " [43 50]]\n"
     ]
    }
   ],
   "source": [
    "#참고용\n",
    "# 넘파이 요소 간 연산\n",
    "#덧셈: np.add()\n",
    "#뻴셈 : np.subtract()\n",
    "#곱셈 : np.multiply()\n",
    "#나눗셈 : np.divide()\n",
    "'''\n",
    "행렬곱은 @를 사용해야만 한다.\n",
    "행렬의 내적은 .dot()을 사용한다.\n",
    "'''\n",
    "\n",
    "x = np.array([[1,2],[3,4]])\n",
    "y = np.array([[5,6],[7,8]])\n",
    "\n",
    "result = np.dot(x,y)\n",
    "result2 = x@y\n",
    "\n",
    "print(result)\n",
    "print(result2)"
   ]
  },
  {
   "cell_type": "code",
   "execution_count": null,
   "metadata": {},
   "outputs": [],
   "source": []
  }
 ],
 "metadata": {
  "interpreter": {
   "hash": "793a361c9cb33761c67c8442ce1c830393d9eace081562163e5d71d68ad47fd0"
  },
  "kernelspec": {
   "display_name": "Python 3.10.2 64-bit",
   "language": "python",
   "name": "python3"
  },
  "language_info": {
   "codemirror_mode": {
    "name": "ipython",
    "version": 3
   },
   "file_extension": ".py",
   "mimetype": "text/x-python",
   "name": "python",
   "nbconvert_exporter": "python",
   "pygments_lexer": "ipython3",
   "version": "3.10.2"
  },
  "orig_nbformat": 4
 },
 "nbformat": 4,
 "nbformat_minor": 2
}
