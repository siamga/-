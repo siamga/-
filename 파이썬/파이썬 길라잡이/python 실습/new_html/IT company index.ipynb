{
 "cells": [
  {
   "cell_type": "code",
   "execution_count": 2,
   "metadata": {},
   "outputs": [
    {
     "name": "stdout",
     "output_type": "stream",
     "text": [
      "                    Samsung          Kakao          Naver\n",
      "high price    980000.000000  885000.000000  875500.000000\n",
      "low price     375000.000000  765000.000000  553000.000000\n",
      "new IT index     190.060606     115.686275     158.318264\n"
     ]
    },
    {
     "data": {
      "image/png": "[encoded data removed]",
      "text/plain": [
       "<Figure size 432x288 with 1 Axes>"
      ]
     },
     "metadata": {
      "needs_background": "light"
     },
     "output_type": "display_data"
    }
   ],
   "source": [
    "import pandas as pd\n",
    "import matplotlib.pyplot as plt\n",
    "import numpy as np\n",
    "\n",
    "def s_index(l,h) :\n",
    "    index=[]\n",
    "    for i in range(len(h)):\n",
    "        if h[i]/l[i] > 2:\n",
    "            index.append(h[i]*0.8/(l[i]*1.1)*100)\n",
    "\n",
    "        else:\n",
    "            index.append(h[i]/l[i]*100)\n",
    "    return index\n",
    "\n",
    "\n",
    "company = ['Samsung','Kakao','Naver']\n",
    "index = ['high price','low price','new IT index']\n",
    "\n",
    "h_price = [980000,885000,875500]\n",
    "l_price = [375000,765000,553000]\n",
    "stock_index = s_index(l_price,h_price)\n",
    "\n",
    "price = [h_price,l_price,stock_index]\n",
    "\n",
    "frame = pd.DataFrame(price,index=index,columns=company)\n",
    "print(frame)\n",
    "\n",
    "x = np.arange(len(company))\n",
    "y = stock_index\n",
    "fig, ax = plt.subplots()\n",
    "ax.bar(x,y,width=0.8)\n",
    "ax.set_xticks(x)\n",
    "ax.set_xticklabels(company)\n",
    "ax.set_ylabel('index')\n",
    "ax.set_title('Huge IT company index Status')\n",
    "plt.show()\n",
    "\n"
   ]
  },
  {
   "cell_type": "code",
   "execution_count": 10,
   "metadata": {},
   "outputs": [
    {
     "data": {
      "text/plain": [
       "<bound method Flask.run of <Flask '__main__'>>"
      ]
     },
     "execution_count": 10,
     "metadata": {},
     "output_type": "execute_result"
    }
   ],
   "source": [
    "from flask import Flask, render_template\n",
    "\n",
    "app = Flask(__name__)\n",
    "\n",
    "@app.route('/')\n",
    "def first_page():\n",
    "    return render_template('first_page.html')\n",
    "'''\n",
    "@app.route('/samsung/')\n",
    "def samsung():\n",
    "    return render_template('samsung.html')\n",
    "\n",
    "@app.route('/kakao/')\n",
    "def kakao():\n",
    "    return render_templates('kakao.html')\n",
    "\n",
    "@app.route('/naver/')\n",
    "def naver():\n",
    "    return render_templates('naver.html')\n",
    "'''\n",
    "#@app.route('/index/')\n",
    "#def index():\n",
    "#    return \n",
    "\n",
    "app.run"
   ]
  }
 ],
 "metadata": {
  "interpreter": {
   "hash": "793a361c9cb33761c67c8442ce1c830393d9eace081562163e5d71d68ad47fd0"
  },
  "kernelspec": {
   "display_name": "Python 3.10.2 64-bit",
   "language": "python",
   "name": "python3"
  },
  "language_info": {
   "codemirror_mode": {
    "name": "ipython",
    "version": 3
   },
   "file_extension": ".py",
   "mimetype": "text/x-python",
   "name": "python",
   "nbconvert_exporter": "python",
   "pygments_lexer": "ipython3",
   "version": "3.10.2"
  },
  "orig_nbformat": 4
 },
 "nbformat": 4,
 "nbformat_minor": 2
}
