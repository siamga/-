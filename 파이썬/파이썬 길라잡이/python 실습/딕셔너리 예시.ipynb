{
 "cells": [
  {
   "cell_type": "code",
   "execution_count": 5,
   "metadata": {},
   "outputs": [
    {
     "name": "stdout",
     "output_type": "stream",
     "text": [
      "{'name': 'test', 'age': '20', 'phone': '01012345678'}\n",
      "test\n",
      "{'name': 'test', 'age': '20', 'phone': '01012345678', 'area': 'Seoul'}\n"
     ]
    }
   ],
   "source": [
    "#딕셔너리 예시\n",
    "a = {'name':'test','age':'20','phone':'01012345678'}\n",
    "\n",
    "print(a)\n",
    "\n",
    "#리스트, 튜플과는 다르게 []에 key값을 넣어서 \n",
    "#value를 불러온다.\n",
    "print(a['name'])\n",
    "\n",
    "#a[존재하는 key값]=value -> 데이터를 새로 작성한 value로 변경\n",
    "#a[존재하지 않는 key값]=value -> 새로운 key,value를 맨 뒤에 추가\n",
    "a['area'] = 'Seoul'\n",
    "print(a)\n"
   ]
  },
  {
   "cell_type": "code",
   "execution_count": 14,
   "metadata": {},
   "outputs": [
    {
     "name": "stdout",
     "output_type": "stream",
     "text": [
      "['name', 'age', 'phone', 'area']\n",
      "dict_values(['test', '20', '01012345678', 'Seoul'])\n",
      "dict_items([('name', 'test'), ('age', '20'), ('phone', '01012345678'), ('area', 'Seoul')])\n"
     ]
    }
   ],
   "source": [
    "#key 값만의 출력\n",
    "print(list(a.keys()))\n",
    "\n",
    "#value 값만 출력\n",
    "print(a.values())\n",
    "\n",
    "#딕셔너리 이름.items: a의 key,value값 모두 출력\n",
    "print(a.items())"
   ]
  },
  {
   "cell_type": "code",
   "execution_count": 16,
   "metadata": {},
   "outputs": [
    {
     "name": "stdout",
     "output_type": "stream",
     "text": [
      "{'name': 'test', 'age': '20', 'area': 'Seoul'}\n",
      "{'name': 'test', 'age': '20', 'area': 'Seoul', 'phone': '01012345678'}\n"
     ]
    }
   ],
   "source": [
    "#del(딕셔너리이름[key값]) -> 해당 key,데이터 값 삭제\n",
    "del(a['phone'])\n",
    "print(a)\n",
    "\n",
    "#a[존재하지 않는 key값]=value -> 새로운 key,value를 맨 뒤에 추가\n",
    "a['phone']='01012345678'\n",
    "print(a)"
   ]
  }
 ],
 "metadata": {
  "interpreter": {
   "hash": "793a361c9cb33761c67c8442ce1c830393d9eace081562163e5d71d68ad47fd0"
  },
  "kernelspec": {
   "display_name": "Python 3.10.2 64-bit",
   "language": "python",
   "name": "python3"
  },
  "language_info": {
   "codemirror_mode": {
    "name": "ipython",
    "version": 3
   },
   "file_extension": ".py",
   "mimetype": "text/x-python",
   "name": "python",
   "nbconvert_exporter": "python",
   "pygments_lexer": "ipython3",
   "version": "3.10.2"
  },
  "orig_nbformat": 4
 },
 "nbformat": 4,
 "nbformat_minor": 2
}
