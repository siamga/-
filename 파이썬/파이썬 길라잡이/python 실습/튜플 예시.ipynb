{
 "cells": [
  {
   "cell_type": "code",
   "execution_count": 6,
   "metadata": {},
   "outputs": [
    {
     "name": "stdout",
     "output_type": "stream",
     "text": [
      "(1, 'hello') (3, 3.14)\n"
     ]
    }
   ],
   "source": [
    "a = (1,'hello')\n",
    "b=(3,3.14)\n",
    "c= a+b\n",
    "d= a*3\n",
    "e = a[1]\n",
    "\n",
    "print(a,b)"
   ]
  },
  {
   "cell_type": "code",
   "execution_count": 5,
   "metadata": {},
   "outputs": [
    {
     "name": "stdout",
     "output_type": "stream",
     "text": [
      "(1, 'hello', 3, 3.14)\n"
     ]
    }
   ],
   "source": [
    "print(c)"
   ]
  },
  {
   "cell_type": "code",
   "execution_count": 8,
   "metadata": {},
   "outputs": [
    {
     "name": "stdout",
     "output_type": "stream",
     "text": [
      "(1, 'hello', 1, 'hello', 1, 'hello')\n"
     ]
    }
   ],
   "source": [
    "print(d)"
   ]
  },
  {
   "cell_type": "code",
   "execution_count": 10,
   "metadata": {},
   "outputs": [
    {
     "name": "stdout",
     "output_type": "stream",
     "text": [
      "hello\n"
     ]
    }
   ],
   "source": [
    "print(e)"
   ]
  },
  {
   "cell_type": "code",
   "execution_count": 12,
   "metadata": {},
   "outputs": [
    {
     "name": "stdout",
     "output_type": "stream",
     "text": [
      "1\n",
      "hello\n"
     ]
    }
   ],
   "source": [
    "print(a[0])\n",
    "print(a[1])\n",
    "#리스트, 튜플, 라이브러리 등 집한 데이터의 첫번째는 \n",
    "# 0번째라고 생각한다."
   ]
  },
  {
   "cell_type": "code",
   "execution_count": 16,
   "metadata": {},
   "outputs": [
    {
     "name": "stdout",
     "output_type": "stream",
     "text": [
      "(20, 30)\n",
      "(20, 30, 40)\n",
      "(10, 20, 30)\n"
     ]
    }
   ],
   "source": [
    "#튜플A에 대해서\n",
    "# A[a:b]는\n",
    "# a번째 항목~b-1번째 항목까지 표기한다.\n",
    "a = (10,20,30,40)\n",
    "\n",
    "print(a[1:3])\n",
    "\n",
    "'''A[a:]는 a번째 항목~끝까지 표기한다'''\n",
    "print(a[1:])\n",
    "\n",
    "'''A[:a]는 처음 항목~a-1항목까지 표기한다'''\n",
    "print(a[:3])"
   ]
  }
 ],
 "metadata": {
  "interpreter": {
   "hash": "793a361c9cb33761c67c8442ce1c830393d9eace081562163e5d71d68ad47fd0"
  },
  "kernelspec": {
   "display_name": "Python 3.10.2 64-bit",
   "language": "python",
   "name": "python3"
  },
  "language_info": {
   "codemirror_mode": {
    "name": "ipython",
    "version": 3
   },
   "file_extension": ".py",
   "mimetype": "text/x-python",
   "name": "python",
   "nbconvert_exporter": "python",
   "pygments_lexer": "ipython3",
   "version": "3.10.2"
  },
  "orig_nbformat": 4
 },
 "nbformat": 4,
 "nbformat_minor": 2
}
