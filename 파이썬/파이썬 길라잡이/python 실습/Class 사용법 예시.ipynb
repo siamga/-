{
 "cells": [
  {
   "cell_type": "code",
   "execution_count": 20,
   "metadata": {},
   "outputs": [],
   "source": [
    "#class 선언\n",
    "#일반적으로 class의 첫 번째 글짜는 관습상 대문자로 작성한다.\n",
    "#class 내의 함수 : method\n",
    "#class 내의 변수 : 속성\n",
    "class Class_1():\n",
    "    def func_1(self):\n",
    "        print('Hello World')\n"
   ]
  },
  {
   "cell_type": "code",
   "execution_count": 21,
   "metadata": {},
   "outputs": [
    {
     "name": "stdout",
     "output_type": "stream",
     "text": [
      "Hello World\n"
     ]
    }
   ],
   "source": [
    "#class 생성 및 실행\n",
    "a = Class_1()\n",
    "a.func_1()"
   ]
  },
  {
   "cell_type": "code",
   "execution_count": 26,
   "metadata": {},
   "outputs": [
    {
     "ename": "TypeError",
     "evalue": "Class_2.func_2() takes 0 positional arguments but 1 was given",
     "output_type": "error",
     "traceback": [
      "\u001b[1;31m---------------------------------------------------------------------------\u001b[0m",
      "\u001b[1;31mTypeError\u001b[0m                                 Traceback (most recent call last)",
      "\u001b[1;32mc:\\Users\\LG\\Downloads\\파이썬 길라잡이\\실습\\Class 사용법 예시.ipynb Cell 3'\u001b[0m in \u001b[0;36m<module>\u001b[1;34m\u001b[0m\n\u001b[0;32m      <a href='vscode-notebook-cell:/c%3A/Users/LG/Downloads/%ED%8C%8C%EC%9D%B4%EC%8D%AC%20%EA%B8%B8%EB%9D%BC%EC%9E%A1%EC%9D%B4/%EC%8B%A4%EC%8A%B5/Class%20%EC%82%AC%EC%9A%A9%EB%B2%95%20%EC%98%88%EC%8B%9C.ipynb#ch0000002?line=7'>8</a>\u001b[0m         \u001b[39mprint\u001b[39m(\u001b[39m'\u001b[39m\u001b[39mHello World\u001b[39m\u001b[39m'\u001b[39m)\n\u001b[0;32m     <a href='vscode-notebook-cell:/c%3A/Users/LG/Downloads/%ED%8C%8C%EC%9D%B4%EC%8D%AC%20%EA%B8%B8%EB%9D%BC%EC%9E%A1%EC%9D%B4/%EC%8B%A4%EC%8A%B5/Class%20%EC%82%AC%EC%9A%A9%EB%B2%95%20%EC%98%88%EC%8B%9C.ipynb#ch0000002?line=9'>10</a>\u001b[0m b \u001b[39m=\u001b[39m Class_2()  \u001b[39m#class의 생성\u001b[39;00m\n\u001b[1;32m---> <a href='vscode-notebook-cell:/c%3A/Users/LG/Downloads/%ED%8C%8C%EC%9D%B4%EC%8D%AC%20%EA%B8%B8%EB%9D%BC%EC%9E%A1%EC%9D%B4/%EC%8B%A4%EC%8A%B5/Class%20%EC%82%AC%EC%9A%A9%EB%B2%95%20%EC%98%88%EC%8B%9C.ipynb#ch0000002?line=10'>11</a>\u001b[0m b\u001b[39m.\u001b[39;49mfunc_2()\n",
      "\u001b[1;31mTypeError\u001b[0m: Class_2.func_2() takes 0 positional arguments but 1 was given"
     ]
    }
   ],
   "source": [
    "#class 안에 self라는 매개변수를 정의하지 않으면?\n",
    "#-> class를 생성하고 실행할 때, 클래스 자기 자신이 \n",
    "#지정되지 않아서 에러가 나온다.\n",
    "#self의 의미: 생성되는 클래스 자기 자신의 주소를 의미한다.\n",
    "\n",
    "class Class_2():\n",
    "    def func_2():\n",
    "        print('Hello World')\n",
    "\n",
    "b = Class_2()  #class의 생성\n",
    "b.func_2()     #class의 실행\n",
    "\n"
   ]
  },
  {
   "cell_type": "code",
   "execution_count": null,
   "metadata": {},
   "outputs": [
    {
     "name": "stdout",
     "output_type": "stream",
     "text": [
      "test1\n",
      "test2\n"
     ]
    }
   ],
   "source": [
    "#__init__: class를 생성할 때, 변수를 초기화하는 함수\n",
    "class Class_3():\n",
    "    def __init__(self, input_a, input_b):\n",
    "        self.a = input_a\n",
    "        self.b = input_b\n",
    "\n",
    "c = Class_3('test1','test2')\n",
    "print(c.a)\n",
    "print(c.b)"
   ]
  },
  {
   "cell_type": "code",
   "execution_count": null,
   "metadata": {},
   "outputs": [
    {
     "name": "stdout",
     "output_type": "stream",
     "text": [
      "test3\n",
      "test4\n"
     ]
    }
   ],
   "source": [
    "d = Class_3('test3','test4')\n",
    "print(d.a)\n",
    "print(d.b)"
   ]
  },
  {
   "cell_type": "code",
   "execution_count": null,
   "metadata": {},
   "outputs": [
    {
     "name": "stdout",
     "output_type": "stream",
     "text": [
      "2167901949040\n",
      "2167901501808\n",
      "2167901358448\n",
      "2167901498992\n"
     ]
    }
   ],
   "source": [
    "#class\n",
    "print(id(c.a))\n",
    "print(id(c.b))\n",
    "print(id(d.a))\n",
    "print(id(d.b))"
   ]
  },
  {
   "cell_type": "code",
   "execution_count": null,
   "metadata": {},
   "outputs": [],
   "source": [
    "class Class_4():\n",
    "\n",
    "    name = 'test'\n",
    "\n",
    "    def __init__(self,input_c):\n",
    "        self.c=input_c\n",
    "\n",
    "a = Class_4('123')\n",
    "b = Class_4('456')\n",
    "c = Class_4('789')"
   ]
  },
  {
   "cell_type": "code",
   "execution_count": null,
   "metadata": {},
   "outputs": [
    {
     "name": "stdout",
     "output_type": "stream",
     "text": [
      "test test test\n",
      "123 456 789\n"
     ]
    }
   ],
   "source": [
    "print(a.name,b.name,c.name)\n",
    "print(a.c,b.c,c.c)"
   ]
  },
  {
   "cell_type": "code",
   "execution_count": null,
   "metadata": {},
   "outputs": [
    {
     "name": "stdout",
     "output_type": "stream",
     "text": [
      "['01012345678', '01098765432'] ['01012345678', '01098765432']\n"
     ]
    }
   ],
   "source": [
    "class Class_5():\n",
    "    _list = []\n",
    "\n",
    "    def __init__(self,input_name):\n",
    "        self.name = input_name\n",
    "    \n",
    "    def add_list(self, input_phone):\n",
    "        self._list.append(input_phone)\n",
    "\n",
    "d = Class_5('test')\n",
    "e = Class_5('test2')\n",
    "d.add_list('01012345678')\n",
    "e.add_list('01098765432')\n",
    "print(d._list,e._list)"
   ]
  },
  {
   "cell_type": "code",
   "execution_count": null,
   "metadata": {},
   "outputs": [
    {
     "name": "stdout",
     "output_type": "stream",
     "text": [
      "['01012345678'] ['01098765432']\n"
     ]
    }
   ],
   "source": [
    "class Class_6():\n",
    "    \n",
    "    def __init__(self,input_name):\n",
    "        self.name = input_name\n",
    "        self._list = []    \n",
    "        \n",
    "    def add_list(self, input_phone):\n",
    "\n",
    "        self._list.append(input_phone)\n",
    "\n",
    "f = Class_6('test')\n",
    "g = Class_6('test2')\n",
    "f.add_list('01012345678')\n",
    "g.add_list('01098765432')\n",
    "print(f._list,g._list)"
   ]
  },
  {
   "cell_type": "code",
   "execution_count": null,
   "metadata": {},
   "outputs": [
    {
     "name": "stdout",
     "output_type": "stream",
     "text": [
      "3\n",
      "4\n"
     ]
    }
   ],
   "source": [
    "sum = 0\n",
    "\n",
    "def add(x):\n",
    "    global sum\n",
    "    sum =+ x\n",
    "    return sum\n",
    "\n",
    "print(add(3))\n",
    "print(add(4))\n"
   ]
  },
  {
   "cell_type": "code",
   "execution_count": null,
   "metadata": {},
   "outputs": [
    {
     "name": "stdout",
     "output_type": "stream",
     "text": [
      "3\n",
      "5\n",
      "13\n",
      "6\n"
     ]
    }
   ],
   "source": [
    "#add라는 함수를 2개의 변수에 적용한다면\n",
    "#함수의 경우\n",
    "sum_1 = 0\n",
    "sum_2 = 1\n",
    "\n",
    "def add_1(x):\n",
    "    global sum_1\n",
    "    sum_1 += x\n",
    "    return sum_1\n",
    "\n",
    "def add_2(x):\n",
    "    global sum_2\n",
    "    sum_2 += x\n",
    "    return sum_2\n",
    "\n",
    "print(add_1(3))\n",
    "print(add_2(4))\n",
    "print(add_1(10))\n",
    "print(add_2(1))\n",
    "\n",
    "\n"
   ]
  },
  {
   "cell_type": "code",
   "execution_count": null,
   "metadata": {},
   "outputs": [
    {
     "name": "stdout",
     "output_type": "stream",
     "text": [
      "3\n",
      "4\n",
      "8\n",
      "10\n"
     ]
    }
   ],
   "source": [
    "#class의 경우\n",
    "class add():\n",
    "    def __init__(self):\n",
    "        self.sum = 0\n",
    "    \n",
    "    def plus(self,x):\n",
    "        self.sum += x\n",
    "        return self.sum\n",
    "\n",
    "a = add()\n",
    "b = add()\n",
    "print(a.plus(3))\n",
    "print(b.plus(4))\n",
    "print(a.plus(5))\n",
    "print(b.plus(6))\n"
   ]
  },
  {
   "cell_type": "code",
   "execution_count": null,
   "metadata": {},
   "outputs": [
    {
     "name": "stdout",
     "output_type": "stream",
     "text": [
      "4\n"
     ]
    }
   ],
   "source": [
    "#class의 경우\n",
    "class add_2():\n",
    "    def __init__(self):\n",
    "        self.sum = 0\n",
    "    \n",
    "    def plus(self,x):\n",
    "        self.sum += x\n",
    "\n",
    "a = add_2()\n",
    "a.plus(4)\n",
    "print(a.sum)"
   ]
  },
  {
   "cell_type": "code",
   "execution_count": null,
   "metadata": {},
   "outputs": [
    {
     "data": {
      "text/plain": [
       "0"
      ]
     },
     "execution_count": 156,
     "metadata": {},
     "output_type": "execute_result"
    }
   ],
   "source": [
    "# 1. class 생성 -> 초기에 인자값 2개를 입력받아서 변수 2개에 이 값들을 지정\n",
    "# 2. 처음 함수 : 변수 2개의 값을 변경하는 함수 \n",
    "# 3. 두번째부터 6개 함수를 만들 때, + , - , * , / , %, **의 함수를 지정해서 만들어라. \n",
    "# 4. 7개의 함수를 모두 실행하라\n",
    "\n",
    "class Change():\n",
    "    def __init__(self,a,b):\n",
    "        self.x_num = a\n",
    "        self.y_num = b\n",
    "\n",
    "    def change(self,a,b):\n",
    "        self.x_num = a\n",
    "        self.y_num = b \n",
    "\n",
    "    def plus(self):\n",
    "        self.plus = self.x_num + self.y_num\n",
    "        #주의: 여기서 x_num에 self를 빼먹으면 이전 클래스 생성에서 정의한 x_num,y_num이 \n",
    "        #아니라 완전히 다른 변수를 의미한 것이기에 에러가 나온다.!!!!!!!!!!\n",
    "\n",
    "        #self.의 의미: class의 생성 당시에 생성한 class 내부로 한정한다는 의미로 이해하자.\n",
    "        return self.plus\n",
    "        #return self.x_num + self.y_num\n",
    "    \n",
    "\n",
    "    def minus(self):\n",
    "        self.minus = self.x_num - self.y_num\n",
    "        return self.minus\n",
    "    \n",
    "    def supply(self):\n",
    "        self.supply = self.x_num * self.y_num\n",
    "        return self.supply\n",
    "    \n",
    "    def share(self):\n",
    "        self.share = self.x_num / self.y_num\n",
    "        return self.share\n",
    "    \n",
    "    def some(self):\n",
    "        self.some = self.x_num % self.y_num\n",
    "         return self.some\n",
    "    \n",
    "a = Change(5,6)\n",
    "a.change(6,0)\n",
    "a.some()\n"
   ]
  },
  {
   "cell_type": "code",
   "execution_count": null,
   "metadata": {},
   "outputs": [
    {
     "data": {
      "text/plain": [
       "0"
      ]
     },
     "execution_count": 159,
     "metadata": {},
     "output_type": "execute_result"
    }
   ],
   "source": [
    "#만일 나누는 수가 0일때, 나머지값의 출력이 0, 나누기 값의 출력이 0이 되도록 하라.\n",
    "class Change():\n",
    "    def __init__(self,a,b):\n",
    "        self.x_num = a\n",
    "        self.y_num = b\n",
    "\n",
    "    def change(self,a,b):\n",
    "        self.x_num = a\n",
    "        self.y_num = b \n",
    "\n",
    "    def plus(self):\n",
    "        self.plus = self.x_num + self.y_num\n",
    "        return self.plus\n",
    "\n",
    "    def minus(self):\n",
    "        self.minus = self.x_num - self.y_num\n",
    "        return self.minus\n",
    "    \n",
    "    def supply(self):\n",
    "        self.supply = self.x_num * self.y_num\n",
    "        return self.supply\n",
    "    \n",
    "    def share(self):\n",
    "        if self.y_num == 0:\n",
    "            return 0\n",
    "        else:\n",
    "            self.share = self.x_num / self.y_num\n",
    "            return self.share\n",
    "    \n",
    "    def some(self):\n",
    "        if self.y_num == 0:\n",
    "            return 0\n",
    "        else:\n",
    "            self.some = self.x_num % self.y_num\n",
    "            return self.some\n",
    "    \n",
    "a = Change(5,6)\n",
    "a.change(6,0)\n",
    "a.some()\n"
   ]
  },
  {
   "cell_type": "code",
   "execution_count": null,
   "metadata": {},
   "outputs": [
    {
     "data": {
      "text/plain": [
       "30"
      ]
     },
     "execution_count": 166,
     "metadata": {},
     "output_type": "execute_result"
    }
   ],
   "source": [
    "#1.밑변의 길이와 높이를 인자 값으로 입력받는 class를 생성하라\n",
    "#2. 삼각형일 때, 넓이, 사각형일 때 넓이를 구하는 함수 생성\n",
    "#3. 함수는 init을 제외한 단 1개의 함수로 구성되는 클래스를 생성하라.\n",
    "\n",
    "class size():\n",
    "    def __init__(self,length,height):\n",
    "        self.h = height\n",
    "        self.l = length\n",
    "\n",
    "    def width(self,f):\n",
    "        self.f = f\n",
    "        if self.f  == 3:\n",
    "            return self.h*self.l/2\n",
    "        elif self.f == 4:\n",
    "            return self.h*self.l\n",
    "        else:\n",
    "            return '지정된 값이 아닙니다.'\n",
    "\n",
    "\n",
    "a = size(5,6)\n",
    "a.width(4)"
   ]
  },
  {
   "cell_type": "code",
   "execution_count": null,
   "metadata": {},
   "outputs": [
    {
     "data": {
      "text/plain": [
       "[18.84, 28.26]"
      ]
     },
     "execution_count": 170,
     "metadata": {},
     "output_type": "execute_result"
    }
   ],
   "source": [
    "#원의 넓이와 둘레를 구하는 class를 만들어라.\n",
    "class circle():\n",
    "    _pie = 3.14\n",
    "    def area(self, r):\n",
    "        self.result = []\n",
    "        self.result.append(2*self._pie*r)\n",
    "        self.result.append(self._pie*(r**2))\n",
    "        return self.result\n",
    "\n",
    "x = circle()\n",
    "x.area(3)\n",
    "\n"
   ]
  },
  {
   "cell_type": "code",
   "execution_count": null,
   "metadata": {},
   "outputs": [
    {
     "name": "stdout",
     "output_type": "stream",
     "text": [
      "[15.42, 14.13]\n",
      "[18.84, 28.26]\n"
     ]
    }
   ],
   "source": [
    "#위의 class를 상속하여 새로운 class를 만들어라.\n",
    "# 상속의 기능 : 기존 class의 기능을 가져와서 새로운 class를 만들 수 있다.\n",
    "\n",
    "class volume(circle):\n",
    "    def __init__(self,r):\n",
    "        self.input_r = r\n",
    "\n",
    "    def half_circle(self):\n",
    "        self.result = []\n",
    "        self.result.append(self._pie * self.input_r + 2*self.input_r)\n",
    "        self.result.append(self._pie * (self.input_r ** 2) / 2)\n",
    "        return self.result\n",
    "\n",
    "y = volume(3)\n",
    "print(y.half_circle())\n",
    "print(y.area(3))\n"
   ]
  },
  {
   "cell_type": "code",
   "execution_count": 25,
   "metadata": {},
   "outputs": [
    {
     "name": "stdout",
     "output_type": "stream",
     "text": [
      "[15.42, 14.13]\n",
      "[18.84, 28.26]\n"
     ]
    }
   ],
   "source": [
    "#상속의  기능2: 기존 class의 기능을 수정할 수 있다.\n",
    "class volume(circle):\n",
    "    def __init__(self,r):\n",
    "        self.input_r = r\n",
    "\n",
    "    def half_circle(self):\n",
    "        self.result = []\n",
    "        self.result.append(self._pie * self.input_r + 2*self.input_r)\n",
    "        self.result.append(self._pie * (self.input_r ** 2) / 2)\n",
    "        return self.result\n",
    "\n",
    "    def area(self):\n",
    "        self.result = []\n",
    "        self.result.append(2*self._pie*self.input_r)\n",
    "        self.result.append(self._pie*(self.input_r**2))\n",
    "        return self.result\n",
    "\n",
    "y = volume(3)\n",
    "print(y.half_circle())\n",
    "print(y.area())\n"
   ]
  },
  {
   "cell_type": "code",
   "execution_count": 32,
   "metadata": {},
   "outputs": [
    {
     "name": "stdout",
     "output_type": "stream",
     "text": [
      "Class_1\n",
      "Class_2\n",
      "Class_3\n"
     ]
    }
   ],
   "source": [
    "class Class_1():\n",
    "    def a(self) :\n",
    "        print('Class_1')\n",
    "    \n",
    "class Class_2():\n",
    "    def b(self):\n",
    "        print('Class_2')\n",
    "\n",
    "class Class_3(Class_1,Class_2):\n",
    "    def c(self):\n",
    "        print('Class_3')\n",
    "\n",
    "x = Class_3()\n",
    "x.a()\n",
    "x.b()\n",
    "x.c()\n"
   ]
  }
 ],
 "metadata": {
  "interpreter": {
   "hash": "793a361c9cb33761c67c8442ce1c830393d9eace081562163e5d71d68ad47fd0"
  },
  "kernelspec": {
   "display_name": "Python 3.10.2 64-bit",
   "language": "python",
   "name": "python3"
  },
  "language_info": {
   "codemirror_mode": {
    "name": "ipython",
    "version": 3
   },
   "file_extension": ".py",
   "mimetype": "text/x-python",
   "name": "python",
   "nbconvert_exporter": "python",
   "pygments_lexer": "ipython3",
   "version": "3.10.2"
  },
  "orig_nbformat": 4
 },
 "nbformat": 4,
 "nbformat_minor": 2
}
