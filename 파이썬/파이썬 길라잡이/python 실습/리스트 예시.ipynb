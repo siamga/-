{
 "cells": [
  {
   "cell_type": "code",
   "execution_count": 2,
   "metadata": {},
   "outputs": [
    {
     "name": "stdout",
     "output_type": "stream",
     "text": [
      "[1, 2, 3, 4]\n",
      "1\n",
      "2\n",
      "3\n"
     ]
    }
   ],
   "source": [
    "#리스트 예시\n",
    "a = [1,2,3,4]\n",
    "\n",
    "print(a)\n",
    "print(a[0])\n",
    "print(a[1])\n",
    "print(a[2])"
   ]
  },
  {
   "cell_type": "code",
   "execution_count": 5,
   "metadata": {},
   "outputs": [
    {
     "name": "stdout",
     "output_type": "stream",
     "text": [
      "[10, 20, 30, 40]\n",
      "[55, 24, 99, 12]\n",
      "[20, 30, 40]\n",
      "[55, 24, 99, 12, 22]\n",
      "5\n"
     ]
    }
   ],
   "source": [
    "#리스트의 내부 함수\n",
    "a = [20,10,40,30]\n",
    "b = [12,99,24,55]\n",
    "\n",
    "#리스트명.sort():오름차순\n",
    "#리스트명.reverse():내림차순\n",
    "a.sort()\n",
    "b.reverse()\n",
    "\n",
    "print(a)\n",
    "print(b)\n",
    "\n",
    "#del 리스트명[순서]:순서의 항목 삭제\n",
    "#############################\n",
    "'''순서는 0번부터 시작한다.'''\n",
    "#############################\n",
    "#리스트명.append(값): 리스트의 맨 뒤에 값 추가\n",
    "del a[0]\n",
    "b.append(22)\n",
    "\n",
    "print(a)\n",
    "print(b)\n",
    "\n",
    "#len(리스트 이름): 리스트의 길이를 출력\n",
    "print(len(b))"
   ]
  },
  {
   "cell_type": "code",
   "execution_count": 9,
   "metadata": {},
   "outputs": [
    {
     "name": "stdout",
     "output_type": "stream",
     "text": [
      "[[10, 20], [30, 40], [50, 60]]\n",
      "[10, 20]\n",
      "20\n"
     ]
    }
   ],
   "source": [
    "#2차원 리스트 예시\n",
    "a = [[10,20],[30,40],[50,60]]\n",
    "\n",
    "print(a)\n",
    "\n",
    "print(a[0])\n",
    "\n",
    "print(a[0][1])\n"
   ]
  },
  {
   "cell_type": "code",
   "execution_count": 18,
   "metadata": {},
   "outputs": [
    {
     "name": "stdout",
     "output_type": "stream",
     "text": [
      "10\n",
      "30\n",
      "50\n",
      "[10, 30, 50]\n"
     ]
    }
   ],
   "source": [
    "#################################################\n",
    "#for문을 활용하여 10, 30 50 출력 후 해당 데이터로##\n",
    "#별도의 리스트 작성하라                         ##\n",
    "#################################################\n",
    "a = [[10,20],[30,40],[50,60]]\n",
    "b = []\n",
    "for i in range(0,len(a),1):\n",
    "    c=a[i][0]\n",
    "    print(c)\n",
    "    b.append(c)\n",
    "print(b)\n"
   ]
  },
  {
   "cell_type": "code",
   "execution_count": null,
   "metadata": {},
   "outputs": [],
   "source": []
  }
 ],
 "metadata": {
  "interpreter": {
   "hash": "793a361c9cb33761c67c8442ce1c830393d9eace081562163e5d71d68ad47fd0"
  },
  "kernelspec": {
   "display_name": "Python 3.10.2 64-bit",
   "language": "python",
   "name": "python3"
  },
  "language_info": {
   "codemirror_mode": {
    "name": "ipython",
    "version": 3
   },
   "file_extension": ".py",
   "mimetype": "text/x-python",
   "name": "python",
   "nbconvert_exporter": "python",
   "pygments_lexer": "ipython3",
   "version": "3.10.2"
  },
  "orig_nbformat": 4
 },
 "nbformat": 4,
 "nbformat_minor": 2
}
