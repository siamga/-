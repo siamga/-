{
 "cells": [
  {
   "cell_type": "code",
   "execution_count": 1,
   "metadata": {},
   "outputs": [],
   "source": [
    "import pymysql\n",
    "#mysql을 파이썬에 구동하기 위한 라이브러리 호출\n",
    "\n",
    "\n",
    "sample_db = pymysql.connect(\n",
    "    user = 'root',\n",
    "    password = 'qwer1234',\n",
    "    host = 'localhost',\n",
    "    db = 'ubion',\n",
    "    charset = 'utf8'\n",
    ")\n",
    "#sample_db 변수에 pymysql 라이브러리가 실제 mysql에 연결하기위한\n",
    "#정보를 입력해주는 pymysql.connect()함수 입력"
   ]
  },
  {
   "cell_type": "code",
   "execution_count": 2,
   "metadata": {},
   "outputs": [],
   "source": [
    "cursor = sample_db.cursor(pymysql.cursors.DictCursor)\n",
    "#sample_db로 연결한 mysql 데이터에 대해서 cursor 함수 결과값을 \n",
    "#변수 cursor에 저장한다."
   ]
  },
  {
   "cell_type": "code",
   "execution_count": 3,
   "metadata": {},
   "outputs": [
    {
     "data": {
      "text/plain": [
       "0"
      ]
     },
     "execution_count": 3,
     "metadata": {},
     "output_type": "execute_result"
    }
   ],
   "source": [
    "create = \"create table base1 (id varchar(32) primary key, password varchar(32) not null)\"\n",
    "cursor.execute(create)\n",
    "\n",
    "#명령어 create : 데이터베이스나 테이블을 새롭게 만들 때 사용하는 sql 명령어\n",
    "#테이블의 생성 시, 해당 테이블에 대한 필드 이름과 필드 타입(ex: int,varchar,char,tinyint...)을 정의하고 \n",
    "#필요에 따라서 개별 필드에 대한 제약 조건을 달 수 있다."
   ]
  },
  {
   "cell_type": "code",
   "execution_count": 4,
   "metadata": {},
   "outputs": [
    {
     "data": {
      "text/plain": [
       "0"
      ]
     },
     "execution_count": 4,
     "metadata": {},
     "output_type": "execute_result"
    }
   ],
   "source": [
    "create2 = \"create table base2 (id varchar(32) primary key, ph_n varchar(32) not null)\"\n",
    "cursor.execute(create2)"
   ]
  },
  {
   "cell_type": "code",
   "execution_count": 5,
   "metadata": {},
   "outputs": [
    {
     "name": "stdout",
     "output_type": "stream",
     "text": [
      "()\n"
     ]
    }
   ],
   "source": [
    "insert = \"insert into base1 values('test{}','{}')\".format(8,8888)\n",
    "cursor.execute(insert)\n",
    "result=cursor.fetchall()\n",
    "print(result)\n",
    "\n",
    "#명령어 insert into: 테이블에 새로운 데이터를 추가하는 명령어, \n",
    "#필드 이름을 지정하고 해당 필드별로 데이터를 추가하기도 하지만\n",
    "# 필드 이름을 생략하't는 경우 그냥 순서대로 들어간다.\n",
    "#그러나 colum의 값(필드 개수)보다 많은 데이터가 들어가는 경우 오류가 나온다."
   ]
  },
  {
   "cell_type": "code",
   "execution_count": 6,
   "metadata": {},
   "outputs": [
    {
     "name": "stdout",
     "output_type": "stream",
     "text": [
      "[{'id': 'test8', 'password': '8888'}]\n"
     ]
    }
   ],
   "source": [
    "select = 'select * from base1'\n",
    "cursor.execute(select)\n",
    "result=cursor.fetchall()\n",
    "print(result)\n",
    "\n",
    "# 명령어 select : 데이터 테이블의 데이터를 선택하는 명령어\n",
    "# select 필드이름 form 테이블 이름 -> 특정 테이블에 있는 필드에서 데이터 추출\n",
    "# 여기서 where 조건식을 추가해 지정된 필드에서 특정 조건을 만족하는 데이터의 출력도 가능하다."
   ]
  },
  {
   "cell_type": "code",
   "execution_count": 7,
   "metadata": {},
   "outputs": [],
   "source": [
    "sample_db.commit()"
   ]
  },
  {
   "cell_type": "code",
   "execution_count": 8,
   "metadata": {},
   "outputs": [
    {
     "data": {
      "text/plain": [
       "0"
      ]
     },
     "execution_count": 8,
     "metadata": {},
     "output_type": "execute_result"
    }
   ],
   "source": [
    "delete = \"delete from base1 where id = 'test6'\"\n",
    "cursor.execute(delete)\n",
    "\n",
    "#명령문 delete : 테이블 안의 데이터를 삭제하는 명령문\n",
    "#delete from 테이블 이름 -> 특정 테이블에 있는 모든 데이터 삭제\n",
    "#where 조건식으로 테이블 내에 특정 조건을 만족하는 데이터 삭제도 가능하다.\n",
    "#drop문 : 테이블의 삭제\n",
    "#delete문: 데이터의 삭제"
   ]
  },
  {
   "cell_type": "code",
   "execution_count": 9,
   "metadata": {},
   "outputs": [
    {
     "data": {
      "text/plain": [
       "1"
      ]
     },
     "execution_count": 9,
     "metadata": {},
     "output_type": "execute_result"
    }
   ],
   "source": [
    "insert2 = \"insert into base2 values('test4','010-1234-4567')\"\n",
    "cursor.execute(insert2)"
   ]
  },
  {
   "cell_type": "code",
   "execution_count": 10,
   "metadata": {},
   "outputs": [
    {
     "data": {
      "text/plain": [
       "0"
      ]
     },
     "execution_count": 10,
     "metadata": {},
     "output_type": "execute_result"
    }
   ],
   "source": [
    "update1 = \"update base1 set password = '1111' where id = 'test1'\"\n",
    "cursor.execute(update1)\n"
   ]
  },
  {
   "cell_type": "code",
   "execution_count": 11,
   "metadata": {},
   "outputs": [
    {
     "data": {
      "text/plain": [
       "0"
      ]
     },
     "execution_count": 11,
     "metadata": {},
     "output_type": "execute_result"
    }
   ],
   "source": [
    "delete1 = \"delete from base1 where id='test2'\"\n",
    "cursor.execute(delete1)"
   ]
  },
  {
   "cell_type": "code",
   "execution_count": 12,
   "metadata": {},
   "outputs": [
    {
     "name": "stdout",
     "output_type": "stream",
     "text": [
      "[{'id': 'test8', 'password': '8888', 'ph_n': None}]\n"
     ]
    }
   ],
   "source": [
    "l_join = \"select base1.id, base1.password, base2.ph_n from base1 left join base2 on base1.id = base2.id\"\n",
    "cursor.execute(l_join)\n",
    "result = cursor.fetchall()\n",
    "print(result)\n",
    "\n",
    "#명령문 update: 테이블의 내용을 수정하는 명령문\n",
    "#update 테이블이름 set 필드이름=데이터값 ->특정 테이블에서 특정 필드의 모든 데이터를 작성 데이터로 수정\n",
    "# where 조건문으로 필드 내의 특정 값에 대한 변경도 가능하다."
   ]
  },
  {
   "cell_type": "code",
   "execution_count": 13,
   "metadata": {},
   "outputs": [
    {
     "name": "stdout",
     "output_type": "stream",
     "text": [
      "[{'id': 'test8', 'password': '8888', 'ph_n': None}]\n"
     ]
    }
   ],
   "source": [
    "l_join = '''select base1.id, base1.password, base2.ph_n from base1 left join base2 on base1.id = base2.id'''\n",
    "cursor.execute(l_join)\n",
    "result = cursor.fetchall()\n",
    "print(result)\n",
    "\n",
    "#명령어 join: 데이터베이스 내의 여러 테이블에서 특정 컬럼 값을 가져와 \n",
    "#조합하여 하나의 집합을 표현한다. \n",
    "#left join, rigt join, inner join 등 종류가 많고\n",
    "#이것들은 간단하게 집합 관계를 생각하면 된다.\n"
   ]
  },
  {
   "cell_type": "code",
   "execution_count": 14,
   "metadata": {},
   "outputs": [
    {
     "name": "stdout",
     "output_type": "stream",
     "text": [
      "()\n"
     ]
    }
   ],
   "source": [
    "i_join = 'select base1.id, base1.password, base2.ph_n from base1 inner join base2 on base1.id=base2.id'\n",
    "\n",
    "\n",
    "cursor.execute(i_join)\n",
    "result = cursor.fetchall()\n",
    "print(result)"
   ]
  },
  {
   "cell_type": "code",
   "execution_count": 15,
   "metadata": {},
   "outputs": [
    {
     "data": {
      "text/plain": [
       "'mysql에서 join 결과값으로 한번에 새로운 테이블을 만드는 방법은 없다고 할 정도로\\n방법이 복잡하기에 새로운 테이블을 만들어서 입력해야한다. join 결과값으로 \\n한번에 새로운 테이블을 만드는 방법은 없다고 생각을 하면 된다.'"
      ]
     },
     "execution_count": 15,
     "metadata": {},
     "output_type": "execute_result"
    }
   ],
   "source": [
    "#1)sample_db.cursor(pymysql.cursors.DictCursor) 의미\n",
    "'''#-> #sample_db로 연결한 mysql 데이터에 대해서 cursor 함수 결과값을 \n",
    "변수 cursor에 저장한다.'''\n",
    "\n",
    "#2)개별 탭에 result = cursor.fetchall()을 지정하는 이유\n",
    "#이미 이전 탭에 result변수에 값을 지정했는데 왜 또 지정하는지\n",
    "'''먼저 result = cursor.fetchall()의 의미를 알아야 하는데 이건은 \n",
    "이전에 cursor.execute()를 통해서 () 안에 문자열로 정의된 \n",
    "명령어를 파이썬 외부의 pymysql로 실행하게 된다. 이 결과값을 파이썬에 \n",
    "가져와야하기에 result라는 변수에 cursor.fetchall()을 통해 데이터를 저장한다.\n",
    "이때, result에 저장되는 것은 curso.fetchall()이라는 함수가 아니라\n",
    "이 함수를 통해 가져오게 되는 데이터가 된다.\n",
    "따라서 다음 탭에서 결과값을 출력하기 위해서는 \n",
    "별도로 fetchall()을 통해서 데이터를 저장해r야한다.'''\n",
    "\n",
    "\n",
    "#3) join에서 큰 따옴표와 작은 따옴표 세개의 차이. 출력은 같은거 같은데\n",
    "'''둘 다 문자열을 표현하기 위한 표식이다. 하지만 \n",
    "한가지 차이점이 있는데 큰 따옴표 내에 데이터를 적을 때, \n",
    "줄을 바꾸게 되면 바뀐 줄은 문자열 속성이 없어지고 원래 줄에만 문자열 속성이 있는데\n",
    "작은 따옴표 3개는 문자열 속성이 줄을 바꿔도 이어지는 차이점이 있다.'''\n",
    "\n",
    "\n",
    "#4) join으로 출력된 결과값으로 새로운 테이블을 만드는 방법 in python\n",
    "'''mysql에서 join 결과값으로 한번에 새로운 테이블을 만드는 방법은 없다고 할 정도로\n",
    "방법이 복잡하기에 새로운 테이블을 만들어서 입력해야한다. join 결과값으로 \n",
    "한번에 새로운 테이블을 만드는 방법은 없다고 생각을 하면 된다.'''"
   ]
  },
  {
   "cell_type": "code",
   "execution_count": 16,
   "metadata": {},
   "outputs": [
    {
     "name": "stdout",
     "output_type": "stream",
     "text": [
      "[{'id': 'test8', 'password': '8888'}]\n",
      "[{'id': 'test8', 'password': '8888'}]\n"
     ]
    }
   ],
   "source": [
    "order_asc = 'select * from base1 order by id asc'\n",
    "order_desc = 'select * from base1 order by id desc'\n",
    "\n",
    "cursor.execute(order_asc)\n",
    "result = cursor.fetchall()\n",
    "print(result)\n",
    "\n",
    "cursor.execute(order_desc)\n",
    "result = cursor.fetchall()\n",
    "print(result)\n",
    "\n",
    "#명령어 order: 지정된 컬럼을 기준으로 정렬\n",
    "# select * from 테이블명 order by 컬럼명 asc->오름차순 정렬\n",
    "# select * from 테이블명 order by 컬럼명 desc->내림차순 정렬"
   ]
  },
  {
   "cell_type": "code",
   "execution_count": 17,
   "metadata": {},
   "outputs": [
    {
     "name": "stdout",
     "output_type": "stream",
     "text": [
      "[{'id': 'test8', 'password': '8888'}]\n",
      "[{'id': 'test8', 'password': '8888'}]\n"
     ]
    }
   ],
   "source": [
    "group_by = 'select*from base1 group by id'\n",
    "\n",
    "group_by_after_conditon = \"select * from base1 where id != 'test3' group by id\"\n",
    "cursor.execute(group_by_after_conditon)\n",
    "result = cursor.fetchall()\n",
    "print(result)\n",
    "\n",
    "group_by_before_conditon =\"select * from base1 group by id having password != '5555'\"\n",
    "cursor.execute(group_by_before_conditon)\n",
    "result = cursor.fetchall()\n",
    "print(result)"
   ]
  }
 ],
 "metadata": {
  "interpreter": {
   "hash": "793a361c9cb33761c67c8442ce1c830393d9eace081562163e5d71d68ad47fd0"
  },
  "kernelspec": {
   "display_name": "Python 3.10.2 64-bit",
   "language": "python",
   "name": "python3"
  },
  "language_info": {
   "codemirror_mode": {
    "name": "ipython",
    "version": 3
   },
   "file_extension": ".py",
   "mimetype": "text/x-python",
   "name": "python",
   "nbconvert_exporter": "python",
   "pygments_lexer": "ipython3",
   "version": "3.10.2"
  },
  "orig_nbformat": 4
 },
 "nbformat": 4,
 "nbformat_minor": 2
}
