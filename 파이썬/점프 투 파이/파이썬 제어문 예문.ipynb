{
 "cells": [
  {
   "cell_type": "code",
   "execution_count": 2,
   "metadata": {},
   "outputs": [
    {
     "name": "stdout",
     "output_type": "stream",
     "text": [
      "shirt\n"
     ]
    },
    {
     "data": {
      "text/plain": [
       "'\\n실제로는 shirt가 출력되는데 \\nelif는 이전 조건문을 총족하지 못할 경우의 조건문이기에 \\nneed에 대한 조건문 이전에 shirt의 조건문을 만족했기때문에\\nshirt만 출력된다.\\n'"
      ]
     },
     "execution_count": 2,
     "metadata": {},
     "output_type": "execute_result"
    }
   ],
   "source": [
    "#무엇이 출력되는가?\n",
    "a = 'Life is too short, you need python'\n",
    "if 'wife' in a :\n",
    "    print('wife')\n",
    "elif 'python' in a and 'you' not in a :\n",
    "    print('python')\n",
    "elif 'shirt' not in a :\n",
    "    print('shirt')\n",
    "elif 'need' in a : print('need')\n",
    "else: print('none')\n",
    "\n",
    "#'shirt','need'가 출력된다.\n",
    "'''\n",
    "실제로는 shirt가 출력되는데 \n",
    "elif는 이전 조건문을 총족하지 못할 경우의 조건문이기에 \n",
    "need에 대한 조건문 이전에 shirt의 조건문을 만족했기때문에\n",
    "shirt만 출력된다.\n",
    "'''"
   ]
  },
  {
   "cell_type": "code",
   "execution_count": 1,
   "metadata": {},
   "outputs": [
    {
     "name": "stdout",
     "output_type": "stream",
     "text": [
      "166833\n"
     ]
    }
   ],
   "source": [
    "#while 활용 1~1000까지 중 3의 배수의 합을 구하라\n",
    "a = 0\n",
    "i = 0\n",
    "while i < 1001 :\n",
    "    i += 1\n",
    "    if i % 3 == 0 :\n",
    "        a += i\n",
    "\n",
    "      \n",
    "        \n",
    "\n",
    "print(a)"
   ]
  },
  {
   "cell_type": "code",
   "execution_count": 6,
   "metadata": {},
   "outputs": [
    {
     "name": "stdout",
     "output_type": "stream",
     "text": [
      "*\n",
      "**\n",
      "***\n",
      "****\n",
      "*****\n"
     ]
    }
   ],
   "source": [
    "#while 사용 다음을 표시하라\n",
    "'''\n",
    "*\n",
    "**\n",
    "***\n",
    "****\n",
    "*****\n",
    "'''\n",
    "\n",
    "a=0\n",
    "while a < 5 :\n",
    "    a += 1\n",
    "    print('*'*a)"
   ]
  },
  {
   "cell_type": "code",
   "execution_count": 8,
   "metadata": {},
   "outputs": [
    {
     "name": "stdout",
     "output_type": "stream",
     "text": [
      "1\n",
      "2\n",
      "3\n",
      "4\n",
      "5\n",
      "6\n",
      "7\n",
      "8\n",
      "9\n",
      "10\n",
      "11\n",
      "12\n",
      "13\n",
      "14\n",
      "15\n",
      "16\n",
      "17\n",
      "18\n",
      "19\n",
      "20\n",
      "21\n",
      "22\n",
      "23\n",
      "24\n",
      "25\n",
      "26\n",
      "27\n",
      "28\n",
      "29\n",
      "30\n",
      "31\n",
      "32\n",
      "33\n",
      "34\n",
      "35\n",
      "36\n",
      "37\n",
      "38\n",
      "39\n",
      "40\n",
      "41\n",
      "42\n",
      "43\n",
      "44\n",
      "45\n",
      "46\n",
      "47\n",
      "48\n",
      "49\n",
      "50\n",
      "51\n",
      "52\n",
      "53\n",
      "54\n",
      "55\n",
      "56\n",
      "57\n",
      "58\n",
      "59\n",
      "60\n",
      "61\n",
      "62\n",
      "63\n",
      "64\n",
      "65\n",
      "66\n",
      "67\n",
      "68\n",
      "69\n",
      "70\n",
      "71\n",
      "72\n",
      "73\n",
      "74\n",
      "75\n",
      "76\n",
      "77\n",
      "78\n",
      "79\n",
      "80\n",
      "81\n",
      "82\n",
      "83\n",
      "84\n",
      "85\n",
      "86\n",
      "87\n",
      "88\n",
      "89\n",
      "90\n",
      "91\n",
      "92\n",
      "93\n",
      "94\n",
      "95\n",
      "96\n",
      "97\n",
      "98\n",
      "99\n",
      "100\n"
     ]
    }
   ],
   "source": [
    "#for문 사용 1~100까지 숫자 출력하라\n",
    "for i in range(1,101):\n",
    "    print(i)"
   ]
  },
  {
   "cell_type": "code",
   "execution_count": 10,
   "metadata": {},
   "outputs": [
    {
     "name": "stdout",
     "output_type": "stream",
     "text": [
      "79.0\n"
     ]
    }
   ],
   "source": [
    "#A학급 10명의 중간고사 점수\n",
    "#[70, 60, 55, 75, 95, 90, 80, 80, 85, 100]\n",
    "#for문으로 학급 평균점수를 구하라\n",
    "\n",
    "score = [70, 60, 55, 75, 95, 90, 80, 80, 85, 100]\n",
    "total = 0\n",
    "for i in score :\n",
    "    total += i\n",
    "\n",
    "average = total / len(score)\n",
    "print(average)"
   ]
  },
  {
   "cell_type": "code",
   "execution_count": null,
   "metadata": {},
   "outputs": [],
   "source": [
    "'''\n",
    "numbers = [1,2,3,4,5]\n",
    "result = []\n",
    "for n in numbers:\n",
    "    if n%2 == 1:\n",
    "        result.append(n*2)\n",
    "위 코드를 list comprehension을 사용해 표현하라    \n",
    "'''\n",
    "#따로 공부하자"
   ]
  }
 ],
 "metadata": {
  "interpreter": {
   "hash": "793a361c9cb33761c67c8442ce1c830393d9eace081562163e5d71d68ad47fd0"
  },
  "kernelspec": {
   "display_name": "Python 3.10.2 64-bit",
   "language": "python",
   "name": "python3"
  },
  "language_info": {
   "codemirror_mode": {
    "name": "ipython",
    "version": 3
   },
   "file_extension": ".py",
   "mimetype": "text/x-python",
   "name": "python",
   "nbconvert_exporter": "python",
   "pygments_lexer": "ipython3",
   "version": "3.10.2"
  },
  "orig_nbformat": 4
 },
 "nbformat": 4,
 "nbformat_minor": 2
}
