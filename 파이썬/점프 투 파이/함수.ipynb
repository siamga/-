{
 "cells": [
  {
   "cell_type": "code",
   "execution_count": 5,
   "metadata": {},
   "outputs": [
    {
     "name": "stdout",
     "output_type": "stream",
     "text": [
      "3, 4의 합은 7입니다.\n",
      "3, 4의 합은 7입니다.\n",
      "None\n",
      "hi\n"
     ]
    }
   ],
   "source": [
    "#결과값이 없는 함수\n",
    "def add(a,b):\n",
    "    print('%d, %d의 합은 %d입니다.'%(a,b,a+b))\n",
    "\n",
    "add(3,4)\n",
    "\n",
    "a=add(3,4)\n",
    "print(a)\n",
    "\n",
    "#입력, 결과값이 없는 함수\n",
    "def say():\n",
    "    print('hi')\n",
    "\n",
    "say()"
   ]
  },
  {
   "cell_type": "code",
   "execution_count": 9,
   "metadata": {},
   "outputs": [
    {
     "name": "stdout",
     "output_type": "stream",
     "text": [
      "10\n",
      "8\n"
     ]
    }
   ],
   "source": [
    "#매개 변수 지정 호출\n",
    "def add(a,b):\n",
    "    return a+b\n",
    "\n",
    "result = add(a=3,b=7)\n",
    "print(result)\n",
    "#매개 변수 지정으로 순서와 상관 없이 사용 가능\n",
    "result = add(b=5,a=3)\n",
    "print"
   ]
  },
  {
   "cell_type": "code",
   "execution_count": 12,
   "metadata": {},
   "outputs": [
    {
     "name": "stdout",
     "output_type": "stream",
     "text": [
      "6\n",
      "55\n",
      "15\n",
      "120\n"
     ]
    }
   ],
   "source": [
    "#입력값의 개수를 모르는 경우\n",
    "##여러개의 입력값을 받는 함수: 매개변수에 *넣어서 정의\n",
    "def add_many(*args):\n",
    "    result = 0\n",
    "    for i in args :\n",
    "        result += i\n",
    "    return result\n",
    "\n",
    "result = add_many(1,2,3)\n",
    "print(result)\n",
    "\n",
    "result = add_many(1,2,3,4,5,6,7,8,9,10)\n",
    "print(result)\n",
    "\n",
    "def add_mul1(choice, *args):\n",
    "    if choice == 'add' :\n",
    "        result = 0\n",
    "        for i in args : \n",
    "            result += i\n",
    "    \n",
    "    elif choice == 'mul' :\n",
    "        result = 1\n",
    "        for i in args :\n",
    "            result *= i\n",
    "    return result\n",
    "\n",
    "result = add_mul1('add',1,2,3,4,5)\n",
    "print(result)\n",
    "\n",
    "result = add_mul1('mul',1,2,3,4,5)\n",
    "print(result)\n"
   ]
  },
  {
   "cell_type": "code",
   "execution_count": 15,
   "metadata": {},
   "outputs": [
    {
     "name": "stdout",
     "output_type": "stream",
     "text": [
      "{'a': 1}\n",
      "{'name': 'foo', 'age': 3}\n"
     ]
    }
   ],
   "source": [
    "#키워드 파라미터 : 매개변수를 딕셔너리로 만들고 key=value\n",
    "#형태로 만들어 딕셔너리에 저장하는 함수\n",
    "## **이것을 붙여서 키워드 파라미터를 사용한다. \n",
    "def print_kwargs(**kwargs):\n",
    "    print(kwargs)\n",
    "\n",
    "print_kwargs(a=1)\n",
    "print_kwargs(name='foo',age=3)"
   ]
  },
  {
   "cell_type": "code",
   "execution_count": 21,
   "metadata": {},
   "outputs": [
    {
     "name": "stdout",
     "output_type": "stream",
     "text": [
      "(7, 12)\n",
      "7\n",
      "12\n"
     ]
    }
   ],
   "source": [
    "#함수의 결과값은 하나이다. \n",
    "def add_and_mul1(a,b):\n",
    "    return a+b, a*b\n",
    "\n",
    "result = add_and_mul1(3,4)\n",
    "print(result)\n",
    "#2개 이상의 값을 출력하는 함수는 튜플의 형태로 결과 도출\n",
    "\n",
    "result1, result2 = add_and_mul1(3,4)\n",
    "print(result1)\n",
    "print(result2)\n",
    "#이런 경우 함수의 결과값이 순서대로 result1,2에 지정된다.\n",
    "\n"
   ]
  },
  {
   "cell_type": "code",
   "execution_count": 22,
   "metadata": {},
   "outputs": [],
   "source": [
    "#매개변수 초기값 설정: 함수 설정 시에 미리 매개변수에 값을 넣으면\n",
    "#초기값을 설정 할 수 있다. 단, 초기값을 설정할 경우 맨 뒤에 있어야\n",
    "#디폴드 값을 사용 할 수 있다.\n",
    "def say_myname(name,old,man=True):\n",
    "    print('나의 이름은 %s 입니다.'%name)\n",
    "    print('나이는 %d살입니다.'%old)\n",
    "    if man:\n",
    "        print('남자입니다.')\n",
    "    else :\n",
    "        print('여자입니다.')\n",
    "\n",
    "    "
   ]
  },
  {
   "cell_type": "code",
   "execution_count": null,
   "metadata": {},
   "outputs": [],
   "source": []
  }
 ],
 "metadata": {
  "interpreter": {
   "hash": "793a361c9cb33761c67c8442ce1c830393d9eace081562163e5d71d68ad47fd0"
  },
  "kernelspec": {
   "display_name": "Python 3.10.2 64-bit",
   "language": "python",
   "name": "python3"
  },
  "language_info": {
   "codemirror_mode": {
    "name": "ipython",
    "version": 3
   },
   "file_extension": ".py",
   "mimetype": "text/x-python",
   "name": "python",
   "nbconvert_exporter": "python",
   "pygments_lexer": "ipython3",
   "version": "3.10.2"
  },
  "orig_nbformat": 4
 },
 "nbformat": 4,
 "nbformat_minor": 2
}
