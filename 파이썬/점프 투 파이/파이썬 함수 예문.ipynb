{
 "cells": [
  {
   "cell_type": "code",
   "execution_count": null,
   "metadata": {},
   "outputs": [],
   "source": [
    "#자연수의 홀짝 판별함수 is_odd를 작성하라\n",
    "def is_odd(a):\n",
    "    if a % 2 = 0:\n",
    "        print('짝수')\n",
    "    else: \n",
    "        print('홀수')"
   ]
  },
  {
   "cell_type": "code",
   "execution_count": 3,
   "metadata": {},
   "outputs": [
    {
     "data": {
      "text/plain": [
       "2.0"
      ]
     },
     "execution_count": 3,
     "metadata": {},
     "output_type": "execute_result"
    }
   ],
   "source": [
    "#입력되는 모든 수의 평균을 계산하는 함수를 작성하라\n",
    "\n",
    "def avg(*a):\n",
    "    total = 0\n",
    "    for i in a :\n",
    "        total += i\n",
    "    return total/len(a)\n",
    "\n",
    "avg(1,2,3) "
   ]
  },
  {
   "cell_type": "code",
   "execution_count": 4,
   "metadata": {},
   "outputs": [
    {
     "data": {
      "text/plain": [
       "\"\\ninput1 = input('첫번째 숫자를 입력하세요: ')\\ninput2 = input('두번째 숫자를 입력하세요: ')\\n\\ntotal = input1 + input2\\nprint('두 수의 합은 %s 입니다.'%total)\\n\""
      ]
     },
     "execution_count": 4,
     "metadata": {},
     "output_type": "execute_result"
    }
   ],
   "source": [
    "'''\n",
    "input1 = input('첫번째 숫자를 입력하세요: ')\n",
    "input2 = input('두번째 숫자를 입력하세요: ')\n",
    "\n",
    "total = input1 + input2\n",
    "print('두 수의 합은 %s 입니다.'%total)\n",
    "'''\n",
    "\n",
    "#오류: input1,2를 문자열로 취급하여 total은 두 값을 연결만 \n",
    "#하고 합을 하기 위해서는 int(input())을 해야한다."
   ]
  },
  {
   "cell_type": "code",
   "execution_count": 7,
   "metadata": {},
   "outputs": [
    {
     "name": "stdout",
     "output_type": "stream",
     "text": [
      "Life is too short\n"
     ]
    }
   ],
   "source": [
    "f1 = open('test.txt','w')\n",
    "f1.write('Life is too short')\n",
    "f1.close()\n",
    "\n",
    "f2 = open('test.txt','r')\n",
    "print(f2.read())"
   ]
  }
 ],
 "metadata": {
  "interpreter": {
   "hash": "793a361c9cb33761c67c8442ce1c830393d9eace081562163e5d71d68ad47fd0"
  },
  "kernelspec": {
   "display_name": "Python 3.10.2 64-bit",
   "language": "python",
   "name": "python3"
  },
  "language_info": {
   "codemirror_mode": {
    "name": "ipython",
    "version": 3
   },
   "file_extension": ".py",
   "mimetype": "text/x-python",
   "name": "python",
   "nbconvert_exporter": "python",
   "pygments_lexer": "ipython3",
   "version": "3.10.2"
  },
  "orig_nbformat": 4
 },
 "nbformat": 4,
 "nbformat_minor": 2
}
