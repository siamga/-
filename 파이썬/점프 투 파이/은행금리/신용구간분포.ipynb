{
 "cells": [
  {
   "cell_type": "code",
   "execution_count": 1,
   "metadata": {},
   "outputs": [],
   "source": [
    "import pandas as pd\n",
    "import numpy as np\n",
    "import matplotlib.pyplot as plt\n",
    "\n",
    "credit_df = pd.read_csv('./신용점수분포.csv', encoding='cp949')\n",
    "credit_df['people'] = credit_df['people'].apply(lambda x: x.replace(',',\"\"))\n",
    "credit_df['people'] = pd.to_numeric(credit_df['people'])\n",
    "credit_df2 = credit_df.drop([9],axis=0)\n",
    "credit_df2['distribution'] = credit_df2['people']/credit_df['people'][9]"
   ]
  },
  {
   "cell_type": "code",
   "execution_count": 2,
   "metadata": {},
   "outputs": [
    {
     "data": {
      "image/png": "[encoded data removed]",
      "text/plain": [
       "<Figure size 432x288 with 1 Axes>"
      ]
     },
     "metadata": {
      "needs_background": "light"
     },
     "output_type": "display_data"
    },
    {
     "data": {
      "text/html": [
       "<div>\n",
       "<style scoped>\n",
       "    .dataframe tbody tr th:only-of-type {\n",
       "        vertical-align: middle;\n",
       "    }\n",
       "\n",
       "    .dataframe tbody tr th {\n",
       "        vertical-align: top;\n",
       "    }\n",
       "\n",
       "    .dataframe thead th {\n",
       "        text-align: right;\n",
       "    }\n",
       "</style>\n",
       "<table border=\"1\" class=\"dataframe\">\n",
       "  <thead>\n",
       "    <tr style=\"text-align: right;\">\n",
       "      <th></th>\n",
       "      <th>credit_score</th>\n",
       "      <th>people</th>\n",
       "      <th>distribution</th>\n",
       "    </tr>\n",
       "  </thead>\n",
       "  <tbody>\n",
       "    <tr>\n",
       "      <th>0</th>\n",
       "      <td>900~</td>\n",
       "      <td>20358081</td>\n",
       "      <td>0.426858</td>\n",
       "    </tr>\n",
       "    <tr>\n",
       "      <th>1</th>\n",
       "      <td>800~</td>\n",
       "      <td>11864489</td>\n",
       "      <td>0.248769</td>\n",
       "    </tr>\n",
       "    <tr>\n",
       "      <th>2</th>\n",
       "      <td>700~</td>\n",
       "      <td>12595487</td>\n",
       "      <td>0.264096</td>\n",
       "    </tr>\n",
       "    <tr>\n",
       "      <th>3</th>\n",
       "      <td>600~</td>\n",
       "      <td>729594</td>\n",
       "      <td>0.015298</td>\n",
       "    </tr>\n",
       "    <tr>\n",
       "      <th>4</th>\n",
       "      <td>500~</td>\n",
       "      <td>110631</td>\n",
       "      <td>0.002320</td>\n",
       "    </tr>\n",
       "    <tr>\n",
       "      <th>5</th>\n",
       "      <td>400~</td>\n",
       "      <td>46037</td>\n",
       "      <td>0.000965</td>\n",
       "    </tr>\n",
       "    <tr>\n",
       "      <th>6</th>\n",
       "      <td>300~</td>\n",
       "      <td>1872619</td>\n",
       "      <td>0.039264</td>\n",
       "    </tr>\n",
       "    <tr>\n",
       "      <th>7</th>\n",
       "      <td>200~</td>\n",
       "      <td>112709</td>\n",
       "      <td>0.002363</td>\n",
       "    </tr>\n",
       "    <tr>\n",
       "      <th>8</th>\n",
       "      <td>~199</td>\n",
       "      <td>3164</td>\n",
       "      <td>0.000066</td>\n",
       "    </tr>\n",
       "  </tbody>\n",
       "</table>\n",
       "</div>"
      ],
      "text/plain": [
       "  credit_score    people  distribution\n",
       "0         900~  20358081      0.426858\n",
       "1         800~  11864489      0.248769\n",
       "2         700~  12595487      0.264096\n",
       "3         600~    729594      0.015298\n",
       "4         500~    110631      0.002320\n",
       "5         400~     46037      0.000965\n",
       "6         300~   1872619      0.039264\n",
       "7         200~    112709      0.002363\n",
       "8         ~199      3164      0.000066"
      ]
     },
     "execution_count": 2,
     "metadata": {},
     "output_type": "execute_result"
    }
   ],
   "source": [
    "x = credit_df2['credit_score']\n",
    "y = credit_df2['distribution']\n",
    "plt.plot(x,y)\n",
    "plt.show()\n",
    "credit_df2"
   ]
  },
  {
   "cell_type": "code",
   "execution_count": 3,
   "metadata": {},
   "outputs": [
    {
     "data": {
      "text/plain": [
       "1~2 grade     0.501489\n",
       "3~4 grade     0.161700\n",
       "5~6 grade     0.281889\n",
       "7~8grade      0.011915\n",
       "9~10 grade    0.043007\n",
       "Name: 구성 비율, dtype: float64"
      ]
     },
     "execution_count": 3,
     "metadata": {},
     "output_type": "execute_result"
    }
   ],
   "source": [
    "credit_df3 = credit_df2\n",
    "distribution = credit_df2['distribution']\n",
    "no1 = distribution[0]+distribution[1]*0.3 #1000~870\n",
    "no2 = distribution[1]*0.65  #869~805\n",
    "no3 = distribution[1]*0.05+distribution[2]+distribution[3]*0.35   #804~665\n",
    "no4 = distribution[3]*0.65+distribution[4]*0.85                    #664~515\n",
    "no5 = distribution[4]*0.15+distribution[5]+distribution[6]+distribution[7]+distribution[8]                        #514~0\n",
    "\n",
    "y=credit_grade_distribution=[no1,no2,no3,no4,no5]\n",
    "x=credit_grade = ['1~2 grade','3~4 grade','5~6 grade','7~8grade','9~10 grade']\n",
    "credit_df4 = pd.DataFrame(credit_grade_distribution,index=credit_grade)\n",
    "\n",
    "credit_df4.columns=['구성 비율']\n",
    "credit_df4['구성 비율']"
   ]
  },
  {
   "cell_type": "code",
   "execution_count": 8,
   "metadata": {},
   "outputs": [
    {
     "name": "stderr",
     "output_type": "stream",
     "text": [
      "C:\\Users\\LG\\AppData\\Local\\Programs\\Python\\Python310\\lib\\site-packages\\IPython\\core\\pylabtools.py:151: UserWarning: Glyph 46321 (\\N{HANGUL SYLLABLE DEUNG}) missing from current font.\n",
      "  fig.canvas.print_figure(bytes_io, **kw)\n",
      "C:\\Users\\LG\\AppData\\Local\\Programs\\Python\\Python310\\lib\\site-packages\\IPython\\core\\pylabtools.py:151: UserWarning: Glyph 44553 (\\N{HANGUL SYLLABLE GEUB}) missing from current font.\n",
      "  fig.canvas.print_figure(bytes_io, **kw)\n"
     ]
    },
    {
     "data": {
      "image/png": "[encoded data removed]",
      "text/plain": [
       "<Figure size 432x288 with 1 Axes>"
      ]
     },
     "metadata": {},
     "output_type": "display_data"
    }
   ],
   "source": [
    "plt.pie(credit_grade_distribution,labels=credit_grade,autopct='%.3f%%')\n",
    "plt.show()\n",
    "credit_df4.to_csv('.\\신용등급분포.csv',encoding='cp949')"
   ]
  },
  {
   "cell_type": "code",
   "execution_count": 5,
   "metadata": {},
   "outputs": [],
   "source": [
    "credit_df5 = credit_df4\n",
    "\n",
    "\n",
    "credit_df5['누적비율'] = credit_df5['구성 비율'].cumsum()\n",
    "credit_df5.to_csv('.\\신용등급분포.csv')"
   ]
  },
  {
   "cell_type": "code",
   "execution_count": 6,
   "metadata": {},
   "outputs": [],
   "source": [
    "credit_df6 = credit_df2\n",
    "distribution = credit_df2['distribution']\n",
    "no1 = distribution[0]+distribution[1]*0.6 #1000~840\n",
    "no2 = distribution[1]*0.35  #839~805\n",
    "no3 = distribution[1]*0.05+distribution[2]*0.5  #804~750\n",
    "no4 = distribution[2]*0.5+distribution[3]*0.35                  #749~665\n",
    "no5 = distribution[3]*0.65+distribution[4]+distribution[5]+distribution[6]+distribution[7]+distribution[8]                        \n",
    "#664~0\n",
    "credit_df2\n",
    "y=credit_grade_distribution=[no1,no2,no3,no4,no5]\n",
    "x=credit_grade = ['1~3등급','4등급','5등급','6등급','7등급~10등급']\n",
    "credit_df6 = pd.DataFrame(credit_grade_distribution,index=credit_grade)\n",
    "\n",
    "credit_df6.columns=['구성 비율']\n",
    "credit_df6.to_csv('.\\개인사업자신용등급분포.csv',encoding='cp949')"
   ]
  },
  {
   "cell_type": "code",
   "execution_count": 22,
   "metadata": {},
   "outputs": [],
   "source": [
    "company = pd.read_csv('.\\기업신용등급분포.csv', encoding='cp949')\n",
    "company.reset_index(drop=True,inplace=True)\n",
    "distribution=company['구성비율']\n",
    "distribution\n",
    "no1 = distribution[0]+distribution[1]+distribution[2]\n",
    "no2 = distribution[3]\n",
    "no3 = distribution[4]\n",
    "no4 = distribution[5]             #749~665\n",
    "no5 = distribution[6]+distribution[7]+distribution[8]\n",
    "\n",
    "y=credit_grade_distribution=[no1,no2,no3,no4,no5]\n",
    "x=credit_grade = ['1~3등급','4등급','5등급','6등급','7등급~10등급']\n",
    "credit_df7 = pd.DataFrame(credit_grade_distribution,index=credit_grade)\n",
    "\n",
    "credit_df7.columns=['구성 비율']\n",
    "credit_df7.to_csv('.\\기업신용등급분포.csv',encoding='cp949')\n"
   ]
  },
  {
   "cell_type": "code",
   "execution_count": null,
   "metadata": {},
   "outputs": [],
   "source": []
  }
 ],
 "metadata": {
  "interpreter": {
   "hash": "793a361c9cb33761c67c8442ce1c830393d9eace081562163e5d71d68ad47fd0"
  },
  "kernelspec": {
   "display_name": "Python 3.10.2 64-bit",
   "language": "python",
   "name": "python3"
  },
  "language_info": {
   "codemirror_mode": {
    "name": "ipython",
    "version": 3
   },
   "file_extension": ".py",
   "mimetype": "text/x-python",
   "name": "python",
   "nbconvert_exporter": "python",
   "pygments_lexer": "ipython3",
   "version": "3.10.2"
  },
  "orig_nbformat": 4
 },
 "nbformat": 4,
 "nbformat_minor": 2
}
