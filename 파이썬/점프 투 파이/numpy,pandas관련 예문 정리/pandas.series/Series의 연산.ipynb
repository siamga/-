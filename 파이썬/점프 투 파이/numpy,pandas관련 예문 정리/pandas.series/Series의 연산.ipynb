{
 "cells": [
  {
   "cell_type": "code",
   "execution_count": 9,
   "metadata": {},
   "outputs": [
    {
     "name": "stdout",
     "output_type": "stream",
     "text": [
      "kt       60\n",
      "naver    30\n",
      "skt      30\n",
      "dtype: int64\n",
      "naver    100\n",
      "skt      200\n",
      "kt       300\n",
      "dtype: int64\n"
     ]
    }
   ],
   "source": [
    "#시리즈의 연산은 기본적으로 1차원 행렬의 연산으로 생각한다.\n",
    "import numpy as np\n",
    "from pandas import Series\n",
    "\n",
    "철수 = Series([10,20,30], index = ['naver','skt','kt'])\n",
    "영희 = Series([10,30,20], index = ['skt','kt','naver'])\n",
    "가족 = 철수 + 영희\n",
    "print(가족)\n",
    "print(철수*10)"
   ]
  },
  {
   "cell_type": "code",
   "execution_count": 13,
   "metadata": {},
   "outputs": [
    {
     "name": "stdout",
     "output_type": "stream",
     "text": [
      "6/1    650\n",
      "6/2    550\n",
      "6/3    750\n",
      "6/4    800\n",
      "6/5    650\n",
      "dtype: int64\n",
      "3\n",
      "6/4\n"
     ]
    }
   ],
   "source": [
    "#Series 연산의 응용 -> 두 리스트의 차이가 가장 큰 지점의 인덱스 값 산출\n",
    "date = ['6/1','6/2','6/3','6/4','6/5']\n",
    "high = Series([42800, 42700, 42050, 42950, 43000], index=date)\n",
    "low = Series([42150, 42150, 41300, 42150, 42350] , index=date)\n",
    "diff = high - low\n",
    "print(diff)\n",
    "\n",
    "max_idx = 0\n",
    "max_val = 0\n",
    "\n",
    "for i in range(len(diff)):\n",
    "    if diff[i] > max_val:\n",
    "        max_val = diff[i]\n",
    "        max_idx = i\n",
    "\n",
    "print(max_idx)\n",
    "print(diff.index[max_idx])\n",
    "#"
   ]
  },
  {
   "cell_type": "code",
   "execution_count": null,
   "metadata": {},
   "outputs": [],
   "source": [
    "#idxmax(시리즈) : 시리즈의 최댓값 인덱스 반환\n",
    "#idxmin(시리즈) : 시리즈의 최솟값 인덱스 반환"
   ]
  }
 ],
 "metadata": {
  "interpreter": {
   "hash": "793a361c9cb33761c67c8442ce1c830393d9eace081562163e5d71d68ad47fd0"
  },
  "kernelspec": {
   "display_name": "Python 3.10.2 64-bit",
   "language": "python",
   "name": "python3"
  },
  "language_info": {
   "codemirror_mode": {
    "name": "ipython",
    "version": 3
   },
   "file_extension": ".py",
   "mimetype": "text/x-python",
   "name": "python",
   "nbconvert_exporter": "python",
   "pygments_lexer": "ipython3",
   "version": "3.10.2"
  },
  "orig_nbformat": 4
 },
 "nbformat": 4,
 "nbformat_minor": 2
}
