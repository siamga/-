{
 "cells": [
  {
   "cell_type": "code",
   "execution_count": 2,
   "metadata": {},
   "outputs": [
    {
     "name": "stdout",
     "output_type": "stream",
     "text": [
      "메로나     1000\n",
      "구구콘     2000\n",
      "하겐다즈    3000\n",
      "dtype: int64\n",
      "메로나      500\n",
      "구구콘     2000\n",
      "하겐다즈    3000\n",
      "dtype: int64\n"
     ]
    }
   ],
   "source": [
    "import numpy as np\n",
    "import pandas as pd\n",
    "\n",
    "#Series의 수정\n",
    "from pandas import Series\n",
    "\n",
    "data = [1000,2000,3000]\n",
    "index = ['메로나','구구콘','하겐다즈']\n",
    "s = Series(data=data,index=index)\n",
    "print(s)\n",
    "\n",
    "s.loc['메로나'] = 500\n",
    "print(s)"
   ]
  },
  {
   "cell_type": "code",
   "execution_count": 4,
   "metadata": {},
   "outputs": [
    {
     "name": "stdout",
     "output_type": "stream",
     "text": [
      "메로나      500\n",
      "구구콘     2000\n",
      "하겐다즈    3000\n",
      "비비빅      500\n",
      "월드콘     1500\n",
      "dtype: int64\n",
      "메로나      500\n",
      "구구콘     2000\n",
      "하겐다즈    3000\n",
      "비비빅      500\n",
      "월드콘     1500\n",
      "dtype: int64\n"
     ]
    }
   ],
   "source": [
    "#Series의 추가\n",
    "s.loc['비비빅'] = 500\n",
    "print(s)\n",
    "\n",
    "s['월드콘'] = 1500\n",
    "print(s)\n",
    "\n",
    "#굳이 loc나 iloc 없이 해당 시리즈[인덱스]=변경 데이터로\n",
    "#쉽게 데이터의 수정, 변경이 가능하다."
   ]
  },
  {
   "cell_type": "code",
   "execution_count": 5,
   "metadata": {},
   "outputs": [
    {
     "name": "stdout",
     "output_type": "stream",
     "text": [
      "메로나      500\n",
      "구구콘     2000\n",
      "하겐다즈    3000\n",
      "비비빅      500\n",
      "월드콘     1500\n",
      "dtype: int64\n"
     ]
    }
   ],
   "source": [
    "#Seires의 데이터 삭제\n",
    "#이 경우 단순히 .drop(인덱스)를 사용하면 된다.\n",
    "s.drop('메로나')\n",
    "print(s)"
   ]
  }
 ],
 "metadata": {
  "interpreter": {
   "hash": "793a361c9cb33761c67c8442ce1c830393d9eace081562163e5d71d68ad47fd0"
  },
  "kernelspec": {
   "display_name": "Python 3.10.2 64-bit",
   "language": "python",
   "name": "python3"
  },
  "language_info": {
   "codemirror_mode": {
    "name": "ipython",
    "version": 3
   },
   "file_extension": ".py",
   "mimetype": "text/x-python",
   "name": "python",
   "nbconvert_exporter": "python",
   "pygments_lexer": "ipython3",
   "version": "3.10.2"
  },
  "orig_nbformat": 4
 },
 "nbformat": 4,
 "nbformat_minor": 2
}
