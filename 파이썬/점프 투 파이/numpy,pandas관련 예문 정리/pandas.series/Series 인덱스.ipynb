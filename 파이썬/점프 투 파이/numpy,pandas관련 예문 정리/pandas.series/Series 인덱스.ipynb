{
 "cells": [
  {
   "cell_type": "code",
   "execution_count": 3,
   "metadata": {},
   "outputs": [
    {
     "name": "stdout",
     "output_type": "stream",
     "text": [
      "RangeIndex(start=0, stop=3, step=1)\n",
      "[0, 1, 2]\n"
     ]
    }
   ],
   "source": [
    "import numpy as np\n",
    "import pandas as pd\n",
    "\n",
    "#Series의 인덱스\n",
    "data = [1000,2000,3000]\n",
    "s = pd.Series(data)\n",
    "print(s.index)\n",
    "print(s.index.to_list())"
   ]
  },
  {
   "cell_type": "code",
   "execution_count": 7,
   "metadata": {},
   "outputs": [
    {
     "name": "stdout",
     "output_type": "stream",
     "text": [
      "메로나     1000\n",
      "구구콘     2000\n",
      "하겐다즈    3000\n",
      "dtype: int64\n",
      "메로나     1000\n",
      "구구콘     2000\n",
      "하겐다즈    3000\n",
      "dtype: int64\n"
     ]
    }
   ],
   "source": [
    "#Series 인덱스의 수정\n",
    "data = [1000,2000,3000]\n",
    "s=pd.Series(data)\n",
    "s.index = ['메로나','구구콘','하겐다즈']\n",
    "print(s)\n",
    "#특정 Series의 인덱스는 .inde=[]를 통해 수정 가능하다.\n",
    "\n",
    "\n",
    "#Series의 응용: list를 이용한 시리즈 만들기\n",
    "d = [1000,2000,3000]\n",
    "i = ['메로나','구구콘','하겐다즈']\n",
    "s = pd.Series(data=d,index=i)\n",
    "print(s)"
   ]
  },
  {
   "cell_type": "code",
   "execution_count": 14,
   "metadata": {},
   "outputs": [
    {
     "name": "stdout",
     "output_type": "stream",
     "text": [
      "메로나    1000.0\n",
      "바밤바       NaN\n",
      "구구콘    2000.0\n",
      "dtype: float64\n",
      "메로나    1000.0\n",
      "바밤바       0.0\n",
      "구구콘    2000.0\n",
      "dtype: float64\n",
      "메로나    1000\n",
      "바밤바       0\n",
      "구구콘    2000\n",
      "dtype: int64\n"
     ]
    }
   ],
   "source": [
    "#.reindex(): 인자로 전달한 새로운 값에 맞춰 인덱스 변경\n",
    "#ex)\n",
    "d = [1000,2000,3000]\n",
    "i = ['메로나','구구콘','하겐다즈']\n",
    "s = pd.Series(data=d,index=i)\n",
    "s2 = s.reindex(['메로나','바밤바','구구콘'])\n",
    "print(s2)\n",
    "#여기서 새로운 인덱스에 기존 값이 존재한다면 새로운 인덱스의 위치에\n",
    "#맞춰서 값이 이동하고 새로운 인덱스에 기존 값이 없다면 결측값(Nan)\n",
    "#처리를 한다.\n",
    "\n",
    "#fillna: 위와 같이 결측값 발생시 이것을 채우는 결과 반환\n",
    "#단, s2의 값은 변경되지 않는다.\n",
    "#또는 s.reindex과정에서 fill_value인자로 결측값을 \n",
    "#채울 수 있다.\n",
    "#ex)\n",
    "print(s2.fillna(0))\n",
    "s2 = s.reindex(['메로나','바밤바','구구콘'], fill_value=0)\n",
    "print(s2)"
   ]
  },
  {
   "cell_type": "code",
   "execution_count": 19,
   "metadata": {},
   "outputs": [
    {
     "name": "stdout",
     "output_type": "stream",
     "text": [
      "05-31    42500\n",
      "05-30    42550\n",
      "05-29    41800\n",
      "05-28    42550\n",
      "05-27    42650\n",
      "dtype: int64\n",
      "Index(['05-31', '05-30', '05-29', '05-28', '05-27'], dtype='object')\n",
      "[42500 42550 41800 42550 42650]\n"
     ]
    }
   ],
   "source": [
    "#딕셔너리와 시리즈\n",
    "#딕셔너리를 시리즈 객체로 전환하여 \n",
    "#key값이 index, value값이 데이터로 표현 할 수 있다.\n",
    "\n",
    "data = {\n",
    "    '05-31':42500,\n",
    "    '05-30':42550,\n",
    "    '05-29':41800,\n",
    "    '05-28':42550,\n",
    "    '05-27':42650\n",
    "}\n",
    "\n",
    "s=pd.Series(data)\n",
    "print(s)\n",
    "\n",
    "#딕셔너리를 전환한 시리즈 데이터에서 index와 value를 추출해\n",
    "#이전 딕셔너리 형태에서의 key값과 value값의 슬라이싱이 가능\n",
    "print(s.index)\n",
    "print(s.values)"
   ]
  },
  {
   "cell_type": "code",
   "execution_count": null,
   "metadata": {},
   "outputs": [],
   "source": []
  }
 ],
 "metadata": {
  "interpreter": {
   "hash": "793a361c9cb33761c67c8442ce1c830393d9eace081562163e5d71d68ad47fd0"
  },
  "kernelspec": {
   "display_name": "Python 3.10.2 64-bit",
   "language": "python",
   "name": "python3"
  },
  "language_info": {
   "codemirror_mode": {
    "name": "ipython",
    "version": 3
   },
   "file_extension": ".py",
   "mimetype": "text/x-python",
   "name": "python",
   "nbconvert_exporter": "python",
   "pygments_lexer": "ipython3",
   "version": "3.10.2"
  },
  "orig_nbformat": 4
 },
 "nbformat": 4,
 "nbformat_minor": 2
}
