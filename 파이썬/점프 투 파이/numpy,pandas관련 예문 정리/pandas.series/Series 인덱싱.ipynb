{
 "cells": [
  {
   "cell_type": "code",
   "execution_count": 8,
   "metadata": {},
   "outputs": [
    {
     "name": "stdout",
     "output_type": "stream",
     "text": [
      "메로나     1000\n",
      "구구콘     2000\n",
      "하겐다즈    3000\n",
      "dtype: int64\n",
      "1000\n",
      "2000\n",
      "3000\n",
      "1000\n",
      "2000\n",
      "3000\n"
     ]
    }
   ],
   "source": [
    "import numpy as np\n",
    "import pandas as pd\n",
    "\n",
    "#시리즈의 인덱싱\n",
    "#행번호를 이용한 데이터 인덱싱: iloc[]\n",
    "#인덱스를 이용한 데이터 인덱싱: loc[]\n",
    "#ex)\n",
    "d = pd.Series(data=[1000,2000,3000],index=['메로나','구구콘','하겐다즈'])\n",
    "print(d)\n",
    "print(d.iloc[0])        \n",
    "print(d.iloc[1])\n",
    "print(d.iloc[2])\n",
    "\n",
    "print(d.loc['메로나'])\n",
    "print(d.loc['구구콘'])\n",
    "print(d.loc['하겐다즈'])"
   ]
  },
  {
   "cell_type": "code",
   "execution_count": null,
   "metadata": {},
   "outputs": [],
   "source": [
    "#시리즈도 리스트처럼 []만 가지고 인덱싱이 가능하지만 주의사항이 있다.\n",
    "# []인덱싱에서의 정수는 기본적으로 인덱스라고 생각하지만\n",
    "#만일 인덱스가 문자열이라면 행번호로 취급한다."
   ]
  }
 ],
 "metadata": {
  "interpreter": {
   "hash": "793a361c9cb33761c67c8442ce1c830393d9eace081562163e5d71d68ad47fd0"
  },
  "kernelspec": {
   "display_name": "Python 3.10.2 64-bit",
   "language": "python",
   "name": "python3"
  },
  "language_info": {
   "codemirror_mode": {
    "name": "ipython",
    "version": 3
   },
   "file_extension": ".py",
   "mimetype": "text/x-python",
   "name": "python",
   "nbconvert_exporter": "python",
   "pygments_lexer": "ipython3",
   "version": "3.10.2"
  },
  "orig_nbformat": 4
 },
 "nbformat": 4,
 "nbformat_minor": 2
}
