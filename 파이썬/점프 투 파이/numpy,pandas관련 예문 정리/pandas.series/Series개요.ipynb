{
 "cells": [
  {
   "cell_type": "code",
   "execution_count": 11,
   "metadata": {},
   "outputs": [
    {
     "name": "stdout",
     "output_type": "stream",
     "text": [
      "[1000 1500 2000 2500 3000]\n",
      "1    1000\n",
      "2    1500\n",
      "3    2000\n",
      "4    2500\n",
      "5    3000\n",
      "dtype: int32\n"
     ]
    }
   ],
   "source": [
    "import numpy as np\n",
    "import pandas as pd\n",
    "\n",
    "#Numpy와 Pandas의 차이 \n",
    "a = np.arange(1000,3500,500)\n",
    "b = pd.Series(np.arange(1000,3500,500),index=np.arange(1,6,1))\n",
    "\n",
    "print(a)\n",
    "print(b)\n",
    "#pandas의 Series는 일차원 데이터 관리 자료 구조로 인덱스(index)\n",
    "#를 달 수 있다. 그렇기에 단순히 데이터의 집합인 ndarray 객체와는 다르다."
   ]
  },
  {
   "cell_type": "code",
   "execution_count": null,
   "metadata": {},
   "outputs": [],
   "source": []
  }
 ],
 "metadata": {
  "interpreter": {
   "hash": "65c4fcde076dda63ccc6b64d0f319e611dd5685985abc4466de4eee25f4a3bfd"
  },
  "kernelspec": {
   "display_name": "Python 3.8.8 ('base')",
   "language": "python",
   "name": "python3"
  },
  "language_info": {
   "codemirror_mode": {
    "name": "ipython",
    "version": 3
   },
   "file_extension": ".py",
   "mimetype": "text/x-python",
   "name": "python",
   "nbconvert_exporter": "python",
   "pygments_lexer": "ipython3",
   "version": "3.8.8"
  },
  "orig_nbformat": 4
 },
 "nbformat": 4,
 "nbformat_minor": 2
}
