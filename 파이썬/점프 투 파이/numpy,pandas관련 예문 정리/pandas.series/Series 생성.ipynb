{
 "cells": [
  {
   "cell_type": "code",
   "execution_count": 3,
   "metadata": {},
   "outputs": [
    {
     "name": "stdout",
     "output_type": "stream",
     "text": [
      "0    10\n",
      "1    20\n",
      "2    30\n",
      "dtype: int64\n",
      "0    10\n",
      "1    20\n",
      "2    30\n",
      "dtype: int32\n"
     ]
    }
   ],
   "source": [
    "import numpy as np\n",
    "import pandas as pd\n",
    "\n",
    "#Series(시리즈)의 생성\n",
    "data = [10,20,30]\n",
    "s = pd.Series(data)\n",
    "print(s)\n",
    "#시리즈의 객체 생성 시 data 변수를 바인딩하면서 index 값을\n",
    "#정수로 표기하면서 출력한다.\n",
    "\n",
    "#Numpy를 활용한 시리즈 생성\n",
    "data = np.arange(10,40,10)\n",
    "s = pd.Series(data)\n",
    "print(s)\n",
    "#ndarray객체도 시리즈 객체로 전환 가능하다.\n"
   ]
  }
 ],
 "metadata": {
  "interpreter": {
   "hash": "793a361c9cb33761c67c8442ce1c830393d9eace081562163e5d71d68ad47fd0"
  },
  "kernelspec": {
   "display_name": "Python 3.10.2 64-bit",
   "language": "python",
   "name": "python3"
  },
  "language_info": {
   "codemirror_mode": {
    "name": "ipython",
    "version": 3
   },
   "file_extension": ".py",
   "mimetype": "text/x-python",
   "name": "python",
   "nbconvert_exporter": "python",
   "pygments_lexer": "ipython3",
   "version": "3.10.2"
  },
  "orig_nbformat": 4
 },
 "nbformat": 4,
 "nbformat_minor": 2
}
