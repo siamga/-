{
 "cells": [
  {
   "cell_type": "code",
   "execution_count": 3,
   "metadata": {},
   "outputs": [
    {
     "name": "stdout",
     "output_type": "stream",
     "text": [
      "[1 2 3 4]\n",
      "<class 'numpy.ndarray'>\n"
     ]
    }
   ],
   "source": [
    "#ndarry 객체\n",
    "#리스트,튜플, 딕셔너리 같이 numpy에서 정의된 데이터 타입\n",
    "#array()함수로 ndarry객체 전환\n",
    "import numpy as np\n",
    "\n",
    "data1 = [1,2,3,4]\n",
    "\n",
    "arr1 = np.array(data1)\n",
    "print(arr1)\n",
    "print(type(arr1))"
   ]
  },
  {
   "cell_type": "code",
   "execution_count": 6,
   "metadata": {},
   "outputs": [
    {
     "name": "stdout",
     "output_type": "stream",
     "text": [
      "[[1 2]\n",
      " [3 4]]\n",
      "<class 'numpy.ndarray'>\n",
      "<class 'numpy.ndarray'>\n"
     ]
    }
   ],
   "source": [
    "#2차원 리스트의 ndarry 변환\n",
    "data2 = [\n",
    "    [1,2],\n",
    "    [3,4]\n",
    "]\n",
    "arr2 = np.array(data2)\n",
    "print(arr2)\n",
    "# 컴마 없이 표현되어 행렬을 만들었다.\n",
    "\n",
    "print(type(arr2))\n",
    "print(type(arr2[0]))\n",
    "#2차원 리스트의 전환에 내부 리스트 또한 \n",
    "#ndarry 객체로 전환됨을 확인할 수 있다.\n"
   ]
  },
  {
   "cell_type": "code",
   "execution_count": 9,
   "metadata": {},
   "outputs": [
    {
     "name": "stdout",
     "output_type": "stream",
     "text": [
      "(2, 2)\n",
      "2\n",
      "int32\n"
     ]
    }
   ],
   "source": [
    "#ndarry의 정보 조회\n",
    "print(arr2.shape)\n",
    "print(arr2.ndim)\n",
    "print(arr2.dtype)\n",
    "\n",
    "#.shape: (행,열)의 모양 조회\n",
    "#.ndim: 데이터의 차원(가로,세로축이 있는 2차원 데이터)\n",
    "#.dtype: ndarry에 저장된 데이터가 32비트 표현 가능한 정수"
   ]
  },
  {
   "cell_type": "code",
   "execution_count": 12,
   "metadata": {},
   "outputs": [
    {
     "name": "stdout",
     "output_type": "stream",
     "text": [
      "[0. 0. 0.]\n",
      "[[0. 0. 0.]\n",
      " [0. 0. 0.]\n",
      " [0. 0. 0.]]\n",
      "[1. 1. 1.]\n",
      "[[1. 1. 1.]\n",
      " [1. 1. 1.]\n",
      " [1. 1. 1.]]\n"
     ]
    }
   ],
   "source": [
    "#zeros(),ones()함수\n",
    "print(np.zeros(3))\n",
    "print(np.zeros((3,3)))\n",
    "print(np.ones(3))\n",
    "print(np.ones([3,3]))\n",
    "\n",
    "#해당 함수에 스칼라 값을 넣어서 0이나 1배열을 만들거나\n",
    "#리스트, 튜플 값을 넣어서 행렬의 형식으로 표현 가능하다."
   ]
  },
  {
   "cell_type": "code",
   "execution_count": 14,
   "metadata": {},
   "outputs": [
    {
     "name": "stdout",
     "output_type": "stream",
     "text": [
      "[0 1 2 3 4]\n",
      "[1 2 3 4]\n",
      "[1 3]\n"
     ]
    }
   ],
   "source": [
    "#arange함수: 지정된 범위 내의 규칙적 숫자를 갖는 ndarry 객체 출력\n",
    "print(np.arange(5))\n",
    "print(np.arange(1,5))\n",
    "print(np.arange(1,5,2))\n",
    "\n",
    "#arrange(a,b,c)\n",
    "#a에서 시작해서 b-1까지 C씩 증가하는 ndarry 객체 변환\n",
    "#디폴트 값: a=0,c=1"
   ]
  },
  {
   "cell_type": "code",
   "execution_count": 4,
   "metadata": {},
   "outputs": [
    {
     "name": "stdout",
     "output_type": "stream",
     "text": [
      "[[0 1 2]\n",
      " [3 4 5]]\n"
     ]
    }
   ],
   "source": [
    "#.reshape(): 내부 데이터 변경 없이 배열 변경\n",
    "ndarr1 = np.arange(6)\n",
    "ndarr2 = ndarr1.reshape(2,3)\n",
    "print(ndarr2)\n",
    "\n",
    "#.reshape(행,열): 해당 행과 열을 가진 행렬로 데이터 배열 변경"
   ]
  }
 ],
 "metadata": {
  "interpreter": {
   "hash": "793a361c9cb33761c67c8442ce1c830393d9eace081562163e5d71d68ad47fd0"
  },
  "kernelspec": {
   "display_name": "Python 3.10.2 64-bit",
   "language": "python",
   "name": "python3"
  },
  "language_info": {
   "codemirror_mode": {
    "name": "ipython",
    "version": 3
   },
   "file_extension": ".py",
   "mimetype": "text/x-python",
   "name": "python",
   "nbconvert_exporter": "python",
   "pygments_lexer": "ipython3",
   "version": "3.10.2"
  },
  "orig_nbformat": 4
 },
 "nbformat": 4,
 "nbformat_minor": 2
}
