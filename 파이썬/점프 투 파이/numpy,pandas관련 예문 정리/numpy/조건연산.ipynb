{
 "cells": [
  {
   "cell_type": "code",
   "execution_count": 3,
   "metadata": {},
   "outputs": [
    {
     "name": "stdout",
     "output_type": "stream",
     "text": [
      "[False  True  True]\n",
      "[10 20]\n",
      "[20 30]\n",
      "[False  True  True]\n",
      "False\n",
      "True\n"
     ]
    }
   ],
   "source": [
    "import numpy as np\n",
    "#조건 연산의 예시 : 스칼라 비교 연산\n",
    "arr = np.arange(10,31,10)\n",
    "print(arr>10)\n",
    "#ndarray 데이터에 대한 비교 연산은 개별 스칼라 값에 대한 \n",
    "#조건 연산 결과값을 ndarray 형태로 반환한다.\n",
    "\n",
    "\n",
    "# ndarray의 bool형 list,ndarray를 활용한 데이터 슬라이싱\n",
    "jud = [True,True,False]\n",
    "print(arr[jud])\n",
    "#True 값에 해당하는 위치의 ndarrary 데이터의 값을 출력할 \n",
    "#수 있다.\n",
    "\n",
    "\n",
    "#비교 연산자를 활용하여 특정 조건의 원소 슬라이싱\n",
    "print(arr[arr>10])\n",
    "b = arr>10\n",
    "print(b.all())\n",
    "print(b.any())\n",
    "#조건식.all():조건식에 대해서 해당하는 모든 원소가 참인 경우 True 출력\n",
    "#조건식.any():조건식에 대해서 하나의 원소라도 참인 경우 True 출력\n"
   ]
  },
  {
   "cell_type": "code",
   "execution_count": 24,
   "metadata": {},
   "outputs": [
    {
     "name": "stdout",
     "output_type": "stream",
     "text": [
      "[20]\n",
      "[0 0 0 0 0 1 1 1 1 1]\n"
     ]
    }
   ],
   "source": [
    "#numpy의 논리연산자 예시\n",
    "# and,or,not = (in numpy:)&,|,~\n",
    "arr = np.arange(10,110,10)\n",
    "jd1 = arr > 10\n",
    "jd2 = arr < 30\n",
    "print(arr[jd1&jd2])\n",
    "\n",
    "#조건에 따른 ndarray의 원소 변경 및 출력 예시\n",
    "arr = np.arange(10,110,10)\n",
    "jd1 = arr > 50\n",
    "arr[jd1] = 1\n",
    "arr[~jd1] = 0\n",
    "print(arr)\n",
    "#ndarray 변수 명에 대한 조건식은 개별 원소에 대한 판단으로 출력된다. \n",
    "#따라서 조건식으로 표현한 인덱싱\n",
    "#즉, 위의 경우 arr[jd1]=1은 arr[arr>50]=1으로 표현되며 \n",
    "#이것의 의미는 'arr의 원소에 대해서 50보다 큰 것에 대해서 1을 지정하라'이다."
   ]
  },
  {
   "cell_type": "code",
   "execution_count": 30,
   "metadata": {},
   "outputs": [
    {
     "name": "stdout",
     "output_type": "stream",
     "text": [
      "[['40미만' '40미만' '40미만' '40이상' '40이상']\n",
      " ['40이상' '40이상' '40이상' '40이상' '40이상']]\n",
      "[0.2116  0.15824 1.34048 0.65872 2.1653  1.593   2.6196 ]\n"
     ]
    }
   ],
   "source": [
    "#numpy 내장함수 where 예시\n",
    "#where(조건문,참의 경우 출력 값,거짓의 경우 출력 값)\n",
    "arr = np.arange(10,110,10)\n",
    "arr1 = np.where(arr>=40,'40이상','40미만')\n",
    "print(np.array(arr1).reshape(2,5))\n",
    "\n",
    "#where 활용 조건부 연산\n",
    "week_sp = np.array([11500,8600,56800,35800,91750,67500,111000])\n",
    "week_index = np.where(week_sp>=50000,week_sp*1.18/50000,week_sp*0.92/50000)\n",
    "print(week_index)\n",
    "#주식의 종가 기준 주간 가격에서 특정 가격 수준의 도달 여부에 \n",
    "#따른 별도의 가중치를 부여하여 지수 산정이 가능하다."
   ]
  },
  {
   "cell_type": "code",
   "execution_count": 35,
   "metadata": {},
   "outputs": [
    {
     "name": "stdout",
     "output_type": "stream",
     "text": [
      "[0 1 0 1 1]\n",
      "3\n",
      "3\n"
     ]
    }
   ],
   "source": [
    "#예제: 다음 주가 데이터에서 주가가 85000 이하로 떨어진 날은 며칠인가?\n",
    "lge = np.array([93000, 82400, 99100, 81000, 72300])\n",
    "lgs = np.where(lge <= 85000,1,0)\n",
    "print(lgs)\n",
    "print(sum(lgs))\n",
    "\n",
    "result = lge[lge<=85000]\n",
    "print(len(result))"
   ]
  }
 ],
 "metadata": {
  "interpreter": {
   "hash": "793a361c9cb33761c67c8442ce1c830393d9eace081562163e5d71d68ad47fd0"
  },
  "kernelspec": {
   "display_name": "Python 3.10.2 64-bit",
   "language": "python",
   "name": "python3"
  },
  "language_info": {
   "codemirror_mode": {
    "name": "ipython",
    "version": 3
   },
   "file_extension": ".py",
   "mimetype": "text/x-python",
   "name": "python",
   "nbconvert_exporter": "python",
   "pygments_lexer": "ipython3",
   "version": "3.10.2"
  },
  "orig_nbformat": 4
 },
 "nbformat": 4,
 "nbformat_minor": 2
}
