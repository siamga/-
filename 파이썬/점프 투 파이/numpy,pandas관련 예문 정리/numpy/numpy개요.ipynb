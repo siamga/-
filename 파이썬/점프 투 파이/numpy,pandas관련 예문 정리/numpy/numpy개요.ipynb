{
 "cells": [
  {
   "cell_type": "code",
   "execution_count": 3,
   "metadata": {},
   "outputs": [
    {
     "name": "stdout",
     "output_type": "stream",
     "text": [
      "[1 2 3]\n",
      "<class 'numpy.ndarray'>\n"
     ]
    }
   ],
   "source": [
    "#numpy: 연산을 위한 파이썬 패키지, ndarrary 객체 사용.\n",
    "#다차원 배열 및 행렬 지원\n",
    "\n",
    "import numpy as np\n",
    "data = [1,2,3]\n",
    "arr = np.array(data)\n",
    "print(arr)\n",
    "print(type(arr))\n",
    "# ndarry 객체 사용-> 리스트와 비슷\n",
    "# 특징: array 함수로 ndarry 객체 반환, 모습은 비슷하지만\n",
    "#종류는 별도로 지정되어 있다."
   ]
  },
  {
   "cell_type": "code",
   "execution_count": 14,
   "metadata": {},
   "outputs": [
    {
     "name": "stdout",
     "output_type": "stream",
     "text": [
      "[10, 20, 30]\n",
      "[10 20 30]\n",
      "[1, 2, 3]\n",
      "[1 4 7]\n"
     ]
    }
   ],
   "source": [
    "#파이썬 리스트 활용 연산\n",
    "data = [1,2,3]\n",
    "\n",
    "result = []\n",
    "for i in data:\n",
    "    result.append(i*10)\n",
    "print(result)\n",
    "\n",
    "#numpy를 활용한 동일 연산\n",
    "import numpy as np\n",
    "arr = np.array([1,2,3])\n",
    "result = 10*arr\n",
    "print(result)\n",
    "##여기서 arr, result는 리스트가 아닌 객체이기에 10*가 10번 \n",
    "##반복이 아니라 개별 원소에 10을 곱해준 형태가 된다.\n",
    "\n",
    "#인덱싱을 활용한 1행 출력\n",
    "data2d=[\n",
    "    [1,2,3],\n",
    "    [4,5,6],\n",
    "    [7,8,9]\n",
    "]\n",
    "\n",
    "print(data2d[0])\n",
    "#이 경우 행의 출력은 간단하지만 열의 출력은 어렵다.\n",
    "\n",
    "\n",
    "#numpy를 활용한 1열 출력\n",
    "data2d=[\n",
    "    [1,2,3],\n",
    "    [4,5,6],\n",
    "    [7,8,9]\n",
    "]\n",
    "\n",
    "arr = np.array(data2d)\n",
    "print(arr[ : ,0])\n",
    "#이 경우 arr[행:열] 혹은 arr[행][열]로 특정 원소에 접근\n",
    "#가능하고\n",
    "#arr[:,0]->전체 행에 대해서 0번째 열(1열)을 출력=0번째 열(1열) 출력\n",
    "#arr[0, :]->처음 행에 대해서 모든 열을 출력=0번째 행(1행) 출력\n",
    "\n",
    "'''\n",
    "numpy를 활용해서 array를 만들면 리스트보다 쉽게\n",
    "특정 위치의 원소나 행, 열의 선택이 쉽고 개별 원소의 \n",
    "연산이 간단하다.\n",
    "'''"
   ]
  }
 ],
 "metadata": {
  "interpreter": {
   "hash": "793a361c9cb33761c67c8442ce1c830393d9eace081562163e5d71d68ad47fd0"
  },
  "kernelspec": {
   "display_name": "Python 3.10.2 64-bit",
   "language": "python",
   "name": "python3"
  },
  "language_info": {
   "codemirror_mode": {
    "name": "ipython",
    "version": 3
   },
   "file_extension": ".py",
   "mimetype": "text/x-python",
   "name": "python",
   "nbconvert_exporter": "python",
   "pygments_lexer": "ipython3",
   "version": "3.10.2"
  },
  "orig_nbformat": 4
 },
 "nbformat": 4,
 "nbformat_minor": 2
}
