{
 "cells": [
  {
   "cell_type": "code",
   "execution_count": 18,
   "metadata": {},
   "outputs": [
    {
     "name": "stdout",
     "output_type": "stream",
     "text": [
      "[[ 1  2  3  4  5]\n",
      " [ 6  7  8  9 10]]\n",
      "[ 7  9 11 13 15]\n",
      "[[15]\n",
      " [40]]\n"
     ]
    }
   ],
   "source": [
    "import numpy as np\n",
    "#numpy 내장 함수\n",
    "#.sum(): 해당 ndarray 내의 원소의 총 합\n",
    "arr = np.arange(1,11).reshape(2,5)\n",
    "print(arr)\n",
    "arr.sum()\n",
    "#.sum()에 축(axis=n) 정보를 지정해 계산이 가능하다.\n",
    "#axis=0:개별 열들의 데이터의 합\n",
    "#axis=1:개별 행들의 데이터의 합\n",
    "print(arr.sum(axis=0))\n",
    "print(arr.sum(axis=1).reshape(2,1))\n",
    "\n",
    "#sum()(총합)뿐 아니라, min,max,mean,std(표준편차),\n",
    "#var(분산)도 활용이 가능하다"
   ]
  },
  {
   "cell_type": "code",
   "execution_count": 38,
   "metadata": {},
   "outputs": [
    {
     "name": "stdout",
     "output_type": "stream",
     "text": [
      "1\n",
      "[[10 22]\n",
      " [32 16]]\n"
     ]
    }
   ],
   "source": [
    "#numpy를 활용한 임의의 숫자 생성\n",
    "#np.random.randint(n,size=(p,q)): \n",
    "# 0에서 n까지의 정수에 대해서 pxq의 ndarray 행렬을 반환한다.\n",
    "#이때, size를 생략하면 ndarray가 아닌 정수 1개가 반환된다.\n",
    "print(np.random.randint(3))\n",
    "print(np.random.randint(45,size=(2,2)))"
   ]
  },
  {
   "cell_type": "code",
   "execution_count": 44,
   "metadata": {},
   "outputs": [
    {
     "name": "stdout",
     "output_type": "stream",
     "text": [
      "[  0.  10.  20.  30.  40.  50.  60.  70.  80.  90. 100.]\n",
      "[    0.   100.   400.   900.  1600.  2500.  3600.  4900.  6400.  8100.\n",
      " 10000.]\n"
     ]
    }
   ],
   "source": [
    "#linspace함수\n",
    "#np.linspace(n,p,q):\n",
    "# n에서 p까지 q개로 분할해서 ndarray 형태로 반환한다.\n",
    "x = np.linspace(0,100,11)\n",
    "print(x)\n",
    "#이때, q개의 지점에 시작값(n), 종료값(p)가 포함된다.\n",
    "\n",
    "#만일 반환된 값에 대한 함수를 만들고 싶다면 다음과 같이 \n",
    "#만들 수 있다.\n",
    "y = x**2\n",
    "print(y)"
   ]
  },
  {
   "cell_type": "code",
   "execution_count": 53,
   "metadata": {},
   "outputs": [
    {
     "name": "stdout",
     "output_type": "stream",
     "text": [
      "[[0 1 2 3]\n",
      " [4 5 6 7]]\n",
      "[0 1 2 3 4 5 6 7]\n"
     ]
    }
   ],
   "source": [
    "#stack함수 ->이때 묶는 대상은 list나 튜플처럼 묶여있어야 한다.\n",
    "a = np.arange(4)\n",
    "b = np.arange(4,8)\n",
    "\n",
    "#np.vstack([a,b]):(v의미=verticalilty:수직)\n",
    "#ndarray데이터 a,b를 수직으로 바인딩한다.\n",
    "c = np.vstack((a,b))\n",
    "print(c)\n",
    "\n",
    "#np.hstack([a,b]):(h의미=horizontality(수평))\n",
    "#ndarray데이터 a,b를 수평으로 바인딩한다.\n",
    "d=np.hstack([a,b])\n",
    "print(d)"
   ]
  }
 ],
 "metadata": {
  "interpreter": {
   "hash": "793a361c9cb33761c67c8442ce1c830393d9eace081562163e5d71d68ad47fd0"
  },
  "kernelspec": {
   "display_name": "Python 3.10.2 64-bit",
   "language": "python",
   "name": "python3"
  },
  "language_info": {
   "codemirror_mode": {
    "name": "ipython",
    "version": 3
   },
   "file_extension": ".py",
   "mimetype": "text/x-python",
   "name": "python",
   "nbconvert_exporter": "python",
   "pygments_lexer": "ipython3",
   "version": "3.10.2"
  },
  "orig_nbformat": 4
 },
 "nbformat": 4,
 "nbformat_minor": 2
}
