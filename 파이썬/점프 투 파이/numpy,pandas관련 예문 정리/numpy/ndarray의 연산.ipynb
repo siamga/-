{
 "cells": [
  {
   "cell_type": "code",
   "execution_count": 9,
   "metadata": {},
   "outputs": [
    {
     "name": "stdout",
     "output_type": "stream",
     "text": [
      "[1 2 3]\n",
      "[2 3 4] \n",
      "\n",
      "[3 5 7]\n",
      "[ 2  6 12]\n",
      "[1 2 3]\n",
      "\n",
      " [4 5 6]\n"
     ]
    }
   ],
   "source": [
    "import numpy as np\n",
    "#ndarray 연산 : 1차원 ndarrary 객체의 연산\n",
    "a = np.arange(1,4)\n",
    "b = np.arange(2,5)\n",
    "print(a)\n",
    "print(b,'\\n')\n",
    "\n",
    "print(a+b)\n",
    "print(a*b)\n",
    "print(a%b)\n",
    "\n",
    "#기본적으로 1차원 ndarray 객체는 같은 위치의 원소끼리의 \n",
    "#연산이다. \n",
    "#★리스트의 연산은 기본적으로 문자열의 연산과 같다고 생각하면 된다.\n",
    "\n",
    "print('\\n',a+3)"
   ]
  },
  {
   "cell_type": "code",
   "execution_count": 19,
   "metadata": {},
   "outputs": [
    {
     "name": "stdout",
     "output_type": "stream",
     "text": [
      "[2700 1300  400 2200 1400]\n",
      "[458100 459400 459700 467100 458700]\n",
      "[[92700 92400 92100 94300 92300]\n",
      " [90000 91100 91700 92100 90900]]\n",
      "[458100 459400 459700 467100 458700]\n"
     ]
    }
   ],
   "source": [
    "#list의 ndarray 변환의 유용성: 주식 일간 고가,저가 비교\n",
    "high = [92700,92400,92100,94300,92300]\n",
    "low = [90000,91100,91700,92100,90900]\n",
    "\n",
    "arr_high = np.array(high)\n",
    "arr_low = np.array(low)\n",
    "\n",
    "arr_diff = arr_high - arr_low\n",
    "print(arr_diff)\n",
    "\n",
    "#list와는 다르게 원소간 연산이 필요한 경우 쉽게 할 수 있다.\n",
    "#ex)주가 지수 출력: 구성-> 고가 3배, 저가 2배 후 합 구성\n",
    "hp = arr_high * 3\n",
    "lp = arr_low * 2\n",
    "st_index = hp + lp\n",
    "print(st_index)\n",
    "\n",
    "#만일 고가, 저가가 2차원 리스트 형태로 같이 주어진다면?\n",
    "data = [[92700,92400,92100,94300,92300], \n",
    "        [90000,91100,91700,92100,90900]\n",
    "]\n",
    "\n",
    "ar_data = np.array(data)\n",
    "print(ar_data)\n",
    "print(ar_data[0]*3+ar_data[1]*2)\n"
   ]
  }
 ],
 "metadata": {
  "interpreter": {
   "hash": "793a361c9cb33761c67c8442ce1c830393d9eace081562163e5d71d68ad47fd0"
  },
  "kernelspec": {
   "display_name": "Python 3.10.2 64-bit",
   "language": "python",
   "name": "python3"
  },
  "language_info": {
   "codemirror_mode": {
    "name": "ipython",
    "version": 3
   },
   "file_extension": ".py",
   "mimetype": "text/x-python",
   "name": "python",
   "nbconvert_exporter": "python",
   "pygments_lexer": "ipython3",
   "version": "3.10.2"
  },
  "orig_nbformat": 4
 },
 "nbformat": 4,
 "nbformat_minor": 2
}
