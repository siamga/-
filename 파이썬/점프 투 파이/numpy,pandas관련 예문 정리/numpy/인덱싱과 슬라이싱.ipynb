{
 "cells": [
  {
   "cell_type": "code",
   "execution_count": 17,
   "metadata": {},
   "outputs": [
    {
     "name": "stdout",
     "output_type": "stream",
     "text": [
      "[0 1 2 3]\n",
      "0\n",
      "[[0 1]\n",
      " [2 3]]\n",
      "0\n",
      "답은 \n",
      " [[0 1]\n",
      " [2 3]]\n"
     ]
    }
   ],
   "source": [
    "import numpy as np\n",
    "#numpy의 인덱싱과 슬라이싱\n",
    "#1차원 ndarrary의 인덱싱: arr[n] -> n번째 데이터 선택\n",
    "#2차원 ndarrary의 인덱싱: arr[n][p] -> n행 p열의 데이터 선택\n",
    "arr = np.arange(4)\n",
    "print(arr)\n",
    "print(arr[0])\n",
    "\n",
    "arr = np.arange(4).reshape(2,2)\n",
    "print(arr)\n",
    "print(arr[0][0])\n",
    "\n",
    "\n",
    "#ex) arange로 0~3범위 데이터로 만들어진 ndarray를 만들고\n",
    "#reshape하여 2x2로 변환하라\n",
    "a = np.arange(4).reshape(2,2)\n",
    "print('답은 \\n',arr)"
   ]
  },
  {
   "cell_type": "code",
   "execution_count": 25,
   "metadata": {},
   "outputs": [
    {
     "name": "stdout",
     "output_type": "stream",
     "text": [
      "154 ns ± 5.67 ns per loop (mean ± std. dev. of 7 runs, 10,000,000 loops each)\n",
      "309 ns ± 16.9 ns per loop (mean ± std. dev. of 7 runs, 1,000,000 loops each)\n"
     ]
    }
   ],
   "source": [
    "#timeit 명령: 주피터 노트북의 명령어\n",
    "#해당 명령어 뒤의 코드를 1000만번 반복 후 걸린 시간의 평균 반환\n",
    "a = np.arange(10000).reshape(100,100)\n",
    "%timeit a[0,50]\n",
    "%timeit a[0][50]\n",
    "\n",
    "#이 경우 a의 0번째 행의 51번째 열의 데이터를 10000만번 \n",
    "#반복 출력 이후 그것의 평균 시간을 출력한다. \n",
    "#2차원의 ndarray의 경우 해당 위치를 각각 인덱싱하는 것 보다\n",
    "# 한번에 인덱싱(리스트 형태로)이 처리 속도가 더 빠르다."
   ]
  },
  {
   "cell_type": "code",
   "execution_count": 33,
   "metadata": {},
   "outputs": [
    {
     "name": "stdout",
     "output_type": "stream",
     "text": [
      "[0 1 2 3]\n",
      "[0 1]\n",
      "[[ 0  1  2  3  4]\n",
      " [ 5  6  7  8  9]\n",
      " [10 11 12 13 14]\n",
      " [15 16 17 18 19]]\n",
      "[[0 1 2]\n",
      " [5 6 7]]\n",
      "[[0 1 2 3 4]\n",
      " [5 6 7 8 9]]\n",
      "[[0, 1], [5, 6], [10, 11], [15, 16]]\n"
     ]
    }
   ],
   "source": [
    "#복수의 데이터를 가져오는 슬라이싱\n",
    "#1차원 ndarray 데이터의 슬라이싱: arr[n:p] -> n번째부터 p-1번째 데이터 출력\n",
    "#2차원 ndarrary 데이터의 슬라이싱: arr[a1:a2,b1:b2]->a1번째~a2-1번째 행,b1번째~b2-1번째 열의 데이터 출력\n",
    "#2차원 ndarrary 데이터의 행 출력: arr[n:p]\n",
    "#2차원 ndarrary 데이터의 열 출력: arr[:][n:p] , arr[:,n:p]\n",
    "\n",
    "arr = np.arange(4)\n",
    "print(arr)\n",
    "print(arr[:2])\n",
    "\n",
    "arr=np.arange(20).reshape(4,5)\n",
    "print(arr)\n",
    "print(arr[:2,:3])\n",
    "\n",
    "#ex)리스트와의 차이점:\n",
    "#4X5의 행렬에서 2개의 행 출력\n",
    "# ndarray의 경우\n",
    "arr = np.arange(20).reshape(4,5)\n",
    "print(arr[:2])\n",
    "\n",
    "#list의 경우\n",
    "result = []\n",
    "for row in arr : \n",
    "    row01 = [row[0],row[1]]\n",
    "    result.append(row01)\n",
    "print(result)\n",
    "\n",
    "#행열 정보의 인덱싱 및 슬라이싱의 경우 \n",
    "#list형태 보다는 np.arange를 통한 ndarrary형태가 유용하다.\n"
   ]
  }
 ],
 "metadata": {
  "interpreter": {
   "hash": "793a361c9cb33761c67c8442ce1c830393d9eace081562163e5d71d68ad47fd0"
  },
  "kernelspec": {
   "display_name": "Python 3.10.2 64-bit",
   "language": "python",
   "name": "python3"
  },
  "language_info": {
   "codemirror_mode": {
    "name": "ipython",
    "version": 3
   },
   "file_extension": ".py",
   "mimetype": "text/x-python",
   "name": "python",
   "nbconvert_exporter": "python",
   "pygments_lexer": "ipython3",
   "version": "3.10.2"
  },
  "orig_nbformat": 4
 },
 "nbformat": 4,
 "nbformat_minor": 2
}
