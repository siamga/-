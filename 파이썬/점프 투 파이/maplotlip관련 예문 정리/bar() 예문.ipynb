{
 "cells": [
  {
   "cell_type": "code",
   "execution_count": 1,
   "metadata": {},
   "outputs": [
    {
     "data": {
      "image/png": "[encoded data removed]",
      "text/plain": [
       "<Figure size 144x144 with 1 Axes>"
      ]
     },
     "metadata": {
      "needs_background": "light"
     },
     "output_type": "display_data"
    }
   ],
   "source": [
    "import matplotlib.pyplot as plt \n",
    "#라이브러리 matplotlib.pyplot을 불러와 plt라고 축약\n",
    "import numpy as np\n",
    "#numpy 라이브러리를 가져와 np라고 축약한다.\n",
    "plt.style.use('_mpl-gallery')\n",
    "#matplip의 디폴트 스타일은 '_mpl-gallery'\n",
    "\n",
    "# make data:데이터 설정\n",
    "np.random.seed(3)\n",
    "#seed-> 난수 생성은 프로그램의 일정 알고리즘에 의해서 설정되는데 이때, 시드 값이 결정될 경우 해당 시드값으로 설정된 \n",
    "#난수 생성은 모두 같은 난수를 같게 되는 것을 의미한다. \n",
    "#즉, 이 코드는 np.random.seed(3)으로 이후 나오게 되는 난수 생성의 시드값을 3으로 고정시킨다는 의미이다.\n",
    "#이때, seed값의 설정의 경우 난수 발생시마다 설정을 해야하기에 이 경우 np.random.uniform(2,7,len(x))의 시드만 3으로 설정되는 것이다.\n",
    "\n",
    "x = 0.5 + np.arange(8)\n",
    "# x값은 0부터 8-1=7까지의 원소의 배열에 o.5를 더한 값이다.\n",
    "\n",
    "y = np.random.uniform(2, 7, len(x))\n",
    "# y값은 2~7까지의 실수에 대해서 len(x)=8개를 균등확률분포로 \n",
    "#랜덤하게 선택한 값이다. 이때, 위에서 seed 값은 3으로 고정되었다.\n",
    "\n",
    "# plot\n",
    "fig, ax = plt.subplots()\n",
    "#plt.subplots(nrow,ncol)\n",
    "#fig(=figure) = 그래프가 표현되는 전체 공간을 의미\n",
    "#ax(axes) = 해당 공간에서 그래프가 개별적으로 표현되도록 \n",
    "#나눠진 공간의 수\n",
    "#subplots(nrow,ncol)-> 우리가 배운 \n",
    "#subplot은 개별 그래프의 표현 공간을 개별적으로 \n",
    "#하나하나 인자로 받아서 공간을 나누고 다음과 같이 그래프를 표현한다.\n",
    "'''\n",
    "plt.subplot(2,2,1)  <- 행2, 열2로 나눈 공간의 1번 공간 의미\n",
    "plt.plot(1,1,1,1)\n",
    "\n",
    "plt.subplot(2,2,2)\n",
    "plt.plot(1,1,1,1)\n",
    "...\n",
    "'''\n",
    "#즉 개별 subplot으로 정의된 위치에 대해서 그래프를 정의한다.\n",
    "\n",
    "#subplots는 행렬을 인자로 받아 한번에 공간을 나누고 다음과 같이 그래프를 \n",
    "#표현한다.\n",
    "'''\n",
    "plt.subplots(2,2)   <-2x2 행렬모양의 공간으로 나눔\n",
    "axes[0][0].plot([1,1,1,1])  <-행1,열1인 공간에 그래프 작성\n",
    "'''\n",
    "#여기서 axes[행위치][열위치]는 subplots에 의해 나뉜 공간의 좌표이고 이것으로 \n",
    "#이후 .plot()으로 정의된 그래프를 해당 위치에 표시한다.\n",
    "\n",
    "#그렇다면\n",
    "'''fig, ax = plt.subplots()'''\n",
    "#이것의 의미는 \n",
    "#fig: 그래프가 그려질 공간\n",
    "#ax: 나눠진 공간\n",
    "#ax=subplots(nrow,ncol): nrow x ncol 행렬의 꼴로 공간을 나눠서\n",
    "#그래프를 그린다. 이때, nrow, ncol의 디폴트 값은 1이기에 공간은\n",
    "#나누지 않고 그래프를 그린다는 의미이다.\n",
    "\n",
    "\n",
    "ax.bar(x, y, width=1, edgecolor=\"white\", linewidth=0.7)\n",
    "#ax.bar(x,y,option)\n",
    "## 앞에서 정의된 ax 공간에 그려지는 그래프에 대해서\n",
    "## 위에서 정의된 x,y 값으로 그래프를 그리고 \n",
    "## 이때, width는 개별 막대의 폭\n",
    "## edgecolor는 막대의 테두리 색\n",
    "## linewidth는 선 굵기를 의미한다.\n",
    "\n",
    "\n",
    "ax.set(xlim=(0, 8), xticks=np.arange(1, 8),\n",
    "       ylim=(0, 8), yticks=np.arange(1, 8))\n",
    "#ax.set-> ax 공간에 그려지는 그래프에 대한 x,y집합에 대해\n",
    "## xlim(min,max):x의 범위는 min~max\n",
    "## ylim(min,max):y의 범위는 min~max\n",
    "## xticks: x축의 레이블값\n",
    "## yticks: y축의 레이블값\n",
    "## np.arange(a,b): a부터 b-1까지의 원소를 갖는 배열\n",
    "## 위의 경우 1~7까지 7개의 원소를 갖는 배열을 의미한다.\n",
    "\n",
    "\n",
    "plt.show()"
   ]
  },
  {
   "cell_type": "code",
   "execution_count": 9,
   "metadata": {},
   "outputs": [
    {
     "data": {
      "text/plain": [
       "[<matplotlib.lines.Line2D at 0x206434bd150>]"
      ]
     },
     "execution_count": 9,
     "metadata": {},
     "output_type": "execute_result"
    },
    {
     "data": {
      "image/png": "[encoded data removed]",
      "text/plain": [
       "<Figure size 144x144 with 4 Axes>"
      ]
     },
     "metadata": {
      "needs_background": "light"
     },
     "output_type": "display_data"
    },
    {
     "data": {
      "image/png": "[encoded data removed]",
      "text/plain": [
       "<Figure size 144x144 with 4 Axes>"
      ]
     },
     "metadata": {
      "needs_background": "light"
     },
     "output_type": "display_data"
    }
   ],
   "source": [
    "plt.subplot(2,2,1)\n",
    "plt.plot([1,2,3,4],[4,5,5,6])\n",
    "\n",
    "plt.subplot(2,2,2)\n",
    "plt.plot([2,6,4,7],[1,6,8,2])\n",
    "\n",
    "plt.subplot(2,2,3)\n",
    "plt.plot([3,7,6,8],[5,9,8,2])\n",
    "\n",
    "plt.subplot(2,2,4)\n",
    "plt.plot([3,5,6,3],[8,9,5,1])\n",
    "\n",
    "fig, axes = plt.subplots(2,2)\n",
    "axes[0][0].plot([1,2,3,4],[4,5,5,6])\n",
    "axes[0][1].plot([2,6,4,7],[1,6,8,2])\n",
    "axes[1][0].plot([3,7,6,8],[5,9,8,2])\n",
    "axes[1][1].plot([3,5,6,3],[8,9,5,1])\n",
    "\n"
   ]
  }
 ],
 "metadata": {
  "interpreter": {
   "hash": "793a361c9cb33761c67c8442ce1c830393d9eace081562163e5d71d68ad47fd0"
  },
  "kernelspec": {
   "display_name": "Python 3.10.2 64-bit",
   "language": "python",
   "name": "python3"
  },
  "language_info": {
   "codemirror_mode": {
    "name": "ipython",
    "version": 3
   },
   "file_extension": ".py",
   "mimetype": "text/x-python",
   "name": "python",
   "nbconvert_exporter": "python",
   "pygments_lexer": "ipython3",
   "version": "3.10.2"
  },
  "orig_nbformat": 4
 },
 "nbformat": 4,
 "nbformat_minor": 2
}
