{
 "cells": [
  {
   "cell_type": "code",
   "execution_count": 1,
   "metadata": {},
   "outputs": [
    {
     "data": {
      "image/png": "[encoded data removed]",
      "text/plain": [
       "<Figure size 144x144 with 1 Axes>"
      ]
     },
     "metadata": {
      "needs_background": "light"
     },
     "output_type": "display_data"
    }
   ],
   "source": [
    "import matplotlib.pyplot as plt\n",
    "import numpy as np\n",
    "# matplotlib을 불러 plt으로 규정\n",
    "# numpy를 불러 np로 규정\n",
    "\n",
    "plt.style.use('_mpl-gallery')\n",
    "#디폴트 스타일은 위의 것이다.\n",
    "\n",
    "# make the data\n",
    "np.random.seed(3)\n",
    "x = 4 + np.random.normal(0, 2, 24)\n",
    "y = 4 + np.random.normal(0, 2, len(x))\n",
    "#\n",
    "# x값은 시드값이 3으로 지정된 상태에서 \n",
    "#평균0, 분산이 2인 정규분포에서 24개의 임의값을 추출\n",
    "#후에 4를 더한 값\n",
    "#\n",
    "#y값은 평균0, 분산2인 정규분포에서 x의 길이만큼 추출 후\n",
    "#4를 더한 값\n",
    "\n",
    "# size and color:\n",
    "sizes = np.random.uniform(15, 80, len(x))\n",
    "colors = np.random.uniform(15, 80, len(x))\n",
    "#점들의 크기는 15~80까지의 실수에 대해서 균등분포인 상태에서\n",
    "# x의 길이에 해당하는 만큼 뽑아서 설정\n",
    "#점들의 색상도 동일한 방식으로 설정\n",
    "\n",
    "\n",
    "\n",
    "# plot\n",
    "fig, ax = plt.subplots()\n",
    "#bar()예문 설명 참조\n",
    "\n",
    "ax.scatter(x, y, s=sizes, c=colors, vmin=0, vmax=100)\n",
    "#ax로 정의된 공간에 있는 산포도는 \n",
    "#위에서 정의된 x,y,size,color를 갖고 \n",
    "#vmin,vmax로 정의된 최소 밝기값과 최대 밝기값을 갖는다.\n",
    "\n",
    "ax.set(xlim=(0, 8), xticks=np.arange(1, 8),\n",
    "       ylim=(0, 8), yticks=np.arange(1, 8))\n",
    "\n",
    "plt.show()"
   ]
  }
 ],
 "metadata": {
  "interpreter": {
   "hash": "793a361c9cb33761c67c8442ce1c830393d9eace081562163e5d71d68ad47fd0"
  },
  "kernelspec": {
   "display_name": "Python 3.10.2 64-bit",
   "language": "python",
   "name": "python3"
  },
  "language_info": {
   "codemirror_mode": {
    "name": "ipython",
    "version": 3
   },
   "file_extension": ".py",
   "mimetype": "text/x-python",
   "name": "python",
   "nbconvert_exporter": "python",
   "pygments_lexer": "ipython3",
   "version": "3.10.2"
  },
  "orig_nbformat": 4
 },
 "nbformat": 4,
 "nbformat_minor": 2
}
