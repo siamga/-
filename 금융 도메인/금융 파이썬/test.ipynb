{
 "cells": [
  {
   "cell_type": "code",
   "execution_count": 20,
   "metadata": {},
   "outputs": [
    {
     "data": {
      "image/png": "[encoded data removed]",
      "text/plain": [
       "<Figure size 432x288 with 1 Axes>"
      ]
     },
     "metadata": {
      "needs_background": "light"
     },
     "output_type": "display_data"
    },
    {
     "data": {
      "text/html": [
       "<div>\n",
       "<style scoped>\n",
       "    .dataframe tbody tr th:only-of-type {\n",
       "        vertical-align: middle;\n",
       "    }\n",
       "\n",
       "    .dataframe tbody tr th {\n",
       "        vertical-align: top;\n",
       "    }\n",
       "\n",
       "    .dataframe thead th {\n",
       "        text-align: right;\n",
       "    }\n",
       "</style>\n",
       "<table border=\"1\" class=\"dataframe\">\n",
       "  <thead>\n",
       "    <tr style=\"text-align: right;\">\n",
       "      <th></th>\n",
       "      <th>통계표</th>\n",
       "      <th>단위</th>\n",
       "      <th>Jan-10</th>\n",
       "      <th>Feb-10</th>\n",
       "      <th>Mar-10</th>\n",
       "      <th>Apr-10</th>\n",
       "      <th>May-10</th>\n",
       "      <th>Jun-10</th>\n",
       "      <th>Jul-10</th>\n",
       "      <th>Aug-10</th>\n",
       "      <th>...</th>\n",
       "      <th>May-21</th>\n",
       "      <th>Jun-21</th>\n",
       "      <th>Jul-21</th>\n",
       "      <th>Aug-21</th>\n",
       "      <th>Sep-21</th>\n",
       "      <th>Oct-21</th>\n",
       "      <th>Nov-21</th>\n",
       "      <th>Dec-21</th>\n",
       "      <th>Jan-22</th>\n",
       "      <th>Feb-22</th>\n",
       "    </tr>\n",
       "  </thead>\n",
       "  <tbody>\n",
       "    <tr>\n",
       "      <th>0</th>\n",
       "      <td>16.1.4 경기종합지수</td>\n",
       "      <td>2015=100</td>\n",
       "      <td>102.7</td>\n",
       "      <td>102.5</td>\n",
       "      <td>102.3</td>\n",
       "      <td>102.1</td>\n",
       "      <td>102.1</td>\n",
       "      <td>102.1</td>\n",
       "      <td>102</td>\n",
       "      <td>101.8</td>\n",
       "      <td>...</td>\n",
       "      <td>101.6</td>\n",
       "      <td>101.8</td>\n",
       "      <td>101.6</td>\n",
       "      <td>101.4</td>\n",
       "      <td>101.1</td>\n",
       "      <td>100.7</td>\n",
       "      <td>100.4</td>\n",
       "      <td>100.2</td>\n",
       "      <td>100.1</td>\n",
       "      <td>99.8</td>\n",
       "    </tr>\n",
       "  </tbody>\n",
       "</table>\n",
       "<p>1 rows × 148 columns</p>\n",
       "</div>"
      ],
      "text/plain": [
       "             통계표        단위  Jan-10  Feb-10  Mar-10  Apr-10  May-10  Jun-10  \\\n",
       "0  16.1.4 경기종합지수  2015=100   102.7   102.5   102.3   102.1   102.1   102.1   \n",
       "\n",
       "   Jul-10  Aug-10  ...  May-21  Jun-21  Jul-21  Aug-21  Sep-21  Oct-21  \\\n",
       "0     102   101.8  ...   101.6   101.8   101.6   101.4   101.1   100.7   \n",
       "\n",
       "   Nov-21  Dec-21  Jan-22  Feb-22  \n",
       "0   100.4   100.2   100.1    99.8  \n",
       "\n",
       "[1 rows x 148 columns]"
      ]
     },
     "execution_count": 20,
     "metadata": {},
     "output_type": "execute_result"
    }
   ],
   "source": [
    "import pandas as pd\n",
    "import matplotlib.pyplot as plt\n",
    "from pandas_datareader import data as pdr\n",
    "\n",
    "forward = pd.read_csv('ECOS_TABLE_20220405_135233.csv', encoding='cp949')\n",
    "f_db = pd.DataFrame(forward)\n",
    "\n",
    "f_db.drop(['항목명1','변환'],axis=1,inplace=True)\n",
    "f_db2=f_db.drop(['통계표','단위'],axis=1)\n",
    "\n",
    "\n",
    "\n",
    "x = list(f_db2.columns.T)\n",
    "y = list(f_db2.values.T)\n",
    "plt.plot(x,y)\n",
    "plt.show()\n",
    "f_db"
   ]
  }
 ],
 "metadata": {
  "interpreter": {
   "hash": "793a361c9cb33761c67c8442ce1c830393d9eace081562163e5d71d68ad47fd0"
  },
  "kernelspec": {
   "display_name": "Python 3.10.2 64-bit",
   "language": "python",
   "name": "python3"
  },
  "language_info": {
   "codemirror_mode": {
    "name": "ipython",
    "version": 3
   },
   "file_extension": ".py",
   "mimetype": "text/x-python",
   "name": "python",
   "nbconvert_exporter": "python",
   "pygments_lexer": "ipython3",
   "version": "3.10.2"
  },
  "orig_nbformat": 4
 },
 "nbformat": 4,
 "nbformat_minor": 2
}
