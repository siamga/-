{
 "cells": [
  {
   "cell_type": "markdown",
   "id": "7093bec2",
   "metadata": {},
   "source": [
    "# 공분산"
   ]
  },
  {
   "cell_type": "code",
   "execution_count": null,
   "id": "89855d67",
   "metadata": {},
   "outputs": [],
   "source": [
    "# 공분산(covariance): 두 변수가 함께 변화하는 정도를 나타내는 지표"
   ]
  },
  {
   "cell_type": "code",
   "execution_count": null,
   "id": "2eeb7a21",
   "metadata": {},
   "outputs": [],
   "source": [
    "# 두 개의 데이터 x와 y가 있을 때\n",
    "\n",
    "# x = [8, 3, 6, 6, 9, 4, 3, 9, 3, 4]\n",
    "# y = [6, 2, 4, 6, 10, 5, 1, 8, 4, 5]"
   ]
  },
  {
   "cell_type": "code",
   "execution_count": 1,
   "id": "05dbd20f",
   "metadata": {},
   "outputs": [
    {
     "data": {
      "text/plain": [
       "[<matplotlib.lines.Line2D at 0x21ffe2a5400>]"
      ]
     },
     "execution_count": 1,
     "metadata": {},
     "output_type": "execute_result"
    },
    {
     "data": {
      "image/png": "[encoded data removed]",
      "text/plain": [
       "<Figure size 432x288 with 1 Axes>"
      ]
     },
     "metadata": {
      "needs_background": "light"
     },
     "output_type": "display_data"
    }
   ],
   "source": [
    "#산점도로 나타내기. 가로축은 x, 세로축은 y를 나타냄.\n",
    "\n",
    "x = [8, 3, 6, 6, 9, 4, 3, 9, 3, 4]\n",
    "y = [6, 2, 4, 6, 10, 5, 1, 8, 4, 5]\n",
    "import matplotlib.pyplot as plt\n",
    "plt.plot(x, y, 'o')"
   ]
  },
  {
   "cell_type": "code",
   "execution_count": 2,
   "id": "1cbc0c30",
   "metadata": {},
   "outputs": [
    {
     "data": {
      "text/plain": [
       "array([[6.05555556, 5.61111111],\n",
       "       [5.61111111, 6.98888889]])"
      ]
     },
     "execution_count": 2,
     "metadata": {},
     "output_type": "execute_result"
    }
   ],
   "source": [
    "# np.cov를 사용하면 x의 분산, y의 분산과 함께 x와 y의 공분산을 계산\n",
    "\n",
    "import numpy as np\n",
    "\n",
    "np.cov(x, y)"
   ]
  },
  {
   "cell_type": "code",
   "execution_count": 3,
   "id": "4da6dcb2",
   "metadata": {},
   "outputs": [
    {
     "data": {
      "text/plain": [
       "5.61111111111111"
      ]
     },
     "execution_count": 3,
     "metadata": {},
     "output_type": "execute_result"
    }
   ],
   "source": [
    "#공분산만 보고자 한다면 아래와 같이 함\n",
    "\n",
    "np.cov(x, y)[0, 1]"
   ]
  },
  {
   "cell_type": "code",
   "execution_count": null,
   "id": "f8a3d374",
   "metadata": {},
   "outputs": [],
   "source": []
  },
  {
   "cell_type": "code",
   "execution_count": null,
   "id": "e740ca85",
   "metadata": {},
   "outputs": [],
   "source": [
    "# 엑셀자료의 경우 "
   ]
  },
  {
   "cell_type": "code",
   "execution_count": null,
   "id": "8b43d8cb",
   "metadata": {},
   "outputs": [],
   "source": []
  },
  {
   "cell_type": "code",
   "execution_count": null,
   "id": "286bc99d",
   "metadata": {},
   "outputs": [],
   "source": []
  },
  {
   "cell_type": "code",
   "execution_count": null,
   "id": "88630b66",
   "metadata": {},
   "outputs": [],
   "source": []
  },
  {
   "cell_type": "markdown",
   "id": "a10aa7cf",
   "metadata": {},
   "source": [
    "# 상관계수(correlation coefficient):"
   ]
  },
  {
   "cell_type": "code",
   "execution_count": null,
   "id": "9f0d2fbb",
   "metadata": {},
   "outputs": [],
   "source": [
    "#  상관계수 : 두 변수가 함께 변하는 정도를 -1 ~ 1 범위의 수로 나타낸 것\n",
    "\n",
    "# 피어슨 상관계수\n",
    "# 칼 피어슨(Karl Pearson)이 개발한 상관계수"
   ]
  },
  {
   "cell_type": "code",
   "execution_count": null,
   "id": "7a869f1b",
   "metadata": {},
   "outputs": [],
   "source": [
    "# 두 개의 데이터 x와 y가 있을 때\n",
    "\n",
    "# x = [8, 3, 6, 6, 9, 4, 3, 9, 3, 4]\n",
    "# y = [6, 2, 4, 6, 10, 5, 1, 8, 4, 5]"
   ]
  },
  {
   "cell_type": "code",
   "execution_count": 5,
   "id": "e0cb7a51",
   "metadata": {},
   "outputs": [
    {
     "data": {
      "text/plain": [
       "array([[1.        , 0.86251728],\n",
       "       [0.86251728, 1.        ]])"
      ]
     },
     "execution_count": 5,
     "metadata": {},
     "output_type": "execute_result"
    }
   ],
   "source": [
    "import numpy as np\n",
    "\n",
    "np.corrcoef(x, y)"
   ]
  },
  {
   "cell_type": "code",
   "execution_count": 6,
   "id": "c242c508",
   "metadata": {},
   "outputs": [
    {
     "data": {
      "text/plain": [
       "0.8625172792135779"
      ]
     },
     "execution_count": 6,
     "metadata": {},
     "output_type": "execute_result"
    }
   ],
   "source": [
    "np.corrcoef(x, y)[0, 1]"
   ]
  },
  {
   "cell_type": "code",
   "execution_count": 7,
   "id": "878bade4",
   "metadata": {},
   "outputs": [
    {
     "data": {
      "text/plain": [
       "0.8625172792135778"
      ]
     },
     "execution_count": 7,
     "metadata": {},
     "output_type": "execute_result"
    }
   ],
   "source": [
    "# 아래와 같은 원리로 계산\n",
    "\n",
    "cov = np.cov(x, y)[0, 1]  # 공분산\n",
    "xsd = np.std(x, ddof=1)   # x의 표본표준편차\n",
    "ysd = np.std(y, ddof=1)   # y의 표본표준편차\n",
    "\n",
    "cov / ( xsd * ysd )"
   ]
  },
  {
   "cell_type": "code",
   "execution_count": null,
   "id": "f2be3c1d",
   "metadata": {},
   "outputs": [],
   "source": []
  },
  {
   "cell_type": "code",
   "execution_count": null,
   "id": "8e5a0a29",
   "metadata": {},
   "outputs": [],
   "source": [
    "\n",
    "\n",
    "# 히트맵으로 보여 주기"
   ]
  },
  {
   "cell_type": "code",
   "execution_count": null,
   "id": "8d2bfe83",
   "metadata": {},
   "outputs": [],
   "source": [
    "# 엑셀자료의 경우"
   ]
  },
  {
   "cell_type": "code",
   "execution_count": null,
   "id": "24d627e5",
   "metadata": {},
   "outputs": [],
   "source": []
  },
  {
   "cell_type": "code",
   "execution_count": null,
   "id": "a03fef9c",
   "metadata": {},
   "outputs": [],
   "source": [
    "# spearman 상관계수\n",
    "# 상관분석을 실시함에 있어 서열척도 를 사용한 변수가 포함되어 있거나\n",
    "# 등간/비율척도를 사용한 변수들이라 하더라도, 두 변수 간의 관계가 비선형적 일 때 구하는 상관계수\n"
   ]
  },
  {
   "cell_type": "code",
   "execution_count": 8,
   "id": "dd03d334",
   "metadata": {},
   "outputs": [
    {
     "data": {
      "text/plain": [
       "0.9000703207408192"
      ]
     },
     "execution_count": 8,
     "metadata": {},
     "output_type": "execute_result"
    }
   ],
   "source": [
    "import scipy.stats\n",
    "scipy.stats.spearmanr(x, y).correlation"
   ]
  },
  {
   "cell_type": "code",
   "execution_count": null,
   "id": "dff08e8d",
   "metadata": {},
   "outputs": [],
   "source": [
    "# kendall의 tau\n",
    "# spearman의 상관계수와 마찬가지로, 비선형적 관게이거나 서열변수일 때 사용\n",
    "# spearman의 상관계수보다 믿을만 한 것으로 알려짐 (특히 표본이 작을 때)"
   ]
  },
  {
   "cell_type": "code",
   "execution_count": 9,
   "id": "90deb7c2",
   "metadata": {},
   "outputs": [
    {
     "data": {
      "text/plain": [
       "0.8153742483272113"
      ]
     },
     "execution_count": 9,
     "metadata": {},
     "output_type": "execute_result"
    }
   ],
   "source": [
    "scipy.stats.kendalltau(x, y).correlation"
   ]
  },
  {
   "cell_type": "markdown",
   "id": "2d64d544",
   "metadata": {},
   "source": [
    "# 상관계수의 통계적 검증"
   ]
  },
  {
   "cell_type": "code",
   "execution_count": null,
   "id": "b7d849bd",
   "metadata": {},
   "outputs": [],
   "source": [
    "# 상관분석\n",
    "# 우리가 구한 상관계수는 표본에서 구한 것\n",
    "# 동일한 모집단에서도 표본에 따라 상관계수가 달라질 수 있음"
   ]
  },
  {
   "cell_type": "code",
   "execution_count": null,
   "id": "ee475bab",
   "metadata": {},
   "outputs": [],
   "source": [
    "x = [8, 3, 6, 6, 9, 4, 3, 9, 3, 4]\n",
    "y = [6, 2, 4, 6, 10, 5, 1, 8, 4, 5]"
   ]
  },
  {
   "cell_type": "code",
   "execution_count": 10,
   "id": "89b4358a",
   "metadata": {},
   "outputs": [
    {
     "data": {
      "text/plain": [
       "(0.862517279213578, 0.0013196539142000013)"
      ]
     },
     "execution_count": 10,
     "metadata": {},
     "output_type": "execute_result"
    }
   ],
   "source": [
    "#두 변수의 피어슨 상관계수와 p 값을 계산\n",
    "\n",
    "import scipy.stats\n",
    "\n",
    "scipy.stats.pearsonr(x, y)"
   ]
  },
  {
   "cell_type": "code",
   "execution_count": null,
   "id": "67e7ab6c",
   "metadata": {},
   "outputs": [],
   "source": [
    "# 상관계수는 0.86이고 p 값은 0.001.\n",
    "\n",
    "# p값은 모집단에서 상관계수가 0일 때, 현재와 같은 크기의 표본에서 관찰된 상관계수(여기서는 0.86)보다 더 극단적인 상관계수가 관찰될 확률\n",
    "# 보통 0.05(5%)와 같은 임계치를 정하고, p값이 그보다 작을 경우 \"통계적으로 유의미하다\"라고 함.\n"
   ]
  },
  {
   "cell_type": "markdown",
   "id": "c2b58096",
   "metadata": {},
   "source": [
    "# 스피어만 과 켄달 상관계수"
   ]
  },
  {
   "cell_type": "code",
   "execution_count": null,
   "id": "73fe76cc",
   "metadata": {},
   "outputs": [],
   "source": [
    "# stats.spearmanr(x1, x2)"
   ]
  },
  {
   "cell_type": "code",
   "execution_count": null,
   "id": "17bfd45b",
   "metadata": {},
   "outputs": [],
   "source": [
    "## stats.kendalltau(x1, x2)"
   ]
  },
  {
   "cell_type": "code",
   "execution_count": 2,
   "id": "f719a63d",
   "metadata": {},
   "outputs": [],
   "source": [
    "import numpy as np\n",
    "\n",
    "x = np.random.randint(0,100, 50)\n",
    "y = x * 2"
   ]
  },
  {
   "cell_type": "code",
   "execution_count": 3,
   "id": "3d359dc1",
   "metadata": {},
   "outputs": [
    {
     "data": {
      "text/html": [
       "<div>\n",
       "<style scoped>\n",
       "    .dataframe tbody tr th:only-of-type {\n",
       "        vertical-align: middle;\n",
       "    }\n",
       "\n",
       "    .dataframe tbody tr th {\n",
       "        vertical-align: top;\n",
       "    }\n",
       "\n",
       "    .dataframe thead th {\n",
       "        text-align: right;\n",
       "    }\n",
       "</style>\n",
       "<table border=\"1\" class=\"dataframe\">\n",
       "  <thead>\n",
       "    <tr style=\"text-align: right;\">\n",
       "      <th></th>\n",
       "      <th>x</th>\n",
       "      <th>y</th>\n",
       "    </tr>\n",
       "  </thead>\n",
       "  <tbody>\n",
       "    <tr>\n",
       "      <th>x</th>\n",
       "      <td>1.0</td>\n",
       "      <td>1.0</td>\n",
       "    </tr>\n",
       "    <tr>\n",
       "      <th>y</th>\n",
       "      <td>1.0</td>\n",
       "      <td>1.0</td>\n",
       "    </tr>\n",
       "  </tbody>\n",
       "</table>\n",
       "</div>"
      ],
      "text/plain": [
       "     x    y\n",
       "x  1.0  1.0\n",
       "y  1.0  1.0"
      ]
     },
     "execution_count": 3,
     "metadata": {},
     "output_type": "execute_result"
    }
   ],
   "source": [
    "import pandas as pd\n",
    "\n",
    "df = pd.DataFrame({'x':x, 'y':y})\n",
    "df.corr()"
   ]
  },
  {
   "cell_type": "code",
   "execution_count": 4,
   "id": "cad311a4",
   "metadata": {},
   "outputs": [
    {
     "data": {
      "text/plain": [
       "(1.0, 0.0)"
      ]
     },
     "execution_count": 4,
     "metadata": {},
     "output_type": "execute_result"
    }
   ],
   "source": [
    "from scipy import stats\n",
    "\n",
    "stats.pearsonr(x, y)"
   ]
  },
  {
   "cell_type": "code",
   "execution_count": null,
   "id": "3b016904",
   "metadata": {},
   "outputs": [],
   "source": []
  },
  {
   "cell_type": "code",
   "execution_count": null,
   "id": "fbaa8c4d",
   "metadata": {},
   "outputs": [],
   "source": [
    "# https://www.infoking.site/139  자료 인용\n",
    "# 생산자 물가지수와 소비자 물가지수 간의 시차별 상관관계 구하기"
   ]
  },
  {
   "cell_type": "code",
   "execution_count": null,
   "id": "13a78a2f",
   "metadata": {},
   "outputs": [],
   "source": [
    "# coding=utf-8\n",
    " \n",
    "from urllib.request import urlopen\n",
    "import pandas as pd\n",
    "import matplotlib.pyplot as plt\n",
    " \n",
    " \n",
    "import json\n",
    " \n",
    "dif_month=1\n",
    " \n",
    "def index_corr(produce_kr,consumer_kr,dif_month):\n",
    "    num_del=produce_kr.index.max()-dif_month\n",
    "    produce_kr_rel=produce_kr[produce_kr.index<=num_del]\n",
    " \n",
    "    consumer_kr_rel = consumer_kr[consumer_kr.index >= dif_month]\n",
    "    consumer_kr_rel=consumer_kr_rel.reset_index(drop=True)\n",
    " \n",
    "    produce_kr_rel=produce_kr_rel.rename(columns={\"DATA_VALUE\":\"produce_index\"})\n",
    "    consumer_kr_rel = consumer_kr_rel.rename(columns={\"DATA_VALUE\": \"consume_index\"})\n",
    " \n",
    "    total=pd.concat([produce_kr_rel[[\"produce_index\"]],consumer_kr_rel[[\"consume_index\"]]],1)\n",
    " \n",
    "    pd.scatter_matrix(total)\n",
    "    print(str(dif_month)+\"개월 상관계수:\"+str(total.corr().iloc[0,1]))\n",
    " \n",
    "    plt.figure()\n",
    "    # plt.plot(produce_kr_rel.index,produce_kr_rel[\"produce_index\"])\n",
    "    # plt.plot(consumer_kr_rel.index, consumer_kr_rel[\"consume_index\"])\n",
    " \n",
    "    plt.scatter(total[\"produce_index\"],consumer_kr_rel[\"consume_index\"])\n",
    " \n",
    "    return\n",
    " \n",
    "if __name__ == \"__main__\":\n",
    "    key =[자신의 인증키를 넣는다]\n",
    " \n",
    "    # https://ecos.bok.or.kr/jsp/openapi/OpenApiController.jsp?t=guideServiceDtl&apiCode=OA-1040&menuGroup=MENU000004\n",
    "    # 여기서 주소 만들면 쉽다.\n",
    "    url=\"http://ecos.bok.or.kr/api/StatisticSearch/\"+key+\"/json/kr/1/1000/I02Y001/MM/201501/201805/?/?/?/\"\n",
    "    result = urlopen(url)\n",
    "    html = result.read()\n",
    "    data = json.loads(html)\n",
    "    data=data[\"StatisticSearch\"][\"row\"]\n",
    "    produce = pd.DataFrame(data)\n",
    "    produce_kr=produce[produce[\"ITEM_CODE1\"]==\"KOR\"]\n",
    "    # produce_kr=produce_kr.set_index(\"TIME\")\n",
    "    produce_kr[\"DATA_VALUE\"]=produce_kr[\"DATA_VALUE\"].astype(\"float\")\n",
    " \n",
    "    produce_kr[\"DATA_VALUE\"].plot()\n",
    " \n",
    "    produce_kr[\"TIME\"] = produce_kr[\"TIME\"].astype(\"int\")\n",
    " \n",
    "    # produce_kr[\"date\"] = datetime.datetime(produce_kr[\"TIME\"].str[0:4],produce_kr[\"TIME\"].str[4:5])\n",
    "    # produce_kr[\"date\"] = produce_kr[\"TIME\"].apply(lambda x: datetime.datetime.strptime(x, '%Y%m'))\n",
    " \n",
    "    produce_kr[\"TIME\"] = produce_kr[\"TIME\"].astype(\"str\")\n",
    "    xlabel=produce_kr[\"TIME\"]\n",
    "    xlabel = xlabel.drop_duplicates()\n",
    " \n",
    "    produce_kr=produce_kr.sort_values(\"TIME\")\n",
    "    produce_kr=produce_kr.reset_index(drop=True)\n",
    "    produce_kr = produce_kr.reset_index()\n",
    " \n",
    "    # plt.scatter(produce_kr[\"index\"],produce_kr[\"DATA_VALUE\"])\n",
    "    # plt.xticks(produce_kr[\"index\"], xlabel,rotation=70)\n",
    "    #\n",
    "    # plt.plot(produce_kr[\"index\"],produce_kr[\"DATA_VALUE\"])\n",
    "    # plt.xticks(produce_kr[\"index\"], xlabel,rotation=70)\n",
    " \n",
    " \n",
    "    # 소비자 물가지수\n",
    "    url=\"http://ecos.bok.or.kr/api/StatisticSearch/\"+key+\"/json/kr/1/1000/I02Y002/MM/201501/201805/?/?/?/\"\n",
    "    result = urlopen(url)\n",
    "    html = result.read()\n",
    "    data = json.loads(html)\n",
    "    data=data[\"StatisticSearch\"][\"row\"]\n",
    "    consumer = pd.DataFrame(data)\n",
    "    consumer_kr=consumer[consumer[\"ITEM_CODE1\"]==\"KOR\"]\n",
    "    # produoce_kr=produce_kr.set_index(\"TIME\")\n",
    "    consumer_kr[\"DATA_VALUE\"]=consumer_kr[\"DATA_VALUE\"].astype(\"float\")\n",
    " \n",
    "    consumer_kr=consumer_kr.sort_values(\"TIME\")\n",
    "    consumer_kr=consumer_kr.reset_index(drop=True)\n",
    "    consumer_kr = consumer_kr.reset_index()\n",
    "    #\n",
    "    # plt.plot(cunsumer_kr[\"index\"],cunsumer_kr[\"DATA_VALUE\"])\n",
    " \n",
    "    index_corr(produce_kr,consumer_kr,0)\n",
    "    index_corr(produce_kr,consumer_kr,1)$\n",
    "    index_corr(produce_kr,consumer_kr,2)\n",
    "    index_corr(produce_kr,consumer_kr,3)\n",
    "    index_corr(produce_kr,consumer_kr,4)\n",
    "    index_corr(produce_kr,consumer_kr,5)\n",
    "    index_corr(produce_kr,consumer_kr,6)\n",
    "    index_corr(produce_kr,consumer_kr,7)\n",
    "    index_corr(produce_kr,consumer_kr,8)\n",
    "    index_corr(produce_kr,consumer_kr,9)\n",
    "    index_corr(produce_kr,consumer_kr,10)"
   ]
  }
 ],
 "metadata": {
  "kernelspec": {
   "display_name": "Python 3 (ipykernel)",
   "language": "python",
   "name": "python3"
  },
  "language_info": {
   "codemirror_mode": {
    "name": "ipython",
    "version": 3
   },
   "file_extension": ".py",
   "mimetype": "text/x-python",
   "name": "python",
   "nbconvert_exporter": "python",
   "pygments_lexer": "ipython3",
   "version": "3.9.6"
  }
 },
 "nbformat": 4,
 "nbformat_minor": 5
}
