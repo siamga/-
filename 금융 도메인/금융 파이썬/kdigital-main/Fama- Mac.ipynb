{
 "cells": [
  {
   "cell_type": "markdown",
   "id": "19c6e853",
   "metadata": {},
   "source": [
    "## Fama-MacBeth regression"
   ]
  },
  {
   "cell_type": "code",
   "execution_count": 3,
   "id": "c03e9318",
   "metadata": {},
   "outputs": [],
   "source": [
    "import pandas as pd\n",
    "import numpy as np\n",
    "\n",
    "from statsmodels.api import OLS, add_constant\n",
    "import pandas_datareader.data as web\n",
    "\n",
    "from linearmodels.asset_pricing import LinearFactorModel\n",
    "\n",
    "import matplotlib.pyplot as plt\n",
    "import seaborn as sns"
   ]
  },
  {
   "cell_type": "code",
   "execution_count": 7,
   "id": "ac5e61fa",
   "metadata": {},
   "outputs": [
    {
     "name": "stdout",
     "output_type": "stream",
     "text": [
      "<class 'pandas.core.frame.DataFrame'>\n",
      "PeriodIndex: 252 entries, 2000-01 to 2020-12\n",
      "Freq: M\n",
      "Data columns (total 6 columns):\n",
      " #   Column  Non-Null Count  Dtype  \n",
      "---  ------  --------------  -----  \n",
      " 0   Mkt-RF  252 non-null    float64\n",
      " 1   SMB     252 non-null    float64\n",
      " 2   HML     252 non-null    float64\n",
      " 3   RMW     252 non-null    float64\n",
      " 4   CMA     252 non-null    float64\n",
      " 5   RF      252 non-null    float64\n",
      "dtypes: float64(6)\n",
      "memory usage: 13.8 KB\n"
     ]
    }
   ],
   "source": [
    "# 2000~2020 월별 수익률\n",
    "ff_factor = 'F-F_Research_Data_5_Factors_2x3'\n",
    "ff_factor_data = web.DataReader(ff_factor, 'famafrench', start='2000', end='2020-12')[0]\n",
    "ff_factor_data.info()\n"
   ]
  },
  {
   "cell_type": "code",
   "execution_count": 8,
   "id": "34e6882d",
   "metadata": {},
   "outputs": [
    {
     "name": "stdout",
     "output_type": "stream",
     "text": [
      "<class 'pandas.core.frame.DataFrame'>\n",
      "PeriodIndex: 252 entries, 2000-01 to 2020-12\n",
      "Freq: M\n",
      "Data columns (total 17 columns):\n",
      " #   Column  Non-Null Count  Dtype  \n",
      "---  ------  --------------  -----  \n",
      " 0   Food    252 non-null    float64\n",
      " 1   Mines   252 non-null    float64\n",
      " 2   Oil     252 non-null    float64\n",
      " 3   Clths   252 non-null    float64\n",
      " 4   Durbl   252 non-null    float64\n",
      " 5   Chems   252 non-null    float64\n",
      " 6   Cnsum   252 non-null    float64\n",
      " 7   Cnstr   252 non-null    float64\n",
      " 8   Steel   252 non-null    float64\n",
      " 9   FabPr   252 non-null    float64\n",
      " 10  Machn   252 non-null    float64\n",
      " 11  Cars    252 non-null    float64\n",
      " 12  Trans   252 non-null    float64\n",
      " 13  Utils   252 non-null    float64\n",
      " 14  Rtail   252 non-null    float64\n",
      " 15  Finan   252 non-null    float64\n",
      " 16  Other   252 non-null    float64\n",
      "dtypes: float64(17)\n",
      "memory usage: 35.4 KB\n"
     ]
    }
   ],
   "source": [
    "# 17개 산업군의 월별 포트폴리오 수익률\n",
    "ff_portfolio = '17_Industry_Portfolios'\n",
    "ff_portfolio_data = web.DataReader(ff_portfolio, 'famafrench', start='2000', end='2020-12')[0]\n",
    "ff_portfolio_data.info()"
   ]
  },
  {
   "cell_type": "code",
   "execution_count": 9,
   "id": "96919ce0",
   "metadata": {},
   "outputs": [
    {
     "name": "stdout",
     "output_type": "stream",
     "text": [
      "<class 'pandas.core.frame.DataFrame'>\n",
      "PeriodIndex: 252 entries, 2000-01 to 2020-12\n",
      "Freq: M\n",
      "Data columns (total 5 columns):\n",
      " #   Column  Non-Null Count  Dtype  \n",
      "---  ------  --------------  -----  \n",
      " 0   Mkt-RF  252 non-null    float64\n",
      " 1   SMB     252 non-null    float64\n",
      " 2   HML     252 non-null    float64\n",
      " 3   RMW     252 non-null    float64\n",
      " 4   CMA     252 non-null    float64\n",
      "dtypes: float64(5)\n",
      "memory usage: 11.8 KB\n"
     ]
    }
   ],
   "source": [
    "# 포트폴리오 수익률 - 무위험 수익률 = 초과 수익률  : capm\n",
    "ff_portfolio_data = ff_portfolio_data.sub(ff_factor_data.RF, axis=0)\n",
    "\n",
    "# 무위험 수익률 변수를 제외한 5개 팩터 변수만 남김\n",
    "ff_factor_data = ff_factor_data.drop('RF', axis=1)\n",
    "ff_factor_data.info()"
   ]
  },
  {
   "cell_type": "markdown",
   "id": "694d16cf",
   "metadata": {},
   "source": [
    "# # Step 1: Factor Exposures"
   ]
  },
  {
   "cell_type": "code",
   "execution_count": 10,
   "id": "10e085cd",
   "metadata": {},
   "outputs": [
    {
     "name": "stdout",
     "output_type": "stream",
     "text": [
      "<class 'pandas.core.frame.DataFrame'>\n",
      "Index: 17 entries, Food  to Other\n",
      "Data columns (total 5 columns):\n",
      " #   Column  Non-Null Count  Dtype  \n",
      "---  ------  --------------  -----  \n",
      " 0   Mkt-RF  17 non-null     float64\n",
      " 1   SMB     17 non-null     float64\n",
      " 2   HML     17 non-null     float64\n",
      " 3   RMW     17 non-null     float64\n",
      " 4   CMA     17 non-null     float64\n",
      "dtypes: float64(5)\n",
      "memory usage: 1.3+ KB\n"
     ]
    },
    {
     "name": "stderr",
     "output_type": "stream",
     "text": [
      "c:\\users\\jyb\\appdata\\local\\programs\\python\\python39\\lib\\site-packages\\statsmodels\\tsa\\tsatools.py:142: FutureWarning: In a future version of pandas all arguments of concat except for the argument 'objs' will be keyword-only\n",
      "  x = pd.concat(x[::order], 1)\n"
     ]
    }
   ],
   "source": [
    "\n",
    "betas = []\n",
    "for industry in ff_portfolio_data:\n",
    "    step1 = OLS(endog=ff_portfolio_data.loc[ff_factor_data.index, industry], # 종속변수 \n",
    "                exog=add_constant(ff_factor_data) # 독립변수\n",
    "                ).fit()\n",
    "    betas.append(step1.params.drop('const'))\n",
    "\n",
    "betas = pd.DataFrame(betas, \n",
    "                     columns=ff_factor_data.columns, \n",
    "                     index=ff_portfolio_data.columns)\n",
    "betas.info()"
   ]
  },
  {
   "cell_type": "code",
   "execution_count": 11,
   "id": "393981c3",
   "metadata": {
    "scrolled": true
   },
   "outputs": [
    {
     "data": {
      "text/html": [
       "<div>\n",
       "<style scoped>\n",
       "    .dataframe tbody tr th:only-of-type {\n",
       "        vertical-align: middle;\n",
       "    }\n",
       "\n",
       "    .dataframe tbody tr th {\n",
       "        vertical-align: top;\n",
       "    }\n",
       "\n",
       "    .dataframe thead th {\n",
       "        text-align: right;\n",
       "    }\n",
       "</style>\n",
       "<table border=\"1\" class=\"dataframe\">\n",
       "  <thead>\n",
       "    <tr style=\"text-align: right;\">\n",
       "      <th></th>\n",
       "      <th>Mkt-RF</th>\n",
       "      <th>SMB</th>\n",
       "      <th>HML</th>\n",
       "      <th>RMW</th>\n",
       "      <th>CMA</th>\n",
       "    </tr>\n",
       "  </thead>\n",
       "  <tbody>\n",
       "    <tr>\n",
       "      <th>Food</th>\n",
       "      <td>0.649977</td>\n",
       "      <td>-0.098335</td>\n",
       "      <td>-0.058774</td>\n",
       "      <td>0.443940</td>\n",
       "      <td>0.391866</td>\n",
       "    </tr>\n",
       "    <tr>\n",
       "      <th>Mines</th>\n",
       "      <td>1.102191</td>\n",
       "      <td>0.542290</td>\n",
       "      <td>-0.053591</td>\n",
       "      <td>0.456243</td>\n",
       "      <td>0.346071</td>\n",
       "    </tr>\n",
       "    <tr>\n",
       "      <th>Oil</th>\n",
       "      <td>1.094864</td>\n",
       "      <td>0.266769</td>\n",
       "      <td>0.314489</td>\n",
       "      <td>0.562737</td>\n",
       "      <td>0.099153</td>\n",
       "    </tr>\n",
       "    <tr>\n",
       "      <th>Clths</th>\n",
       "      <td>1.127532</td>\n",
       "      <td>0.290056</td>\n",
       "      <td>0.300332</td>\n",
       "      <td>0.686104</td>\n",
       "      <td>-0.176844</td>\n",
       "    </tr>\n",
       "    <tr>\n",
       "      <th>Durbl</th>\n",
       "      <td>1.212371</td>\n",
       "      <td>0.487245</td>\n",
       "      <td>0.125131</td>\n",
       "      <td>0.474321</td>\n",
       "      <td>0.205879</td>\n",
       "    </tr>\n",
       "    <tr>\n",
       "      <th>Chems</th>\n",
       "      <td>1.228701</td>\n",
       "      <td>0.119512</td>\n",
       "      <td>0.264200</td>\n",
       "      <td>0.449599</td>\n",
       "      <td>-0.016067</td>\n",
       "    </tr>\n",
       "    <tr>\n",
       "      <th>Cnsum</th>\n",
       "      <td>0.685525</td>\n",
       "      <td>-0.298848</td>\n",
       "      <td>-0.190488</td>\n",
       "      <td>0.215775</td>\n",
       "      <td>0.585413</td>\n",
       "    </tr>\n",
       "    <tr>\n",
       "      <th>Cnstr</th>\n",
       "      <td>1.139974</td>\n",
       "      <td>0.315498</td>\n",
       "      <td>0.234258</td>\n",
       "      <td>0.368537</td>\n",
       "      <td>-0.039743</td>\n",
       "    </tr>\n",
       "    <tr>\n",
       "      <th>Steel</th>\n",
       "      <td>1.560366</td>\n",
       "      <td>0.428161</td>\n",
       "      <td>0.158715</td>\n",
       "      <td>-0.063978</td>\n",
       "      <td>0.011892</td>\n",
       "    </tr>\n",
       "    <tr>\n",
       "      <th>FabPr</th>\n",
       "      <td>1.131963</td>\n",
       "      <td>0.340113</td>\n",
       "      <td>0.084075</td>\n",
       "      <td>0.614633</td>\n",
       "      <td>0.071783</td>\n",
       "    </tr>\n",
       "    <tr>\n",
       "      <th>Machn</th>\n",
       "      <td>1.272660</td>\n",
       "      <td>0.046682</td>\n",
       "      <td>-0.286629</td>\n",
       "      <td>-0.509234</td>\n",
       "      <td>-0.112647</td>\n",
       "    </tr>\n",
       "    <tr>\n",
       "      <th>Cars</th>\n",
       "      <td>1.472973</td>\n",
       "      <td>0.337573</td>\n",
       "      <td>0.000476</td>\n",
       "      <td>0.639276</td>\n",
       "      <td>0.300321</td>\n",
       "    </tr>\n",
       "    <tr>\n",
       "      <th>Trans</th>\n",
       "      <td>1.087020</td>\n",
       "      <td>0.169168</td>\n",
       "      <td>0.245621</td>\n",
       "      <td>0.541668</td>\n",
       "      <td>0.059152</td>\n",
       "    </tr>\n",
       "    <tr>\n",
       "      <th>Utils</th>\n",
       "      <td>0.552319</td>\n",
       "      <td>-0.118612</td>\n",
       "      <td>0.045972</td>\n",
       "      <td>0.222883</td>\n",
       "      <td>0.441210</td>\n",
       "    </tr>\n",
       "    <tr>\n",
       "      <th>Rtail</th>\n",
       "      <td>0.931874</td>\n",
       "      <td>-0.018343</td>\n",
       "      <td>-0.108973</td>\n",
       "      <td>0.484439</td>\n",
       "      <td>0.079899</td>\n",
       "    </tr>\n",
       "    <tr>\n",
       "      <th>Finan</th>\n",
       "      <td>1.040339</td>\n",
       "      <td>-0.154767</td>\n",
       "      <td>0.839859</td>\n",
       "      <td>-0.158128</td>\n",
       "      <td>-0.229739</td>\n",
       "    </tr>\n",
       "    <tr>\n",
       "      <th>Other</th>\n",
       "      <td>1.036588</td>\n",
       "      <td>-0.042457</td>\n",
       "      <td>-0.166791</td>\n",
       "      <td>-0.133322</td>\n",
       "      <td>-0.101772</td>\n",
       "    </tr>\n",
       "  </tbody>\n",
       "</table>\n",
       "</div>"
      ],
      "text/plain": [
       "         Mkt-RF       SMB       HML       RMW       CMA\n",
       "Food   0.649977 -0.098335 -0.058774  0.443940  0.391866\n",
       "Mines  1.102191  0.542290 -0.053591  0.456243  0.346071\n",
       "Oil    1.094864  0.266769  0.314489  0.562737  0.099153\n",
       "Clths  1.127532  0.290056  0.300332  0.686104 -0.176844\n",
       "Durbl  1.212371  0.487245  0.125131  0.474321  0.205879\n",
       "Chems  1.228701  0.119512  0.264200  0.449599 -0.016067\n",
       "Cnsum  0.685525 -0.298848 -0.190488  0.215775  0.585413\n",
       "Cnstr  1.139974  0.315498  0.234258  0.368537 -0.039743\n",
       "Steel  1.560366  0.428161  0.158715 -0.063978  0.011892\n",
       "FabPr  1.131963  0.340113  0.084075  0.614633  0.071783\n",
       "Machn  1.272660  0.046682 -0.286629 -0.509234 -0.112647\n",
       "Cars   1.472973  0.337573  0.000476  0.639276  0.300321\n",
       "Trans  1.087020  0.169168  0.245621  0.541668  0.059152\n",
       "Utils  0.552319 -0.118612  0.045972  0.222883  0.441210\n",
       "Rtail  0.931874 -0.018343 -0.108973  0.484439  0.079899\n",
       "Finan  1.040339 -0.154767  0.839859 -0.158128 -0.229739\n",
       "Other  1.036588 -0.042457 -0.166791 -0.133322 -0.101772"
      ]
     },
     "execution_count": 11,
     "metadata": {},
     "output_type": "execute_result"
    }
   ],
   "source": [
    "betas\n"
   ]
  },
  {
   "cell_type": "markdown",
   "id": "82418631",
   "metadata": {},
   "source": [
    "## Step 2: Risk Premia"
   ]
  },
  {
   "cell_type": "code",
   "execution_count": 12,
   "id": "0c378d0e",
   "metadata": {},
   "outputs": [
    {
     "name": "stdout",
     "output_type": "stream",
     "text": [
      "<class 'pandas.core.frame.DataFrame'>\n",
      "PeriodIndex: 252 entries, 2000-01 to 2020-12\n",
      "Freq: M\n",
      "Data columns (total 5 columns):\n",
      " #   Column  Non-Null Count  Dtype  \n",
      "---  ------  --------------  -----  \n",
      " 0   Mkt-RF  252 non-null    float64\n",
      " 1   SMB     252 non-null    float64\n",
      " 2   HML     252 non-null    float64\n",
      " 3   RMW     252 non-null    float64\n",
      " 4   CMA     252 non-null    float64\n",
      "dtypes: float64(5)\n",
      "memory usage: 19.9 KB\n"
     ]
    }
   ],
   "source": [
    "\n",
    "lambdas = []\n",
    "for period in ff_portfolio_data.index:\n",
    "    step2 = OLS(endog=ff_portfolio_data.loc[period, betas.index], # 종속변수\n",
    "                exog=betas # 독립변수\n",
    "                ).fit()\n",
    "    lambdas.append(step2.params)\n",
    "\n",
    "lambdas = pd.DataFrame(lambdas, \n",
    "                       index=ff_portfolio_data.index,\n",
    "                       columns=betas.columns.tolist())\n",
    "lambdas.info()"
   ]
  },
  {
   "cell_type": "code",
   "execution_count": 13,
   "id": "25a74c77",
   "metadata": {},
   "outputs": [
    {
     "data": {
      "text/plain": [
       "Mkt-RF    0.576066\n",
       "SMB      -0.524737\n",
       "HML      -0.173916\n",
       "RMW       0.603397\n",
       "CMA      -0.047830\n",
       "dtype: float64"
      ]
     },
     "execution_count": 13,
     "metadata": {},
     "output_type": "execute_result"
    }
   ],
   "source": [
    "lambdas.mean()"
   ]
  },
  {
   "cell_type": "code",
   "execution_count": 14,
   "id": "09bec6ed",
   "metadata": {},
   "outputs": [
    {
     "data": {
      "image/png": "[encoded data removed]",
      "text/plain": [
       "<Figure size 864x288 with 1 Axes>"
      ]
     },
     "metadata": {
      "needs_background": "light"
     },
     "output_type": "display_data"
    }
   ],
   "source": [
    "lambdas.mean().sort_values().plot.barh(figsize=(12, 4))\n",
    "sns.despine()\n",
    "plt.tight_layout();"
   ]
  },
  {
   "cell_type": "code",
   "execution_count": 15,
   "id": "15874216",
   "metadata": {},
   "outputs": [
    {
     "data": {
      "text/plain": [
       "Mkt-RF    0.123797\n",
       "SMB      -0.073233\n",
       "HML      -0.037479\n",
       "RMW       0.123058\n",
       "CMA      -0.007142\n",
       "dtype: float64"
      ]
     },
     "execution_count": 15,
     "metadata": {},
     "output_type": "execute_result"
    }
   ],
   "source": [
    "t = lambdas.mean().div(lambdas.std())\n",
    "t"
   ]
  },
  {
   "cell_type": "code",
   "execution_count": null,
   "id": "eba614e9",
   "metadata": {},
   "outputs": [],
   "source": [
    "# 아래는 2단계 추정의 결과로 산출된 계수 값들을 2년 단위로 이동평균을 계산하여 그래프를 그린 것이다. \n",
    "# 계수 추정치가 시간의 흐름에 따라 크게 변하지는 않는지 확인하기 위한 것으로 보면 된다."
   ]
  },
  {
   "cell_type": "code",
   "execution_count": 16,
   "id": "8326b9f4",
   "metadata": {},
   "outputs": [
    {
     "data": {
      "image/png": "[encoded data removed]",
      "text/plain": [
       "<Figure size 1008x504 with 5 Axes>"
      ]
     },
     "metadata": {
      "needs_background": "light"
     },
     "output_type": "display_data"
    }
   ],
   "source": [
    "window = 24  # months\n",
    "lambdas.rolling(window).mean().dropna().plot(lw=2,\n",
    "                                             figsize=(14, 7),\n",
    "                                             subplots=True,\n",
    "                                             sharey=True)\n",
    "sns.despine()\n",
    "plt.tight_layout()"
   ]
  },
  {
   "cell_type": "code",
   "execution_count": null,
   "id": "9b5f4e5a",
   "metadata": {},
   "outputs": [],
   "source": [
    "# LinearModels 라이브러리는 statsmodels 라이브러리를 확장하여 패널 데이터를 다루기 위한 다양한 모델을 제공하고 파마-맥베스 회귀 모형도 제공한다. \n",
    "# 위에서 2-step으로 직접구현한 결과와 동일한 계수 추정치를 얻을 수 있다."
   ]
  },
  {
   "cell_type": "code",
   "execution_count": 17,
   "id": "73e9e310",
   "metadata": {},
   "outputs": [
    {
     "name": "stdout",
     "output_type": "stream",
     "text": [
      "                      LinearFactorModel Estimation Summary                      \n",
      "================================================================================\n",
      "No. Test Portfolios:                 17   R-squared:                      0.6829\n",
      "No. Factors:                          5   J-statistic:                    12.797\n",
      "No. Observations:                   252   P-value                         0.3840\n",
      "Date:                  Tue, Mar 08 2022   Distribution:                 chi2(12)\n",
      "Time:                          11:21:40                                         \n",
      "Cov. Estimator:                  robust                                         \n",
      "                                                                                \n",
      "                            Risk Premia Estimates                             \n",
      "==============================================================================\n",
      "            Parameter  Std. Err.     T-stat    P-value    Lower CI    Upper CI\n",
      "------------------------------------------------------------------------------\n",
      "Mkt-RF         0.5761     0.3015     1.9104     0.0561     -0.0149      1.1671\n",
      "SMB           -0.5247     0.5311    -0.9880     0.3231     -1.5656      0.5162\n",
      "HML           -0.1739     0.3476    -0.5003     0.6169     -0.8553      0.5074\n",
      "RMW            0.6034     0.3504     1.7223     0.0850     -0.0833      1.2901\n",
      "CMA           -0.0478     0.5679    -0.0842     0.9329     -1.1609      1.0653\n",
      "==============================================================================\n",
      "\n",
      "Covariance estimator:\n",
      "HeteroskedasticCovariance\n",
      "See full_summary for complete results\n"
     ]
    }
   ],
   "source": [
    "mod = LinearFactorModel(portfolios=ff_portfolio_data, \n",
    "                        factors=ff_factor_data)\n",
    "res = mod.fit()\n",
    "print(res)"
   ]
  },
  {
   "cell_type": "code",
   "execution_count": 18,
   "id": "6e52ad79",
   "metadata": {},
   "outputs": [
    {
     "name": "stdout",
     "output_type": "stream",
     "text": [
      "                      LinearFactorModel Estimation Summary                      \n",
      "================================================================================\n",
      "No. Test Portfolios:                 17   R-squared:                      0.6829\n",
      "No. Factors:                          5   J-statistic:                    12.797\n",
      "No. Observations:                   252   P-value                         0.3840\n",
      "Date:                  Tue, Mar 08 2022   Distribution:                 chi2(12)\n",
      "Time:                          11:21:40                                         \n",
      "Cov. Estimator:                  robust                                         \n",
      "                                                                                \n",
      "                            Risk Premia Estimates                             \n",
      "==============================================================================\n",
      "            Parameter  Std. Err.     T-stat    P-value    Lower CI    Upper CI\n",
      "------------------------------------------------------------------------------\n",
      "Mkt-RF         0.5761     0.3015     1.9104     0.0561     -0.0149      1.1671\n",
      "SMB           -0.5247     0.5311    -0.9880     0.3231     -1.5656      0.5162\n",
      "HML           -0.1739     0.3476    -0.5003     0.6169     -0.8553      0.5074\n",
      "RMW            0.6034     0.3504     1.7223     0.0850     -0.0833      1.2901\n",
      "CMA           -0.0478     0.5679    -0.0842     0.9329     -1.1609      1.0653\n",
      "\n",
      "\n",
      "                              Food  Coefficients                              \n",
      "==============================================================================\n",
      "            Parameter  Std. Err.     T-stat    P-value    Lower CI    Upper CI\n",
      "------------------------------------------------------------------------------\n",
      "alpha         -0.0238     0.1263    -0.1888     0.8503     -0.2713      0.2236\n",
      "Mkt-RF         0.6500     0.0444     14.630     0.0000      0.5629      0.7371\n",
      "SMB           -0.0983     0.0699    -1.4078     0.1592     -0.2352      0.0386\n",
      "HML           -0.0588     0.0772    -0.7615     0.4464     -0.2100      0.0925\n",
      "RMW            0.4439     0.0687     6.4598     0.0000      0.3092      0.5786\n",
      "CMA            0.3919     0.1094     3.5804     0.0003      0.1774      0.6064\n",
      "\n",
      "\n",
      "                              Mines Coefficients                              \n",
      "==============================================================================\n",
      "alpha          0.2379     0.2576     0.9236     0.3557     -0.2670      0.7428\n",
      "Mkt-RF         1.1022     0.1254     8.7899     0.0000      0.8564      1.3480\n",
      "SMB            0.5423     0.1576     3.4418     0.0006      0.2335      0.8511\n",
      "HML           -0.0536     0.1830    -0.2928     0.7697     -0.4123      0.3051\n",
      "RMW            0.4562     0.2227     2.0485     0.0405      0.0197      0.8928\n",
      "CMA            0.3461     0.2929     1.1816     0.2374     -0.2280      0.9201\n",
      "\n",
      "\n",
      "                              Oil   Coefficients                              \n",
      "==============================================================================\n",
      "alpha         -0.3093     0.2952    -1.0479     0.2947     -0.8879      0.2692\n",
      "Mkt-RF         1.0949     0.1047     10.457     0.0000      0.8897      1.3001\n",
      "SMB            0.2668     0.1308     2.0396     0.0414      0.0104      0.5231\n",
      "HML            0.3145     0.1879     1.6733     0.0943     -0.0539      0.6828\n",
      "RMW            0.5627     0.1859     3.0276     0.0025      0.1984      0.9270\n",
      "CMA            0.0992     0.2229     0.4448     0.6565     -0.3378      0.5361\n",
      "\n",
      "\n",
      "                              Clths Coefficients                              \n",
      "==============================================================================\n",
      "alpha          0.2288     0.1780     1.2851     0.1988     -0.1202      0.5778\n",
      "Mkt-RF         1.1275     0.0693     16.268     0.0000      0.9917      1.2634\n",
      "SMB            0.2901     0.1093     2.6546     0.0079      0.0759      0.5042\n",
      "HML            0.3003     0.1086     2.7649     0.0057      0.0874      0.5132\n",
      "RMW            0.6861     0.1163     5.8975     0.0000      0.4581      0.9141\n",
      "CMA           -0.1768     0.1624    -1.0891     0.2761     -0.4951      0.1414\n",
      "\n",
      "\n",
      "                              Durbl Coefficients                              \n",
      "==============================================================================\n",
      "alpha         -0.0491     0.2875    -0.1707     0.8645     -0.6125      0.5144\n",
      "Mkt-RF         1.2124     0.0570     21.268     0.0000      1.1006      1.3241\n",
      "SMB            0.4872     0.0862     5.6542     0.0000      0.3183      0.6561\n",
      "HML            0.1251     0.0941     1.3294     0.1837     -0.0594      0.3096\n",
      "RMW            0.4743     0.0975     4.8624     0.0000      0.2831      0.6655\n",
      "CMA            0.2059     0.1428     1.4413     0.1495     -0.0741      0.4858\n",
      "\n",
      "\n",
      "                              Chems Coefficients                              \n",
      "==============================================================================\n",
      "alpha         -0.1641     0.2002    -0.8199     0.4123     -0.5564      0.2282\n",
      "Mkt-RF         1.2287     0.0619     19.858     0.0000      1.1074      1.3500\n",
      "SMB            0.1195     0.0769     1.5543     0.1201     -0.0312      0.2702\n",
      "HML            0.2642     0.1100     2.4016     0.0163      0.0486      0.4798\n",
      "RMW            0.4496     0.1047     4.2940     0.0000      0.2444      0.6548\n",
      "CMA           -0.0161     0.1524    -0.1055     0.9160     -0.3147      0.2825\n",
      "\n",
      "\n",
      "                              Cnsum Coefficients                              \n",
      "==============================================================================\n",
      "alpha         -0.0324     0.1290    -0.2509     0.8019     -0.2852      0.2205\n",
      "Mkt-RF         0.6855     0.0422     16.238     0.0000      0.6028      0.7683\n",
      "SMB           -0.2988     0.0879    -3.3982     0.0007     -0.4712     -0.1265\n",
      "HML           -0.1905     0.0830    -2.2949     0.0217     -0.3532     -0.0278\n",
      "RMW            0.2158     0.0884     2.4413     0.0146      0.0425      0.3890\n",
      "CMA            0.5854     0.1291     4.5340     0.0000      0.3323      0.8385\n",
      "\n",
      "\n",
      "                              Cnstr Coefficients                              \n",
      "==============================================================================\n",
      "alpha          0.1289     0.2273     0.5672     0.5706     -0.3166      0.5745\n",
      "Mkt-RF         1.1400     0.0571     19.954     0.0000      1.0280      1.2519\n",
      "SMB            0.3155     0.0818     3.8576     0.0001      0.1552      0.4758\n",
      "HML            0.2343     0.0943     2.4848     0.0130      0.0495      0.4190\n",
      "RMW            0.3685     0.1053     3.5000     0.0005      0.1622      0.5749\n",
      "CMA           -0.0397     0.1479    -0.2687     0.7882     -0.3297      0.2502\n",
      "\n",
      "\n",
      "                              Steel Coefficients                              \n",
      "==============================================================================\n",
      "alpha         -0.2694     0.1875    -1.4374     0.1506     -0.6368      0.0979\n",
      "Mkt-RF         1.5604     0.0932     16.748     0.0000      1.3778      1.7430\n",
      "SMB            0.4282     0.1254     3.4149     0.0006      0.1824      0.6739\n",
      "HML            0.1587     0.1469     1.0803     0.2800     -0.1292      0.4467\n",
      "RMW           -0.0640     0.1523    -0.4200     0.6745     -0.3625      0.2346\n",
      "CMA            0.0119     0.2166     0.0549     0.9562     -0.4127      0.4365\n",
      "\n",
      "\n",
      "                              FabPr Coefficients                              \n",
      "==============================================================================\n",
      "alpha          0.1679     0.1592     1.0542     0.2918     -0.1442      0.4799\n",
      "Mkt-RF         1.1320     0.0607     18.648     0.0000      1.0130      1.2509\n",
      "SMB            0.3401     0.0889     3.8240     0.0001      0.1658      0.5144\n",
      "HML            0.0841     0.0855     0.9838     0.3252     -0.0834      0.2516\n",
      "RMW            0.6146     0.1116     5.5064     0.0000      0.3959      0.8334\n",
      "CMA            0.0718     0.1228     0.5848     0.5587     -0.1688      0.3124\n",
      "\n",
      "\n",
      "                              Machn Coefficients                              \n",
      "==============================================================================\n",
      "alpha          0.1807     0.1187     1.5218     0.1281     -0.0520      0.4133\n",
      "Mkt-RF         1.2727     0.0488     26.066     0.0000      1.1770      1.3684\n",
      "SMB            0.0467     0.0981     0.4760     0.6341     -0.1455      0.2389\n",
      "HML           -0.2866     0.0842    -3.4062     0.0007     -0.4516     -0.1217\n",
      "RMW           -0.5092     0.1058    -4.8129     0.0000     -0.7166     -0.3019\n",
      "CMA           -0.1126     0.1529    -0.7366     0.4614     -0.4124      0.1871\n",
      "\n",
      "\n",
      "                              Cars  Coefficients                              \n",
      "==============================================================================\n",
      "alpha         -0.1037     0.2715    -0.3819     0.7025     -0.6357      0.4284\n",
      "Mkt-RF         1.4730     0.1098     13.409     0.0000      1.2577      1.6883\n",
      "SMB            0.3376     0.1417     2.3822     0.0172      0.0598      0.6153\n",
      "HML            0.0005     0.1493     0.0032     0.9975     -0.2922      0.2932\n",
      "RMW            0.6393     0.2040     3.1345     0.0017      0.2395      1.0390\n",
      "CMA            0.3003     0.2118     1.4178     0.1563     -0.1148      0.7155\n",
      "\n",
      "\n",
      "                              Trans Coefficients                              \n",
      "==============================================================================\n",
      "alpha          0.0177     0.1531     0.1157     0.9079     -0.2824      0.3178\n",
      "Mkt-RF         1.0870     0.0509     21.356     0.0000      0.9873      1.1868\n",
      "SMB            0.1692     0.0749     2.2581     0.0239      0.0223      0.3160\n",
      "HML            0.2456     0.0732     3.3533     0.0008      0.1021      0.3892\n",
      "RMW            0.5417     0.0859     6.3081     0.0000      0.3734      0.7100\n",
      "CMA            0.0592     0.1103     0.5365     0.5916     -0.1570      0.2753\n",
      "\n",
      "\n",
      "                              Utils Coefficients                              \n",
      "==============================================================================\n",
      "alpha          0.2205     0.1916     1.1509     0.2498     -0.1550      0.5961\n",
      "Mkt-RF         0.5523     0.0661     8.3512     0.0000      0.4227      0.6819\n",
      "SMB           -0.1186     0.0881    -1.3456     0.1784     -0.2914      0.0542\n",
      "HML            0.0460     0.1136     0.4047     0.6857     -0.1767      0.2686\n",
      "RMW            0.2229     0.1136     1.9615     0.0498      0.0002      0.4456\n",
      "CMA            0.4412     0.1727     2.5548     0.0106      0.1027      0.7797\n",
      "\n",
      "\n",
      "                              Rtail Coefficients                              \n",
      "==============================================================================\n",
      "alpha         -0.0738     0.1336    -0.5525     0.5806     -0.3356      0.1880\n",
      "Mkt-RF         0.9319     0.0483     19.284     0.0000      0.8372      1.0266\n",
      "SMB           -0.0183     0.0752    -0.2440     0.8072     -0.1657      0.1290\n",
      "HML           -0.1090     0.0905    -1.2046     0.2284     -0.2863      0.0683\n",
      "RMW            0.4844     0.0890     5.4459     0.0000      0.3101      0.6588\n",
      "CMA            0.0799     0.1394     0.5733     0.5664     -0.1933      0.3531\n",
      "\n",
      "\n",
      "                              Finan Coefficients                              \n",
      "==============================================================================\n",
      "alpha          0.1184     0.1239     0.9557     0.3392     -0.1244      0.3612\n",
      "Mkt-RF         1.0403     0.0322     32.259     0.0000      0.9771      1.1035\n",
      "SMB           -0.1548     0.0614    -2.5210     0.0117     -0.2751     -0.0344\n",
      "HML            0.8399     0.0647     12.986     0.0000      0.7131      0.9666\n",
      "RMW           -0.1581     0.0635    -2.4918     0.0127     -0.2825     -0.0337\n",
      "CMA           -0.2297     0.0842    -2.7284     0.0064     -0.3948     -0.0647\n",
      "\n",
      "\n",
      "                              Other Coefficients                              \n",
      "==============================================================================\n",
      "alpha         -0.0694     0.1258    -0.5514     0.5813     -0.3159      0.1772\n",
      "Mkt-RF         1.0366     0.0176     59.035     0.0000      1.0022      1.0710\n",
      "SMB           -0.0425     0.0337    -1.2605     0.2075     -0.1085      0.0236\n",
      "HML           -0.1668     0.0277    -6.0203     0.0000     -0.2211     -0.1125\n",
      "RMW           -0.1333     0.0377    -3.5391     0.0004     -0.2072     -0.0595\n",
      "CMA           -0.1018     0.0577    -1.7643     0.0777     -0.2148      0.0113\n",
      "==============================================================================\n",
      "\n",
      "Covariance estimator:\n",
      "HeteroskedasticCovariance\n",
      "See full_summary for complete results\n"
     ]
    }
   ],
   "source": [
    "print(res.full_summary)"
   ]
  },
  {
   "cell_type": "code",
   "execution_count": null,
   "id": "0a4f88e6",
   "metadata": {},
   "outputs": [],
   "source": []
  }
 ],
 "metadata": {
  "kernelspec": {
   "display_name": "Python 3 (ipykernel)",
   "language": "python",
   "name": "python3"
  },
  "language_info": {
   "codemirror_mode": {
    "name": "ipython",
    "version": 3
   },
   "file_extension": ".py",
   "mimetype": "text/x-python",
   "name": "python",
   "nbconvert_exporter": "python",
   "pygments_lexer": "ipython3",
   "version": "3.9.6"
  }
 },
 "nbformat": 4,
 "nbformat_minor": 5
}
