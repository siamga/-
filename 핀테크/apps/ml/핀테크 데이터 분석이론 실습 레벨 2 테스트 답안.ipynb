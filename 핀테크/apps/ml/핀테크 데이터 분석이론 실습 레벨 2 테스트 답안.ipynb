{
 "cells": [
  {
   "cell_type": "markdown",
   "id": "511d12c0",
   "metadata": {},
   "source": [
    "# 지도학습, 비지도학습, 강화학습\n",
    "\n",
    "# Randomforest 방식\n",
    "\n",
    "# 트리 생성 제약이 없는 경우 발생할 수 있는 과적합 문제\n",
    "\n",
    "# \n",
    "## 재현율: 실제 p 중에 예측이 맞는 확률= TP/(TP+FN)\n",
    "## 정밀도: 예측 p 중에 실제 맞는 확률= TP/(TP+FP)\n"
   ]
  },
  {
   "cell_type": "code",
   "execution_count": 11,
   "id": "06b6ea42",
   "metadata": {
    "ExecuteTime": {
     "end_time": "2022-04-19T11:54:03.480283Z",
     "start_time": "2022-04-19T11:54:03.468319Z"
    }
   },
   "outputs": [
    {
     "name": "stdout",
     "output_type": "stream",
     "text": [
      "4-1번의 정답: 0.88\n",
      "4-2번의 정답: 0.92\n"
     ]
    }
   ],
   "source": [
    "# 4.1\n",
    "TP = 5539 \n",
    "FP = 512\n",
    "TN = 53223\n",
    "FN = 726\n",
    "recall = TP/(TP+FN)\n",
    "\n",
    "# 4.2\n",
    "precision = TP/(TP+FP)\n",
    "\n",
    "print('4-1번의 정답: {}'.format(round(recall,2)))\n",
    "print('4-2번의 정답: {}'.format(round(precision,2)))"
   ]
  },
  {
   "cell_type": "markdown",
   "id": "ad55a308",
   "metadata": {},
   "source": [
    "# \n",
    "## breast_cancer\n",
    "## breast_cancer.target\n",
    "## 0.2\n",
    "## estimator = 400, learning_rate=0.1, max_depth = 3\n",
    "## X_train, y_train"
   ]
  }
 ],
 "metadata": {
  "hide_input": false,
  "kernelspec": {
   "display_name": "Python 3 (ipykernel)",
   "language": "python",
   "name": "python3"
  },
  "language_info": {
   "codemirror_mode": {
    "name": "ipython",
    "version": 3
   },
   "file_extension": ".py",
   "mimetype": "text/x-python",
   "name": "python",
   "nbconvert_exporter": "python",
   "pygments_lexer": "ipython3",
   "version": "3.10.2"
  },
  "toc": {
   "base_numbering": 1,
   "nav_menu": {},
   "number_sections": true,
   "sideBar": true,
   "skip_h1_title": false,
   "title_cell": "Table of Contents",
   "title_sidebar": "Contents",
   "toc_cell": false,
   "toc_position": {},
   "toc_section_display": true,
   "toc_window_display": true
  },
  "varInspector": {
   "cols": {
    "lenName": 16,
    "lenType": 16,
    "lenVar": 40
   },
   "kernels_config": {
    "python": {
     "delete_cmd_postfix": "",
     "delete_cmd_prefix": "del ",
     "library": "var_list.py",
     "varRefreshCmd": "print(var_dic_list())"
    },
    "r": {
     "delete_cmd_postfix": ") ",
     "delete_cmd_prefix": "rm(",
     "library": "var_list.r",
     "varRefreshCmd": "cat(var_dic_list()) "
    }
   },
   "types_to_exclude": [
    "module",
    "function",
    "builtin_function_or_method",
    "instance",
    "_Feature"
   ],
   "window_display": false
  }
 },
 "nbformat": 4,
 "nbformat_minor": 5
}
