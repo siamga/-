{
 "cells": [
  {
   "cell_type": "markdown",
   "id": "454a170d",
   "metadata": {
    "ExecuteTime": {
     "end_time": "2022-04-13T04:33:57.701272Z",
     "start_time": "2022-04-13T04:33:57.196879Z"
    }
   },
   "source": [
    "# 기본 개념 \n",
    "## ML의 요소\n",
    "### 특징(features)\n",
    "* 학습 모델에 공급되는 입력 = 독립변수\n",
    "\n",
    "### 레이블(label)\n",
    "* 학습모델의 입력값에 대한 출력값 = 종속변수\n",
    "\n",
    "### 샘플(sample)\n",
    "* 기계학습에 주어지는 예시 = 학습 대상\n",
    "->지도 학습의 경우 sample feature와 그에 대한 label을 입력\n",
    "\n",
    "### 학습(learning)\n",
    "* 모델을 만들거나 배우는 것 = 샘플 기반 모델 생성\n",
    "\n",
    "### 예측(prediction)\n",
    "* 레이블이 없는 샘플을 이용해 모델에 적용 = 결과 예측\n",
    "\n",
    "### 지도학습\n",
    "- 회귀(regression)\n",
    "    * 의미\n",
    "        -실수 입력(x)에 대해 실수 출력(y)이 주어지는 학습\n",
    "    * 예시\n",
    "        -Linear, Polynomial\n",
    "    \n",
    "- 분류(classification)\n",
    "    * 의미\n",
    "        -입력에 대해 두개 이상의 레이블로 분할하는 것\n",
    "        -학습에 대한 레이블 제공 필수\n",
    "    * 예시\n",
    "        -kNN,SVM,의사결정트리, Naive-Bayes, \n",
    "        <br>Logistic Regression 등\n",
    "\n",
    "### 비지도학습\n",
    "- 의미\n",
    "    *레이블이 주어지지 않고 컴퓨터가 스스로 데이터를 나누는 것\n",
    "- 예시\n",
    "    * k-means 클러스터링\n",
    "\n",
    "### 강화학습\n",
    "- 의미 \n",
    "    * 컴퓨터의 결과에 따라 처벌이나 보상을 주어지는 학습\n",
    "    \n"
   ]
  },
  {
   "cell_type": "markdown",
   "id": "7aa0ccec",
   "metadata": {},
   "source": [
    "# 기본적 지도학습 예시\n",
    "## 분류\n",
    "### 개념\n",
    "* 피처와 레이블로 모델을 학습한 뒤, 테스트 데이터 세트를 기반으로 레이블을 예측한다.\n",
    "\n",
    "### 과정\n",
    "1. 데이터 세트 분리\n",
    "    * 데이터를 학습 데이터와 테스트 데이터로 분리한다.\n",
    "<br>\n",
    "</br>\n",
    "2. 모델 학습\n",
    "    * ML 알고리즘을 적용해 학습 데이터를 기반으로 학습시킨다.\n",
    "<br>\n",
    "</br>\n",
    "3. 예측 수행\n",
    "    * ML모델을 이용해 테스트 데이터의 레이블을 예측한다.\n",
    "<br>\n",
    "</br>\n",
    "4. 평가\n",
    "    * 예측 결과와 테스트 데이터의 실제 결과를 비교해 ML 모델 성능을 평가한다.\n",
    "    \n",
    "### 붓꽃 데이터 기반 지도학습-분류 예시"
   ]
  },
  {
   "cell_type": "code",
   "execution_count": 1,
   "id": "4103977e",
   "metadata": {
    "ExecuteTime": {
     "end_time": "2022-04-19T12:41:00.036623Z",
     "start_time": "2022-04-19T12:40:58.237152Z"
    }
   },
   "outputs": [
    {
     "name": "stdout",
     "output_type": "stream",
     "text": [
      "0.8666666666666667\n",
      "0.8666666666666667\n"
     ]
    }
   ],
   "source": [
    "from sklearn.datasets import load_iris\n",
    "from sklearn.tree import DecisionTreeClassifier\n",
    "from sklearn.model_selection import train_test_split\n",
    "from sklearn.metrics import accuracy_score\n",
    "import pandas as pd\n",
    "\n",
    "iris = load_iris()\n",
    "#데이터 호출\n",
    "\n",
    "iris_data = iris.data\n",
    "iris_label = iris.target\n",
    "#데이터와 레이블 지정\n",
    "\n",
    "X_train, X_test, y_train, y_test = train_test_split(iris_data,iris_label,test_size=0.2,random_state=11)\n",
    "#데이터 분리(훈련,테스트)\n",
    "\n",
    "dt_clf = DecisionTreeClassifier()\n",
    "#모델 선정\n",
    "\n",
    "dt_clf.fit(X_train, y_train)\n",
    "#모델 학습\n",
    "pred = dt_clf.predict(X_test)\n",
    "#예측 수행\n",
    "\n",
    "print(dt_clf.score(X_test,y_test))\n",
    "print(accuracy_score(y_test,pred))\n",
    "# 모델 평가: 정확도 기반"
   ]
  },
  {
   "cell_type": "markdown",
   "id": "e688ece3",
   "metadata": {},
   "source": [
    "### 데이터의 구분: 학습데이터, 테스트 데이터\n",
    "#### 학습 데이터\n",
    "* 머신러닝 알고리즘 학습 목적\n",
    "* 데이터의 성격: 속성(독립변수)와 결정값(종속변수)로 구성\n",
    "\n",
    "#### 테스트 데이터\n",
    "* 학습된 알고리즘의 테스트 목적\n",
    "* 데이터의 성격: 속성(독립변수)만으로 구성\n",
    "* 테스트 데이터의 실제 결정값(종속변수)는 알고리즘의 평가 목적으로 사용\n",
    "\n",
    "### 교차 검증\n",
    "#### 의미\n",
    "* 최초 데이터: 학습데이터 세트, 테스트 데이터 세트 구분\n",
    "* 학습 데이터 세트: 실제 학습 데이터, 검증 데이터 구분\n",
    "* 학습 데이터 자체를 학습 데이터와 검증 데이터로 구분하여 1차 평가를 하고 학습/검증 이후 테스트 데이터 세트를 기반으로 최종 성능 평가\n",
    "#### 필요성\n",
    "##### 오버피팅의 가능성 축소\n",
    "1. 오버피팅\n",
    "    <br>*데이터를 학습, 테스트 데이터로 분리 학습하는 과정에서 학습 데이터에 대한 정확성이 너무 높아서 테스트 데이터를 제대로 예측하지 못하는 현상\n",
    "    <br>->이 가능성을 줄이기 위해서 학습 데이터 자체에서 검증 데이터를 분리 학습 시켜 학습 과정에서 검증을 진행하면서 오버피팅의 확률을 줄인다.\n",
    "    \n",
    "#### K-fold 교차 검증\n",
    "##### 의미\n",
    "* 학습 데이터 세트를 임의의 k개의 폴드 세트로 구분하여 검증 평가를 각기 다른 데이터 세트로 k번 실행하는 방식의 학습/검증 과정\n",
    "#####  종류\n",
    "    1. 일반 k-fold\n",
    "    2. Stratified K-fold\n",
    "        * 분균형한 분포를 가진 레이블 데이터의 경우 임의로 k개의 폴드 세트로 구분하는 과정에서 데이터의 왜곡이 발생 할 수 있다.\n",
    "        * 이를 방지하기 위해 전체 데이터 레이블의 분포를 반영하여 데이터를 구분하여 데이터 왜곡을 방지한다.\n",
    "    \n",
    "#### cross_val_score()\n",
    "##### K-fold 교차검증의 과정\n",
    "    1. 폴드 세트 설정\n",
    "    2. for 루프를 통해 반복적인 학습/검증 데이터 추출 및 학습/검증 수행\n",
    "    3. 폴드 세트 별 예측 성능을 평균한 최종 성능 평가\n",
    "\n",
    "##### cross_val_score함수\n",
    "    -> 일련의 k-fold 교차 검증을 한번에 수행한다.\n",
    "    -> 이때, 교차 검증의 지표는 사용자가 임의로 설정 할 수 있다.\n",
    "\n",
    "#### GridSearchCV()\n",
    "##### 활용법\n",
    "    * 분류(Classifier)나 회귀(Regression) 같은 알고리즘 활요에 사용되는 하이퍼 파라미터의 순차적 입력을 할 수 있게 하여 최적의 파라미터 도출을 돕는다.\n",
    "#### 실행과정\n",
    "    * 특정 알고리즘의 하이퍼 파라미터가 2종류에 각각의 파라미터에 n개의 수치를 입력하는 경우 n^2의 결과값이 나오고 이중 최적의 파라미터를 도출한다.\n",
    "\n",
    "\n",
    "#### 교차검증 예시"
   ]
  },
  {
   "cell_type": "code",
   "execution_count": 2,
   "id": "6f41acd1",
   "metadata": {
    "ExecuteTime": {
     "end_time": "2022-04-19T12:41:00.083612Z",
     "start_time": "2022-04-19T12:41:00.040615Z"
    }
   },
   "outputs": [
    {
     "name": "stdout",
     "output_type": "stream",
     "text": [
      "#1 교차 검증 정확도 1.0, 학습데이터 크기:120, 검증데이터 크기:30\n",
      "#1 검증 세트 인덱스[ 0  1  2  3  4  5  6  7  8  9 10 11 12 13 14 15 16 17 18 19 20 21 22 23\n",
      " 24 25 26 27 28 29]\n",
      "#2 교차 검증 정확도 1.0, 학습데이터 크기:120, 검증데이터 크기:30\n",
      "#2 검증 세트 인덱스[30 31 32 33 34 35 36 37 38 39 40 41 42 43 44 45 46 47 48 49 50 51 52 53\n",
      " 54 55 56 57 58 59]\n",
      "#3 교차 검증 정확도 1.0, 학습데이터 크기:120, 검증데이터 크기:30\n",
      "#3 검증 세트 인덱스[60 61 62 63 64 65 66 67 68 69 70 71 72 73 74 75 76 77 78 79 80 81 82 83\n",
      " 84 85 86 87 88 89]\n",
      "#4 교차 검증 정확도 1.0, 학습데이터 크기:120, 검증데이터 크기:30\n",
      "#4 검증 세트 인덱스[ 90  91  92  93  94  95  96  97  98  99 100 101 102 103 104 105 106 107\n",
      " 108 109 110 111 112 113 114 115 116 117 118 119]\n",
      "#5 교차 검증 정확도 1.0, 학습데이터 크기:120, 검증데이터 크기:30\n",
      "#5 검증 세트 인덱스[120 121 122 123 124 125 126 127 128 129 130 131 132 133 134 135 136 137\n",
      " 138 139 140 141 142 143 144 145 146 147 148 149]\n",
      "\n",
      " 평균 검증 정확도 1.0\n"
     ]
    }
   ],
   "source": [
    "from sklearn.tree import DecisionTreeClassifier\n",
    "from sklearn.metrics import accuracy_score\n",
    "from sklearn.model_selection import KFold\n",
    "import numpy as np\n",
    "import pandas as pd\n",
    "\n",
    "iris = load_iris()\n",
    "features = iris.data\n",
    "label = iris.target\n",
    "dt_clf = DecisionTreeClassifier(random_state=156)\n",
    "# 데이터 호출, 데이터 및 레이블 지정, 모델 설정\n",
    "\n",
    "# 일반 k-fold\n",
    "kfold = KFold(n_splits=5)\n",
    "cv_accuracy = []\n",
    "\n",
    "n_iter = 0\n",
    "\n",
    "for train_index , test_index in kfold.split(features):\n",
    "    X_train, X_test = features[train_index], features[test_index]\n",
    "    y_train, y_test = label[train_index], label[test_index]\n",
    "    \n",
    "    dt_clf.fit(X_train, y_train)\n",
    "    pred = dt_clf.predict(X_test)\n",
    "    n_iter += 1\n",
    "\n",
    "    accuracy = np.round(accuracy_score(y_test,pred))\n",
    "    train_size = X_train.shape[0]\n",
    "    test_size = X_test.shape[0]\n",
    "\n",
    "    print(f'#{n_iter} 교차 검증 정확도 {accuracy}, 학습데이터 크기:{train_size}, 검증데이터 크기:{test_size}')\n",
    "    print(f'#{n_iter} 검증 세트 인덱스{test_index}')\n",
    "\n",
    "    cv_accuracy.append(accuracy)\n",
    "\n",
    "print(f'\\n 평균 검증 정확도 {np.mean(cv_accuracy)}')\n",
    "\n",
    "# 해당 과정에서 StratifiedKFold로 변경해서 데이터 편향에 따른 왜곡을 줄일 수 있다."
   ]
  },
  {
   "cell_type": "code",
   "execution_count": 3,
   "id": "a659208c",
   "metadata": {
    "ExecuteTime": {
     "end_time": "2022-04-19T12:41:00.129646Z",
     "start_time": "2022-04-19T12:41:00.087591Z"
    }
   },
   "outputs": [
    {
     "name": "stdout",
     "output_type": "stream",
     "text": [
      "교차 검증별 정확도:  [0.98 0.94 0.98]\n",
      "평균 검증 정확도: 0.9667\n"
     ]
    }
   ],
   "source": [
    "# cross_val_score의 활용\n",
    "from sklearn.tree import DecisionTreeClassifier\n",
    "from sklearn.model_selection import cross_val_score, cross_validate\n",
    "from sklearn.datasets import load_iris, load_diabetes\n",
    "from sklearn import datasets, linear_model\n",
    "import numpy as np\n",
    "\n",
    "\n",
    "iris_data = load_iris()\n",
    "dt_clf = DecisionTreeClassifier(random_state=156)\n",
    "\n",
    "data = iris_data.data\n",
    "label = iris_data.target\n",
    "\n",
    "scores = cross_val_score(dt_clf,data,label,scoring='accuracy',cv=3)\n",
    "# 모델, 데이터, 레이블, 지표, 분할 수를 설정하여 위의 과정을 한번에 처리\n",
    "# 이진분류나 다중 클래스의 경우 자동으로 StratifiedKFold 설정\n",
    "\n",
    "print('교차 검증별 정확도: ',np.round(scores,4))\n",
    "print('평균 검증 정확도:',np.round(np.mean(scores),4))\n"
   ]
  },
  {
   "cell_type": "code",
   "execution_count": 4,
   "id": "e5937793",
   "metadata": {
    "ExecuteTime": {
     "end_time": "2022-04-19T12:41:00.207735Z",
     "start_time": "2022-04-19T12:41:00.133601Z"
    }
   },
   "outputs": [
    {
     "name": "stdout",
     "output_type": "stream",
     "text": [
      "GridSearchCV 최적 파라미터: {'max_depth': 3, 'min_samples_split': 2}\n",
      "GridSearchCV 최고 정확도: 0.9750\n",
      "테스트 데이터 정확도: 0.966667\n"
     ]
    }
   ],
   "source": [
    "#GridSearchCV의 활용\n",
    "from sklearn.datasets import load_iris\n",
    "from sklearn.tree import DecisionTreeClassifier\n",
    "from sklearn.model_selection import GridSearchCV, train_test_split\n",
    "from sklearn.metrics import accuracy_score\n",
    "\n",
    "iris = load_iris()\n",
    "X_train, X_test, y_train, y_test = train_test_split(iris_data.data,iris_data.target,test_size=0.2, random_state=121)\n",
    "\n",
    "dtree = DecisionTreeClassifier()\n",
    "\n",
    "parameters = {'max_depth':[1,2,3],'min_samples_split':[2,3]}\n",
    "\n",
    "\n",
    "import pandas as pd\n",
    "\n",
    "grid_dtree = GridSearchCV(dtree,param_grid=parameters,cv=3)\n",
    "\n",
    "grid_dtree.fit(X_train,y_train)\n",
    "\n",
    "scores_df = pd.DataFrame(grid_dtree.cv_results_)\n",
    "scores_df[['params','mean_test_score','rank_test_score',\\\n",
    "    'split0_test_score','split1_test_score','split2_test_score']]\n",
    "#->근디 여기는 왜 scoring을 지정 안했는디 최적 파라미터 같은게 나오냐....\n",
    "# 기본적으로 scoring을 지정하지 않아도 model에서 method 형태로 score가 지정되어\n",
    "#있다면 자동으로 해당 method가 사용된다.\n",
    "\n",
    "\n",
    "print('GridSearchCV 최적 파라미터:', grid_dtree.best_params_)\n",
    "print('GridSearchCV 최고 정확도: {0:.4f}'.format(grid_dtree.best_score_))\n",
    "\n",
    "estimator = grid_dtree.best_estimator_\n",
    "pred = estimator.predict(X_test)\n",
    "print('테스트 데이터 정확도: {0:4f}'.format(accuracy_score(y_test,pred)))\n"
   ]
  },
  {
   "cell_type": "markdown",
   "id": "1773815f",
   "metadata": {},
   "source": [
    "# 머신러닝 관련 라이브러리 \n",
    "## Scikit-learn\n",
    "### DecisionTreeClassifier\n",
    "#### import\n",
    "##### class sklearn.tree.DecisionTreeClassifier(*, criterion=‘gini’, splitter=‘best’, max_depth=None, min_samples_split=2, min_samples_leaf=1, min_weight_fraction_leaf=0.0, max_features=None, random_state=None, max_leaf_nodes=None, min_impurity_decrease=0.0, class_weight=None, ccp_alpha=0.0)\n",
    "\n"
   ]
  }
 ],
 "metadata": {
  "hide_input": false,
  "kernelspec": {
   "display_name": "Python 3 (ipykernel)",
   "language": "python",
   "name": "python3"
  },
  "language_info": {
   "codemirror_mode": {
    "name": "ipython",
    "version": 3
   },
   "file_extension": ".py",
   "mimetype": "text/x-python",
   "name": "python",
   "nbconvert_exporter": "python",
   "pygments_lexer": "ipython3",
   "version": "3.10.2"
  },
  "toc": {
   "base_numbering": 1,
   "nav_menu": {},
   "number_sections": true,
   "sideBar": true,
   "skip_h1_title": false,
   "title_cell": "Table of Contents",
   "title_sidebar": "Contents",
   "toc_cell": false,
   "toc_position": {
    "height": "calc(100% - 180px)",
    "left": "10px",
    "top": "150px",
    "width": "165px"
   },
   "toc_section_display": true,
   "toc_window_display": false
  },
  "varInspector": {
   "cols": {
    "lenName": 16,
    "lenType": 16,
    "lenVar": 40
   },
   "kernels_config": {
    "python": {
     "delete_cmd_postfix": "",
     "delete_cmd_prefix": "del ",
     "library": "var_list.py",
     "varRefreshCmd": "print(var_dic_list())"
    },
    "r": {
     "delete_cmd_postfix": ") ",
     "delete_cmd_prefix": "rm(",
     "library": "var_list.r",
     "varRefreshCmd": "cat(var_dic_list()) "
    }
   },
   "types_to_exclude": [
    "module",
    "function",
    "builtin_function_or_method",
    "instance",
    "_Feature"
   ],
   "window_display": false
  }
 },
 "nbformat": 4,
 "nbformat_minor": 5
}
