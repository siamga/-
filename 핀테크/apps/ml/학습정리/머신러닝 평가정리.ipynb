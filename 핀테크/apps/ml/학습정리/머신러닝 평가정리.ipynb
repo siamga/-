{
 "cells": [
  {
   "cell_type": "markdown",
   "id": "a47c157c",
   "metadata": {},
   "source": [
    "# 머신러닝 평가\n",
    "## 분류(Classification) 성능 평가 지표 종류\n",
    "1. 정확도(accuracy)\n",
    "2. 오차행렬(confusion maerix)\n",
    "3. 정밀도(precision)\n",
    "4. 재현율(recall)\n",
    "5. F1 스코어\n",
    "6. ROC AUC\n",
    "\n",
    "## 정확도\n",
    "### 의미\n",
    "* 직관적 모델 성능 평가 지표\n",
    "* 정확도 = (예측=실제 결과인 데이터 건수)/(전체 예측 데이터)\n",
    "\n",
    "### 단점\n",
    "* 데이터 구성에 따라 모델 성능의 왜곡 발생 가능\n",
    "* 레이블 값의 분포가 특정 데이터에 집중이 되어 있는 경우 테스트 데이터의 실제 레이블 값이 해당 데이터로 이뤄져 실제로 좋지 못한 모델임에도 정확도가 높게 나올 수 있다.\n",
    "    "
   ]
  },
  {
   "cell_type": "markdown",
   "id": "8b5f914e",
   "metadata": {},
   "source": [
    "## 오차행렬(confusion matrix)\n",
    "### 의미\n",
    "* 이진 분류의 예측 오류의 정도와 어느 유형의 예측 오류가 발생하는지 나타내는 지표\n",
    "|실제/예측|Negative|Positive|\n",
    "|------|---|---|\n",
    "|Negative|TN|FP|\n",
    "|Positive|FN|TP|\n",
    "\n",
    "### 오차행렬의 해석\n",
    "1. TN(True Negative)\n",
    "    * 실제: Negative 결과\n",
    "    * 예측: Negative 예측\n",
    "    * 실제 = 예측 : True\n",
    "    * 따라서 Negative 예측 결과가 True인 TN(실제 negative)\n",
    "<br></br>\n",
    "2. FP(False Positive)\n",
    "    * 실제: Negative\n",
    "    * 예측: Positive\n",
    "    * 실제 = 예측: False\n",
    "    * Positive 예측 결과가 False인 FP(실제 negative)\n",
    "<br></br>\n",
    "3. FN(False Negative)\n",
    "    * 실제: Positive\n",
    "    * 예측: Negative\n",
    "    * 실제 = 예측: False\n",
    "    * Negative 예측 결과가 False인 FN(실제 positive)\n",
    "<br></br>\n",
    "4. TP(True Positive)\n",
    "    * 실제: Positive\n",
    "    * 예측: Positive\n",
    "    * 실제 = 예측 : Positive\n",
    "    * Positive 예측 결과가 True인 TP(실제 positive)\n",
    "    \n",
    "### 오차행렬의 정확도 \n",
    "* 정확도 = (예측=실제인 데이터 건수)/(전체 데이터 수)\n",
    "<br>     = (TN+TP)/(TN+TP+FN+FP)\n",
    "\n",
    "### 오차행렬의 정밀도와 재현율\n",
    "#### 의미\n",
    "* 정밀도(precision)\n",
    "<br>-> 예측이 positive인 데이터 중에서 실제 positive 예측 비율\n",
    "* 재현율(recall)\n",
    "<br>-> 실제가 positive인 데이터 중에서 실제와 예측이 일치하는 비율\n",
    "\n",
    "#### 계산\n",
    "* 정밀도(precision) = TP/(TP+FP)\n",
    "* 재현율(recall) = TP/(TP+FN)\n",
    "\n",
    "### 정밀도와 재현율의 상관관계\n",
    "* 상호보완적인 수치로 trade off 작용을 한다.\n",
    "* 정밀도와 재현율 둘다 강조되는 경우 임계값(Threshold)의 조정으로 수치 조정 가능\n",
    "\n",
    "#### 분류결정 임계값에 따른 positive 예측 확률의 변화\n",
    "* 분류결정의 임계값이 낮아질수록 positive 예측 확률이 높아진다\n",
    "<br>-> 재현율 증가\n",
    "* precision_recall_curve() 함수를 통해 특정 임계값에 따른 정밀도와 재현율의 변화값을 제공한다\n",
    "\n",
    "* 임계값의 의미\n",
    "<br>우리가 실제 결과값은 0과 1로 제시되어 있지만 예측 모델에서는 주어진 독립변수를 기반으로 실제 결과값을 예상하기 때문에 예측된 결과값이 실제로는 0과 1 사이의 임의의 수가 될 수 밖에 없다. 이때, 해당 결과값에 대해서 임계값을 넘으면 positive로 취급한다. 기본적으로 모델에서는 디폴트값으로 임계값을 0.5로 두기 때문에 별도 임계값을 설정하지 않아도 결과값이 0과 1로 표현되어 출력된다.\n",
    "\n",
    "#### 임계값에 따른 positivie 예측 변화 예시"
   ]
  },
  {
   "cell_type": "code",
   "execution_count": null,
   "id": "ce704520",
   "metadata": {
    "ExecuteTime": {
     "end_time": "2022-04-17T16:20:24.334665Z",
     "start_time": "2022-04-17T16:20:24.286793Z"
    }
   },
   "outputs": [],
   "source": []
  },
  {
   "cell_type": "markdown",
   "id": "0d398053",
   "metadata": {},
   "source": [
    "### 정밀도와 재현율의 맹점\n",
    "#### 정밀도 100%의 맹점\n",
    "* 정밀도는 전체 positive예측(맞든 틀리든 모든 positive 예측) 중에서 맞는 예측의 확률을 의미한다.\n",
    "<br>그렇다면 전체 예측 대상 중 확실한 1명을 제외하고 나머지를 일괄적으로 negative로 예측을 해 버리면 전체 positive 예측은 확실한 1명 밖에 남지 않기에 1/1= 100%의 정밀도를 갖는다\n",
    "\n",
    "#### 재현율 100%의 맹점\n",
    "* 재현율은 전체 positive 결과(맞든 틀리든 모든 postive 결과)에 대해서 맞는 예측의 확률을 의미한다.\n",
    "<br> 그렇다면 전체 예측 대상에 대해서 무조건 positive 예측을 해 버리면 재현율 계산에 negative 결과에 대한 positive 예측으로 False 예측이 나오는 FP는 계산에 포함되지 않고 나머지 TP만 계산에 들어가기 때문에 \n",
    "<br>TP/(0+TP) = 1 =100%가 된다"
   ]
  },
  {
   "cell_type": "markdown",
   "id": "1790efae",
   "metadata": {},
   "source": [
    "## F1 Score\n",
    "### 의미\n",
    "* 정밀도와 재현율을 결합한 지표\n",
    "* 정밀도와 재현율 중 어느 한쪽으로 치우치지 않는 수치를 나타내는 경우 상대적으로 높은 값이 나온다.\n",
    "<br> = 정밀도와 재현율이 비슷하면 상대적으로 수치가 높다.\n",
    "\n",
    "### 계산\n",
    "* F1 = 정밀도와 재현율의 역수에 대한 평균의 역수\n",
    "<br>= 2/{(1/recall)+(1/precision)}\n",
    "<br>= (2'prcision''recall')/(precision+recall)\n",
    "\n",
    "* sklearn에서 f1_score 함수를 제공한다. "
   ]
  },
  {
   "cell_type": "markdown",
   "id": "e1e4cd9a",
   "metadata": {},
   "source": [
    "## ROC 곡선과 AUC\n",
    "### 의미\n",
    "* ROC 곡선(Receiver Operation Characteristic Curve)과 이에 기반한 AUC스코어는 이진분류 예측 성능 측정의 지표이다.\n",
    "### 해석\n",
    "* ROC 곡선\n",
    "    - FPR(False Positive Rate) 변화에 따른 TPR(True Positive Rate)의 변화를 나타낸 곡선\n",
    "<br></br>\n",
    "* X축: False Posivie Rate\n",
    "* Y축: True Positive Rate\n",
    "<br></br>\n",
    "* AUC(Area Under Cover)\n",
    "    - 분류 성능의 지표\n",
    "    - ROC 곡선 아래 면적\n",
    "    - 1에 가까울수록 이진분류 예측이 좋은 성능을 가졌다고 평가한다.\n",
    "### FPR과 TPR\n",
    "#### TPR(True Positive Rate)\n",
    "* 실제 positive인 데이터에 대해서 예측이 positive인 비율\n",
    "* TPR = TP/(TP+FN) = 재현율\n",
    "#### FPR(False Positive Rate)\n",
    "* 실제 negative인 데이터에 대해서 예측이 positive인 비율\n",
    "* FPR = FP/(FP+TN)"
   ]
  }
 ],
 "metadata": {
  "hide_input": false,
  "kernelspec": {
   "display_name": "Python 3 (ipykernel)",
   "language": "python",
   "name": "python3"
  },
  "language_info": {
   "codemirror_mode": {
    "name": "ipython",
    "version": 3
   },
   "file_extension": ".py",
   "mimetype": "text/x-python",
   "name": "python",
   "nbconvert_exporter": "python",
   "pygments_lexer": "ipython3",
   "version": "3.10.2"
  },
  "toc": {
   "base_numbering": 1,
   "nav_menu": {},
   "number_sections": true,
   "sideBar": true,
   "skip_h1_title": false,
   "title_cell": "Table of Contents",
   "title_sidebar": "Contents",
   "toc_cell": false,
   "toc_position": {},
   "toc_section_display": true,
   "toc_window_display": true
  },
  "varInspector": {
   "cols": {
    "lenName": 16,
    "lenType": 16,
    "lenVar": 40
   },
   "kernels_config": {
    "python": {
     "delete_cmd_postfix": "",
     "delete_cmd_prefix": "del ",
     "library": "var_list.py",
     "varRefreshCmd": "print(var_dic_list())"
    },
    "r": {
     "delete_cmd_postfix": ") ",
     "delete_cmd_prefix": "rm(",
     "library": "var_list.r",
     "varRefreshCmd": "cat(var_dic_list()) "
    }
   },
   "types_to_exclude": [
    "module",
    "function",
    "builtin_function_or_method",
    "instance",
    "_Feature"
   ],
   "window_display": false
  }
 },
 "nbformat": 4,
 "nbformat_minor": 5
}
