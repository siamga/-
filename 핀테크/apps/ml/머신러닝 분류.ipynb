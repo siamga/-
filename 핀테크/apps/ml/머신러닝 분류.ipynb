{
 "cells": [
  {
   "cell_type": "markdown",
   "id": "02780b1a",
   "metadata": {},
   "source": [
    "# 머신러닝 분류\n",
    "1) 지도학습 -> 분류문제\n",
    "2) 비지도 학습 -> 군집문제\n",
    "3) 강화 학습\n",
    "-> 여기서는 분류 문제를 다룬다.\n",
    "## 분류 알고리즘 종류\n",
    "1. 베이즈 통계(Bayes)와 나이브 베이즈(Naive Bayes)\n",
    "2. 로지스틱 회귀(Logistic Regression)\n",
    "3. 결정트리(Decision Tree)\n",
    "4. 서포트 베거 머신(svm= Support Vector Machine)\n",
    "5. 최소 근접 알고리즘(k-nn, Nearest Neighbor)\n",
    "6. 심층 신경망 알고리즘(dnn, Neural Network)\n",
    "7. 서로 다른 알고리즘의 결합(앙상블, Ensemble)\n",
    "\n",
    "### 결정트리와 앙상블\n",
    "-> 앙상블의 대표적 활용 중에 결정트리의 활용이 있기에 같이 다룬다\n",
    "\n",
    "#### 결정트리\n",
    "##### 의미\n",
    "데이터에 있는 규칙을 학습을 통해 자동으로 찾아내 Tree기반 분류 규칙을 만든다\n",
    "<br>(if-Else 기반 규칙)-> 분할의 기준 = 분할점\n",
    "##### 정보 균일도 측정 방법\n",
    "###### 정보이득(Information Gain)\n",
    "엔트로피는 주어진 데이터 집합의 혼잡도\n",
    "if 서로 다른 값이 섞임 = 엔트로피가 높음, 같은 값이 섞임 = 엔트로피가 낮음\n",
    "\n",
    "정보이득 지수= 1 - (엔트로피 지수)....(1) \n",
    "<br>= (1번째 노드 엔트로피 지수) - (2번째 노드 엔트로피 지수)....(2)\n",
    "<br>->(1)해당 기준을 통해서 얼마나 잘 분류되었는지 정도\n",
    "<br>->(2)두번째 분류가 첫번째에 비해 얼마나 잘 분류했는지 \n",
    "###### 지니계수 \n",
    "주어진 데이터의 혼잡도를 0~1의 수로 표현한 지수\n",
    "<br>\n",
    "1로 갈수록 균일도가 낮아져 분할의 기준을 선정할 때,\n",
    "지니계수가 낮아지는 기준을 설정하여 분할한다.\n",
    "<br>1에 가깝다 = 균일도가 높다 = 데이터가 섞여 있다. = 분할이 제대로 안되어 있다.\n",
    "<br> 지니계수가 작다 = 정보가 균등하지 않고 몰려 있다. =분할이 잘 되어 있다.\n",
    "###### 비용함수\n",
    "노드에서 분할점(분할기준)을 선택하기 이전에 노드를 적용할 변수(분할 변수)를 선택할 때 사용하는 함수로 이 결과값이 작은 변수를 사용한다.\n",
    "이것을 구하는 방식은 다양하지만 지금은 개념만 이해하자.\n",
    "물론 이 적용 변수 선정에 따라서 지니계수나 엔트로피 같은 값들은 당연히 달라지겠지만 어디까지나 비용함수가 가장 작아지는 변수를 선택한다고만 이해하자.\n",
    "\n",
    "#### 앙상블\n",
    "GBM, XGBoost, LightGBM"
   ]
  },
  {
   "cell_type": "code",
   "execution_count": 1,
   "id": "9e07388e",
   "metadata": {
    "ExecuteTime": {
     "end_time": "2022-04-19T11:33:58.993537Z",
     "start_time": "2022-04-19T11:33:57.401423Z"
    }
   },
   "outputs": [
    {
     "data": {
      "text/html": [
       "<div>\n",
       "<style scoped>\n",
       "    .dataframe tbody tr th:only-of-type {\n",
       "        vertical-align: middle;\n",
       "    }\n",
       "\n",
       "    .dataframe tbody tr th {\n",
       "        vertical-align: top;\n",
       "    }\n",
       "\n",
       "    .dataframe thead th {\n",
       "        text-align: right;\n",
       "    }\n",
       "</style>\n",
       "<table border=\"1\" class=\"dataframe\">\n",
       "  <thead>\n",
       "    <tr style=\"text-align: right;\">\n",
       "      <th></th>\n",
       "      <th>sepal length (cm)</th>\n",
       "      <th>sepal width (cm)</th>\n",
       "      <th>petal length (cm)</th>\n",
       "      <th>petal width (cm)</th>\n",
       "    </tr>\n",
       "  </thead>\n",
       "  <tbody>\n",
       "    <tr>\n",
       "      <th>0</th>\n",
       "      <td>5.1</td>\n",
       "      <td>3.5</td>\n",
       "      <td>1.4</td>\n",
       "      <td>0.2</td>\n",
       "    </tr>\n",
       "    <tr>\n",
       "      <th>1</th>\n",
       "      <td>4.9</td>\n",
       "      <td>3.0</td>\n",
       "      <td>1.4</td>\n",
       "      <td>0.2</td>\n",
       "    </tr>\n",
       "    <tr>\n",
       "      <th>2</th>\n",
       "      <td>4.7</td>\n",
       "      <td>3.2</td>\n",
       "      <td>1.3</td>\n",
       "      <td>0.2</td>\n",
       "    </tr>\n",
       "    <tr>\n",
       "      <th>3</th>\n",
       "      <td>4.6</td>\n",
       "      <td>3.1</td>\n",
       "      <td>1.5</td>\n",
       "      <td>0.2</td>\n",
       "    </tr>\n",
       "    <tr>\n",
       "      <th>4</th>\n",
       "      <td>5.0</td>\n",
       "      <td>3.6</td>\n",
       "      <td>1.4</td>\n",
       "      <td>0.2</td>\n",
       "    </tr>\n",
       "    <tr>\n",
       "      <th>...</th>\n",
       "      <td>...</td>\n",
       "      <td>...</td>\n",
       "      <td>...</td>\n",
       "      <td>...</td>\n",
       "    </tr>\n",
       "    <tr>\n",
       "      <th>145</th>\n",
       "      <td>6.7</td>\n",
       "      <td>3.0</td>\n",
       "      <td>5.2</td>\n",
       "      <td>2.3</td>\n",
       "    </tr>\n",
       "    <tr>\n",
       "      <th>146</th>\n",
       "      <td>6.3</td>\n",
       "      <td>2.5</td>\n",
       "      <td>5.0</td>\n",
       "      <td>1.9</td>\n",
       "    </tr>\n",
       "    <tr>\n",
       "      <th>147</th>\n",
       "      <td>6.5</td>\n",
       "      <td>3.0</td>\n",
       "      <td>5.2</td>\n",
       "      <td>2.0</td>\n",
       "    </tr>\n",
       "    <tr>\n",
       "      <th>148</th>\n",
       "      <td>6.2</td>\n",
       "      <td>3.4</td>\n",
       "      <td>5.4</td>\n",
       "      <td>2.3</td>\n",
       "    </tr>\n",
       "    <tr>\n",
       "      <th>149</th>\n",
       "      <td>5.9</td>\n",
       "      <td>3.0</td>\n",
       "      <td>5.1</td>\n",
       "      <td>1.8</td>\n",
       "    </tr>\n",
       "  </tbody>\n",
       "</table>\n",
       "<p>150 rows × 4 columns</p>\n",
       "</div>"
      ],
      "text/plain": [
       "     sepal length (cm)  sepal width (cm)  petal length (cm)  petal width (cm)\n",
       "0                  5.1               3.5                1.4               0.2\n",
       "1                  4.9               3.0                1.4               0.2\n",
       "2                  4.7               3.2                1.3               0.2\n",
       "3                  4.6               3.1                1.5               0.2\n",
       "4                  5.0               3.6                1.4               0.2\n",
       "..                 ...               ...                ...               ...\n",
       "145                6.7               3.0                5.2               2.3\n",
       "146                6.3               2.5                5.0               1.9\n",
       "147                6.5               3.0                5.2               2.0\n",
       "148                6.2               3.4                5.4               2.3\n",
       "149                5.9               3.0                5.1               1.8\n",
       "\n",
       "[150 rows x 4 columns]"
      ]
     },
     "execution_count": 1,
     "metadata": {},
     "output_type": "execute_result"
    }
   ],
   "source": [
    "from sklearn.tree import DecisionTreeClassifier\n",
    "from sklearn.datasets import load_iris\n",
    "from sklearn.model_selection import train_test_split\n",
    "import warnings\n",
    "import pandas as pd\n",
    "warnings.filterwarnings('ignore')\n",
    "\n",
    "#DecisionTree Classifier 생성\n",
    "dt_clt = DecisionTreeClassifier(random_state=156,min_samples_leaf=2)\n",
    "\n",
    "iris_data = load_iris()\n",
    "X_train, X_test, y_train, y_test = train_test_split(iris_data.data,iris_data.target, test_size=0.2, random_state=11)\n",
    "\n",
    "dt_clt.fit(X_train,y_train)\n",
    "\n",
    "pd.DataFrame(data = iris_data.data, columns=iris_data.feature_names)"
   ]
  },
  {
   "cell_type": "code",
   "execution_count": 2,
   "id": "278b7e45",
   "metadata": {
    "ExecuteTime": {
     "end_time": "2022-04-19T11:33:59.024457Z",
     "start_time": "2022-04-19T11:33:59.001516Z"
    }
   },
   "outputs": [],
   "source": [
    "from sklearn.tree import export_graphviz\n",
    "\n",
    "export_graphviz(dt_clt,out_file='tree.dot', class_names=iris_data.target_names, \n",
    "               feature_names=iris_data.feature_names, impurity=True, filled=True)\n"
   ]
  },
  {
   "cell_type": "code",
   "execution_count": 3,
   "id": "810b6b05",
   "metadata": {
    "ExecuteTime": {
     "end_time": "2022-04-19T11:34:00.038058Z",
     "start_time": "2022-04-19T11:33:59.031435Z"
    }
   },
   "outputs": [
    {
     "data": {
      "image/svg+xml": [
       "<?xml version=\"1.0\" encoding=\"UTF-8\" standalone=\"no\"?>\n",
       "<!DOCTYPE svg PUBLIC \"-//W3C//DTD SVG 1.1//EN\"\n",
       " \"http://www.w3.org/Graphics/SVG/1.1/DTD/svg11.dtd\">\n",
       "<!-- Generated by graphviz version 2.50.0 (20211204.2007)\n",
       " -->\n",
       "<!-- Title: Tree Pages: 1 -->\n",
       "<svg width=\"774pt\" height=\"552pt\"\n",
       " viewBox=\"0.00 0.00 774.00 552.00\" xmlns=\"http://www.w3.org/2000/svg\" xmlns:xlink=\"http://www.w3.org/1999/xlink\">\n",
       "<g id=\"graph0\" class=\"graph\" transform=\"scale(1 1) rotate(0) translate(4 548)\">\n",
       "<title>Tree</title>\n",
       "<polygon fill=\"white\" stroke=\"transparent\" points=\"-4,4 -4,-548 770,-548 770,4 -4,4\"/>\n",
       "<!-- 0 -->\n",
       "<g id=\"node1\" class=\"node\">\n",
       "<title>0</title>\n",
       "<polygon fill=\"#fffdfd\" stroke=\"black\" points=\"302.5,-544 128.5,-544 128.5,-461 302.5,-461 302.5,-544\"/>\n",
       "<text text-anchor=\"middle\" x=\"215.5\" y=\"-528.8\" font-family=\"Helvetica,sans-Serif\" font-size=\"14.00\">petal length (cm) &lt;= 2.45</text>\n",
       "<text text-anchor=\"middle\" x=\"215.5\" y=\"-513.8\" font-family=\"Helvetica,sans-Serif\" font-size=\"14.00\">gini = 0.667</text>\n",
       "<text text-anchor=\"middle\" x=\"215.5\" y=\"-498.8\" font-family=\"Helvetica,sans-Serif\" font-size=\"14.00\">samples = 120</text>\n",
       "<text text-anchor=\"middle\" x=\"215.5\" y=\"-483.8\" font-family=\"Helvetica,sans-Serif\" font-size=\"14.00\">value = [41, 40, 39]</text>\n",
       "<text text-anchor=\"middle\" x=\"215.5\" y=\"-468.8\" font-family=\"Helvetica,sans-Serif\" font-size=\"14.00\">class = setosa</text>\n",
       "</g>\n",
       "<!-- 1 -->\n",
       "<g id=\"node2\" class=\"node\">\n",
       "<title>1</title>\n",
       "<polygon fill=\"#e58139\" stroke=\"black\" points=\"195,-417.5 74,-417.5 74,-349.5 195,-349.5 195,-417.5\"/>\n",
       "<text text-anchor=\"middle\" x=\"134.5\" y=\"-402.3\" font-family=\"Helvetica,sans-Serif\" font-size=\"14.00\">gini = 0.0</text>\n",
       "<text text-anchor=\"middle\" x=\"134.5\" y=\"-387.3\" font-family=\"Helvetica,sans-Serif\" font-size=\"14.00\">samples = 41</text>\n",
       "<text text-anchor=\"middle\" x=\"134.5\" y=\"-372.3\" font-family=\"Helvetica,sans-Serif\" font-size=\"14.00\">value = [41, 0, 0]</text>\n",
       "<text text-anchor=\"middle\" x=\"134.5\" y=\"-357.3\" font-family=\"Helvetica,sans-Serif\" font-size=\"14.00\">class = setosa</text>\n",
       "</g>\n",
       "<!-- 0&#45;&gt;1 -->\n",
       "<g id=\"edge1\" class=\"edge\">\n",
       "<title>0&#45;&gt;1</title>\n",
       "<path fill=\"none\" stroke=\"black\" d=\"M187.4,-460.91C179.61,-449.65 171.14,-437.42 163.3,-426.11\"/>\n",
       "<polygon fill=\"black\" stroke=\"black\" points=\"166.03,-423.9 157.46,-417.67 160.28,-427.88 166.03,-423.9\"/>\n",
       "<text text-anchor=\"middle\" x=\"152.99\" y=\"-438.56\" font-family=\"Helvetica,sans-Serif\" font-size=\"14.00\">True</text>\n",
       "</g>\n",
       "<!-- 2 -->\n",
       "<g id=\"node3\" class=\"node\">\n",
       "<title>2</title>\n",
       "<polygon fill=\"#fafefc\" stroke=\"black\" points=\"381.5,-425 213.5,-425 213.5,-342 381.5,-342 381.5,-425\"/>\n",
       "<text text-anchor=\"middle\" x=\"297.5\" y=\"-409.8\" font-family=\"Helvetica,sans-Serif\" font-size=\"14.00\">petal width (cm) &lt;= 1.55</text>\n",
       "<text text-anchor=\"middle\" x=\"297.5\" y=\"-394.8\" font-family=\"Helvetica,sans-Serif\" font-size=\"14.00\">gini = 0.5</text>\n",
       "<text text-anchor=\"middle\" x=\"297.5\" y=\"-379.8\" font-family=\"Helvetica,sans-Serif\" font-size=\"14.00\">samples = 79</text>\n",
       "<text text-anchor=\"middle\" x=\"297.5\" y=\"-364.8\" font-family=\"Helvetica,sans-Serif\" font-size=\"14.00\">value = [0, 40, 39]</text>\n",
       "<text text-anchor=\"middle\" x=\"297.5\" y=\"-349.8\" font-family=\"Helvetica,sans-Serif\" font-size=\"14.00\">class = versicolor</text>\n",
       "</g>\n",
       "<!-- 0&#45;&gt;2 -->\n",
       "<g id=\"edge2\" class=\"edge\">\n",
       "<title>0&#45;&gt;2</title>\n",
       "<path fill=\"none\" stroke=\"black\" d=\"M243.95,-460.91C250.18,-452.01 256.84,-442.51 263.28,-433.33\"/>\n",
       "<polygon fill=\"black\" stroke=\"black\" points=\"266.23,-435.22 269.1,-425.02 260.5,-431.2 266.23,-435.22\"/>\n",
       "<text text-anchor=\"middle\" x=\"273.43\" y=\"-445.94\" font-family=\"Helvetica,sans-Serif\" font-size=\"14.00\">False</text>\n",
       "</g>\n",
       "<!-- 3 -->\n",
       "<g id=\"node4\" class=\"node\">\n",
       "<title>3</title>\n",
       "<polygon fill=\"#3ee684\" stroke=\"black\" points=\"290.5,-306 116.5,-306 116.5,-223 290.5,-223 290.5,-306\"/>\n",
       "<text text-anchor=\"middle\" x=\"203.5\" y=\"-290.8\" font-family=\"Helvetica,sans-Serif\" font-size=\"14.00\">petal length (cm) &lt;= 4.85</text>\n",
       "<text text-anchor=\"middle\" x=\"203.5\" y=\"-275.8\" font-family=\"Helvetica,sans-Serif\" font-size=\"14.00\">gini = 0.051</text>\n",
       "<text text-anchor=\"middle\" x=\"203.5\" y=\"-260.8\" font-family=\"Helvetica,sans-Serif\" font-size=\"14.00\">samples = 38</text>\n",
       "<text text-anchor=\"middle\" x=\"203.5\" y=\"-245.8\" font-family=\"Helvetica,sans-Serif\" font-size=\"14.00\">value = [0, 37, 1]</text>\n",
       "<text text-anchor=\"middle\" x=\"203.5\" y=\"-230.8\" font-family=\"Helvetica,sans-Serif\" font-size=\"14.00\">class = versicolor</text>\n",
       "</g>\n",
       "<!-- 2&#45;&gt;3 -->\n",
       "<g id=\"edge3\" class=\"edge\">\n",
       "<title>2&#45;&gt;3</title>\n",
       "<path fill=\"none\" stroke=\"black\" d=\"M264.89,-341.91C257.67,-332.92 249.95,-323.32 242.51,-314.05\"/>\n",
       "<polygon fill=\"black\" stroke=\"black\" points=\"245.05,-311.62 236.06,-306.02 239.59,-316.01 245.05,-311.62\"/>\n",
       "</g>\n",
       "<!-- 6 -->\n",
       "<g id=\"node7\" class=\"node\">\n",
       "<title>6</title>\n",
       "<polygon fill=\"#8b49e7\" stroke=\"black\" points=\"476.5,-306 308.5,-306 308.5,-223 476.5,-223 476.5,-306\"/>\n",
       "<text text-anchor=\"middle\" x=\"392.5\" y=\"-290.8\" font-family=\"Helvetica,sans-Serif\" font-size=\"14.00\">petal width (cm) &lt;= 1.75</text>\n",
       "<text text-anchor=\"middle\" x=\"392.5\" y=\"-275.8\" font-family=\"Helvetica,sans-Serif\" font-size=\"14.00\">gini = 0.136</text>\n",
       "<text text-anchor=\"middle\" x=\"392.5\" y=\"-260.8\" font-family=\"Helvetica,sans-Serif\" font-size=\"14.00\">samples = 41</text>\n",
       "<text text-anchor=\"middle\" x=\"392.5\" y=\"-245.8\" font-family=\"Helvetica,sans-Serif\" font-size=\"14.00\">value = [0, 3, 38]</text>\n",
       "<text text-anchor=\"middle\" x=\"392.5\" y=\"-230.8\" font-family=\"Helvetica,sans-Serif\" font-size=\"14.00\">class = virginica</text>\n",
       "</g>\n",
       "<!-- 2&#45;&gt;6 -->\n",
       "<g id=\"edge6\" class=\"edge\">\n",
       "<title>2&#45;&gt;6</title>\n",
       "<path fill=\"none\" stroke=\"black\" d=\"M330.46,-341.91C337.75,-332.92 345.56,-323.32 353.08,-314.05\"/>\n",
       "<polygon fill=\"black\" stroke=\"black\" points=\"356.01,-315.99 359.6,-306.02 350.58,-311.58 356.01,-315.99\"/>\n",
       "</g>\n",
       "<!-- 4 -->\n",
       "<g id=\"node5\" class=\"node\">\n",
       "<title>4</title>\n",
       "<polygon fill=\"#39e581\" stroke=\"black\" points=\"127,-179.5 0,-179.5 0,-111.5 127,-111.5 127,-179.5\"/>\n",
       "<text text-anchor=\"middle\" x=\"63.5\" y=\"-164.3\" font-family=\"Helvetica,sans-Serif\" font-size=\"14.00\">gini = 0.0</text>\n",
       "<text text-anchor=\"middle\" x=\"63.5\" y=\"-149.3\" font-family=\"Helvetica,sans-Serif\" font-size=\"14.00\">samples = 35</text>\n",
       "<text text-anchor=\"middle\" x=\"63.5\" y=\"-134.3\" font-family=\"Helvetica,sans-Serif\" font-size=\"14.00\">value = [0, 35, 0]</text>\n",
       "<text text-anchor=\"middle\" x=\"63.5\" y=\"-119.3\" font-family=\"Helvetica,sans-Serif\" font-size=\"14.00\">class = versicolor</text>\n",
       "</g>\n",
       "<!-- 3&#45;&gt;4 -->\n",
       "<g id=\"edge4\" class=\"edge\">\n",
       "<title>3&#45;&gt;4</title>\n",
       "<path fill=\"none\" stroke=\"black\" d=\"M154.93,-222.91C140.67,-210.99 125.09,-197.98 110.91,-186.12\"/>\n",
       "<polygon fill=\"black\" stroke=\"black\" points=\"113.1,-183.39 103.19,-179.67 108.62,-188.77 113.1,-183.39\"/>\n",
       "</g>\n",
       "<!-- 5 -->\n",
       "<g id=\"node6\" class=\"node\">\n",
       "<title>5</title>\n",
       "<polygon fill=\"#9cf2c0\" stroke=\"black\" points=\"272,-179.5 145,-179.5 145,-111.5 272,-111.5 272,-179.5\"/>\n",
       "<text text-anchor=\"middle\" x=\"208.5\" y=\"-164.3\" font-family=\"Helvetica,sans-Serif\" font-size=\"14.00\">gini = 0.444</text>\n",
       "<text text-anchor=\"middle\" x=\"208.5\" y=\"-149.3\" font-family=\"Helvetica,sans-Serif\" font-size=\"14.00\">samples = 3</text>\n",
       "<text text-anchor=\"middle\" x=\"208.5\" y=\"-134.3\" font-family=\"Helvetica,sans-Serif\" font-size=\"14.00\">value = [0, 2, 1]</text>\n",
       "<text text-anchor=\"middle\" x=\"208.5\" y=\"-119.3\" font-family=\"Helvetica,sans-Serif\" font-size=\"14.00\">class = versicolor</text>\n",
       "</g>\n",
       "<!-- 3&#45;&gt;5 -->\n",
       "<g id=\"edge5\" class=\"edge\">\n",
       "<title>3&#45;&gt;5</title>\n",
       "<path fill=\"none\" stroke=\"black\" d=\"M205.23,-222.91C205.69,-212.2 206.19,-200.62 206.65,-189.78\"/>\n",
       "<polygon fill=\"black\" stroke=\"black\" points=\"210.15,-189.81 207.08,-179.67 203.16,-189.51 210.15,-189.81\"/>\n",
       "</g>\n",
       "<!-- 7 -->\n",
       "<g id=\"node8\" class=\"node\">\n",
       "<title>7</title>\n",
       "<polygon fill=\"#ffffff\" stroke=\"black\" points=\"477.5,-187 299.5,-187 299.5,-104 477.5,-104 477.5,-187\"/>\n",
       "<text text-anchor=\"middle\" x=\"388.5\" y=\"-171.8\" font-family=\"Helvetica,sans-Serif\" font-size=\"14.00\">sepal length (cm) &lt;= 6.35</text>\n",
       "<text text-anchor=\"middle\" x=\"388.5\" y=\"-156.8\" font-family=\"Helvetica,sans-Serif\" font-size=\"14.00\">gini = 0.5</text>\n",
       "<text text-anchor=\"middle\" x=\"388.5\" y=\"-141.8\" font-family=\"Helvetica,sans-Serif\" font-size=\"14.00\">samples = 4</text>\n",
       "<text text-anchor=\"middle\" x=\"388.5\" y=\"-126.8\" font-family=\"Helvetica,sans-Serif\" font-size=\"14.00\">value = [0, 2, 2]</text>\n",
       "<text text-anchor=\"middle\" x=\"388.5\" y=\"-111.8\" font-family=\"Helvetica,sans-Serif\" font-size=\"14.00\">class = versicolor</text>\n",
       "</g>\n",
       "<!-- 6&#45;&gt;7 -->\n",
       "<g id=\"edge7\" class=\"edge\">\n",
       "<title>6&#45;&gt;7</title>\n",
       "<path fill=\"none\" stroke=\"black\" d=\"M391.11,-222.91C390.83,-214.56 390.52,-205.67 390.23,-197.02\"/>\n",
       "<polygon fill=\"black\" stroke=\"black\" points=\"393.73,-196.9 389.89,-187.02 386.73,-197.13 393.73,-196.9\"/>\n",
       "</g>\n",
       "<!-- 10 -->\n",
       "<g id=\"node11\" class=\"node\">\n",
       "<title>10</title>\n",
       "<polygon fill=\"#843ee6\" stroke=\"black\" points=\"669.5,-187 495.5,-187 495.5,-104 669.5,-104 669.5,-187\"/>\n",
       "<text text-anchor=\"middle\" x=\"582.5\" y=\"-171.8\" font-family=\"Helvetica,sans-Serif\" font-size=\"14.00\">petal length (cm) &lt;= 4.85</text>\n",
       "<text text-anchor=\"middle\" x=\"582.5\" y=\"-156.8\" font-family=\"Helvetica,sans-Serif\" font-size=\"14.00\">gini = 0.053</text>\n",
       "<text text-anchor=\"middle\" x=\"582.5\" y=\"-141.8\" font-family=\"Helvetica,sans-Serif\" font-size=\"14.00\">samples = 37</text>\n",
       "<text text-anchor=\"middle\" x=\"582.5\" y=\"-126.8\" font-family=\"Helvetica,sans-Serif\" font-size=\"14.00\">value = [0, 1, 36]</text>\n",
       "<text text-anchor=\"middle\" x=\"582.5\" y=\"-111.8\" font-family=\"Helvetica,sans-Serif\" font-size=\"14.00\">class = virginica</text>\n",
       "</g>\n",
       "<!-- 6&#45;&gt;10 -->\n",
       "<g id=\"edge10\" class=\"edge\">\n",
       "<title>6&#45;&gt;10</title>\n",
       "<path fill=\"none\" stroke=\"black\" d=\"M458.42,-222.91C474.34,-213.11 491.46,-202.56 507.75,-192.53\"/>\n",
       "<polygon fill=\"black\" stroke=\"black\" points=\"510.02,-195.24 516.7,-187.02 506.35,-189.28 510.02,-195.24\"/>\n",
       "</g>\n",
       "<!-- 8 -->\n",
       "<g id=\"node9\" class=\"node\">\n",
       "<title>8</title>\n",
       "<polygon fill=\"#ffffff\" stroke=\"black\" points=\"320,-68 193,-68 193,0 320,0 320,-68\"/>\n",
       "<text text-anchor=\"middle\" x=\"256.5\" y=\"-52.8\" font-family=\"Helvetica,sans-Serif\" font-size=\"14.00\">gini = 0.5</text>\n",
       "<text text-anchor=\"middle\" x=\"256.5\" y=\"-37.8\" font-family=\"Helvetica,sans-Serif\" font-size=\"14.00\">samples = 2</text>\n",
       "<text text-anchor=\"middle\" x=\"256.5\" y=\"-22.8\" font-family=\"Helvetica,sans-Serif\" font-size=\"14.00\">value = [0, 1, 1]</text>\n",
       "<text text-anchor=\"middle\" x=\"256.5\" y=\"-7.8\" font-family=\"Helvetica,sans-Serif\" font-size=\"14.00\">class = versicolor</text>\n",
       "</g>\n",
       "<!-- 7&#45;&gt;8 -->\n",
       "<g id=\"edge8\" class=\"edge\">\n",
       "<title>7&#45;&gt;8</title>\n",
       "<path fill=\"none\" stroke=\"black\" d=\"M339.35,-103.73C327.91,-94.24 315.76,-84.16 304.38,-74.72\"/>\n",
       "<polygon fill=\"black\" stroke=\"black\" points=\"306.57,-71.99 296.64,-68.3 302.1,-77.38 306.57,-71.99\"/>\n",
       "</g>\n",
       "<!-- 9 -->\n",
       "<g id=\"node10\" class=\"node\">\n",
       "<title>9</title>\n",
       "<polygon fill=\"#ffffff\" stroke=\"black\" points=\"465,-68 338,-68 338,0 465,0 465,-68\"/>\n",
       "<text text-anchor=\"middle\" x=\"401.5\" y=\"-52.8\" font-family=\"Helvetica,sans-Serif\" font-size=\"14.00\">gini = 0.5</text>\n",
       "<text text-anchor=\"middle\" x=\"401.5\" y=\"-37.8\" font-family=\"Helvetica,sans-Serif\" font-size=\"14.00\">samples = 2</text>\n",
       "<text text-anchor=\"middle\" x=\"401.5\" y=\"-22.8\" font-family=\"Helvetica,sans-Serif\" font-size=\"14.00\">value = [0, 1, 1]</text>\n",
       "<text text-anchor=\"middle\" x=\"401.5\" y=\"-7.8\" font-family=\"Helvetica,sans-Serif\" font-size=\"14.00\">class = versicolor</text>\n",
       "</g>\n",
       "<!-- 7&#45;&gt;9 -->\n",
       "<g id=\"edge9\" class=\"edge\">\n",
       "<title>7&#45;&gt;9</title>\n",
       "<path fill=\"none\" stroke=\"black\" d=\"M393.34,-103.73C394.33,-95.43 395.37,-86.67 396.36,-78.28\"/>\n",
       "<polygon fill=\"black\" stroke=\"black\" points=\"399.84,-78.64 397.55,-68.3 392.89,-77.82 399.84,-78.64\"/>\n",
       "</g>\n",
       "<!-- 11 -->\n",
       "<g id=\"node12\" class=\"node\">\n",
       "<title>11</title>\n",
       "<polygon fill=\"#c09cf2\" stroke=\"black\" points=\"626.5,-68 510.5,-68 510.5,0 626.5,0 626.5,-68\"/>\n",
       "<text text-anchor=\"middle\" x=\"568.5\" y=\"-52.8\" font-family=\"Helvetica,sans-Serif\" font-size=\"14.00\">gini = 0.444</text>\n",
       "<text text-anchor=\"middle\" x=\"568.5\" y=\"-37.8\" font-family=\"Helvetica,sans-Serif\" font-size=\"14.00\">samples = 3</text>\n",
       "<text text-anchor=\"middle\" x=\"568.5\" y=\"-22.8\" font-family=\"Helvetica,sans-Serif\" font-size=\"14.00\">value = [0, 1, 2]</text>\n",
       "<text text-anchor=\"middle\" x=\"568.5\" y=\"-7.8\" font-family=\"Helvetica,sans-Serif\" font-size=\"14.00\">class = virginica</text>\n",
       "</g>\n",
       "<!-- 10&#45;&gt;11 -->\n",
       "<g id=\"edge11\" class=\"edge\">\n",
       "<title>10&#45;&gt;11</title>\n",
       "<path fill=\"none\" stroke=\"black\" d=\"M577.29,-103.73C576.23,-95.43 575.11,-86.67 574.03,-78.28\"/>\n",
       "<polygon fill=\"black\" stroke=\"black\" points=\"577.5,-77.77 572.76,-68.3 570.55,-78.66 577.5,-77.77\"/>\n",
       "</g>\n",
       "<!-- 12 -->\n",
       "<g id=\"node13\" class=\"node\">\n",
       "<title>12</title>\n",
       "<polygon fill=\"#8139e5\" stroke=\"black\" points=\"766,-68 645,-68 645,0 766,0 766,-68\"/>\n",
       "<text text-anchor=\"middle\" x=\"705.5\" y=\"-52.8\" font-family=\"Helvetica,sans-Serif\" font-size=\"14.00\">gini = 0.0</text>\n",
       "<text text-anchor=\"middle\" x=\"705.5\" y=\"-37.8\" font-family=\"Helvetica,sans-Serif\" font-size=\"14.00\">samples = 34</text>\n",
       "<text text-anchor=\"middle\" x=\"705.5\" y=\"-22.8\" font-family=\"Helvetica,sans-Serif\" font-size=\"14.00\">value = [0, 0, 34]</text>\n",
       "<text text-anchor=\"middle\" x=\"705.5\" y=\"-7.8\" font-family=\"Helvetica,sans-Serif\" font-size=\"14.00\">class = virginica</text>\n",
       "</g>\n",
       "<!-- 10&#45;&gt;12 -->\n",
       "<g id=\"edge12\" class=\"edge\">\n",
       "<title>10&#45;&gt;12</title>\n",
       "<path fill=\"none\" stroke=\"black\" d=\"M628.3,-103.73C638.85,-94.33 650.07,-84.35 660.58,-74.99\"/>\n",
       "<polygon fill=\"black\" stroke=\"black\" points=\"662.95,-77.56 668.09,-68.3 658.3,-72.33 662.95,-77.56\"/>\n",
       "</g>\n",
       "</g>\n",
       "</svg>\n"
      ],
      "text/plain": [
       "<graphviz.sources.Source at 0x24caffbe9b0>"
      ]
     },
     "execution_count": 3,
     "metadata": {},
     "output_type": "execute_result"
    }
   ],
   "source": [
    "import graphviz\n",
    "\n",
    "with open('tree.dot') as f:\n",
    "    dot_graph = f.read()\n",
    "graphviz.Source(dot_graph)"
   ]
  },
  {
   "cell_type": "code",
   "execution_count": 4,
   "id": "fa8a663c",
   "metadata": {
    "ExecuteTime": {
     "end_time": "2022-04-19T11:34:01.524287Z",
     "start_time": "2022-04-19T11:34:00.042048Z"
    }
   },
   "outputs": [
    {
     "name": "stdout",
     "output_type": "stream",
     "text": [
      "Feature importances:\n",
      "[0.    0.    0.554 0.446]\n",
      "sepal length (cm) : 0.000000\n",
      "sepal width (cm) : 0.000000\n",
      "petal length (cm) : 0.553879\n",
      "petal width (cm) : 0.446121\n"
     ]
    },
    {
     "data": {
      "text/plain": [
       "<AxesSubplot:>"
      ]
     },
     "execution_count": 4,
     "metadata": {},
     "output_type": "execute_result"
    },
    {
     "data": {
      "image/png": "[encoded data removed]",
      "text/plain": [
       "<Figure size 432x288 with 1 Axes>"
      ]
     },
     "metadata": {
      "needs_background": "light"
     },
     "output_type": "display_data"
    }
   ],
   "source": [
    "import seaborn as sns\n",
    "import numpy as np\n",
    "%matplotlib inline\n",
    "\n",
    "print('Feature importances:\\n{}'.format(np.round(dt_clt.feature_importances_,3)))\n",
    "\n",
    "for name, value in zip(iris_data.feature_names, dt_clt.feature_importances_):\n",
    "    print('{} : {:3f}'.format(name,value))\n",
    "    \n",
    "sns.barplot(x=dt_clt.feature_importances_,y=iris_data.feature_names)\n",
    "\n"
   ]
  },
  {
   "cell_type": "markdown",
   "id": "d49832ee",
   "metadata": {},
   "source": [
    "타이타닉 데이터를 decision tree를 이용해서 5개의 feature을 뽑아내고 \n",
    "logisticregression으로 데이터를 8:2로 나누고 accuracy를 측정하라"
   ]
  },
  {
   "cell_type": "code",
   "execution_count": 5,
   "id": "1fee9be8",
   "metadata": {
    "ExecuteTime": {
     "end_time": "2022-04-19T11:34:01.586122Z",
     "start_time": "2022-04-19T11:34:01.527280Z"
    }
   },
   "outputs": [
    {
     "data": {
      "text/html": [
       "<div>\n",
       "<style scoped>\n",
       "    .dataframe tbody tr th:only-of-type {\n",
       "        vertical-align: middle;\n",
       "    }\n",
       "\n",
       "    .dataframe tbody tr th {\n",
       "        vertical-align: top;\n",
       "    }\n",
       "\n",
       "    .dataframe thead th {\n",
       "        text-align: right;\n",
       "    }\n",
       "</style>\n",
       "<table border=\"1\" class=\"dataframe\">\n",
       "  <thead>\n",
       "    <tr style=\"text-align: right;\">\n",
       "      <th></th>\n",
       "      <th>Survived</th>\n",
       "      <th>Pclass</th>\n",
       "      <th>Sex</th>\n",
       "      <th>Age</th>\n",
       "      <th>SibSp</th>\n",
       "      <th>Parch</th>\n",
       "      <th>Fare</th>\n",
       "      <th>Cabin</th>\n",
       "      <th>Embarked</th>\n",
       "    </tr>\n",
       "  </thead>\n",
       "  <tbody>\n",
       "    <tr>\n",
       "      <th>0</th>\n",
       "      <td>0</td>\n",
       "      <td>3</td>\n",
       "      <td>1</td>\n",
       "      <td>22.000000</td>\n",
       "      <td>1</td>\n",
       "      <td>0</td>\n",
       "      <td>7.2500</td>\n",
       "      <td>7</td>\n",
       "      <td>3</td>\n",
       "    </tr>\n",
       "    <tr>\n",
       "      <th>1</th>\n",
       "      <td>1</td>\n",
       "      <td>1</td>\n",
       "      <td>0</td>\n",
       "      <td>38.000000</td>\n",
       "      <td>1</td>\n",
       "      <td>0</td>\n",
       "      <td>71.2833</td>\n",
       "      <td>2</td>\n",
       "      <td>0</td>\n",
       "    </tr>\n",
       "    <tr>\n",
       "      <th>2</th>\n",
       "      <td>1</td>\n",
       "      <td>3</td>\n",
       "      <td>0</td>\n",
       "      <td>26.000000</td>\n",
       "      <td>0</td>\n",
       "      <td>0</td>\n",
       "      <td>7.9250</td>\n",
       "      <td>7</td>\n",
       "      <td>3</td>\n",
       "    </tr>\n",
       "    <tr>\n",
       "      <th>3</th>\n",
       "      <td>1</td>\n",
       "      <td>1</td>\n",
       "      <td>0</td>\n",
       "      <td>35.000000</td>\n",
       "      <td>1</td>\n",
       "      <td>0</td>\n",
       "      <td>53.1000</td>\n",
       "      <td>2</td>\n",
       "      <td>3</td>\n",
       "    </tr>\n",
       "    <tr>\n",
       "      <th>4</th>\n",
       "      <td>0</td>\n",
       "      <td>3</td>\n",
       "      <td>1</td>\n",
       "      <td>35.000000</td>\n",
       "      <td>0</td>\n",
       "      <td>0</td>\n",
       "      <td>8.0500</td>\n",
       "      <td>7</td>\n",
       "      <td>3</td>\n",
       "    </tr>\n",
       "    <tr>\n",
       "      <th>...</th>\n",
       "      <td>...</td>\n",
       "      <td>...</td>\n",
       "      <td>...</td>\n",
       "      <td>...</td>\n",
       "      <td>...</td>\n",
       "      <td>...</td>\n",
       "      <td>...</td>\n",
       "      <td>...</td>\n",
       "      <td>...</td>\n",
       "    </tr>\n",
       "    <tr>\n",
       "      <th>886</th>\n",
       "      <td>0</td>\n",
       "      <td>2</td>\n",
       "      <td>1</td>\n",
       "      <td>27.000000</td>\n",
       "      <td>0</td>\n",
       "      <td>0</td>\n",
       "      <td>13.0000</td>\n",
       "      <td>7</td>\n",
       "      <td>3</td>\n",
       "    </tr>\n",
       "    <tr>\n",
       "      <th>887</th>\n",
       "      <td>1</td>\n",
       "      <td>1</td>\n",
       "      <td>0</td>\n",
       "      <td>19.000000</td>\n",
       "      <td>0</td>\n",
       "      <td>0</td>\n",
       "      <td>30.0000</td>\n",
       "      <td>1</td>\n",
       "      <td>3</td>\n",
       "    </tr>\n",
       "    <tr>\n",
       "      <th>888</th>\n",
       "      <td>0</td>\n",
       "      <td>3</td>\n",
       "      <td>0</td>\n",
       "      <td>29.699118</td>\n",
       "      <td>1</td>\n",
       "      <td>2</td>\n",
       "      <td>23.4500</td>\n",
       "      <td>7</td>\n",
       "      <td>3</td>\n",
       "    </tr>\n",
       "    <tr>\n",
       "      <th>889</th>\n",
       "      <td>1</td>\n",
       "      <td>1</td>\n",
       "      <td>1</td>\n",
       "      <td>26.000000</td>\n",
       "      <td>0</td>\n",
       "      <td>0</td>\n",
       "      <td>30.0000</td>\n",
       "      <td>2</td>\n",
       "      <td>0</td>\n",
       "    </tr>\n",
       "    <tr>\n",
       "      <th>890</th>\n",
       "      <td>0</td>\n",
       "      <td>3</td>\n",
       "      <td>1</td>\n",
       "      <td>32.000000</td>\n",
       "      <td>0</td>\n",
       "      <td>0</td>\n",
       "      <td>7.7500</td>\n",
       "      <td>7</td>\n",
       "      <td>2</td>\n",
       "    </tr>\n",
       "  </tbody>\n",
       "</table>\n",
       "<p>891 rows × 9 columns</p>\n",
       "</div>"
      ],
      "text/plain": [
       "     Survived  Pclass  Sex        Age  SibSp  Parch     Fare  Cabin  Embarked\n",
       "0           0       3    1  22.000000      1      0   7.2500      7         3\n",
       "1           1       1    0  38.000000      1      0  71.2833      2         0\n",
       "2           1       3    0  26.000000      0      0   7.9250      7         3\n",
       "3           1       1    0  35.000000      1      0  53.1000      2         3\n",
       "4           0       3    1  35.000000      0      0   8.0500      7         3\n",
       "..        ...     ...  ...        ...    ...    ...      ...    ...       ...\n",
       "886         0       2    1  27.000000      0      0  13.0000      7         3\n",
       "887         1       1    0  19.000000      0      0  30.0000      1         3\n",
       "888         0       3    0  29.699118      1      2  23.4500      7         3\n",
       "889         1       1    1  26.000000      0      0  30.0000      2         0\n",
       "890         0       3    1  32.000000      0      0   7.7500      7         2\n",
       "\n",
       "[891 rows x 9 columns]"
      ]
     },
     "execution_count": 5,
     "metadata": {},
     "output_type": "execute_result"
    }
   ],
   "source": [
    "import pandas as pd\n",
    "import numpy as np\n",
    "titanic_df = pd.read_csv('ad_train.csv')\n",
    "titanic_df.drop('Unnamed: 0',axis=1,inplace=True)\n",
    "titanic_df"
   ]
  },
  {
   "cell_type": "code",
   "execution_count": 6,
   "id": "217d3d8d",
   "metadata": {
    "ExecuteTime": {
     "end_time": "2022-04-19T11:34:01.617056Z",
     "start_time": "2022-04-19T11:34:01.591113Z"
    }
   },
   "outputs": [
    {
     "data": {
      "text/plain": [
       "DecisionTreeClassifier()"
      ]
     },
     "execution_count": 6,
     "metadata": {},
     "output_type": "execute_result"
    }
   ],
   "source": [
    "from sklearn.tree import DecisionTreeClassifier\n",
    "\n",
    "dt_clf = DecisionTreeClassifier()\n",
    "titanic = titanic_df\n",
    "X_titanic = titanic.drop('Survived',axis=1)\n",
    "y_titanic = titanic['Survived']\n",
    "\n",
    "dt_clf.fit(X_titanic,y_titanic)\n"
   ]
  },
  {
   "cell_type": "code",
   "execution_count": 7,
   "id": "0f29e55c",
   "metadata": {
    "ExecuteTime": {
     "end_time": "2022-04-19T11:34:01.648955Z",
     "start_time": "2022-04-19T11:34:01.620033Z"
    }
   },
   "outputs": [
    {
     "data": {
      "text/html": [
       "<div>\n",
       "<style scoped>\n",
       "    .dataframe tbody tr th:only-of-type {\n",
       "        vertical-align: middle;\n",
       "    }\n",
       "\n",
       "    .dataframe tbody tr th {\n",
       "        vertical-align: top;\n",
       "    }\n",
       "\n",
       "    .dataframe thead th {\n",
       "        text-align: right;\n",
       "    }\n",
       "</style>\n",
       "<table border=\"1\" class=\"dataframe\">\n",
       "  <thead>\n",
       "    <tr style=\"text-align: right;\">\n",
       "      <th></th>\n",
       "      <th>Pclass</th>\n",
       "      <th>Sex</th>\n",
       "      <th>Age</th>\n",
       "      <th>SibSp</th>\n",
       "      <th>Parch</th>\n",
       "      <th>Fare</th>\n",
       "      <th>Cabin</th>\n",
       "      <th>Embarked</th>\n",
       "    </tr>\n",
       "  </thead>\n",
       "  <tbody>\n",
       "    <tr>\n",
       "      <th>0</th>\n",
       "      <td>3</td>\n",
       "      <td>1</td>\n",
       "      <td>22.000000</td>\n",
       "      <td>1</td>\n",
       "      <td>0</td>\n",
       "      <td>7.2500</td>\n",
       "      <td>7</td>\n",
       "      <td>3</td>\n",
       "    </tr>\n",
       "    <tr>\n",
       "      <th>1</th>\n",
       "      <td>1</td>\n",
       "      <td>0</td>\n",
       "      <td>38.000000</td>\n",
       "      <td>1</td>\n",
       "      <td>0</td>\n",
       "      <td>71.2833</td>\n",
       "      <td>2</td>\n",
       "      <td>0</td>\n",
       "    </tr>\n",
       "    <tr>\n",
       "      <th>2</th>\n",
       "      <td>3</td>\n",
       "      <td>0</td>\n",
       "      <td>26.000000</td>\n",
       "      <td>0</td>\n",
       "      <td>0</td>\n",
       "      <td>7.9250</td>\n",
       "      <td>7</td>\n",
       "      <td>3</td>\n",
       "    </tr>\n",
       "    <tr>\n",
       "      <th>3</th>\n",
       "      <td>1</td>\n",
       "      <td>0</td>\n",
       "      <td>35.000000</td>\n",
       "      <td>1</td>\n",
       "      <td>0</td>\n",
       "      <td>53.1000</td>\n",
       "      <td>2</td>\n",
       "      <td>3</td>\n",
       "    </tr>\n",
       "    <tr>\n",
       "      <th>4</th>\n",
       "      <td>3</td>\n",
       "      <td>1</td>\n",
       "      <td>35.000000</td>\n",
       "      <td>0</td>\n",
       "      <td>0</td>\n",
       "      <td>8.0500</td>\n",
       "      <td>7</td>\n",
       "      <td>3</td>\n",
       "    </tr>\n",
       "    <tr>\n",
       "      <th>...</th>\n",
       "      <td>...</td>\n",
       "      <td>...</td>\n",
       "      <td>...</td>\n",
       "      <td>...</td>\n",
       "      <td>...</td>\n",
       "      <td>...</td>\n",
       "      <td>...</td>\n",
       "      <td>...</td>\n",
       "    </tr>\n",
       "    <tr>\n",
       "      <th>886</th>\n",
       "      <td>2</td>\n",
       "      <td>1</td>\n",
       "      <td>27.000000</td>\n",
       "      <td>0</td>\n",
       "      <td>0</td>\n",
       "      <td>13.0000</td>\n",
       "      <td>7</td>\n",
       "      <td>3</td>\n",
       "    </tr>\n",
       "    <tr>\n",
       "      <th>887</th>\n",
       "      <td>1</td>\n",
       "      <td>0</td>\n",
       "      <td>19.000000</td>\n",
       "      <td>0</td>\n",
       "      <td>0</td>\n",
       "      <td>30.0000</td>\n",
       "      <td>1</td>\n",
       "      <td>3</td>\n",
       "    </tr>\n",
       "    <tr>\n",
       "      <th>888</th>\n",
       "      <td>3</td>\n",
       "      <td>0</td>\n",
       "      <td>29.699118</td>\n",
       "      <td>1</td>\n",
       "      <td>2</td>\n",
       "      <td>23.4500</td>\n",
       "      <td>7</td>\n",
       "      <td>3</td>\n",
       "    </tr>\n",
       "    <tr>\n",
       "      <th>889</th>\n",
       "      <td>1</td>\n",
       "      <td>1</td>\n",
       "      <td>26.000000</td>\n",
       "      <td>0</td>\n",
       "      <td>0</td>\n",
       "      <td>30.0000</td>\n",
       "      <td>2</td>\n",
       "      <td>0</td>\n",
       "    </tr>\n",
       "    <tr>\n",
       "      <th>890</th>\n",
       "      <td>3</td>\n",
       "      <td>1</td>\n",
       "      <td>32.000000</td>\n",
       "      <td>0</td>\n",
       "      <td>0</td>\n",
       "      <td>7.7500</td>\n",
       "      <td>7</td>\n",
       "      <td>2</td>\n",
       "    </tr>\n",
       "  </tbody>\n",
       "</table>\n",
       "<p>891 rows × 8 columns</p>\n",
       "</div>"
      ],
      "text/plain": [
       "     Pclass  Sex        Age  SibSp  Parch     Fare  Cabin  Embarked\n",
       "0         3    1  22.000000      1      0   7.2500      7         3\n",
       "1         1    0  38.000000      1      0  71.2833      2         0\n",
       "2         3    0  26.000000      0      0   7.9250      7         3\n",
       "3         1    0  35.000000      1      0  53.1000      2         3\n",
       "4         3    1  35.000000      0      0   8.0500      7         3\n",
       "..      ...  ...        ...    ...    ...      ...    ...       ...\n",
       "886       2    1  27.000000      0      0  13.0000      7         3\n",
       "887       1    0  19.000000      0      0  30.0000      1         3\n",
       "888       3    0  29.699118      1      2  23.4500      7         3\n",
       "889       1    1  26.000000      0      0  30.0000      2         0\n",
       "890       3    1  32.000000      0      0   7.7500      7         2\n",
       "\n",
       "[891 rows x 8 columns]"
      ]
     },
     "execution_count": 7,
     "metadata": {},
     "output_type": "execute_result"
    }
   ],
   "source": [
    "titanic_df = pd.DataFrame(X_titanic)\n",
    "titanic_df"
   ]
  },
  {
   "cell_type": "code",
   "execution_count": 8,
   "id": "9c6f9ed2",
   "metadata": {
    "ExecuteTime": {
     "end_time": "2022-04-19T11:34:01.680870Z",
     "start_time": "2022-04-19T11:34:01.652974Z"
    }
   },
   "outputs": [
    {
     "data": {
      "text/html": [
       "<div>\n",
       "<style scoped>\n",
       "    .dataframe tbody tr th:only-of-type {\n",
       "        vertical-align: middle;\n",
       "    }\n",
       "\n",
       "    .dataframe tbody tr th {\n",
       "        vertical-align: top;\n",
       "    }\n",
       "\n",
       "    .dataframe thead th {\n",
       "        text-align: right;\n",
       "    }\n",
       "</style>\n",
       "<table border=\"1\" class=\"dataframe\">\n",
       "  <thead>\n",
       "    <tr style=\"text-align: right;\">\n",
       "      <th></th>\n",
       "      <th>Pclass</th>\n",
       "      <th>Sex</th>\n",
       "      <th>Age</th>\n",
       "      <th>SibSp</th>\n",
       "      <th>Parch</th>\n",
       "      <th>Fare</th>\n",
       "      <th>Cabin</th>\n",
       "      <th>Embarked</th>\n",
       "    </tr>\n",
       "  </thead>\n",
       "  <tbody>\n",
       "    <tr>\n",
       "      <th>0</th>\n",
       "      <td>0.0849</td>\n",
       "      <td>0.306021</td>\n",
       "      <td>0.269829</td>\n",
       "      <td>0.042102</td>\n",
       "      <td>0.013934</td>\n",
       "      <td>0.22026</td>\n",
       "      <td>0.051022</td>\n",
       "      <td>0.011932</td>\n",
       "    </tr>\n",
       "  </tbody>\n",
       "</table>\n",
       "</div>"
      ],
      "text/plain": [
       "   Pclass       Sex       Age     SibSp     Parch     Fare     Cabin  Embarked\n",
       "0  0.0849  0.306021  0.269829  0.042102  0.013934  0.22026  0.051022  0.011932"
      ]
     },
     "execution_count": 8,
     "metadata": {},
     "output_type": "execute_result"
    }
   ],
   "source": [
    "pd.DataFrame(data=dt_clf.feature_importances_.reshape(1,-1),columns=X_titanic.columns)"
   ]
  },
  {
   "cell_type": "code",
   "execution_count": 9,
   "id": "8808dcf5",
   "metadata": {
    "ExecuteTime": {
     "end_time": "2022-04-19T11:34:01.948155Z",
     "start_time": "2022-04-19T11:34:01.686856Z"
    }
   },
   "outputs": [
    {
     "data": {
      "text/plain": [
       "<AxesSubplot:>"
      ]
     },
     "execution_count": 9,
     "metadata": {},
     "output_type": "execute_result"
    },
    {
     "data": {
      "image/png": "[encoded data removed]",
      "text/plain": [
       "<Figure size 432x288 with 1 Axes>"
      ]
     },
     "metadata": {
      "needs_background": "light"
     },
     "output_type": "display_data"
    }
   ],
   "source": [
    "import seaborn as sns\n",
    "    \n",
    "sns.barplot(x=dt_clf.feature_importances_, y=X_titanic.columns)"
   ]
  },
  {
   "cell_type": "code",
   "execution_count": 10,
   "id": "127f1f7e",
   "metadata": {
    "ExecuteTime": {
     "end_time": "2022-04-19T11:34:01.980080Z",
     "start_time": "2022-04-19T11:34:01.950149Z"
    }
   },
   "outputs": [
    {
     "data": {
      "text/html": [
       "<div>\n",
       "<style scoped>\n",
       "    .dataframe tbody tr th:only-of-type {\n",
       "        vertical-align: middle;\n",
       "    }\n",
       "\n",
       "    .dataframe tbody tr th {\n",
       "        vertical-align: top;\n",
       "    }\n",
       "\n",
       "    .dataframe thead th {\n",
       "        text-align: right;\n",
       "    }\n",
       "</style>\n",
       "<table border=\"1\" class=\"dataframe\">\n",
       "  <thead>\n",
       "    <tr style=\"text-align: right;\">\n",
       "      <th></th>\n",
       "      <th>Pclass</th>\n",
       "      <th>Sex</th>\n",
       "      <th>Age</th>\n",
       "      <th>SibSp</th>\n",
       "      <th>Fare</th>\n",
       "    </tr>\n",
       "  </thead>\n",
       "  <tbody>\n",
       "    <tr>\n",
       "      <th>0</th>\n",
       "      <td>3</td>\n",
       "      <td>1</td>\n",
       "      <td>22.000000</td>\n",
       "      <td>1</td>\n",
       "      <td>7.2500</td>\n",
       "    </tr>\n",
       "    <tr>\n",
       "      <th>1</th>\n",
       "      <td>1</td>\n",
       "      <td>0</td>\n",
       "      <td>38.000000</td>\n",
       "      <td>1</td>\n",
       "      <td>71.2833</td>\n",
       "    </tr>\n",
       "    <tr>\n",
       "      <th>2</th>\n",
       "      <td>3</td>\n",
       "      <td>0</td>\n",
       "      <td>26.000000</td>\n",
       "      <td>0</td>\n",
       "      <td>7.9250</td>\n",
       "    </tr>\n",
       "    <tr>\n",
       "      <th>3</th>\n",
       "      <td>1</td>\n",
       "      <td>0</td>\n",
       "      <td>35.000000</td>\n",
       "      <td>1</td>\n",
       "      <td>53.1000</td>\n",
       "    </tr>\n",
       "    <tr>\n",
       "      <th>4</th>\n",
       "      <td>3</td>\n",
       "      <td>1</td>\n",
       "      <td>35.000000</td>\n",
       "      <td>0</td>\n",
       "      <td>8.0500</td>\n",
       "    </tr>\n",
       "    <tr>\n",
       "      <th>...</th>\n",
       "      <td>...</td>\n",
       "      <td>...</td>\n",
       "      <td>...</td>\n",
       "      <td>...</td>\n",
       "      <td>...</td>\n",
       "    </tr>\n",
       "    <tr>\n",
       "      <th>886</th>\n",
       "      <td>2</td>\n",
       "      <td>1</td>\n",
       "      <td>27.000000</td>\n",
       "      <td>0</td>\n",
       "      <td>13.0000</td>\n",
       "    </tr>\n",
       "    <tr>\n",
       "      <th>887</th>\n",
       "      <td>1</td>\n",
       "      <td>0</td>\n",
       "      <td>19.000000</td>\n",
       "      <td>0</td>\n",
       "      <td>30.0000</td>\n",
       "    </tr>\n",
       "    <tr>\n",
       "      <th>888</th>\n",
       "      <td>3</td>\n",
       "      <td>0</td>\n",
       "      <td>29.699118</td>\n",
       "      <td>1</td>\n",
       "      <td>23.4500</td>\n",
       "    </tr>\n",
       "    <tr>\n",
       "      <th>889</th>\n",
       "      <td>1</td>\n",
       "      <td>1</td>\n",
       "      <td>26.000000</td>\n",
       "      <td>0</td>\n",
       "      <td>30.0000</td>\n",
       "    </tr>\n",
       "    <tr>\n",
       "      <th>890</th>\n",
       "      <td>3</td>\n",
       "      <td>1</td>\n",
       "      <td>32.000000</td>\n",
       "      <td>0</td>\n",
       "      <td>7.7500</td>\n",
       "    </tr>\n",
       "  </tbody>\n",
       "</table>\n",
       "<p>891 rows × 5 columns</p>\n",
       "</div>"
      ],
      "text/plain": [
       "     Pclass  Sex        Age  SibSp     Fare\n",
       "0         3    1  22.000000      1   7.2500\n",
       "1         1    0  38.000000      1  71.2833\n",
       "2         3    0  26.000000      0   7.9250\n",
       "3         1    0  35.000000      1  53.1000\n",
       "4         3    1  35.000000      0   8.0500\n",
       "..      ...  ...        ...    ...      ...\n",
       "886       2    1  27.000000      0  13.0000\n",
       "887       1    0  19.000000      0  30.0000\n",
       "888       3    0  29.699118      1  23.4500\n",
       "889       1    1  26.000000      0  30.0000\n",
       "890       3    1  32.000000      0   7.7500\n",
       "\n",
       "[891 rows x 5 columns]"
      ]
     },
     "execution_count": 10,
     "metadata": {},
     "output_type": "execute_result"
    }
   ],
   "source": [
    "titanic_df.drop(['Cabin','Embarked','Parch'],axis=1,inplace=True)\n",
    "titanic_df"
   ]
  },
  {
   "cell_type": "code",
   "execution_count": 11,
   "id": "cf8e9877",
   "metadata": {
    "ExecuteTime": {
     "end_time": "2022-04-19T11:34:02.041904Z",
     "start_time": "2022-04-19T11:34:01.984060Z"
    }
   },
   "outputs": [
    {
     "name": "stdout",
     "output_type": "stream",
     "text": [
      "0.832\n",
      "0.832\n"
     ]
    }
   ],
   "source": [
    "from sklearn.linear_model import LogisticRegression\n",
    "from sklearn.model_selection import train_test_split\n",
    "from sklearn.metrics import accuracy_score\n",
    "\n",
    "X1 = titanic_df\n",
    "X2 = titanic.drop('Survived',axis=1)\n",
    "y = y_titanic = titanic['Survived']\n",
    "\n",
    "X_train, X_test, y_train, y_test = train_test_split(X1,y,test_size=0.2,random_state=11)\n",
    "\n",
    "lr_clf_feat = LogisticRegression()\n",
    "lr_clf_feat.fit(X_train,y_train)\n",
    "\n",
    "pred = lr_clf_feat.predict(X_test)\n",
    "\n",
    "accuracy_score(y_test,pred)\n",
    "print('{:.3f}'.format(lr_clf_feat.score(X_test,y_test)))\n",
    "print('{:.3f}'.format(accuracy_score(y_test,pred)))"
   ]
  },
  {
   "cell_type": "code",
   "execution_count": 12,
   "id": "286ecc52",
   "metadata": {
    "ExecuteTime": {
     "end_time": "2022-04-19T11:34:02.136651Z",
     "start_time": "2022-04-19T11:34:02.044896Z"
    }
   },
   "outputs": [
    {
     "name": "stdout",
     "output_type": "stream",
     "text": [
      "0.849\n",
      "0.849\n"
     ]
    }
   ],
   "source": [
    "X_train, X_test, y_train, y_test = train_test_split(X2,y,test_size=0.2,random_state=11)\n",
    "\n",
    "lr_clf = LogisticRegression()\n",
    "lr_clf.fit(X_train,y_train)\n",
    "\n",
    "pred = lr_clf.predict(X_test)\n",
    "\n",
    "accuracy_score(y_test,pred)\n",
    "print('{:.3f}'.format(lr_clf.score(X_test,y_test)))\n",
    "print('{:.3f}'.format(accuracy_score(y_test,pred)))"
   ]
  },
  {
   "cell_type": "code",
   "execution_count": 13,
   "id": "dce71c69",
   "metadata": {
    "ExecuteTime": {
     "end_time": "2022-04-19T11:34:02.370504Z",
     "start_time": "2022-04-19T11:34:02.141638Z"
    },
    "scrolled": true
   },
   "outputs": [
    {
     "data": {
      "text/plain": [
       "<matplotlib.collections.PathCollection at 0x24cc3b00340>"
      ]
     },
     "execution_count": 13,
     "metadata": {},
     "output_type": "execute_result"
    },
    {
     "data": {
      "image/png": "[encoded data removed]",
      "text/plain": [
       "<Figure size 432x288 with 1 Axes>"
      ]
     },
     "metadata": {
      "needs_background": "light"
     },
     "output_type": "display_data"
    }
   ],
   "source": [
    "# 과적합 시각화: 데이터 모형\n",
    "#-> sklearn에서 함수 형태로 제공되는 가상의 데이터 모델로 예시 작성\n",
    "\n",
    "from sklearn.datasets import make_classification\n",
    "import matplotlib.pyplot as plt\n",
    "\n",
    "plt.title('3 Class values with 2 Features Sample data creation')\n",
    "\n",
    "#2차원 시각화를 위해서 feature를 2개, 결정값의 클래스는 3가지 유형인 classification 샘플데이터 생성\n",
    "X_features, y_labels = make_classification(n_features=2, n_redundant=0,n_informative=2,\n",
    "                                          n_classes=3, n_clusters_per_class=1,random_state=0)\n",
    "#make_classification():\n",
    "# 임의의 샘플 데이터 분류를 만드는 함수\n",
    "plt.scatter(X_features[:,0],X_features[:,1],marker='o',c=y_labels,s=25,cmap='rainbow',edgecolor='k')"
   ]
  },
  {
   "cell_type": "code",
   "execution_count": 14,
   "id": "e5568234",
   "metadata": {
    "ExecuteTime": {
     "end_time": "2022-04-19T11:34:02.401430Z",
     "start_time": "2022-04-19T11:34:02.376495Z"
    }
   },
   "outputs": [],
   "source": [
    "import numpy as np\n",
    "\n",
    "def visualize_boundary(model,X,y):\n",
    "    fig, ax = plt.subplots()\n",
    "    \n",
    "    ax.scatter(X[:,0],X[:,1],c=y,s=25,cmap='rainbow',edgecolor='k', clim=(y.min(),y.max()),zorder=3)\n",
    "    ax.axis('tight')\n",
    "    ax.axis('off')\n",
    "    xlim_start, xlim_end = ax.get_xlim()\n",
    "    ylim_start, ylim_end = ax.get_ylim()\n",
    "    \n",
    "    model.fit(X,y)\n",
    "    \n",
    "    xx, yy = np.meshgrid(np.linspace(xlim_start,xlim_end,num=200),np.linspace(ylim_start,ylim_end,num=200))\n",
    "    Z = model.predict(np.c_[xx.ravel(),yy.ravel()]).reshape(xx.shape)\n",
    "                      \n",
    "    n_classes = len(np.unique(y))\n",
    "    contours = ax.contourf(xx,yy,Z,alpha=0.3,\n",
    "                          levels=np.arange(n_classes +1) - 0.5,\n",
    "                          cmap='rainbow',clim=(y.min(),y.max()), zoder=1)"
   ]
  },
  {
   "cell_type": "code",
   "execution_count": 15,
   "id": "09272f50",
   "metadata": {
    "ExecuteTime": {
     "end_time": "2022-04-19T11:34:02.542052Z",
     "start_time": "2022-04-19T11:34:02.407413Z"
    }
   },
   "outputs": [
    {
     "data": {
      "image/png": "[encoded data removed]",
      "text/plain": [
       "<Figure size 432x288 with 1 Axes>"
      ]
     },
     "metadata": {
      "needs_background": "light"
     },
     "output_type": "display_data"
    }
   ],
   "source": [
    "from sklearn.tree import DecisionTreeClassifier\n",
    "\n",
    "dt_clf = DecisionTreeClassifier().fit(X_features,y_labels)\n",
    "visualize_boundary(dt_clf,X_features,y_labels)"
   ]
  },
  {
   "cell_type": "code",
   "execution_count": 16,
   "id": "21a20b86",
   "metadata": {
    "ExecuteTime": {
     "end_time": "2022-04-19T11:34:02.651801Z",
     "start_time": "2022-04-19T11:34:02.545046Z"
    }
   },
   "outputs": [
    {
     "data": {
      "image/png": "[encoded data removed]",
      "text/plain": [
       "<Figure size 432x288 with 1 Axes>"
      ]
     },
     "metadata": {
      "needs_background": "light"
     },
     "output_type": "display_data"
    }
   ],
   "source": [
    "dt_clf = DecisionTreeClassifier(min_samples_leaf=6).fit(X_features,y_labels)\n",
    "visualize_boundary(dt_clf,X_features,y_labels)"
   ]
  },
  {
   "cell_type": "markdown",
   "id": "94bb04db",
   "metadata": {},
   "source": [
    "## 앙상블의 유형\n",
    "보팅: 여러 예측 모델을 직접 해서 가장 적절한 모델을 선정하는 방식(hard voting)\n",
    "      보팅 결과값의 평균화(soft voting)\n",
    "<br>배깅: 복원추출 결과의 평균화\n",
    "<br>부스팅: 순차적으로 모델을 적용하면서 약한 알고리즘에 가중치를 주어 다시 모델에 적용하는 알고리즘 유형\n",
    "\n",
    "### 특징\n",
    "단일 모델의 약점을 다수의 모델로 결합해서 보완 "
   ]
  },
  {
   "cell_type": "code",
   "execution_count": 17,
   "id": "55e95944",
   "metadata": {
    "ExecuteTime": {
     "end_time": "2022-04-19T11:34:02.777499Z",
     "start_time": "2022-04-19T11:34:02.657743Z"
    }
   },
   "outputs": [
    {
     "data": {
      "text/html": [
       "<div>\n",
       "<style scoped>\n",
       "    .dataframe tbody tr th:only-of-type {\n",
       "        vertical-align: middle;\n",
       "    }\n",
       "\n",
       "    .dataframe tbody tr th {\n",
       "        vertical-align: top;\n",
       "    }\n",
       "\n",
       "    .dataframe thead th {\n",
       "        text-align: right;\n",
       "    }\n",
       "</style>\n",
       "<table border=\"1\" class=\"dataframe\">\n",
       "  <thead>\n",
       "    <tr style=\"text-align: right;\">\n",
       "      <th></th>\n",
       "      <th>mean radius</th>\n",
       "      <th>mean texture</th>\n",
       "      <th>mean perimeter</th>\n",
       "      <th>mean area</th>\n",
       "      <th>mean smoothness</th>\n",
       "      <th>mean compactness</th>\n",
       "      <th>mean concavity</th>\n",
       "      <th>mean concave points</th>\n",
       "      <th>mean symmetry</th>\n",
       "      <th>mean fractal dimension</th>\n",
       "      <th>...</th>\n",
       "      <th>worst radius</th>\n",
       "      <th>worst texture</th>\n",
       "      <th>worst perimeter</th>\n",
       "      <th>worst area</th>\n",
       "      <th>worst smoothness</th>\n",
       "      <th>worst compactness</th>\n",
       "      <th>worst concavity</th>\n",
       "      <th>worst concave points</th>\n",
       "      <th>worst symmetry</th>\n",
       "      <th>worst fractal dimension</th>\n",
       "    </tr>\n",
       "  </thead>\n",
       "  <tbody>\n",
       "    <tr>\n",
       "      <th>0</th>\n",
       "      <td>17.99</td>\n",
       "      <td>10.38</td>\n",
       "      <td>122.80</td>\n",
       "      <td>1001.0</td>\n",
       "      <td>0.11840</td>\n",
       "      <td>0.27760</td>\n",
       "      <td>0.3001</td>\n",
       "      <td>0.14710</td>\n",
       "      <td>0.2419</td>\n",
       "      <td>0.07871</td>\n",
       "      <td>...</td>\n",
       "      <td>25.38</td>\n",
       "      <td>17.33</td>\n",
       "      <td>184.60</td>\n",
       "      <td>2019.0</td>\n",
       "      <td>0.1622</td>\n",
       "      <td>0.6656</td>\n",
       "      <td>0.7119</td>\n",
       "      <td>0.2654</td>\n",
       "      <td>0.4601</td>\n",
       "      <td>0.11890</td>\n",
       "    </tr>\n",
       "    <tr>\n",
       "      <th>1</th>\n",
       "      <td>20.57</td>\n",
       "      <td>17.77</td>\n",
       "      <td>132.90</td>\n",
       "      <td>1326.0</td>\n",
       "      <td>0.08474</td>\n",
       "      <td>0.07864</td>\n",
       "      <td>0.0869</td>\n",
       "      <td>0.07017</td>\n",
       "      <td>0.1812</td>\n",
       "      <td>0.05667</td>\n",
       "      <td>...</td>\n",
       "      <td>24.99</td>\n",
       "      <td>23.41</td>\n",
       "      <td>158.80</td>\n",
       "      <td>1956.0</td>\n",
       "      <td>0.1238</td>\n",
       "      <td>0.1866</td>\n",
       "      <td>0.2416</td>\n",
       "      <td>0.1860</td>\n",
       "      <td>0.2750</td>\n",
       "      <td>0.08902</td>\n",
       "    </tr>\n",
       "    <tr>\n",
       "      <th>2</th>\n",
       "      <td>19.69</td>\n",
       "      <td>21.25</td>\n",
       "      <td>130.00</td>\n",
       "      <td>1203.0</td>\n",
       "      <td>0.10960</td>\n",
       "      <td>0.15990</td>\n",
       "      <td>0.1974</td>\n",
       "      <td>0.12790</td>\n",
       "      <td>0.2069</td>\n",
       "      <td>0.05999</td>\n",
       "      <td>...</td>\n",
       "      <td>23.57</td>\n",
       "      <td>25.53</td>\n",
       "      <td>152.50</td>\n",
       "      <td>1709.0</td>\n",
       "      <td>0.1444</td>\n",
       "      <td>0.4245</td>\n",
       "      <td>0.4504</td>\n",
       "      <td>0.2430</td>\n",
       "      <td>0.3613</td>\n",
       "      <td>0.08758</td>\n",
       "    </tr>\n",
       "    <tr>\n",
       "      <th>3</th>\n",
       "      <td>11.42</td>\n",
       "      <td>20.38</td>\n",
       "      <td>77.58</td>\n",
       "      <td>386.1</td>\n",
       "      <td>0.14250</td>\n",
       "      <td>0.28390</td>\n",
       "      <td>0.2414</td>\n",
       "      <td>0.10520</td>\n",
       "      <td>0.2597</td>\n",
       "      <td>0.09744</td>\n",
       "      <td>...</td>\n",
       "      <td>14.91</td>\n",
       "      <td>26.50</td>\n",
       "      <td>98.87</td>\n",
       "      <td>567.7</td>\n",
       "      <td>0.2098</td>\n",
       "      <td>0.8663</td>\n",
       "      <td>0.6869</td>\n",
       "      <td>0.2575</td>\n",
       "      <td>0.6638</td>\n",
       "      <td>0.17300</td>\n",
       "    </tr>\n",
       "    <tr>\n",
       "      <th>4</th>\n",
       "      <td>20.29</td>\n",
       "      <td>14.34</td>\n",
       "      <td>135.10</td>\n",
       "      <td>1297.0</td>\n",
       "      <td>0.10030</td>\n",
       "      <td>0.13280</td>\n",
       "      <td>0.1980</td>\n",
       "      <td>0.10430</td>\n",
       "      <td>0.1809</td>\n",
       "      <td>0.05883</td>\n",
       "      <td>...</td>\n",
       "      <td>22.54</td>\n",
       "      <td>16.67</td>\n",
       "      <td>152.20</td>\n",
       "      <td>1575.0</td>\n",
       "      <td>0.1374</td>\n",
       "      <td>0.2050</td>\n",
       "      <td>0.4000</td>\n",
       "      <td>0.1625</td>\n",
       "      <td>0.2364</td>\n",
       "      <td>0.07678</td>\n",
       "    </tr>\n",
       "  </tbody>\n",
       "</table>\n",
       "<p>5 rows × 30 columns</p>\n",
       "</div>"
      ],
      "text/plain": [
       "   mean radius  mean texture  mean perimeter  mean area  mean smoothness  \\\n",
       "0        17.99         10.38          122.80     1001.0          0.11840   \n",
       "1        20.57         17.77          132.90     1326.0          0.08474   \n",
       "2        19.69         21.25          130.00     1203.0          0.10960   \n",
       "3        11.42         20.38           77.58      386.1          0.14250   \n",
       "4        20.29         14.34          135.10     1297.0          0.10030   \n",
       "\n",
       "   mean compactness  mean concavity  mean concave points  mean symmetry  \\\n",
       "0           0.27760          0.3001              0.14710         0.2419   \n",
       "1           0.07864          0.0869              0.07017         0.1812   \n",
       "2           0.15990          0.1974              0.12790         0.2069   \n",
       "3           0.28390          0.2414              0.10520         0.2597   \n",
       "4           0.13280          0.1980              0.10430         0.1809   \n",
       "\n",
       "   mean fractal dimension  ...  worst radius  worst texture  worst perimeter  \\\n",
       "0                 0.07871  ...         25.38          17.33           184.60   \n",
       "1                 0.05667  ...         24.99          23.41           158.80   \n",
       "2                 0.05999  ...         23.57          25.53           152.50   \n",
       "3                 0.09744  ...         14.91          26.50            98.87   \n",
       "4                 0.05883  ...         22.54          16.67           152.20   \n",
       "\n",
       "   worst area  worst smoothness  worst compactness  worst concavity  \\\n",
       "0      2019.0            0.1622             0.6656           0.7119   \n",
       "1      1956.0            0.1238             0.1866           0.2416   \n",
       "2      1709.0            0.1444             0.4245           0.4504   \n",
       "3       567.7            0.2098             0.8663           0.6869   \n",
       "4      1575.0            0.1374             0.2050           0.4000   \n",
       "\n",
       "   worst concave points  worst symmetry  worst fractal dimension  \n",
       "0                0.2654          0.4601                  0.11890  \n",
       "1                0.1860          0.2750                  0.08902  \n",
       "2                0.2430          0.3613                  0.08758  \n",
       "3                0.2575          0.6638                  0.17300  \n",
       "4                0.1625          0.2364                  0.07678  \n",
       "\n",
       "[5 rows x 30 columns]"
      ]
     },
     "execution_count": 17,
     "metadata": {},
     "output_type": "execute_result"
    }
   ],
   "source": [
    "import pandas as pd\n",
    "\n",
    "from sklearn.ensemble import VotingClassifier\n",
    "from sklearn.linear_model import LogisticRegression\n",
    "from sklearn.neighbors import KNeighborsClassifier\n",
    "from sklearn.datasets import load_breast_cancer\n",
    "from sklearn.model_selection import train_test_split\n",
    "from sklearn.metrics import accuracy_score\n",
    "\n",
    "cancer = load_breast_cancer()\n",
    "\n",
    "data_df = pd.DataFrame(cancer.data,columns=cancer.feature_names)\n",
    "data_df.head()"
   ]
  },
  {
   "cell_type": "code",
   "execution_count": 18,
   "id": "2145ceb3",
   "metadata": {
    "ExecuteTime": {
     "end_time": "2022-04-19T11:34:02.962976Z",
     "start_time": "2022-04-19T11:34:02.781478Z"
    }
   },
   "outputs": [
    {
     "name": "stdout",
     "output_type": "stream",
     "text": [
      "Voting방식 정확도: 0.9474\n",
      "Voting방식 정확도: 0.9474\n",
      "LogisticRegression 정확도: 0.9386\n",
      "KNeighborsClassifier 정확도: 0.9386\n"
     ]
    }
   ],
   "source": [
    "# 로지스틱, knn 모형을 만듬\n",
    "lr_clf = LogisticRegression()\n",
    "knn_clf = KNeighborsClassifier(n_neighbors=8)\n",
    "\n",
    "#개별 모델로 소프트 보팅 기반 앙상블 모델로 분류기 구현\n",
    "vo_clf = VotingClassifier(estimators=[('LR',lr_clf),('KNN',knn_clf)], voting='soft')\n",
    "\n",
    "X_train, X_test, y_train, y_test = train_test_split(cancer.data,cancer.target,test_size=0.2,random_state=156)\n",
    "\n",
    "vo_clf.fit(X_train, y_train)\n",
    "pred = vo_clf.predict(X_test)\n",
    "print('Voting방식 정확도: {:.4f}'.format(vo_clf.score(X_test,y_test)))\n",
    "print('Voting방식 정확도: {:.4f}'.format(accuracy_score(y_test,pred)))\n",
    "\n",
    "classifiers = [lr_clf, knn_clf]\n",
    "for classifier in classifiers:\n",
    "    classifier.fit(X_train,y_train)\n",
    "    pred = classifier.predict(X_test)\n",
    "    class_name= classifier.__class__.__name__\n",
    "    print('{} 정확도: {:.4f}'.format(class_name, accuracy_score(y_test, pred)))"
   ]
  },
  {
   "cell_type": "code",
   "execution_count": 19,
   "id": "31dd4a00",
   "metadata": {
    "ExecuteTime": {
     "end_time": "2022-04-19T11:34:03.009852Z",
     "start_time": "2022-04-19T11:34:02.965969Z"
    }
   },
   "outputs": [
    {
     "data": {
      "text/html": [
       "<div>\n",
       "<style scoped>\n",
       "    .dataframe tbody tr th:only-of-type {\n",
       "        vertical-align: middle;\n",
       "    }\n",
       "\n",
       "    .dataframe tbody tr th {\n",
       "        vertical-align: top;\n",
       "    }\n",
       "\n",
       "    .dataframe thead th {\n",
       "        text-align: right;\n",
       "    }\n",
       "</style>\n",
       "<table border=\"1\" class=\"dataframe\">\n",
       "  <thead>\n",
       "    <tr style=\"text-align: right;\">\n",
       "      <th></th>\n",
       "      <th>column_index</th>\n",
       "      <th>columns_name</th>\n",
       "    </tr>\n",
       "  </thead>\n",
       "  <tbody>\n",
       "    <tr>\n",
       "      <th>0</th>\n",
       "      <td>1</td>\n",
       "      <td>tBodyAcc-mean()-X</td>\n",
       "    </tr>\n",
       "    <tr>\n",
       "      <th>1</th>\n",
       "      <td>2</td>\n",
       "      <td>tBodyAcc-mean()-Y</td>\n",
       "    </tr>\n",
       "    <tr>\n",
       "      <th>2</th>\n",
       "      <td>3</td>\n",
       "      <td>tBodyAcc-mean()-Z</td>\n",
       "    </tr>\n",
       "    <tr>\n",
       "      <th>3</th>\n",
       "      <td>4</td>\n",
       "      <td>tBodyAcc-std()-X</td>\n",
       "    </tr>\n",
       "    <tr>\n",
       "      <th>4</th>\n",
       "      <td>5</td>\n",
       "      <td>tBodyAcc-std()-Y</td>\n",
       "    </tr>\n",
       "    <tr>\n",
       "      <th>...</th>\n",
       "      <td>...</td>\n",
       "      <td>...</td>\n",
       "    </tr>\n",
       "    <tr>\n",
       "      <th>556</th>\n",
       "      <td>557</td>\n",
       "      <td>angle(tBodyGyroMean,gravityMean)</td>\n",
       "    </tr>\n",
       "    <tr>\n",
       "      <th>557</th>\n",
       "      <td>558</td>\n",
       "      <td>angle(tBodyGyroJerkMean,gravityMean)</td>\n",
       "    </tr>\n",
       "    <tr>\n",
       "      <th>558</th>\n",
       "      <td>559</td>\n",
       "      <td>angle(X,gravityMean)</td>\n",
       "    </tr>\n",
       "    <tr>\n",
       "      <th>559</th>\n",
       "      <td>560</td>\n",
       "      <td>angle(Y,gravityMean)</td>\n",
       "    </tr>\n",
       "    <tr>\n",
       "      <th>560</th>\n",
       "      <td>561</td>\n",
       "      <td>angle(Z,gravityMean)</td>\n",
       "    </tr>\n",
       "  </tbody>\n",
       "</table>\n",
       "<p>561 rows × 2 columns</p>\n",
       "</div>"
      ],
      "text/plain": [
       "     column_index                          columns_name\n",
       "0               1                     tBodyAcc-mean()-X\n",
       "1               2                     tBodyAcc-mean()-Y\n",
       "2               3                     tBodyAcc-mean()-Z\n",
       "3               4                      tBodyAcc-std()-X\n",
       "4               5                      tBodyAcc-std()-Y\n",
       "..            ...                                   ...\n",
       "556           557      angle(tBodyGyroMean,gravityMean)\n",
       "557           558  angle(tBodyGyroJerkMean,gravityMean)\n",
       "558           559                  angle(X,gravityMean)\n",
       "559           560                  angle(Y,gravityMean)\n",
       "560           561                  angle(Z,gravityMean)\n",
       "\n",
       "[561 rows x 2 columns]"
      ]
     },
     "execution_count": 19,
     "metadata": {},
     "output_type": "execute_result"
    }
   ],
   "source": [
    "import pandas as pd\n",
    "\n",
    "feature_name_df = pd.read_csv('./datasets/UCI HAR Dataset/UCI HAR Dataset/features.txt',sep='\\s+',header=None, names=['column_index','columns_name'])\n",
    "\n",
    "feature_name_df"
   ]
  },
  {
   "cell_type": "code",
   "execution_count": 20,
   "id": "93a11f3d",
   "metadata": {
    "ExecuteTime": {
     "end_time": "2022-04-19T11:34:03.040766Z",
     "start_time": "2022-04-19T11:34:03.012841Z"
    }
   },
   "outputs": [
    {
     "data": {
      "text/html": [
       "<div>\n",
       "<style scoped>\n",
       "    .dataframe tbody tr th:only-of-type {\n",
       "        vertical-align: middle;\n",
       "    }\n",
       "\n",
       "    .dataframe tbody tr th {\n",
       "        vertical-align: top;\n",
       "    }\n",
       "\n",
       "    .dataframe thead th {\n",
       "        text-align: right;\n",
       "    }\n",
       "</style>\n",
       "<table border=\"1\" class=\"dataframe\">\n",
       "  <thead>\n",
       "    <tr style=\"text-align: right;\">\n",
       "      <th></th>\n",
       "      <th>column_index</th>\n",
       "    </tr>\n",
       "    <tr>\n",
       "      <th>columns_name</th>\n",
       "      <th></th>\n",
       "    </tr>\n",
       "  </thead>\n",
       "  <tbody>\n",
       "    <tr>\n",
       "      <th>fBodyAcc-bandsEnergy()-1,16</th>\n",
       "      <td>3</td>\n",
       "    </tr>\n",
       "    <tr>\n",
       "      <th>fBodyAcc-bandsEnergy()-1,24</th>\n",
       "      <td>3</td>\n",
       "    </tr>\n",
       "    <tr>\n",
       "      <th>fBodyAcc-bandsEnergy()-1,8</th>\n",
       "      <td>3</td>\n",
       "    </tr>\n",
       "    <tr>\n",
       "      <th>fBodyAcc-bandsEnergy()-17,24</th>\n",
       "      <td>3</td>\n",
       "    </tr>\n",
       "    <tr>\n",
       "      <th>fBodyAcc-bandsEnergy()-17,32</th>\n",
       "      <td>3</td>\n",
       "    </tr>\n",
       "  </tbody>\n",
       "</table>\n",
       "</div>"
      ],
      "text/plain": [
       "                              column_index\n",
       "columns_name                              \n",
       "fBodyAcc-bandsEnergy()-1,16              3\n",
       "fBodyAcc-bandsEnergy()-1,24              3\n",
       "fBodyAcc-bandsEnergy()-1,8               3\n",
       "fBodyAcc-bandsEnergy()-17,24             3\n",
       "fBodyAcc-bandsEnergy()-17,32             3"
      ]
     },
     "execution_count": 20,
     "metadata": {},
     "output_type": "execute_result"
    }
   ],
   "source": [
    "feature_dup_df = feature_name_df.groupby('columns_name').count()\n",
    "feature_dup_df[feature_dup_df['column_index']>1].count()\n",
    "feature_dup_df[feature_dup_df['column_index']>1].head()\n"
   ]
  },
  {
   "cell_type": "code",
   "execution_count": 21,
   "id": "480d9c47",
   "metadata": {
    "ExecuteTime": {
     "end_time": "2022-04-19T11:34:03.056732Z",
     "start_time": "2022-04-19T11:34:03.044757Z"
    }
   },
   "outputs": [],
   "source": [
    "def get_new_feature_name_df(old_feature_name_df):\n",
    "    feature_dup_df = pd.DataFrame(data = old_feature_name_df.groupby('column_name').cumcount(),\n",
    "                                 columns=['dup_cnt'])\n",
    "    feature_dup_df = feature_dup_df.reset_index()\n",
    "    new_feature_name_df = pd.merge(old_feature_name_df.reset_index(),feature_dup_df,how='outer')\n",
    "    new_feature_name_df['column_name'] = new_feature_name_df[['column_name','dup_cnt']].apply(lambda x: x[0]+'_'+str(x[1])\n",
    "                                                                                              if x[1]>0 else x[0], axis=1)\n",
    "    new_feature_name_df = new_feature_name_df.drop(['index'],axis=1)\n",
    "    return new_feature_name_df "
   ]
  },
  {
   "cell_type": "code",
   "execution_count": 22,
   "id": "2064301a",
   "metadata": {
    "ExecuteTime": {
     "end_time": "2022-04-19T11:34:08.694585Z",
     "start_time": "2022-04-19T11:34:03.061710Z"
    }
   },
   "outputs": [
    {
     "name": "stdout",
     "output_type": "stream",
     "text": [
      "1\n",
      "2\n",
      "4\n",
      "5\n"
     ]
    }
   ],
   "source": [
    "import pandas as pd\n",
    "def get_human_dataset():\n",
    "    print(1)\n",
    "    \n",
    "    feature_name_df = pd.read_csv('./datasets/UCI HAR Dataset/UCI HAR Dataset/features.txt',sep='\\s+',header=None, names=['column_index','column_name'])\n",
    "    new_feature_name_df = get_new_feature_name_df(feature_name_df)\n",
    "    \n",
    "    print(2)\n",
    "    feature_name = new_feature_name_df.iloc[:,1].values.tolist()\n",
    "    \n",
    "    X_train = pd.read_csv('./datasets/UCI HAR Dataset/UCI HAR Dataset/train/X_train.txt',sep='\\s+', names=feature_name)\n",
    "    X_test = pd.read_csv('./datasets/UCI HAR Dataset/UCI HAR Dataset/test/X_test.txt',sep='\\s+', names=feature_name)\n",
    "    \n",
    "    print(4)\n",
    "    y_train = pd.read_csv('./datasets/UCI HAR Dataset/UCI HAR Dataset/train/y_train.txt',sep='\\s+',header=None, names=['action'])\n",
    "    y_test = pd.read_csv('./datasets/UCI HAR Dataset/UCI HAR Dataset/test/y_test.txt',sep='\\s+',header=None, names=['action'])\n",
    "    \n",
    "    print(5)\n",
    "    return X_train, X_test, y_train, y_test\n",
    "\n",
    "X_train, X_test, y_train, y_test = get_human_dataset()"
   ]
  },
  {
   "cell_type": "code",
   "execution_count": 23,
   "id": "2a10a037",
   "metadata": {
    "ExecuteTime": {
     "end_time": "2022-04-19T11:34:08.758440Z",
     "start_time": "2022-04-19T11:34:08.700571Z"
    }
   },
   "outputs": [
    {
     "name": "stdout",
     "output_type": "stream",
     "text": [
      "학습 피처 데이터셋:\n",
      "<class 'pandas.core.frame.DataFrame'>\n",
      "RangeIndex: 7352 entries, 0 to 7351\n",
      "Columns: 561 entries, tBodyAcc-mean()-X to angle(Z,gravityMean)\n",
      "dtypes: float64(561)\n",
      "memory usage: 31.5 MB\n",
      "None\n"
     ]
    }
   ],
   "source": [
    "print('학습 피처 데이터셋:')\n",
    "print(X_train.info())"
   ]
  },
  {
   "cell_type": "code",
   "execution_count": 24,
   "id": "f0cb6f26",
   "metadata": {
    "ExecuteTime": {
     "end_time": "2022-04-19T11:34:08.774399Z",
     "start_time": "2022-04-19T11:34:08.761405Z"
    }
   },
   "outputs": [
    {
     "name": "stdout",
     "output_type": "stream",
     "text": [
      "6    1407\n",
      "5    1374\n",
      "4    1286\n",
      "1    1226\n",
      "2    1073\n",
      "3     986\n",
      "Name: action, dtype: int64\n"
     ]
    }
   ],
   "source": [
    "print(y_train['action'].value_counts())"
   ]
  },
  {
   "cell_type": "code",
   "execution_count": 25,
   "id": "c8bc45a3",
   "metadata": {
    "ExecuteTime": {
     "end_time": "2022-04-19T11:34:08.806296Z",
     "start_time": "2022-04-19T11:34:08.778360Z"
    }
   },
   "outputs": [
    {
     "data": {
      "text/plain": [
       "0"
      ]
     },
     "execution_count": 25,
     "metadata": {},
     "output_type": "execute_result"
    }
   ],
   "source": [
    "X_train.isna().sum().sum()"
   ]
  },
  {
   "cell_type": "code",
   "execution_count": 26,
   "id": "05fa9c9a",
   "metadata": {
    "ExecuteTime": {
     "end_time": "2022-04-19T11:34:14.036323Z",
     "start_time": "2022-04-19T11:34:08.810277Z"
    }
   },
   "outputs": [
    {
     "name": "stdout",
     "output_type": "stream",
     "text": [
      "결정 트리 예측 정확도: 0.854768\n",
      "결정 트리 예측 정확도: 0.854768\n",
      "DecisionTreeClassifier 기본 하이퍼 파라미터:\n",
      " {'ccp_alpha': 0.0, 'class_weight': None, 'criterion': 'gini', 'max_depth': None, 'max_features': None, 'max_leaf_nodes': None, 'min_impurity_decrease': 0.0, 'min_samples_leaf': 1, 'min_samples_split': 2, 'min_weight_fraction_leaf': 0.0, 'random_state': 156, 'splitter': 'best'}\n"
     ]
    }
   ],
   "source": [
    "from sklearn.tree import DecisionTreeClassifier\n",
    "from sklearn.metrics import accuracy_score\n",
    "\n",
    "#예제 반복 시 동일한 예측 도출을 위한 random_state 설정\n",
    "dt_clf = DecisionTreeClassifier(random_state=156)\n",
    "\n",
    "dt_clf.fit(X_train,y_train)\n",
    "pred = dt_clf.predict(X_test)\n",
    "accuracy1 = accuracy_score(y_test,pred)\n",
    "accuracy2 = dt_clf.score(X_test,y_test)\n",
    "\n",
    "print('결정 트리 예측 정확도: {:4f}'.format(accuracy1))\n",
    "print('결정 트리 예측 정확도: {:4f}'.format(accuracy2))\n",
    "\n",
    "print('DecisionTreeClassifier 기본 하이퍼 파라미터:\\n', dt_clf.get_params())"
   ]
  },
  {
   "cell_type": "code",
   "execution_count": 28,
   "id": "d88ff7ff",
   "metadata": {
    "ExecuteTime": {
     "end_time": "2022-04-19T11:37:01.783050Z",
     "start_time": "2022-04-19T11:35:04.242717Z"
    }
   },
   "outputs": [
    {
     "name": "stdout",
     "output_type": "stream",
     "text": [
      "Fitting 5 folds for each of 7 candidates, totalling 35 fits\n",
      "GridSearchCV 최고 평균 정확도 수치:  nan\n",
      "GridSearchCV 최적 하이퍼 파라미터:  {'max_depth': 6}\n"
     ]
    }
   ],
   "source": [
    "from sklearn.model_selection import GridSearchCV\n",
    "\n",
    "params = {\n",
    "    'max_depth':[6,8,10,12,16,20,24]\n",
    "}\n",
    "\n",
    "grid_cv = GridSearchCV(dt_clf, param_grid=params, scoring='f1',cv=5, verbose=1)\n",
    "\n",
    "grid_cv.fit(X_train,y_train)\n",
    "print('GridSearchCV 최고 평균 정확도 수치: {:4f}'.format(grid_cv.best_score_))\n",
    "print('GridSearchCV 최적 하이퍼 파라미터: ',grid_cv.best_params_)"
   ]
  },
  {
   "cell_type": "code",
   "execution_count": null,
   "id": "2f129561",
   "metadata": {
    "ExecuteTime": {
     "end_time": "2022-04-19T11:34:15.068605Z",
     "start_time": "2022-04-19T11:34:15.068605Z"
    }
   },
   "outputs": [],
   "source": [
    "cv_results_df = pd.DataFrame(grid_cv.cv_results_)\n",
    "cv_results_df [['param_max_depth','mean_test_score']]"
   ]
  },
  {
   "cell_type": "code",
   "execution_count": null,
   "id": "034e17b6",
   "metadata": {
    "ExecuteTime": {
     "end_time": "2022-04-19T11:34:15.070597Z",
     "start_time": "2022-04-19T11:34:15.070597Z"
    }
   },
   "outputs": [],
   "source": [
    "max_depths = [6,8,10,12,16,20,24]\n",
    "\n",
    "for depth in max_depths:\n",
    "    dt_clf = DecisionTreeClassifier(max_depth=depth, random_state=156)\n",
    "    dt_clf.fit(X_train,y_train)\n",
    "    pred = dt_clf.predict(X_test)\n",
    "    \n",
    "    print('max_depth = {} 정확도: {:.4f}'.format(depth,dt_clf.score(X_test,y_test)))"
   ]
  },
  {
   "cell_type": "code",
   "execution_count": null,
   "id": "7ecabe92",
   "metadata": {
    "ExecuteTime": {
     "end_time": "2022-04-19T11:34:15.073592Z",
     "start_time": "2022-04-19T11:34:15.073592Z"
    }
   },
   "outputs": [],
   "source": [
    "from sklearn.model_selection import GridSearchCV\n",
    "\n",
    "params = {\n",
    "    'max_depth':[8,12,16,20],\n",
    "    'min_samples_split':[16,24]\n",
    "}\n",
    "\n",
    "grid_cv = GridSearchCV(dt_clf, param_grid=params, scoring='accuracy',cv=5, verbose=1)\n",
    "\n",
    "grid_cv.fit(X_train,y_train)\n",
    "print('GridSearchCV 최고 평균 정확도 수치: {:4f}'.format(grid_cv.best_score_))\n",
    "print('GridSearchCV 최적 하이퍼 파라미터: ',grid_cv.best_params_)\n"
   ]
  },
  {
   "cell_type": "code",
   "execution_count": null,
   "id": "ba5d7570",
   "metadata": {
    "ExecuteTime": {
     "end_time": "2022-04-19T11:34:15.075584Z",
     "start_time": "2022-04-19T11:34:15.075584Z"
    }
   },
   "outputs": [],
   "source": [
    "best_df_clf = grid_cv.best_estimator_\n",
    "pred1 = best_df_clf.predict(X_test)\n",
    "accuracy = accuracy_score(y_test,pred1)\n",
    "print('결정트리 예측 정확도: {:.4f}'.format(accuracy))"
   ]
  },
  {
   "cell_type": "code",
   "execution_count": null,
   "id": "3bfc9ab5",
   "metadata": {
    "ExecuteTime": {
     "end_time": "2022-04-19T11:34:15.077578Z",
     "start_time": "2022-04-19T11:34:15.077578Z"
    }
   },
   "outputs": [],
   "source": [
    "import seaborn as sns\n",
    "\n",
    "ftr_importances_values = best_df_clf.feature_importances_\n",
    "\n",
    "ftr_importances = pd.Series(ftr_importances_values, index=X_train.columns)\n",
    "\n",
    "ftr_top20 = ftr_importances.sort_values(ascending=False)[:20]\n",
    "plt.figure(figsize=(8,6))\n",
    "plt.title('Feature importance Top 20')\n",
    "sns.barplot(x=ftr_top20, y=ftr_top20.index)\n",
    "plt.show()"
   ]
  },
  {
   "cell_type": "code",
   "execution_count": null,
   "id": "ed66df73",
   "metadata": {
    "ExecuteTime": {
     "end_time": "2022-04-19T11:34:15.081568Z",
     "start_time": "2022-04-19T11:34:15.081568Z"
    }
   },
   "outputs": [],
   "source": [
    "def get_new_feature_name_df(old_feature_name_df):\n",
    "    feature_dup_df = pd.DataFrame(data = old_feature_name_df.groupby('column_name').cumcount(),\n",
    "                                 columns=['dup_cnt'])\n",
    "    feature_dup_df = feature_dup_df.reset_index()\n",
    "    new_feature_name_df = pd.merge(old_feature_name_df.reset_index(),feature_dup_df,how='outer')\n",
    "    new_feature_name_df['column_name'] = new_feature_name_df[['column_name','dup_cnt']].apply(lambda x: x[0]+'_'+str(x[1])\n",
    "                                                                                              if x[1]>0 else x[0], axis=1)\n",
    "    new_feature_name_df = new_feature_name_df.drop(['index'],axis=1)\n",
    "    return new_feature_name_df "
   ]
  },
  {
   "cell_type": "code",
   "execution_count": null,
   "id": "ac04d424",
   "metadata": {
    "ExecuteTime": {
     "end_time": "2022-04-19T11:34:15.084562Z",
     "start_time": "2022-04-19T11:34:15.084562Z"
    }
   },
   "outputs": [],
   "source": [
    "import pandas as pd\n",
    "def get_human_dataset():\n",
    "    print(1)\n",
    "    \n",
    "    feature_name_df = pd.read_csv('./datasets/UCI HAR Dataset/UCI HAR Dataset/features.txt',sep='\\s+',header=None, names=['column_index','column_name'])\n",
    "    new_feature_name_df = get_new_feature_name_df(feature_name_df)\n",
    "    \n",
    "    print(2)\n",
    "    feature_name = new_feature_name_df.iloc[:,1].values.tolist()\n",
    "    \n",
    "    X_train = pd.read_csv('./datasets/UCI HAR Dataset/UCI HAR Dataset/train/X_train.txt',sep='\\s+', names=feature_name)\n",
    "    X_test = pd.read_csv('./datasets/UCI HAR Dataset/UCI HAR Dataset/test/X_test.txt',sep='\\s+', names=feature_name)\n",
    "    \n",
    "    print(4)\n",
    "    y_train = pd.read_csv('./datasets/UCI HAR Dataset/UCI HAR Dataset/train/y_train.txt',sep='\\s+',header=None, names=['action'])\n",
    "    y_test = pd.read_csv('./datasets/UCI HAR Dataset/UCI HAR Dataset/test/y_test.txt',sep='\\s+',header=None, names=['action'])\n",
    "    \n",
    "    print(5)\n",
    "    return X_train, X_test, y_train, y_test\n",
    "\n",
    "X_train, X_test, y_train, y_test = get_human_dataset()"
   ]
  },
  {
   "cell_type": "code",
   "execution_count": null,
   "id": "019a7747",
   "metadata": {
    "ExecuteTime": {
     "end_time": "2022-04-19T11:34:15.086556Z",
     "start_time": "2022-04-19T11:34:15.086556Z"
    }
   },
   "outputs": [],
   "source": [
    "from sklearn.ensemble import RandomForestClassifier\n",
    "from sklearn.metrics import accuracy_score\n",
    "import pandas as pd\n",
    "import warnings\n",
    "warnings.filterwarnings('ignore')\n",
    "\n",
    "\n",
    "X_train, X_test, y_train, y_test = get_human_dataset()\n",
    "\n",
    "rf_clf = RandomForestClassifier(random_state=0)\n",
    "rf_clf.fit(X_train,y_train)\n",
    "pred = rf_clf.predict(X_test)\n",
    "\n",
    "print('randomforest 정확도:{:.4f}'.format(rf_clf.score(X_test,y_test)))"
   ]
  },
  {
   "cell_type": "code",
   "execution_count": null,
   "id": "d05127d1",
   "metadata": {
    "ExecuteTime": {
     "end_time": "2022-04-19T11:34:15.089546Z",
     "start_time": "2022-04-19T11:34:15.089546Z"
    }
   },
   "outputs": [],
   "source": [
    "from sklearn.model_selection import GridSearchCV\n",
    "\n",
    "params = {\n",
    "    'n_estimators':[100],\n",
    "    'max_depth':[6,8,10,12],\n",
    "    'min_samples_leaf':[8,12,18],\n",
    "    'min_samples_split':[8,16,20]\n",
    "}\n",
    "\n",
    "rf_clf = RandomForestClassifier(random_state=0, n_jobs=-1)\n",
    "grid_cv = GridSearchCV(rf_clf, param_grid=params, cv=2,n_jobs=-1)\n",
    "grid_cv.fit(X_train,y_train)\n",
    "\n",
    "print(grid_cv.best_params_)\n",
    "print(grid_cv.best_score_)"
   ]
  },
  {
   "cell_type": "code",
   "execution_count": null,
   "id": "445540e3",
   "metadata": {
    "ExecuteTime": {
     "end_time": "2022-04-19T11:34:15.091541Z",
     "start_time": "2022-04-19T11:34:15.091541Z"
    }
   },
   "outputs": [],
   "source": [
    "rf_clf1 = RandomForestClassifier(n_estimators=100, max_depth = 10,min_samples_leaf = 8,min_samples_split = 8,random_state=0)\n",
    "rf_clf1.fit(X_train, y_train)\n",
    "pred = rf_clf1.predict(X_test)\n",
    "\n",
    "print(accuracy_score(y_test,pred))\n",
    "rf_clf1.score(X_test,y_test)"
   ]
  },
  {
   "cell_type": "code",
   "execution_count": null,
   "id": "613d7499",
   "metadata": {
    "ExecuteTime": {
     "end_time": "2022-04-19T11:34:15.093538Z",
     "start_time": "2022-04-19T11:34:15.093538Z"
    }
   },
   "outputs": [],
   "source": [
    "import matplotlib.pyplot as plt\n",
    "import seaborn as sns\n",
    "%matplotlib inline\n",
    "\n",
    "ftr_importance_values = rf_clf1.feature_importances_\n",
    "ftr_importance = pd.Series(ftr_importance_values,index=X_train.columns)\n",
    "ftr_top20 = ftr_importance.sort_values(ascending=False)[:20]\n",
    "\n",
    "plt.figure(figsize=(8,6))\n",
    "plt.title('Feature importances Top 20')\n",
    "sns.barplot(x=ftr_top20,y=ftr_top20.index)\n",
    "plt.show()"
   ]
  },
  {
   "cell_type": "markdown",
   "id": "38297ad0",
   "metadata": {},
   "source": [
    "### 부스팅 기법\n",
    "</br>ada boost: 여러 알고리즘에 대해서 예측율이 떨어진 부분에 가중치를 부여를 해서 전체 알고리즘의 결과값을 합치는 방식의 기법\n",
    "</br>gradient boosting: 모델 예측치에 대한 잔차에 대해서 반복적으로 분류기에 넣어서 오류를 줄이는 방식의 기법\n",
    "<br>XGboost: gbm 방식 + 오차에 대한 정규화를 통해서 과적합 확률을 줄인 방식의 기법-> 이것은 sklearn에서 제공되지 않는다."
   ]
  },
  {
   "cell_type": "code",
   "execution_count": null,
   "id": "a35261f4",
   "metadata": {
    "ExecuteTime": {
     "end_time": "2022-04-19T11:34:15.095532Z",
     "start_time": "2022-04-19T11:34:15.095532Z"
    }
   },
   "outputs": [],
   "source": [
    "from sklearn.ensemble import GradientBoostingClassifier\n",
    "import time \n",
    "import warnings\n",
    "warnings.filterwarnings('ignore')\n",
    "import dsetmod.py as d\n",
    "\n",
    "X_train, X_test, y_train, y_test = d.get_human_dataset()\n",
    "\n",
    "start_time = time.time()\n",
    "\n",
    "start_time"
   ]
  },
  {
   "cell_type": "code",
   "execution_count": null,
   "id": "c3ea6e67",
   "metadata": {},
   "outputs": [],
   "source": []
  },
  {
   "cell_type": "code",
   "execution_count": null,
   "id": "980b24f3",
   "metadata": {},
   "outputs": [],
   "source": []
  },
  {
   "cell_type": "code",
   "execution_count": null,
   "id": "01206142",
   "metadata": {},
   "outputs": [],
   "source": []
  }
 ],
 "metadata": {
  "hide_input": false,
  "kernelspec": {
   "display_name": "Python 3 (ipykernel)",
   "language": "python",
   "name": "python3"
  },
  "language_info": {
   "codemirror_mode": {
    "name": "ipython",
    "version": 3
   },
   "file_extension": ".py",
   "mimetype": "text/x-python",
   "name": "python",
   "nbconvert_exporter": "python",
   "pygments_lexer": "ipython3",
   "version": "3.10.2"
  },
  "toc": {
   "base_numbering": 1,
   "nav_menu": {},
   "number_sections": true,
   "sideBar": true,
   "skip_h1_title": false,
   "title_cell": "Table of Contents",
   "title_sidebar": "Contents",
   "toc_cell": false,
   "toc_position": {},
   "toc_section_display": true,
   "toc_window_display": false
  },
  "varInspector": {
   "cols": {
    "lenName": 16,
    "lenType": 16,
    "lenVar": 40
   },
   "kernels_config": {
    "python": {
     "delete_cmd_postfix": "",
     "delete_cmd_prefix": "del ",
     "library": "var_list.py",
     "varRefreshCmd": "print(var_dic_list())"
    },
    "r": {
     "delete_cmd_postfix": ") ",
     "delete_cmd_prefix": "rm(",
     "library": "var_list.r",
     "varRefreshCmd": "cat(var_dic_list()) "
    }
   },
   "types_to_exclude": [
    "module",
    "function",
    "builtin_function_or_method",
    "instance",
    "_Feature"
   ],
   "window_display": false
  }
 },
 "nbformat": 4,
 "nbformat_minor": 5
}
