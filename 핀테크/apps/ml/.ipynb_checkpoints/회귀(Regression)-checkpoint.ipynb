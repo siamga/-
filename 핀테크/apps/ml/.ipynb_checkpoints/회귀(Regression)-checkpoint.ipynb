{
 "cells": [
  {
   "cell_type": "markdown",
   "id": "9abf2bd1",
   "metadata": {},
   "source": [
    "회귀 큰그림\n",
    "\n",
    "회귀분석\n",
    "실제 결과값 - 예측 결과값 = 잔차\n",
    "잔차^2의 평균 = MSE -> (실제 결과값 - 예측 결과값)^2의 평균 = 손실함수, 비용함수, 목적함수, RSS(residual sum of square 함수)\n",
    "-> (1/n)시그마(실제 결과값-예측 결과값)^2\n",
    "    =(1/n)시그마(Yi-(wXi+b)^2\n",
    "    =뭐가 되었든 가중치(w)를 기준으로 2차식, b를 기준으로 2차식이 나온다.\n",
    "\n",
    "편차^2의 평균 = 분산 ->(평균 - 실제값)^2의 평균\n",
    "\n",
    "예측 모델 : wx+b(w: 가중치-> 중요)\n",
    "\n",
    "잔차(residual)와 가중치(w)의 관계에서 \n",
    "잔차가 최소가 되는 가중치 값을 구해나가는 과정\n",
    "-> 잔차의 최소값: w와 b를 기준으로 최소값을 구한다\n",
    "                = w,b를 기준으로 각각을 편미분 했을 때, 해당 값이 최소값 조건을 \n",
    "                만족하는 w,b 값을 찾아서 모델을 구성한다.\n",
    "                \n",
    "  \n",
    "만일 모형이 울퉁불퉁해서 특정 x값에서 최소값 조건을 만족해도 실제 최소값이 아니라면?\n",
    "-> 이것을 방지하기 위해서 특정 x값을 기준으로 ^2,^3을 진행해서 그 값들을 기준으로 \n",
    "최소값 조건을 만족하는 w,b 편미분을 진행해서 모델을 구한다.\n",
    "\n",
    "\n",
    "\n",
    "선형회귀 종류\n",
    "일반 선형회귀: 예측값과 실제값의 RSS의 최소화하도록 회귀계수를  최적화\n",
    "릿지(L1규제), 라쏘(L2규제), 엘라스틱(L1,L2규제 모두 적절히 적용): 잔차의 값에 대해 일종의 패널티를 부여하는 제약()를 적용하는 선형회귀 모형\n",
    "L1-> 절대값, L2-> 제곱, \n",
    "로지스틱: 이름은 회귀지만 사실 분류에 사용되는 선형 모델\n"
   ]
  },
  {
   "cell_type": "code",
   "execution_count": 3,
   "id": "6a97d502",
   "metadata": {
    "ExecuteTime": {
     "end_time": "2022-04-15T01:46:04.445134Z",
     "start_time": "2022-04-15T01:46:04.268802Z"
    }
   },
   "outputs": [
    {
     "name": "stdout",
     "output_type": "stream",
     "text": [
      "[[0.36053938]\n",
      " [0.03895048]\n",
      " [0.92643705]\n",
      " [1.44986786]\n",
      " [0.84040721]\n",
      " [0.9708542 ]\n",
      " [0.02556163]\n",
      " [0.97474321]\n",
      " [1.8836133 ]\n",
      " [1.70159018]\n",
      " [1.45992894]\n",
      " [0.21747214]\n",
      " [1.78780834]\n",
      " [1.71430849]\n",
      " [0.33017324]\n",
      " [1.26466803]\n",
      " [0.04096723]\n",
      " [0.23347454]\n",
      " [0.63273462]\n",
      " [0.31582461]\n",
      " [1.51795918]\n",
      " [1.63655072]\n",
      " [0.68924898]\n",
      " [0.63759759]\n",
      " [0.22332246]\n",
      " [0.16790629]\n",
      " [1.42545187]\n",
      " [1.19908679]\n",
      " [0.11134736]\n",
      " [0.95959456]\n",
      " [0.80335296]\n",
      " [1.695958  ]\n",
      " [1.43569836]\n",
      " [1.2041281 ]\n",
      " [1.10476764]\n",
      " [1.8982048 ]\n",
      " [1.97334666]\n",
      " [0.6761081 ]\n",
      " [0.47974936]\n",
      " [1.59287151]\n",
      " [0.12737286]\n",
      " [0.72923129]\n",
      " [0.14004561]\n",
      " [0.63873541]\n",
      " [0.14076519]\n",
      " [0.58052733]\n",
      " [1.58020225]\n",
      " [1.81080064]\n",
      " [1.58524277]\n",
      " [1.12363742]\n",
      " [1.23203677]\n",
      " [0.72296708]\n",
      " [0.3376346 ]\n",
      " [0.87248187]\n",
      " [1.46565067]\n",
      " [0.12577525]\n",
      " [0.04146596]\n",
      " [1.54109613]\n",
      " [0.59990402]\n",
      " [1.40232855]\n",
      " [1.46933544]\n",
      " [1.86580925]\n",
      " [0.80065687]\n",
      " [0.71687586]\n",
      " [1.61313358]\n",
      " [1.52898219]\n",
      " [1.30522948]\n",
      " [1.62193315]\n",
      " [1.28442972]\n",
      " [1.91488811]\n",
      " [0.66774884]\n",
      " [1.47650525]\n",
      " [1.89966661]\n",
      " [0.66872831]\n",
      " [1.22326399]\n",
      " [0.73134034]\n",
      " [0.92308058]\n",
      " [0.15000399]\n",
      " [0.03868672]\n",
      " [1.51929894]\n",
      " [0.90551833]\n",
      " [1.24566802]\n",
      " [1.47990304]\n",
      " [0.83732686]\n",
      " [0.73523525]\n",
      " [0.33805762]\n",
      " [1.58774481]\n",
      " [1.66607482]\n",
      " [1.46842597]\n",
      " [1.75058916]\n",
      " [1.29611288]\n",
      " [1.39213235]\n",
      " [0.38603616]\n",
      " [1.53526447]\n",
      " [0.66816579]\n",
      " [0.87591841]\n",
      " [0.63774048]\n",
      " [1.13657934]\n",
      " [1.3173847 ]\n",
      " [1.15111708]]\n",
      "[[ 6.38050311]\n",
      " [ 5.47131726]\n",
      " [ 9.22953373]\n",
      " [12.62978186]\n",
      " [ 8.49827632]\n",
      " [ 9.75287532]\n",
      " [ 5.57915888]\n",
      " [ 9.64769593]\n",
      " [14.82572795]\n",
      " [11.84215586]\n",
      " [11.91147554]\n",
      " [ 7.14149487]\n",
      " [14.00990054]\n",
      " [11.5931603 ]\n",
      " [ 8.43556323]\n",
      " [11.4934491 ]\n",
      " [ 7.03814167]\n",
      " [ 7.00555025]\n",
      " [ 6.89188687]\n",
      " [ 6.61599582]\n",
      " [12.88960627]\n",
      " [12.58299762]\n",
      " [ 8.70829339]\n",
      " [10.34192147]\n",
      " [ 9.09514617]\n",
      " [ 6.63455824]\n",
      " [13.63471291]\n",
      " [ 8.80277564]\n",
      " [ 4.39633218]\n",
      " [10.70543346]\n",
      " [ 8.95145077]\n",
      " [13.36280309]\n",
      " [12.25934582]\n",
      " [10.72710877]\n",
      " [11.10120028]\n",
      " [13.74354119]\n",
      " [12.36124412]\n",
      " [ 8.92330097]\n",
      " [ 8.10466069]\n",
      " [14.20426257]\n",
      " [ 5.38059704]\n",
      " [ 8.93392202]\n",
      " [ 6.1357536 ]\n",
      " [ 8.42203176]\n",
      " [ 8.22226538]\n",
      " [ 8.70075002]\n",
      " [11.85624292]\n",
      " [13.39704381]\n",
      " [13.1071317 ]\n",
      " [ 9.50052199]\n",
      " [10.66380475]\n",
      " [10.43407756]\n",
      " [ 8.20669043]\n",
      " [ 9.44512485]\n",
      " [11.38511346]\n",
      " [ 6.34903547]\n",
      " [ 4.61478437]\n",
      " [13.10742051]\n",
      " [ 8.74076951]\n",
      " [11.74758742]\n",
      " [10.57991915]\n",
      " [12.74827457]\n",
      " [ 9.7171071 ]\n",
      " [ 9.12521981]\n",
      " [11.95580385]\n",
      " [12.62095069]\n",
      " [12.15970104]\n",
      " [11.81271232]\n",
      " [10.60686063]\n",
      " [12.78969048]\n",
      " [ 7.51573115]\n",
      " [12.70269283]\n",
      " [14.10869447]\n",
      " [ 9.01362717]\n",
      " [ 9.72093594]\n",
      " [ 7.87939369]\n",
      " [ 9.62465377]\n",
      " [ 6.18680619]\n",
      " [ 6.2748297 ]\n",
      " [11.37822405]\n",
      " [10.2760982 ]\n",
      " [12.78215214]\n",
      " [13.46621824]\n",
      " [10.95918143]\n",
      " [ 9.01196078]\n",
      " [ 8.27380572]\n",
      " [11.97414941]\n",
      " [13.58428181]\n",
      " [11.49528134]\n",
      " [12.51338121]\n",
      " [10.54005772]\n",
      " [12.26767024]\n",
      " [ 7.8195513 ]\n",
      " [12.32738322]\n",
      " [ 7.5328575 ]\n",
      " [ 9.64547854]\n",
      " [ 7.11024256]\n",
      " [12.02283018]\n",
      " [11.13798533]\n",
      " [10.79889753]]\n"
     ]
    },
    {
     "data": {
      "image/png": "[encoded data removed]",
      "text/plain": [
       "<Figure size 432x288 with 1 Axes>"
      ]
     },
     "metadata": {
      "needs_background": "light"
     },
     "output_type": "display_data"
    }
   ],
   "source": [
    "import numpy as np\n",
    "import matplotlib.pyplot as plt\n",
    "%matplotlib inline\n",
    "\n",
    "np.random.seed(11)\n",
    "X = 2*np.random.rand(100,1)\n",
    "y = 6+4*X+np.random.randn(100,1)\n",
    "\n",
    "plt.scatter(X,y)"
   ]
  },
  {
   "cell_type": "code",
   "execution_count": 46,
   "id": "5f6a2aa7",
   "metadata": {
    "ExecuteTime": {
     "end_time": "2022-04-15T04:08:18.307043Z",
     "start_time": "2022-04-15T04:08:17.951993Z"
    },
    "scrolled": true
   },
   "outputs": [
    {
     "name": "stdout",
     "output_type": "stream",
     "text": [
      "4.0930001136140595 5.955991561432985\n",
      "0.8321033313881988\n"
     ]
    }
   ],
   "source": [
    "# 경사하강법의 하드 코딩 -> 이거는 그냥 경사 하강법의 예시인 것이고, 어디까지나 \n",
    "#                         iter 반복 학습의 결과값을 보여주고 그 이전에 gradient가 0에\n",
    "#                         도달해서 해당 값이 나온 것 뿐, 이 코딩의 결과값이 항상\n",
    "#                         최적을 도출하는 것이 절대 아니다.\n",
    "def get_weitht_update(w1,w0,X,y,learning_rate=0.01):\n",
    "    N = len(y) #y의 길이를 정수 표현\n",
    "    \n",
    "    w1_update = np.zeros_like(w1)  # [0] array 생성\n",
    "    w0_update =np.zeros_like(w0)   # [0] array 생성\n",
    "    \n",
    "    y_pred = np.dot(X,w1.T) + w0  #X값에 대한 예측 y값 행렬\n",
    "    diff = y - y_pred            # 잔차 행렬\n",
    "    \n",
    "    w0_factors = np.ones((N,1))  # y와 길이가 같은 1행렬 생성  \n",
    "    \n",
    "    w1_update = -(2/N)*learning_rate*(np.dot(X.T,diff))              \n",
    "    # w1에 대한 편차제곱의 평균에 대한 편미분의 시그마(총합) -> MSE에 대한 w1 편미분\n",
    "    w0_update = -(2/N)*learning_rate*(np.dot(w0_factors.T,diff)) \n",
    "    # w0에 대한 편차제곱의 평균에 대한 편미분의 시그마(총합) -> MSE에 대한 w0 편미분\n",
    "    \n",
    "    return w1_update, w0_update\n",
    "    \n",
    "def gradient_descent_steps(X,y,iters=10000):\n",
    "    w0 = np.zeros((1,1))\n",
    "    w1 = np.zeros((1,1))\n",
    "    \n",
    "    for ind in range(iters):\n",
    "        w1_update, w0_update = get_weitht_update(w1,w0,X,y,learning_rate=0.01)\n",
    "        w1 = w1 - w1_update\n",
    "        w0 = w0 - w0_update\n",
    "        \n",
    "    return w1, w0\n",
    "\n",
    "def get_cost(y,y_pred):\n",
    "    N = len(y)\n",
    "    cost = np.sum(np.square(y-y_pred))/N   #모든 편차^2의 평균\n",
    "    return cost\n",
    "    \n",
    "w1, w0 = gradient_descent_steps(X,y,iters=10000)\n",
    "print(w1[0,0],w0[0,0])\n",
    "\n",
    "y_pred = w1[0,0]*X + w0\n",
    "print(get_cost(y,y_pred))\n"
   ]
  },
  {
   "cell_type": "code",
   "execution_count": 48,
   "id": "1b66a6d1",
   "metadata": {
    "ExecuteTime": {
     "end_time": "2022-04-15T04:08:26.830411Z",
     "start_time": "2022-04-15T04:08:26.647685Z"
    }
   },
   "outputs": [
    {
     "data": {
      "text/plain": [
       "[<matplotlib.lines.Line2D at 0x1a39a3ea710>]"
      ]
     },
     "execution_count": 48,
     "metadata": {},
     "output_type": "execute_result"
    },
    {
     "data": {
      "image/png": "[encoded data removed]",
      "text/plain": [
       "<Figure size 432x288 with 1 Axes>"
      ]
     },
     "metadata": {
      "needs_background": "light"
     },
     "output_type": "display_data"
    }
   ],
   "source": [
    "plt.scatter(X,y)\n",
    "plt.plot(X,y_pred,c='r')"
   ]
  },
  {
   "cell_type": "code",
   "execution_count": 53,
   "id": "2fc07a30",
   "metadata": {
    "ExecuteTime": {
     "end_time": "2022-04-15T04:27:16.831148Z",
     "start_time": "2022-04-15T04:27:16.812172Z"
    }
   },
   "outputs": [
    {
     "data": {
      "text/plain": [
       "array([18, 29, 64, 92, 72, 87,  5, 15, 12, 17, 61, 76,  9, 78, 80,  7, 33,\n",
       "        6, 37, 74, 79,  1, 45, 28, 60, 52, 25, 39, 97, 44, 16, 55, 83, 49,\n",
       "       22, 70, 47,  4, 82, 94, 53, 66, 26, 84, 31, 63,  8, 75, 98, 57, 71,\n",
       "       99, 86, 96, 69, 24, 30, 13, 40, 56, 68, 95, 81, 19, 38, 91, 54, 32,\n",
       "       51, 85, 11, 89, 90, 36, 65, 88, 41, 14, 27, 50, 20, 46, 67, 35, 62,\n",
       "        2, 59, 23, 58, 43, 10,  0, 73, 21, 77, 42,  3, 93, 48, 34])"
      ]
     },
     "execution_count": 53,
     "metadata": {},
     "output_type": "execute_result"
    }
   ],
   "source": [
    "#샘플 데이터를 추출해서 회귀분석\n",
    "def stochastic_gradient_descent_steps(X,y,batch_size=10,iters=1000):\n",
    "    #batch_size: 원소를 뽑는 개수 \n",
    "    w0 = np.zeros((1,1))\n",
    "    w1 = np.zeros((1,1))\n",
    "    prev_cost = 10000\n",
    "    iter_index = 0\n",
    "    \n",
    "    for ind in range(iters):\n",
    "        np.random.seed(ind)\n",
    "        \n",
    "        stochastic_random_index = np.random.permutation(X.shape[0])\n",
    "        #정수에 대해서는 np.arange(), \n",
    "        #1차 행렬에 대해서 원소를 임의로 섞는다. \n",
    "        \n",
    "        sample_x = X[stochastic_random_index[0:batch_size]]\n",
    "        sample_y = y[stochastic_random_index[0:batch_size]]\n",
    "        # 섞인 행렬에 대해서 0~batch_size-1 만큼 원소를 뽑는다.\n",
    "        \n",
    "        w1_update, w0_update = get_weitht_update(w1,w0,sample_x,sample_y,learning_rate=0.01)\n",
    "        w1 = w1 - w1_update\n",
    "        w0 = w0 - w0_update\n",
    "    \n",
    "    return w1, w0\n",
    "\n",
    "np.random.permutation(X.shape[0])"
   ]
  },
  {
   "cell_type": "code",
   "execution_count": 57,
   "id": "74de4070",
   "metadata": {
    "ExecuteTime": {
     "end_time": "2022-04-15T04:32:37.927893Z",
     "start_time": "2022-04-15T04:32:37.830050Z"
    }
   },
   "outputs": [
    {
     "name": "stdout",
     "output_type": "stream",
     "text": [
      "w1: 4.119 w0: 5.928\n",
      "0.8323196781951812\n"
     ]
    }
   ],
   "source": [
    "w1 , w0 = stochastic_gradient_descent_steps(X,y,iters=1000)\n",
    "print('w1:',round(w1[0,0],3),'w0:',round(w0[0,0],3))\n",
    "y_pred = w1[0,0]*X + w0\n",
    "print(get_cost(y,y_pred))"
   ]
  },
  {
   "cell_type": "markdown",
   "id": "5b6cf502",
   "metadata": {},
   "source": [
    "# linear Regression\n",
    "## sklearn.linear_model.LinearRegression\n",
    "### class sklearn.linear_model.LinearRegression(*, fit_intercept=True, normalize='deprecated', copy_X=True, n_jobs=None, positive=False)\n",
    "* "
   ]
  },
  {
   "cell_type": "code",
   "execution_count": 66,
   "id": "c52d049d",
   "metadata": {
    "ExecuteTime": {
     "end_time": "2022-04-15T05:16:52.673968Z",
     "start_time": "2022-04-15T05:16:52.497574Z"
    }
   },
   "outputs": [
    {
     "name": "stdout",
     "output_type": "stream",
     "text": [
      "[79.6131561]\n"
     ]
    },
    {
     "data": {
      "image/png": "[encoded data removed]",
      "text/plain": [
       "<Figure size 432x288 with 1 Axes>"
      ]
     },
     "metadata": {
      "needs_background": "light"
     },
     "output_type": "display_data"
    }
   ],
   "source": [
    "from sklearn.linear_model import LinearRegression\n",
    "import matplotlib.pylab as plt\n",
    "\n",
    "reg = LinearRegression()\n",
    "\n",
    "X = [[174],[152],[138],[128],[186]]\n",
    "y = [71,55,46,38,88]\n",
    "\n",
    "reg.fit(X,y)\n",
    "print(reg.predict([[180]]))\n",
    "\n",
    "plt.scatter(X,y,c='r')\n",
    "y_pred = reg.predict(X)\n",
    "\n",
    "plt.plot(X,y_pred,c='b',linewidth=3)\n",
    "plt.show()"
   ]
  },
  {
   "cell_type": "code",
   "execution_count": 134,
   "id": "336b3445",
   "metadata": {
    "ExecuteTime": {
     "end_time": "2022-04-15T07:33:48.408890Z",
     "start_time": "2022-04-15T07:33:48.359042Z"
    }
   },
   "outputs": [
    {
     "data": {
      "text/html": [
       "<div>\n",
       "<style scoped>\n",
       "    .dataframe tbody tr th:only-of-type {\n",
       "        vertical-align: middle;\n",
       "    }\n",
       "\n",
       "    .dataframe tbody tr th {\n",
       "        vertical-align: top;\n",
       "    }\n",
       "\n",
       "    .dataframe thead th {\n",
       "        text-align: right;\n",
       "    }\n",
       "</style>\n",
       "<table border=\"1\" class=\"dataframe\">\n",
       "  <thead>\n",
       "    <tr style=\"text-align: right;\">\n",
       "      <th></th>\n",
       "      <th>CRIM</th>\n",
       "      <th>ZN</th>\n",
       "      <th>INDUS</th>\n",
       "      <th>CHAS</th>\n",
       "      <th>NOX</th>\n",
       "      <th>RM</th>\n",
       "      <th>AGE</th>\n",
       "      <th>DIS</th>\n",
       "      <th>RAD</th>\n",
       "      <th>TAX</th>\n",
       "      <th>PTRATIO</th>\n",
       "      <th>B</th>\n",
       "      <th>LSTAT</th>\n",
       "      <th>MEDV</th>\n",
       "    </tr>\n",
       "  </thead>\n",
       "  <tbody>\n",
       "    <tr>\n",
       "      <th>0</th>\n",
       "      <td>0.00632</td>\n",
       "      <td>18.0</td>\n",
       "      <td>2.31</td>\n",
       "      <td>0</td>\n",
       "      <td>0.538</td>\n",
       "      <td>6.575</td>\n",
       "      <td>65.2</td>\n",
       "      <td>4.0900</td>\n",
       "      <td>1</td>\n",
       "      <td>296</td>\n",
       "      <td>15.3</td>\n",
       "      <td>396.90</td>\n",
       "      <td>4.98</td>\n",
       "      <td>24.0</td>\n",
       "    </tr>\n",
       "    <tr>\n",
       "      <th>1</th>\n",
       "      <td>0.02731</td>\n",
       "      <td>0.0</td>\n",
       "      <td>7.07</td>\n",
       "      <td>0</td>\n",
       "      <td>0.469</td>\n",
       "      <td>6.421</td>\n",
       "      <td>78.9</td>\n",
       "      <td>4.9671</td>\n",
       "      <td>2</td>\n",
       "      <td>242</td>\n",
       "      <td>17.8</td>\n",
       "      <td>396.90</td>\n",
       "      <td>9.14</td>\n",
       "      <td>21.6</td>\n",
       "    </tr>\n",
       "    <tr>\n",
       "      <th>2</th>\n",
       "      <td>0.02729</td>\n",
       "      <td>0.0</td>\n",
       "      <td>7.07</td>\n",
       "      <td>0</td>\n",
       "      <td>0.469</td>\n",
       "      <td>7.185</td>\n",
       "      <td>61.1</td>\n",
       "      <td>4.9671</td>\n",
       "      <td>2</td>\n",
       "      <td>242</td>\n",
       "      <td>17.8</td>\n",
       "      <td>392.83</td>\n",
       "      <td>4.03</td>\n",
       "      <td>34.7</td>\n",
       "    </tr>\n",
       "    <tr>\n",
       "      <th>3</th>\n",
       "      <td>0.03237</td>\n",
       "      <td>0.0</td>\n",
       "      <td>2.18</td>\n",
       "      <td>0</td>\n",
       "      <td>0.458</td>\n",
       "      <td>6.998</td>\n",
       "      <td>45.8</td>\n",
       "      <td>6.0622</td>\n",
       "      <td>3</td>\n",
       "      <td>222</td>\n",
       "      <td>18.7</td>\n",
       "      <td>394.63</td>\n",
       "      <td>2.94</td>\n",
       "      <td>33.4</td>\n",
       "    </tr>\n",
       "    <tr>\n",
       "      <th>4</th>\n",
       "      <td>0.06905</td>\n",
       "      <td>0.0</td>\n",
       "      <td>2.18</td>\n",
       "      <td>0</td>\n",
       "      <td>0.458</td>\n",
       "      <td>7.147</td>\n",
       "      <td>54.2</td>\n",
       "      <td>6.0622</td>\n",
       "      <td>3</td>\n",
       "      <td>222</td>\n",
       "      <td>18.7</td>\n",
       "      <td>396.90</td>\n",
       "      <td>5.33</td>\n",
       "      <td>36.2</td>\n",
       "    </tr>\n",
       "    <tr>\n",
       "      <th>...</th>\n",
       "      <td>...</td>\n",
       "      <td>...</td>\n",
       "      <td>...</td>\n",
       "      <td>...</td>\n",
       "      <td>...</td>\n",
       "      <td>...</td>\n",
       "      <td>...</td>\n",
       "      <td>...</td>\n",
       "      <td>...</td>\n",
       "      <td>...</td>\n",
       "      <td>...</td>\n",
       "      <td>...</td>\n",
       "      <td>...</td>\n",
       "      <td>...</td>\n",
       "    </tr>\n",
       "    <tr>\n",
       "      <th>501</th>\n",
       "      <td>0.06263</td>\n",
       "      <td>0.0</td>\n",
       "      <td>11.93</td>\n",
       "      <td>0</td>\n",
       "      <td>0.573</td>\n",
       "      <td>6.593</td>\n",
       "      <td>69.1</td>\n",
       "      <td>2.4786</td>\n",
       "      <td>1</td>\n",
       "      <td>273</td>\n",
       "      <td>21.0</td>\n",
       "      <td>391.99</td>\n",
       "      <td>9.67</td>\n",
       "      <td>22.4</td>\n",
       "    </tr>\n",
       "    <tr>\n",
       "      <th>502</th>\n",
       "      <td>0.04527</td>\n",
       "      <td>0.0</td>\n",
       "      <td>11.93</td>\n",
       "      <td>0</td>\n",
       "      <td>0.573</td>\n",
       "      <td>6.120</td>\n",
       "      <td>76.7</td>\n",
       "      <td>2.2875</td>\n",
       "      <td>1</td>\n",
       "      <td>273</td>\n",
       "      <td>21.0</td>\n",
       "      <td>396.90</td>\n",
       "      <td>9.08</td>\n",
       "      <td>20.6</td>\n",
       "    </tr>\n",
       "    <tr>\n",
       "      <th>503</th>\n",
       "      <td>0.06076</td>\n",
       "      <td>0.0</td>\n",
       "      <td>11.93</td>\n",
       "      <td>0</td>\n",
       "      <td>0.573</td>\n",
       "      <td>6.976</td>\n",
       "      <td>91.0</td>\n",
       "      <td>2.1675</td>\n",
       "      <td>1</td>\n",
       "      <td>273</td>\n",
       "      <td>21.0</td>\n",
       "      <td>396.90</td>\n",
       "      <td>5.64</td>\n",
       "      <td>23.9</td>\n",
       "    </tr>\n",
       "    <tr>\n",
       "      <th>504</th>\n",
       "      <td>0.10959</td>\n",
       "      <td>0.0</td>\n",
       "      <td>11.93</td>\n",
       "      <td>0</td>\n",
       "      <td>0.573</td>\n",
       "      <td>6.794</td>\n",
       "      <td>89.3</td>\n",
       "      <td>2.3889</td>\n",
       "      <td>1</td>\n",
       "      <td>273</td>\n",
       "      <td>21.0</td>\n",
       "      <td>393.45</td>\n",
       "      <td>6.48</td>\n",
       "      <td>22.0</td>\n",
       "    </tr>\n",
       "    <tr>\n",
       "      <th>505</th>\n",
       "      <td>0.04741</td>\n",
       "      <td>0.0</td>\n",
       "      <td>11.93</td>\n",
       "      <td>0</td>\n",
       "      <td>0.573</td>\n",
       "      <td>6.030</td>\n",
       "      <td>80.8</td>\n",
       "      <td>2.5050</td>\n",
       "      <td>1</td>\n",
       "      <td>273</td>\n",
       "      <td>21.0</td>\n",
       "      <td>396.90</td>\n",
       "      <td>7.88</td>\n",
       "      <td>11.9</td>\n",
       "    </tr>\n",
       "  </tbody>\n",
       "</table>\n",
       "<p>506 rows × 14 columns</p>\n",
       "</div>"
      ],
      "text/plain": [
       "        CRIM    ZN  INDUS  CHAS    NOX     RM   AGE     DIS  RAD  TAX  \\\n",
       "0    0.00632  18.0   2.31     0  0.538  6.575  65.2  4.0900    1  296   \n",
       "1    0.02731   0.0   7.07     0  0.469  6.421  78.9  4.9671    2  242   \n",
       "2    0.02729   0.0   7.07     0  0.469  7.185  61.1  4.9671    2  242   \n",
       "3    0.03237   0.0   2.18     0  0.458  6.998  45.8  6.0622    3  222   \n",
       "4    0.06905   0.0   2.18     0  0.458  7.147  54.2  6.0622    3  222   \n",
       "..       ...   ...    ...   ...    ...    ...   ...     ...  ...  ...   \n",
       "501  0.06263   0.0  11.93     0  0.573  6.593  69.1  2.4786    1  273   \n",
       "502  0.04527   0.0  11.93     0  0.573  6.120  76.7  2.2875    1  273   \n",
       "503  0.06076   0.0  11.93     0  0.573  6.976  91.0  2.1675    1  273   \n",
       "504  0.10959   0.0  11.93     0  0.573  6.794  89.3  2.3889    1  273   \n",
       "505  0.04741   0.0  11.93     0  0.573  6.030  80.8  2.5050    1  273   \n",
       "\n",
       "     PTRATIO       B  LSTAT  MEDV  \n",
       "0       15.3  396.90   4.98  24.0  \n",
       "1       17.8  396.90   9.14  21.6  \n",
       "2       17.8  392.83   4.03  34.7  \n",
       "3       18.7  394.63   2.94  33.4  \n",
       "4       18.7  396.90   5.33  36.2  \n",
       "..       ...     ...    ...   ...  \n",
       "501     21.0  391.99   9.67  22.4  \n",
       "502     21.0  396.90   9.08  20.6  \n",
       "503     21.0  396.90   5.64  23.9  \n",
       "504     21.0  393.45   6.48  22.0  \n",
       "505     21.0  396.90   7.88  11.9  \n",
       "\n",
       "[506 rows x 14 columns]"
      ]
     },
     "execution_count": 134,
     "metadata": {},
     "output_type": "execute_result"
    }
   ],
   "source": [
    "# 당뇨병 및 보스턴 집값 예측\n",
    "\n",
    "import pandas as pd\n",
    "import numpy as np\n",
    "from sklearn.linear_model import LinearRegression\n",
    "\n",
    "names=['CRIM','ZN','INDUS','CHAS','NOX','RM','AGE','DIS','RAD','TAX','PTRATIO','B','LSTAT','MEDV']\n",
    "house = pd.read_csv('./datasets/housing.csv',names=names)\n",
    "house\n"
   ]
  },
  {
   "cell_type": "markdown",
   "id": "734b20e7",
   "metadata": {},
   "source": [
    "다항선형회귀 \n",
    "모델이 비선형의 모양으로 표현이 되는 경우 \n",
    "독립변수를 제곱하여 모델에 반영한 \n",
    "회귀모형\n",
    "이때 가중치는 다항식의 모양이 된다.(W = aw +b)\n",
    "vs\n",
    "\n",
    "비선형회귀\n",
    "가중치가 sin,cos,tan,지수 등의 다항식이 아닌 모양으로 모델에 반영한 회귀모형"
   ]
  },
  {
   "cell_type": "code",
   "execution_count": 103,
   "id": "eeef3143",
   "metadata": {
    "ExecuteTime": {
     "end_time": "2022-04-15T06:30:49.255656Z",
     "start_time": "2022-04-15T06:30:49.236703Z"
    }
   },
   "outputs": [
    {
     "name": "stdout",
     "output_type": "stream",
     "text": [
      "[[0 1]\n",
      " [2 3]]\n"
     ]
    }
   ],
   "source": [
    "from sklearn.preprocessing import PolynomialFeatures\n",
    "import numpy as np\n",
    "\n",
    "X = np.arange(4).reshape(2,2)\n",
    "print(X)"
   ]
  },
  {
   "cell_type": "code",
   "execution_count": 105,
   "id": "cc24a52a",
   "metadata": {
    "ExecuteTime": {
     "end_time": "2022-04-15T06:31:48.156210Z",
     "start_time": "2022-04-15T06:31:48.147238Z"
    }
   },
   "outputs": [
    {
     "name": "stdout",
     "output_type": "stream",
     "text": [
      "[[1. 0. 1. 0. 0. 1.]\n",
      " [1. 2. 3. 4. 6. 9.]]\n"
     ]
    }
   ],
   "source": [
    "poly = PolynomialFeatures(degree=2)\n",
    "poly.fit(X)\n",
    "poly_ftr = poly.transform(X)\n",
    "print(poly_ftr)"
   ]
  },
  {
   "cell_type": "code",
   "execution_count": 109,
   "id": "2f636c1d",
   "metadata": {
    "ExecuteTime": {
     "end_time": "2022-04-15T06:33:42.025188Z",
     "start_time": "2022-04-15T06:33:42.006274Z"
    }
   },
   "outputs": [
    {
     "name": "stdout",
     "output_type": "stream",
     "text": [
      "[[0 1]\n",
      " [2 3]]\n",
      "[[ 1  5]\n",
      " [17 43]]\n"
     ]
    }
   ],
   "source": [
    "def polynomial_func(X):\n",
    "    y = 1 + 2*X + X**2 + X**3\n",
    "    return y\n",
    "\n",
    "X = np.arange(4).reshape(2,2)\n",
    "y = polynomial_func(X)\n",
    "\n",
    "print(X)\n",
    "print(y)\n"
   ]
  },
  {
   "cell_type": "code",
   "execution_count": 112,
   "id": "e4dccadf",
   "metadata": {
    "ExecuteTime": {
     "end_time": "2022-04-15T06:38:22.928732Z",
     "start_time": "2022-04-15T06:38:22.907760Z"
    }
   },
   "outputs": [
    {
     "name": "stdout",
     "output_type": "stream",
     "text": [
      "[[ 1.  0.  1.  0.  0.  1.  0.  0.  0.  1.]\n",
      " [ 1.  2.  3.  4.  6.  9.  8. 12. 18. 27.]]\n",
      "[[0.   0.02 0.02 0.05 0.07 0.1  0.1  0.14 0.22 0.31]\n",
      " [0.   0.06 0.06 0.11 0.17 0.23 0.23 0.34 0.51 0.74]]\n",
      "(2, 10)\n"
     ]
    }
   ],
   "source": [
    "poly_ftr = PolynomialFeatures(degree=3).fit_transform(X)\n",
    "print(poly_ftr)\n",
    "\n",
    "model = LinearRegression()\n",
    "model.fit(poly_ftr,y)\n",
    "print(np.round(model.coef_,2))\n",
    "print(model.coef_.shape)"
   ]
  },
  {
   "cell_type": "code",
   "execution_count": 119,
   "id": "0024e1c2",
   "metadata": {
    "ExecuteTime": {
     "end_time": "2022-04-15T06:43:46.735365Z",
     "start_time": "2022-04-15T06:43:46.709434Z"
    }
   },
   "outputs": [
    {
     "name": "stdout",
     "output_type": "stream",
     "text": [
      "[[0.   0.02 0.02 0.05 0.07 0.1  0.1  0.14 0.22 0.31]\n",
      " [0.   0.06 0.06 0.11 0.17 0.23 0.23 0.34 0.51 0.74]]\n"
     ]
    }
   ],
   "source": [
    "from sklearn.preprocessing import PolynomialFeatures\n",
    "from sklearn.linear_model import LinearRegression\n",
    "from sklearn.pipeline import Pipeline\n",
    "\n",
    "def polynomial_func(X):\n",
    "    y = 1 +2*X+X**2+X**3\n",
    "    return y\n",
    "\n",
    "model = Pipeline([('poly',PolynomialFeatures(degree=3)),\n",
    "                 ('linear',LinearRegression())])\n",
    "\n",
    "X = np.arange(4).reshape(2,2)\n",
    "y = polynomial_func(X)\n",
    "\n",
    "model = model.fit(X,y)\n",
    "print(np.round(model.named_steps['linear'].coef_,2))"
   ]
  },
  {
   "cell_type": "code",
   "execution_count": 139,
   "id": "05e6aab6",
   "metadata": {
    "ExecuteTime": {
     "end_time": "2022-04-15T08:39:11.339459Z",
     "start_time": "2022-04-15T08:39:11.269673Z"
    }
   },
   "outputs": [
    {
     "name": "stderr",
     "output_type": "stream",
     "text": [
      "C:\\Users\\LG\\AppData\\Local\\Programs\\Python\\Python310\\lib\\site-packages\\sklearn\\utils\\deprecation.py:87: FutureWarning: Function load_boston is deprecated; `load_boston` is deprecated in 1.0 and will be removed in 1.2.\n",
      "\n",
      "    The Boston housing prices dataset has an ethical problem. You can refer to\n",
      "    the documentation of this function for further details.\n",
      "\n",
      "    The scikit-learn maintainers therefore strongly discourage the use of this\n",
      "    dataset unless the purpose of the code is to study and educate about\n",
      "    ethical issues in data science and machine learning.\n",
      "\n",
      "    In this special case, you can fetch the dataset from the original\n",
      "    source::\n",
      "\n",
      "        import pandas as pd\n",
      "        import numpy as np\n",
      "\n",
      "\n",
      "        data_url = \"http://lib.stat.cmu.edu/datasets/boston\"\n",
      "        raw_df = pd.read_csv(data_url, sep=\"\\s+\", skiprows=22, header=None)\n",
      "        data = np.hstack([raw_df.values[::2, :], raw_df.values[1::2, :2]])\n",
      "        target = raw_df.values[1::2, 2]\n",
      "\n",
      "    Alternative datasets include the California housing dataset (i.e.\n",
      "    :func:`~sklearn.datasets.fetch_california_housing`) and the Ames housing\n",
      "    dataset. You can load the datasets as follows::\n",
      "\n",
      "        from sklearn.datasets import fetch_california_housing\n",
      "        housing = fetch_california_housing()\n",
      "\n",
      "    for the California housing dataset and::\n",
      "\n",
      "        from sklearn.datasets import fetch_openml\n",
      "        housing = fetch_openml(name=\"house_prices\", as_frame=True)\n",
      "\n",
      "    for the Ames housing dataset.\n",
      "    \n",
      "  warnings.warn(msg, category=FutureWarning)\n"
     ]
    },
    {
     "ename": "NameError",
     "evalue": "name 'neg_mse_scores' is not defined",
     "output_type": "error",
     "traceback": [
      "\u001b[1;31m---------------------------------------------------------------------------\u001b[0m",
      "\u001b[1;31mNameError\u001b[0m                                 Traceback (most recent call last)",
      "Input \u001b[1;32mIn [139]\u001b[0m, in \u001b[0;36m<module>\u001b[1;34m\u001b[0m\n\u001b[0;32m     12\u001b[0m X_data \u001b[38;5;241m=\u001b[39m bostonDF\u001b[38;5;241m.\u001b[39mdrop([\u001b[38;5;124m'\u001b[39m\u001b[38;5;124mPrice\u001b[39m\u001b[38;5;124m'\u001b[39m],axis\u001b[38;5;241m=\u001b[39m\u001b[38;5;241m1\u001b[39m,inplace\u001b[38;5;241m=\u001b[39m\u001b[38;5;28;01mFalse\u001b[39;00m)\n\u001b[0;32m     14\u001b[0m ridge \u001b[38;5;241m=\u001b[39m Ridge(alpha\u001b[38;5;241m=\u001b[39m\u001b[38;5;241m10\u001b[39m)\n\u001b[1;32m---> 15\u001b[0m neg_mse_scores \u001b[38;5;241m=\u001b[39m np\u001b[38;5;241m.\u001b[39msqrt(\u001b[38;5;241m-\u001b[39m\u001b[38;5;241m1\u001b[39m\u001b[38;5;241m*\u001b[39m\u001b[43mneg_mse_scores\u001b[49m)\n\u001b[0;32m     16\u001b[0m avg_rmse \u001b[38;5;241m=\u001b[39m np\u001b[38;5;241m.\u001b[39mmean(rmse_scores)\n\u001b[0;32m     17\u001b[0m neg_mse_scores\n",
      "\u001b[1;31mNameError\u001b[0m: name 'neg_mse_scores' is not defined"
     ]
    }
   ],
   "source": [
    "from sklearn.linear_model import Ridge\n",
    "from sklearn.model_selection import cross_val_score\n",
    "from sklearn.datasets import load_boston\n",
    "\n",
    "boston = load_boston()\n",
    "\n",
    "bostonDF = pd.DataFrame(boston.data,columns = boston.feature_names)\n",
    "\n",
    "bostonDF['Price'] = boston.target\n",
    "\n",
    "bostonDF\n",
    "X_data = bostonDF.drop(['Price'],axis=1,inplace=False)\n",
    "\n",
    "ridge = Ridge(alpha=10)\n",
    "neg_mse_scores = np.sqrt(-1*neg_mse_scores)\n",
    "avg_rmse = np.mean(rmse_scores)\n",
    "neg_mse_scores\n",
    "avg_rmse"
   ]
  },
  {
   "cell_type": "code",
   "execution_count": null,
   "id": "bcb3c294",
   "metadata": {},
   "outputs": [],
   "source": []
  }
 ],
 "metadata": {
  "hide_input": false,
  "kernelspec": {
   "display_name": "Python 3 (ipykernel)",
   "language": "python",
   "name": "python3"
  },
  "language_info": {
   "codemirror_mode": {
    "name": "ipython",
    "version": 3
   },
   "file_extension": ".py",
   "mimetype": "text/x-python",
   "name": "python",
   "nbconvert_exporter": "python",
   "pygments_lexer": "ipython3",
   "version": "3.10.2"
  },
  "toc": {
   "base_numbering": 1,
   "nav_menu": {},
   "number_sections": true,
   "sideBar": true,
   "skip_h1_title": false,
   "title_cell": "Table of Contents",
   "title_sidebar": "Contents",
   "toc_cell": false,
   "toc_position": {},
   "toc_section_display": true,
   "toc_window_display": false
  },
  "varInspector": {
   "cols": {
    "lenName": 16,
    "lenType": 16,
    "lenVar": 40
   },
   "kernels_config": {
    "python": {
     "delete_cmd_postfix": "",
     "delete_cmd_prefix": "del ",
     "library": "var_list.py",
     "varRefreshCmd": "print(var_dic_list())"
    },
    "r": {
     "delete_cmd_postfix": ") ",
     "delete_cmd_prefix": "rm(",
     "library": "var_list.r",
     "varRefreshCmd": "cat(var_dic_list()) "
    }
   },
   "types_to_exclude": [
    "module",
    "function",
    "builtin_function_or_method",
    "instance",
    "_Feature"
   ],
   "window_display": false
  }
 },
 "nbformat": 4,
 "nbformat_minor": 5
}
