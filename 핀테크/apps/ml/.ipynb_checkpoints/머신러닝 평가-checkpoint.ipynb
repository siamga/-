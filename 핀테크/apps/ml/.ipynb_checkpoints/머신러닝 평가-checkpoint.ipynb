{
 "cells": [
  {
   "cell_type": "markdown",
   "id": "eec269e8",
   "metadata": {},
   "source": [
    "# 머신러닝 평가 #\n",
    "## 정확도 ##\n",
    "### 의미 ###\n",
    "정확도 = 실제 맞는 예측 데이터 건수/전체 예측 데이터 건수\n",
    "### 한계 ###\n",
    "불균형한 레이블 값 분포에서는 적합한 평가 지표가 아니다.\n",
    "<br>아래의 예시는 불균형한 레이블 값 분포에서\n",
    "정확도라는 지표가 왜 머신러닝 평가 지표로 적절하지 않은지 \n",
    "보여주는 예시이다.\n"
   ]
  },
  {
   "cell_type": "code",
   "execution_count": 1,
   "id": "a4c5c31d",
   "metadata": {
    "ExecuteTime": {
     "end_time": "2022-04-12T07:44:12.113097Z",
     "start_time": "2022-04-12T07:44:11.227247Z"
    }
   },
   "outputs": [],
   "source": [
    "import numpy as np\n",
    "from sklearn.base import BaseEstimator\n",
    "\n",
    "#Sex feature값에 따라 0,1을 예측\n",
    "\n",
    "class MyDummyClassifier(BaseEstimator):\n",
    "    def fit(self,X,y=None):\n",
    "        pass\n",
    "    \n",
    "    def predict(self,X):\n",
    "        pred = np.zeros((X.shape[0],1))\n",
    "        for i in range(X.shape[0]):\n",
    "            if X['Sex'].iloc[i] == 1:\n",
    "                pred[i] = 0\n",
    "            else:\n",
    "                pred[i] = 1\n",
    "        \n",
    "        return pred"
   ]
  },
  {
   "cell_type": "code",
   "execution_count": 2,
   "id": "9d1be3e0",
   "metadata": {
    "ExecuteTime": {
     "end_time": "2022-04-12T07:44:12.626512Z",
     "start_time": "2022-04-12T07:44:12.115139Z"
    }
   },
   "outputs": [],
   "source": [
    "from sklearn.metrics import accuracy_score, precision_score , recall_score , confusion_matrix\n",
    "\n",
    "def get_clf_eval(y_test , pred):\n",
    "    confusion = confusion_matrix( y_test, pred)\n",
    "    accuracy = accuracy_score(y_test , pred)\n",
    "    precision = precision_score(y_test , pred)\n",
    "    recall = recall_score(y_test , pred)\n",
    "    print('오차 행렬')\n",
    "    print(confusion)\n",
    "    print('정확도: {0:.4f}, 정밀도: {1:.4f}, 재현율: {2:.4f}'.format(accuracy , precision ,recall))\n",
    "    \n",
    "import pandas as pd\n",
    "from sklearn.preprocessing import LabelEncoder\n",
    "\n",
    "# Null 처리 함수\n",
    "def fillna(df):\n",
    "    df['Age'].fillna(df['Age'].mean(),inplace=True)\n",
    "    df['Cabin'].fillna('N',inplace=True)\n",
    "    df['Embarked'].fillna('N',inplace=True)\n",
    "    df['Fare'].fillna(0,inplace=True)\n",
    "    return df\n",
    "\n",
    "# 머신러닝 알고리즘에 불필요한 속성 제거\n",
    "def drop_features(df):\n",
    "    df.drop(['PassengerId','Name','Ticket'],axis=1,inplace=True)\n",
    "    return df\n",
    "\n",
    "# 레이블 인코딩 수행. \n",
    "def format_features(df):\n",
    "    df['Cabin'] = df['Cabin'].str[:1]\n",
    "    features = ['Cabin','Sex','Embarked']\n",
    "    for feature in features:\n",
    "        le = LabelEncoder()\n",
    "        le = le.fit(df[feature])\n",
    "        df[feature] = le.transform(df[feature])\n",
    "    return df\n",
    "\n",
    "# 앞에서 설정한 Data Preprocessing 함수 호출\n",
    "def transform_features(df):\n",
    "    df = fillna(df)\n",
    "    df = drop_features(df)\n",
    "    df = format_features(df)\n",
    "    return df\n"
   ]
  },
  {
   "cell_type": "code",
   "execution_count": 4,
   "id": "bd5ac52b",
   "metadata": {
    "ExecuteTime": {
     "end_time": "2022-04-12T07:44:31.388645Z",
     "start_time": "2022-04-12T07:44:31.346536Z"
    }
   },
   "outputs": [
    {
     "name": "stdout",
     "output_type": "stream",
     "text": [
      "Dummy Classifier의 정확도는: 0.8324\n"
     ]
    }
   ],
   "source": [
    "import pandas as pd\n",
    "from sklearn.model_selection import train_test_split\n",
    "from sklearn.metrics import accuracy_score\n",
    "\n",
    "titanic_df = pd.read_csv('./datasets/train.csv')\n",
    "y_titanic_df = titanic_df['Survived']\n",
    "X_titanic_df= titanic_df.drop('Survived', axis=1)\n",
    "X_titanic_df = transform_features(X_titanic_df)\n",
    "\n",
    "X_train, X_test, y_train, y_test = train_test_split(X_titanic_df, y_titanic_df, \\\n",
    "                                                    test_size=0.20, random_state=11)\n",
    "\n",
    "myclf = MyDummyClassifier()\n",
    "myclf.fit(X_train,y_train)\n",
    "\n",
    "mypredictions = myclf.predict(X_test)\n",
    "print('Dummy Classifier의 정확도는: {:.4f}'\n",
    "      .format(accuracy_score(y_test,mypredictions)))"
   ]
  },
  {
   "cell_type": "code",
   "execution_count": null,
   "id": "27c1ead9",
   "metadata": {
    "ExecuteTime": {
     "end_time": "2022-04-12T07:44:13.229772Z",
     "start_time": "2022-04-12T07:44:13.229772Z"
    }
   },
   "outputs": [],
   "source": [
    "import numpy as np\n",
    "import pandas as pd\n",
    "\n",
    "from sklearn.model_selection import train_test_split \n",
    "from sklearn.linear_model import LogisticRegression\n",
    "\n",
    "# 원본 데이터를 재로딩, 데이터 가공, 학습데이터/테스트 데이터 분할. \n",
    "titanic_df = pd.read_csv('./datasets/train.csv')\n",
    "y_titanic_df = titanic_df['Survived']\n",
    "X_titanic_df= titanic_df.drop('Survived', axis=1)\n",
    "X_titanic_df = transform_features(X_titanic_df)\n",
    "\n",
    "X_train, X_test, y_train, y_test = train_test_split(X_titanic_df, y_titanic_df, \\\n",
    "                                                    test_size=0.20, random_state=11)\n",
    "\n",
    "lr_clf = LogisticRegression()\n",
    "\n",
    "lr_clf.fit(X_train , y_train)\n",
    "pred = lr_clf.predict(X_test)\n",
    "get_clf_eval(y_test , pred)"
   ]
  },
  {
   "cell_type": "code",
   "execution_count": 9,
   "id": "39800534",
   "metadata": {
    "ExecuteTime": {
     "end_time": "2022-04-12T07:53:16.779996Z",
     "start_time": "2022-04-12T07:53:16.674254Z"
    }
   },
   "outputs": [
    {
     "name": "stdout",
     "output_type": "stream",
     "text": [
      "[[ 0.  0.  5. ...  0.  0.  0.]\n",
      " [ 0.  0.  0. ... 10.  0.  0.]\n",
      " [ 0.  0.  0. ... 16.  9.  0.]\n",
      " ...\n",
      " [ 0.  0.  1. ...  6.  0.  0.]\n",
      " [ 0.  0.  2. ... 12.  0.  0.]\n",
      " [ 0.  0. 10. ... 12.  1.  0.]]\n",
      "digits.data.shape: (1797, 64)\n",
      "[0 1 2 ... 8 9 8]\n",
      "digits.target.shape: (1797,)\n"
     ]
    },
    {
     "data": {
      "text/plain": [
       "array([False, False, False, ..., False, False, False])"
      ]
     },
     "execution_count": 9,
     "metadata": {},
     "output_type": "execute_result"
    }
   ],
   "source": [
    "from sklearn.datasets import load_digits\n",
    "from sklearn.model_selection import train_test_split\n",
    "from sklearn.base import BaseEstimator\n",
    "from sklearn.metrics import accuracy_score\n",
    "import numpy as np\n",
    "import pandas as pd\n",
    "\n",
    "class MyFakeClassifier(BaseEstimator):\n",
    "    def fit(self,X,y):\n",
    "        pass\n",
    "    \n",
    "    def predict(self,X):\n",
    "        return np.zeros((len(X),1),dtype=bool)\n",
    "    \n",
    "digits = load_digits()\n",
    "\n",
    "print(digits.data)\n",
    "print('digits.data.shape:',digits.data.shape)\n",
    "print(digits.target)\n",
    "print('digits.target.shape:',digits.target.shape)\n",
    "\n",
    "digits.target==7"
   ]
  },
  {
   "cell_type": "code",
   "execution_count": 10,
   "id": "59363d20",
   "metadata": {
    "ExecuteTime": {
     "end_time": "2022-04-12T07:54:24.434372Z",
     "start_time": "2022-04-12T07:54:24.420405Z"
    }
   },
   "outputs": [],
   "source": [
    "y = (digits.target == 7).astype(int)\n",
    "X_train, X_test, y_train, y_test = train_test_split(digits.data, y, random_state=11)"
   ]
  },
  {
   "cell_type": "code",
   "execution_count": 13,
   "id": "8848930d",
   "metadata": {
    "ExecuteTime": {
     "end_time": "2022-04-12T07:57:11.696062Z",
     "start_time": "2022-04-12T07:57:11.685091Z"
    }
   },
   "outputs": [
    {
     "name": "stdout",
     "output_type": "stream",
     "text": [
      "레이블 테스트 세트 크기: (450,)\n",
      "테스트 세트 레이블 0과 1의 분포\n",
      "0    405\n",
      "1     45\n",
      "dtype: int64\n",
      "모든 예측을 0으로 하여도 정확도는: 0.900\n"
     ]
    }
   ],
   "source": [
    "print('레이블 테스트 세트 크기:',y_test.shape)\n",
    "print('테스트 세트 레이블 0과 1의 분포')\n",
    "print(pd.Series(y_test).value_counts())\n",
    "\n",
    "fakeclf = MyFakeClassifier()\n",
    "fakeclf.fit(X_train,y_test)\n",
    "fakepred = fakeclf.predict(X_test)\n",
    "\n",
    "print('모든 예측을 0으로 하여도 정확도는: {:.3f}'\n",
    "      .format(accuracy_score(y_test,fakepred)))"
   ]
  },
  {
   "cell_type": "markdown",
   "id": "4a753a22",
   "metadata": {},
   "source": [
    "## 오차행렬 ##\n",
    "### 의미 ###\n",
    "예측 오류가 얼마인지, 어떤 유형의 예측 오류가 발생하는지\n",
    "나타내는 지표\n",
    "\n",
    "## 정밀도와 재현율 ##\n",
    "### 정밀도(Spectificity, precision) ###\n",
    "#### 의미 ####\n",
    "예측한 놈 중에서 잘 맞는 놈 비율\n",
    "### 재현율(Sensitivity, recall) ###\n",
    "실제 중에서 잘 예측한 놈 비율\n",
    "### 정밀도 vs 재현율 ###\n",
    "#### 정밀도가 중요한 지표인 경우 ####\n",
    "실제 negative한 데이터를 postive로 잘못 예측한 경우\n",
    "큰 손해를 끼치는 경우\n",
    "<br>(ex:스팸메일 -> \n",
    "<br>스팸메일이 아닌데 스팸으로 처리될 경우: 삭제되어 복구 불가\n",
    "<br>스팸메일이 맞는데 스팸 처리가 안되는 경우: 그냥 귀찮아짐)\n",
    "#### 재현율이 중요한 지표인 경우 ####\n",
    "실제 positive한 데이터를 negative로 잘못 예측한 경우 \n",
    "큰 손해를 끼치는 경우\n",
    "<br>(ex:암진단, 금융사기 판단 등)\n",
    "<br>암진단->\n",
    "<br>암이 아닌데 암으로 진단받은 경우: 생명에 지장은 없음\n",
    "<br>암인데 암이 아니라고 진단받은 경우: 암이 전이되어 목숨 위험\n"
   ]
  },
  {
   "cell_type": "code",
   "execution_count": 18,
   "id": "c270b17f",
   "metadata": {
    "ExecuteTime": {
     "end_time": "2022-04-12T08:03:38.543253Z",
     "start_time": "2022-04-12T08:03:38.520310Z"
    }
   },
   "outputs": [
    {
     "name": "stdout",
     "output_type": "stream",
     "text": [
      "정밀도: 0.0\n",
      "재현율: 0.0\n"
     ]
    },
    {
     "name": "stderr",
     "output_type": "stream",
     "text": [
      "C:\\Users\\LG\\AppData\\Local\\Programs\\Python\\Python310\\lib\\site-packages\\sklearn\\metrics\\_classification.py:1318: UndefinedMetricWarning: Precision is ill-defined and being set to 0.0 due to no predicted samples. Use `zero_division` parameter to control this behavior.\n",
      "  _warn_prf(average, modifier, msg_start, len(result))\n"
     ]
    }
   ],
   "source": [
    "from sklearn.metrics import confusion_matrix\n",
    "\n",
    "confusion_matrix(y_test, fakepred)\n",
    "\n",
    "from sklearn.metrics import accuracy_score, precision_score, recall_score\n",
    "print('정밀도:',precision_score(y_test,fakepred))\n",
    "print('재현율:',recall_score(y_test,fakepred))"
   ]
  },
  {
   "cell_type": "code",
   "execution_count": 27,
   "id": "96347791",
   "metadata": {
    "ExecuteTime": {
     "end_time": "2022-04-12T08:13:07.518668Z",
     "start_time": "2022-04-12T08:13:07.419932Z"
    }
   },
   "outputs": [
    {
     "name": "stdout",
     "output_type": "stream",
     "text": [
      "오차 행렬\n",
      "[[104  14]\n",
      " [ 13  48]]\n",
      "정확도: 0.8492, 정밀도: 0.7742, 재현율: 0.7869\n"
     ]
    },
    {
     "name": "stderr",
     "output_type": "stream",
     "text": [
      "C:\\Users\\LG\\AppData\\Local\\Programs\\Python\\Python310\\lib\\site-packages\\sklearn\\linear_model\\_logistic.py:814: ConvergenceWarning: lbfgs failed to converge (status=1):\n",
      "STOP: TOTAL NO. of ITERATIONS REACHED LIMIT.\n",
      "\n",
      "Increase the number of iterations (max_iter) or scale the data as shown in:\n",
      "    https://scikit-learn.org/stable/modules/preprocessing.html\n",
      "Please also refer to the documentation for alternative solver options:\n",
      "    https://scikit-learn.org/stable/modules/linear_model.html#logistic-regression\n",
      "  n_iter_i = _check_optimize_result(\n"
     ]
    }
   ],
   "source": [
    "from sklearn.metrics import accuracy_score, precision_score, recall_score, confusion_matrix\n",
    "import numpy as np\n",
    "import pandas as pd\n",
    "\n",
    "from sklearn.model_selection import train_test_split\n",
    "from sklearn.linear_model import LogisticRegression\n",
    "\n",
    "#원본 데이터의 로딩, 가공, 분할\n",
    "titanic_df = pd.read_csv('./datasets/train.csv')\n",
    "y_titanic_df = titanic_df['Survived']\n",
    "X_titanic_df = titanic_df.drop('Survived',axis=1)\n",
    "X_titanic_df = transform_features(X_titanic_df)\n",
    "\n",
    "X_train, X_test, y_train, y_test = train_test_split(X_titanic_df,y_titanic_df,test_size=0.2,random_state=11)\n",
    "\n",
    "lr_clf = LogisticRegression()\n",
    "\n",
    "lr_clf.fit(X_train,y_train)\n",
    "pred=lr_clf.predict(X_test)\n",
    "\n",
    "get_clf_eval(y_test,pred)"
   ]
  },
  {
   "cell_type": "code",
   "execution_count": 30,
   "id": "1eec432f",
   "metadata": {
    "ExecuteTime": {
     "end_time": "2022-04-12T08:41:54.132196Z",
     "start_time": "2022-04-12T08:41:54.052040Z"
    }
   },
   "outputs": [
    {
     "name": "stdout",
     "output_type": "stream",
     "text": [
      "오차행렬\n",
      "[[104  14]\n",
      " [ 13  48]]\n",
      "정확도: 0.8492, 정밀도:0.774194, 재현율:0.7869\n"
     ]
    },
    {
     "name": "stderr",
     "output_type": "stream",
     "text": [
      "C:\\Users\\LG\\AppData\\Local\\Programs\\Python\\Python310\\lib\\site-packages\\sklearn\\linear_model\\_logistic.py:814: ConvergenceWarning: lbfgs failed to converge (status=1):\n",
      "STOP: TOTAL NO. of ITERATIONS REACHED LIMIT.\n",
      "\n",
      "Increase the number of iterations (max_iter) or scale the data as shown in:\n",
      "    https://scikit-learn.org/stable/modules/preprocessing.html\n",
      "Please also refer to the documentation for alternative solver options:\n",
      "    https://scikit-learn.org/stable/modules/linear_model.html#logistic-regression\n",
      "  n_iter_i = _check_optimize_result(\n"
     ]
    }
   ],
   "source": [
    "from sklearn.metrics import accuracy_score, precision_score, recall_score, confusion_matrix\n",
    "import pandas as pd\n",
    "import numpy as np\n",
    "\n",
    "from sklearn.model_selection import train_test_split\n",
    "from sklearn.linear_model import LogisticRegression\n",
    "\n",
    "titanic_df = pd.read_csv('./datasets/train.csv')\n",
    "y_titanic_df = titanic_df['Survived']\n",
    "X_titanic_df = titanic_df.drop('Survived',axis=1)\n",
    "X_titanic_df = transform_features(X_titanic_df)\n",
    "\n",
    "X_train, X_test, y_train, y_test = train_test_split(X_titanic_df,y_titanic_df,\n",
    "                                                   test_size=0.2, random_state=11)\n",
    "\n",
    "ir_clf = LogisticRegression()\n",
    "\n",
    "lr_clf.fit(X_train,y_train)\n",
    "pred = lr_clf.predict(X_test)\n",
    "\n",
    "confusion = confusion_matrix(y_test,pred)\n",
    "accuracy = accuracy_score(y_test,pred)\n",
    "precision = precision_score(y_test,pred)\n",
    "recall = recall_score(y_test,pred)\n",
    "\n",
    "print('오차행렬')\n",
    "print(confusion)\n",
    "print('정확도: {:.4f}, 정밀도:{:4f}, 재현율:{:.4f}'.format(accuracy,precision,recall))"
   ]
  },
  {
   "cell_type": "markdown",
   "id": "f45c006b",
   "metadata": {},
   "source": [
    "104 = 실제: 0, 예측: 0 | 14 = 실제: 0, 예측: 1\n",
    "<br>13  = 실제: 1, 예측: 0 | 48 = 실제: 1, 예측: 1"
   ]
  },
  {
   "cell_type": "markdown",
   "id": "22ba15ed",
   "metadata": {},
   "source": [
    "### 정밀도와 재현율의 관계 ###\n",
    "정밀도와 재현율 둘다 강조되는 경우 임계값(Threshold)의 조정으로 수치 조정 가능\n",
    "<br>상호 보완적 수치이므로 Trade off 작용\n",
    "\n",
    "#### 주의사항 ####\n",
    "정밀도, 재현율은 상호 보완적 평가 지표이기 때문에 하나의 값이 올라가면 다른 값은 반드시 내려간다.\n",
    "\n",
    "#### 임계값(Threshold)에 따른 positive 예측 확률 변화 ####\n",
    "분류 임계값이 낮을수록 positive로 예측할 확률이 높아진다.\n",
    "<br>정밀도 = TP/(FP+TP)    {FP+TP: 예측을 참이라 하는 경우}\n",
    "<br>재현율 = TP/(FN+TP)    {FN+TP: 실제 값이 참인 경우}\n",
    "<br>따라서 임계값이 높아질수록 \n",
    "\n",
    "#### 임계값의 의미 ####\n",
    "우리가 실제 결과값은 0과 1로 제시되어 있지만 \n",
    "예측 모델에서는 주어진 독립변수를 기반으로 실제 결과값을 예상하기 때문에 \n",
    "예측된 결과값이 실제로는 0과 1 사이의 임의의 수가 될 수 밖에 없다. \n",
    "이때, 해당 결과값에 대해서 임계값을 넘으면 positive로 취급한다.\n",
    "기본적으로 모델에서는 디폴트값으로 임계값을 0.5로 두기 때문에 \n",
    "별도 임계값을 설정하지 않아도 결과값이 0과 1로 표현되어 출력된다."
   ]
  },
  {
   "cell_type": "code",
   "execution_count": 38,
   "id": "afd29c76",
   "metadata": {
    "ExecuteTime": {
     "end_time": "2022-04-12T09:49:46.236055Z",
     "start_time": "2022-04-12T09:49:46.216111Z"
    }
   },
   "outputs": [
    {
     "name": "stdout",
     "output_type": "stream",
     "text": [
      "pred_proba()결과 shape: (179, 2)\n",
      "pred_proba array에서 앞 3개만 샘플 추출 \n",
      " [[0.46175211 0.53824789]\n",
      " [0.87863924 0.12136076]\n",
      " [0.87717092 0.12282908]]\n",
      "두개의 class 중에서 더 큰 확률을 클래스 값으로 예측한다. \n",
      " [[0.46175211 0.53824789 1.        ]\n",
      " [0.87863924 0.12136076 0.        ]\n",
      " [0.87717092 0.12282908 0.        ]]\n"
     ]
    }
   ],
   "source": [
    "pred_proba = lr_clf.predict_proba(X_test)\n",
    "#X_test기반 예측에 대한 결과 값들에 대해서 나올 확률을 의미한다.\n",
    "pred = lr_clf.predict(X_test)\n",
    "#X_test 기반 예측의 결과를 의미한다. \n",
    "\n",
    "print('pred_proba()결과 shape: {}'.format(pred_proba.shape))\n",
    "print('pred_proba array에서 앞 3개만 샘플 추출 \\n',pred_proba[:3])\n",
    "\n",
    "#예측확률 array와 예측 결과 값 array를 concatenate하여 한눈에 표현\n",
    "pred_proba_result = np.concatenate([pred_proba,pred.reshape(-1,1)],axis=1)\n",
    "print('두개의 class 중에서 더 큰 확률을 클래스 값으로 예측한다. \\n',pred_proba_result[:3])"
   ]
  },
  {
   "cell_type": "code",
   "execution_count": 41,
   "id": "feeb7cfe",
   "metadata": {
    "ExecuteTime": {
     "end_time": "2022-04-12T09:59:40.192772Z",
     "start_time": "2022-04-12T09:59:40.166842Z"
    }
   },
   "outputs": [
    {
     "name": "stdout",
     "output_type": "stream",
     "text": [
      "오차 행렬\n",
      "[[104  14]\n",
      " [ 13  48]]\n",
      "정확도: 0.8492, 정밀도: 0.7742, 재현율: 0.7869\n",
      "임계값이 0.5로 주어진 상태에서 예측 모델과 같은 방식으로 \n",
      " 데이터를 분류했기 때문에 오차행렬과 정확도, 정밀도, 재현율이 이전 값과 같다\n"
     ]
    }
   ],
   "source": [
    "from sklearn.preprocessing import Binarizer\n",
    "\n",
    "#Binarizer : 임계값 설정에 따라 데이터를 0과 1로 분류한다.\n",
    "custom_threshold = 0.5\n",
    "\n",
    "#predict_proba()의 두번째 컬럼인 Positive 클래스 컬럼 하나만 추출해서 Binarizer 적용\n",
    "pred_proba_1 = pred_proba[:,1].reshape(-1,1)\n",
    "\n",
    "binarizer = Binarizer(threshold=custom_threshold).fit(pred_proba_1)\n",
    "custom_predict = binarizer.transform(pred_proba_1)\n",
    "\n",
    "\n",
    "get_clf_eval(y_test,custom_predict)\n",
    "print('임계값이 0.5로 주어진 상태에서 예측 모델과 같은 방식으로 \\n',\n",
    "'데이터를 분류했기 때문에 오차행렬과 정확도, 정밀도, 재현율이 이전 값과 같다')"
   ]
  },
  {
   "cell_type": "code",
   "execution_count": 46,
   "id": "c612566c",
   "metadata": {
    "ExecuteTime": {
     "end_time": "2022-04-12T10:04:11.427771Z",
     "start_time": "2022-04-12T10:04:11.406827Z"
    }
   },
   "outputs": [
    {
     "name": "stdout",
     "output_type": "stream",
     "text": [
      "오차 행렬\n",
      "[[98 20]\n",
      " [10 51]]\n",
      "정확도: 0.8324, 정밀도: 0.7183, 재현율: 0.8361\n"
     ]
    }
   ],
   "source": [
    "#binarizer의 임계값 변화에 따른 오차 행렬의 변동\n",
    "custom_threshold = 0.4\n",
    "pred_proba_1 = pred_proba[:,1].reshape(-1,1)\n",
    "#reshape에서 -1은 나머지 정수로 행렬을 만들고 나머지 값으로 추정한다는 의미로\n",
    "#위의 경우 열의 개수가 1개로 고정되고 행의 개수는 알아서 만들라는 의미로 해석하면 된다.\n",
    "\n",
    "binarizer = Binarizer(threshold=custom_threshold).fit(pred_proba_1)\n",
    "custom_predict = binarizer.transform(pred_proba_1)\n",
    "\n",
    "get_clf_eval(y_test,custom_predict)"
   ]
  },
  {
   "cell_type": "code",
   "execution_count": 49,
   "id": "e86d3c57",
   "metadata": {
    "ExecuteTime": {
     "end_time": "2022-04-12T10:09:22.609504Z",
     "start_time": "2022-04-12T10:09:22.556369Z"
    }
   },
   "outputs": [
    {
     "name": "stdout",
     "output_type": "stream",
     "text": [
      "임계값: 0.4\n",
      "오차 행렬\n",
      "[[98 20]\n",
      " [10 51]]\n",
      "정확도: 0.8324, 정밀도: 0.7183, 재현율: 0.8361\n",
      "임계값: 0.45\n",
      "오차 행렬\n",
      "[[103  15]\n",
      " [ 12  49]]\n",
      "정확도: 0.8492, 정밀도: 0.7656, 재현율: 0.8033\n",
      "임계값: 0.5\n",
      "오차 행렬\n",
      "[[104  14]\n",
      " [ 13  48]]\n",
      "정확도: 0.8492, 정밀도: 0.7742, 재현율: 0.7869\n",
      "임계값: 0.55\n",
      "오차 행렬\n",
      "[[109   9]\n",
      " [ 15  46]]\n",
      "정확도: 0.8659, 정밀도: 0.8364, 재현율: 0.7541\n",
      "임계값: 0.6\n",
      "오차 행렬\n",
      "[[112   6]\n",
      " [ 16  45]]\n",
      "정확도: 0.8771, 정밀도: 0.8824, 재현율: 0.7377\n"
     ]
    }
   ],
   "source": [
    "#임계값에 따른 오차 행렬과 정확도, 정밀도, 재현율의 변화\n",
    "thresholds = [0.4,0.45,0.5,0.55,0.6]\n",
    "\n",
    "def get_eval_by_threshold(y_test,pred_proba_c1,thresholds):\n",
    "    for custom_threshold in thresholds:\n",
    "        binarizer = Binarizer(threshold=custom_threshold).fit(pred_proba_c1)\n",
    "        custom_predict = binarizer.transform(pred_proba_c1)\n",
    "        print('임계값:',custom_threshold)\n",
    "        get_clf_eval(y_test, custom_predict)\n",
    "        \n",
    "get_eval_by_threshold(y_test,pred_proba[:,1].reshape(-1,1),thresholds)"
   ]
  },
  {
   "cell_type": "code",
   "execution_count": 71,
   "id": "2b334a8c",
   "metadata": {
    "ExecuteTime": {
     "end_time": "2022-04-12T12:19:39.236266Z",
     "start_time": "2022-04-12T12:19:39.216322Z"
    }
   },
   "outputs": [
    {
     "name": "stdout",
     "output_type": "stream",
     "text": [
      "반환된 분류 결정 임계값 배열의 shape: (143,)\n",
      "반환된 precisions(정밀도) 배열의 shape: (144,)\n",
      "반환된 recall(재현율) 배열의 shape: (144,)\n",
      "샘플 추출을 위한 임계값 배열의 index 10개 [  0  15  30  45  60  75  90 105 120 135]\n",
      "샘플용 10개의 임계값 [0.1  0.12 0.14 0.19 0.28 0.4  0.56 0.67 0.82 0.95]\n",
      "샘플 임계값별 정밀도:  [0.389 0.44  0.466 0.539 0.647 0.729 0.836 0.949 0.958 1.   ]\n",
      "샘플 임계값별 재현율:  [1.    0.967 0.902 0.902 0.902 0.836 0.754 0.607 0.377 0.148]\n"
     ]
    }
   ],
   "source": [
    "# precision_recall_curve()를 이용한 정밀도, 재현율 추출\n",
    "from sklearn.metrics import precision_recall_curve\n",
    "\n",
    "#레이블 값이 1일 경우의 예측 확률 추출\n",
    "pred_proba_class1 = lr_clf.predict_proba(X_test)[:,1]\n",
    "\n",
    "#실제값 데이터셋과 레이블 값이 1일 때의 예측 확률을 \n",
    "#precision_recall_curve 인자로 입력\n",
    "# 실제 결과값과 해당 결과 값에 대한 possitive확률을 받아서 \n",
    "# 각각의 확률에 대한 정밀도와 재현율, 임계값을 출력한다.\n",
    "precisions, recalls, thresholds = precision_recall_curve(y_test,pred_proba_class1)\n",
    "print('반환된 분류 결정 임계값 배열의 shape:',thresholds.shape)\n",
    "print('반환된 precisions(정밀도) 배열의 shape:',precisions.shape)\n",
    "print('반환된 recall(재현율) 배열의 shape:',recalls.shape)\n",
    "\n",
    "#반환된 임계값 배열 로우가 147건으로 샘플 10건 추출 후 임계값을 15step으로 추출\n",
    "thr_index = np.arange(0,thresholds.shape[0],15)\n",
    "print('샘플 추출을 위한 임계값 배열의 index 10개',thr_index)\n",
    "print('샘플용 10개의 임계값',np.round(thresholds[thr_index],2))\n",
    "\n",
    "#15step 단위로 추출된 임계값에 대한 정밀도와 재현율 값\n",
    "print('샘플 임계값별 정밀도: ',np.round(precisions[thr_index],3))\n",
    "print('샘플 임계값별 재현율: ',np.round(recalls[thr_index],3))\n",
    "\n",
    "###왜 임계값이 결과값에 다 다르게 나오는가???"
   ]
  },
  {
   "cell_type": "code",
   "execution_count": 67,
   "id": "11a453f4",
   "metadata": {
    "ExecuteTime": {
     "end_time": "2022-04-12T11:14:09.194810Z",
     "start_time": "2022-04-12T11:14:08.990358Z"
    }
   },
   "outputs": [
    {
     "data": {
      "image/png": "[encoded data removed]",
      "text/plain": [
       "<Figure size 576x432 with 1 Axes>"
      ]
     },
     "metadata": {
      "needs_background": "light"
     },
     "output_type": "display_data"
    }
   ],
   "source": [
    "#임계값 변경에 따른 정밀도-재현율 변화 곡선\n",
    "import matplotlib.pyplot as plt\n",
    "import matplotlib.ticker as ticker\n",
    "\n",
    "def precision_recall_curve_plot(y_test,pred_proba_c1):\n",
    "    precisions, recalls, thresholds = precision_recall_curve(y_test,pred_proba_c1)\n",
    "    \n",
    "    plt.figure(figsize=(8,6))\n",
    "    threshold_boundary =thresholds.shape[0]\n",
    "    plt.plot(thresholds, precisions[0:threshold_boundary], linestyle='--', label='precision'\n",
    "            )\n",
    "    plt.plot(thresholds, recalls[0:threshold_boundary],label='recall')\n",
    "    \n",
    "    start, end = plt.xlim()\n",
    "    plt.xticks(np.round(np.arange(start,end,0.1),2))\n",
    "    \n",
    "    plt.xlabel('Threshold value');plt.ylabel('precision and recall value')\n",
    "    plt.legend(); plt.grid()\n",
    "    plt.show()\n",
    "    \n",
    "precision_recall_curve_plot(y_test,lr_clf.predict_proba(X_test)[:,1])"
   ]
  },
  {
   "cell_type": "markdown",
   "id": "28577b3a",
   "metadata": {},
   "source": [
    "### 정밀도와 재현율의 맹점 ###\n",
    "#### 정밀도 100%의 의미 ####\n",
    "확실한 기준이 되는 경우만 positive로 예측하고 나머지 모든 경우를 negative로 예측\n",
    "<br>->정밀도 = TP/(FP+TP)이므로 \n",
    "<br>만약 질병 예측에서 정말 확실하게 positive인 사람 1명만 postive로 예측하면 \n",
    "<br>정밀도는 1/(0+1)이 되어 100%가 된다.\n",
    "\n",
    "#### 재현율 100%의 의미 ####\n",
    "질병 예측에서 모든 환자를 positive로 예측하면 된다.\n",
    "<br>-> 재현율 = TP/(FN+TP)이 되기 때문에 모든 환자를 positive로 예측하면\n",
    "<br>TP + NF = TP + 0이 되기 때문에\n",
    "<br>(NF는 실제와 예측값이 negative인 경우인데 모든 경우를 positive로 예측하면 0이된다.)\n",
    "<br>재현율 = TP/(FN+TP) = TP/(0+TP) = 1 = 100%가 된다."
   ]
  },
  {
   "cell_type": "markdown",
   "id": "4cbd6b53",
   "metadata": {},
   "source": [
    "## F1 Score ##\n",
    "### 의미 ###\n",
    "정밀도와 재현율을 결합한 지표로 정밀도와 재현율의 어느 한쪽으로 \n",
    "<br> 치우치지 않는 수치가 나올 때, 높은 값을 갖는다.\n",
    "### 공식 ###\n",
    "F1 = 정밀도와 재현율의 역수에 대한 평균의 역수\n",
    "<br>   = 2/{(1/recall)+(1/precision)} \n",
    "<br>= (2'prcision''recall')/(precision+recall)\n",
    "\n",
    "## ROC 곡선과 AUC ##\n",
    "### 의미 ###\n",
    "ROC 곡선(Receiver Operation Characteristic Curve)과 이에 기반한 AUC스코어는 \n",
    "이진분류 예측 성능 측정의 지표이다.\n",
    "\n",
    "### ROC 곡선의 해석###\n",
    "ROC 곡선은 FPR(False Positive Rate)이 변할 때, TPR(True Positive Rate)의 변화를 \n",
    "<br>나타내는 곡선이다.\n",
    "<br>X축->FPR(False Positive Rate)\n",
    "<br>Y축->TPR(True Positive Rate)\n",
    "<br> 분류 성능 지표로 ROC 곡선 아래 면적인 AUC(Area Under Curve)를 사용하고\n",
    "<br> 이 값이 1에 가까울수록 이진분류 예측이 좋은 성능을 가졌다고 평가한다.\n",
    "\n",
    "### FPR과 TPR ###\n",
    "#### TPR(True Positive Rate) ####\n",
    "TPR은 True Positive Rate의 약자로 재현율을 의미한다.\n",
    "\n",
    "#### FPR(False Positive Rate) ####\n",
    "FPR은 실제 Negative이지만 잘못 예측한 비율을 의미한다.\n",
    "FPR = FP/(TN+FP)\n",
    "\n",
    "|실제/예측|Negative|Positive|\n",
    "|------|---|---|\n",
    "|Negative|TN|FP|\n",
    "|Positive|FN|TP|\n",
    "\n",
    "<br> 정밀도 = TP/(FP+TP)\n",
    "<br> 재현율 = TPR = TP/(FN+TP)\n",
    "<br> FPR = FP/(TN+FP)\n",
    "<br> 정확도 = (TP+TN)/(TN+FP+FN+TP)\n",
    "<br></br>\n",
    "<br> FN:(Negative 예측을 했지만 실제 positive이기에 예측이 False)\n",
    "<br> TP: (Positive 예측을 하고 실제 Positivie이기에 예측이 True)\n",
    "<br> FN+TP: 실제 Positive의 경우\n",
    "<br> TN = (Negative 예측을 하고 실제 negative이기에 예측이 True)\n",
    "<br> FP = (Positive 예측을 했지만 실제 negative이기에 예측이 False)\n",
    "<br> TN+FP = 실제 Negative의 경우\n",
    "\n",
    "### 사이킷런 ROC 곡선 및 AUC 스코어 함수###\n",
    "#### ROC곡선 데이터 ####\n",
    "##### 함수 형식 #####\n",
    "roc_curve(y_true,y_score)\n",
    "##### 입력 파라미터 #####\n",
    "y_true: 실제 결과값 데이터\n",
    "y_score: predic_prob()의 반환값 전체"
   ]
  },
  {
   "cell_type": "code",
   "execution_count": null,
   "id": "56998126",
   "metadata": {},
   "outputs": [],
   "source": []
  }
 ],
 "metadata": {
  "hide_input": false,
  "kernelspec": {
   "display_name": "Python 3 (ipykernel)",
   "language": "python",
   "name": "python3"
  },
  "language_info": {
   "codemirror_mode": {
    "name": "ipython",
    "version": 3
   },
   "file_extension": ".py",
   "mimetype": "text/x-python",
   "name": "python",
   "nbconvert_exporter": "python",
   "pygments_lexer": "ipython3",
   "version": "3.10.2"
  },
  "toc": {
   "base_numbering": 1,
   "nav_menu": {},
   "number_sections": true,
   "sideBar": true,
   "skip_h1_title": false,
   "title_cell": "Table of Contents",
   "title_sidebar": "Contents",
   "toc_cell": false,
   "toc_position": {},
   "toc_section_display": true,
   "toc_window_display": false
  },
  "varInspector": {
   "cols": {
    "lenName": 16,
    "lenType": 16,
    "lenVar": 40
   },
   "kernels_config": {
    "python": {
     "delete_cmd_postfix": "",
     "delete_cmd_prefix": "del ",
     "library": "var_list.py",
     "varRefreshCmd": "print(var_dic_list())"
    },
    "r": {
     "delete_cmd_postfix": ") ",
     "delete_cmd_prefix": "rm(",
     "library": "var_list.r",
     "varRefreshCmd": "cat(var_dic_list()) "
    }
   },
   "types_to_exclude": [
    "module",
    "function",
    "builtin_function_or_method",
    "instance",
    "_Feature"
   ],
   "window_display": false
  }
 },
 "nbformat": 4,
 "nbformat_minor": 5
}
