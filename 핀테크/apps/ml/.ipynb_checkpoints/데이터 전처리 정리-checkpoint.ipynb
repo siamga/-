{
 "cells": [
  {
   "cell_type": "markdown",
   "id": "ad84a194",
   "metadata": {},
   "source": [
    "# 데이터 전처리\n",
    "## 데이터 인코딩\n",
    "### 데이터 전처리 종류\n",
    "* 데이터 클린징: 결측, 이상, 중복 데이터 확인을 통한 처리\n",
    "* 데이터 인코딩\n",
    "* 데이터 스케일링\n",
    "* feature 선택, 추출, 가공\n",
    "### 필요성\n",
    "* 데이터는 문자열을 입력값으로 허용하지 않음. 숫자 변환 필수\n",
    "* 서로 다른 변수 사이에 범위가 너무 차이가 크면 분석 과정에서 왜곡이 발생 할 수 있다.\n",
    "### 인코딩 방식\n",
    "#### 레이블 인코딩(LabelEncoding)\n",
    "##### 의미\n",
    "* 레이블(종속변수)을 각각 1개의 숫자(스칼라)로 변환하여 알고리즘에 적용할 수 있도록 전환하는 방식\n",
    "\n",
    "#### 원-핫 인코딩(OneHotEncoding)\n",
    "##### 의미\n",
    "* 레이블(종속변수)을 각각 칼럼으로 하는 행렬을 만들고 개별 레이블에 대해서 해당하는 칼럼에 1, 아닌 칼럼에 0을 표시하는 방식으로 1차 행렬로 변환하여 알고리즘에 적용할 수 있도록 전환하는 방식\n",
    "\n",
    "#### 인코딩 예시"
   ]
  },
  {
   "cell_type": "code",
   "execution_count": 6,
   "id": "144a9e86",
   "metadata": {
    "ExecuteTime": {
     "end_time": "2022-04-15T10:08:58.282301Z",
     "start_time": "2022-04-15T10:08:58.254367Z"
    }
   },
   "outputs": [
    {
     "name": "stdout",
     "output_type": "stream",
     "text": [
      "[0 1 4 5 3 3 2 2]\n",
      "['TV' '냉장고' '믹서' '선풍기' '전자렌지' '컴퓨터']\n",
      "[[0]\n",
      " [1]\n",
      " [4]\n",
      " [5]\n",
      " [3]\n",
      " [3]\n",
      " [2]\n",
      " [2]]\n"
     ]
    }
   ],
   "source": [
    "#레이블 인코딩\n",
    "from sklearn.preprocessing import LabelEncoder\n",
    "import pandas as pd\n",
    "items = ['TV','냉장고','전자렌지','컴퓨터','선풍기','선풍기','믹서','믹서']\n",
    "\n",
    "#LabelEncoder()로 클래스 생성 후 fit(), transform()으로 label 인코딩 수행\n",
    "encoder = LabelEncoder()\n",
    "encoder.fit(items)\n",
    "#인코딩 데이터를 items로 지정\n",
    "labels = encoder.transform(items)\n",
    "#labels 변수에 encoder에 지정된 items를 인코딩한 데이터 저장\n",
    "#굳이 fit으로 지정한 데이터를 transform에서 다시 지정하는 이유\n",
    "#->별 이유 없고 그냥 코드를 짤 때, 그렇게 하래요....\n",
    "\n",
    "print(labels)\n",
    "print(encoder.classes_)"
   ]
  },
  {
   "cell_type": "code",
   "execution_count": 11,
   "id": "3bd04d25",
   "metadata": {
    "ExecuteTime": {
     "end_time": "2022-04-15T10:14:23.821361Z",
     "start_time": "2022-04-15T10:14:23.795429Z"
    }
   },
   "outputs": [
    {
     "name": "stdout",
     "output_type": "stream",
     "text": [
      "[[0]\n",
      " [1]\n",
      " [4]\n",
      " [5]\n",
      " [3]\n",
      " [3]\n",
      " [2]\n",
      " [2]]\n",
      "[[1. 0. 0. 0. 0. 0.]\n",
      " [0. 1. 0. 0. 0. 0.]\n",
      " [0. 0. 0. 0. 1. 0.]\n",
      " [0. 0. 0. 0. 0. 1.]\n",
      " [0. 0. 0. 1. 0. 0.]\n",
      " [0. 0. 0. 1. 0. 0.]\n",
      " [0. 0. 1. 0. 0. 0.]\n",
      " [0. 0. 1. 0. 0. 0.]]\n"
     ]
    },
    {
     "data": {
      "text/plain": [
       "(8, 6)"
      ]
     },
     "execution_count": 11,
     "metadata": {},
     "output_type": "execute_result"
    }
   ],
   "source": [
    "#원 핫 인코딩\n",
    "from sklearn.preprocessing import OneHotEncoder\n",
    "import numpy as np\n",
    "\n",
    "items = ['TV','냉장고','전자렌지','컴퓨터','선풍기','선풍기','믹서','믹서']\n",
    "\n",
    "#레이블 인코딩\n",
    "encoder = LabelEncoder()\n",
    "encoder.fit(items)\n",
    "labels =encoder.transform(items)\n",
    "\n",
    "labels = labels.reshape(-1,1)\n",
    "print(labels)\n",
    "\n",
    "#원핫 인코딩\n",
    "oh_encoder = OneHotEncoder()\n",
    "oh_encoder.fit(labels)\n",
    "oh_labels = oh_encoder.transform(labels)\n",
    "\n",
    "print(oh_labels.toarray())\n",
    "oh_labels.shape"
   ]
  },
  {
   "cell_type": "markdown",
   "id": "85fea878",
   "metadata": {},
   "source": [
    "## 피처 스케일링과 정규화\n",
    "### 필요성\n",
    "* 서로 다른 변수의 값의 범위를 일정하게 조정하여 분석 과정에서 데이터의 왜곡이 나타나지 않게 하기 위해서이다.\n",
    "\n",
    "### 피처 스케일링의 방식\n",
    "#### 표준화(Standardization)\n",
    "* 평균이 0이고 분산이 1인 표준 정규 분포로 변환\n",
    "\n",
    "#### 정규화(Normalization)\n",
    "* 서로 다른 피처의 크기를 통일하기 위해 크기를 0~1 사이의 숫자로 변환하는 개념\n",
    "* 데이터 내에 음수가 존재하는 경우 -1~1 까지의 값으로 변환\n",
    "\n",
    "#### sklearn.Normalizer\n",
    "* 선형대수의 정규화 개념을 활용한 개별 벡터의 크기를 맞추기 위한 변환(참고)\n",
    "\n",
    "#### 피처 스케일링의 예시\n"
   ]
  },
  {
   "cell_type": "code",
   "execution_count": 13,
   "id": "ea321808",
   "metadata": {
    "ExecuteTime": {
     "end_time": "2022-04-15T11:22:03.370209Z",
     "start_time": "2022-04-15T11:22:03.340289Z"
    }
   },
   "outputs": [
    {
     "data": {
      "text/plain": [
       "sepal length (cm)    1.006711\n",
       "sepal width (cm)     1.006711\n",
       "petal length (cm)    1.006711\n",
       "petal width (cm)     1.006711\n",
       "dtype: float64"
      ]
     },
     "execution_count": 13,
     "metadata": {},
     "output_type": "execute_result"
    }
   ],
   "source": [
    "# standardScaler\n",
    "from sklearn.datasets import load_iris\n",
    "\n",
    "iris = load_iris()\n",
    "iris_data = iris.data\n",
    "iris_df = pd.DataFrame(data = iris_data, columns=iris.feature_names)\n",
    "\n",
    "\n",
    "from sklearn.preprocessing import StandardScaler\n",
    "scaler = StandardScaler()\n",
    "\n",
    "scaler.fit(iris_df)\n",
    "iris_scaled = scaler.transform(iris_df)\n",
    "\n",
    "iris_df_scaled = pd.DataFrame(data=iris_scaled, columns=iris.feature_names)\n",
    "iris_df_scaled.mean()\n",
    "iris_df_scaled.var()\n",
    "\n",
    "\n",
    "####주의사항: 데이터 검증에서 학습데이터를 기반으로 정규화를 진행하게 될 것인데 \n",
    "#### 이후 정규화에 대해 test데이터로 다시한번 fit을 하면 안된다\n",
    "# why? -> 이미 학습 데이터를 기반으로 데이터 분포에 대한 기준을 만든 것이고 \n",
    "#         여기서 추가적으로 test 데이터를 fit 하게되면 이 기준이 무너지게 된다."
   ]
  },
  {
   "cell_type": "code",
   "execution_count": 16,
   "id": "2a6bb43a",
   "metadata": {
    "ExecuteTime": {
     "end_time": "2022-04-15T11:25:12.482945Z",
     "start_time": "2022-04-15T11:25:12.457986Z"
    }
   },
   "outputs": [
    {
     "name": "stdout",
     "output_type": "stream",
     "text": [
      "sepal length (cm)    0.0\n",
      "sepal width (cm)     0.0\n",
      "petal length (cm)    0.0\n",
      "petal width (cm)     0.0\n",
      "dtype: float64\n",
      "sepal length (cm)    1.0\n",
      "sepal width (cm)     1.0\n",
      "petal length (cm)    1.0\n",
      "petal width (cm)     1.0\n",
      "dtype: float64\n"
     ]
    }
   ],
   "source": [
    "#MinMaxScaler\n",
    "from sklearn.preprocessing import MinMaxScaler\n",
    "\n",
    "# MinMaxScaler 객체 생성\n",
    "scaler = MinMaxScaler()\n",
    "scaler.fit(iris_df)\n",
    "iris_scaled =scaler.transform(iris_df)\n",
    "\n",
    "iris_df_scaled = pd.DataFrame(data=iris_scaled, columns=iris.feature_names)\n",
    "print(iris_df_scaled.min())\n",
    "print(iris_df_scaled.max())"
   ]
  },
  {
   "cell_type": "code",
   "execution_count": null,
   "id": "20439ec4",
   "metadata": {},
   "outputs": [],
   "source": []
  }
 ],
 "metadata": {
  "hide_input": false,
  "kernelspec": {
   "display_name": "Python 3 (ipykernel)",
   "language": "python",
   "name": "python3"
  },
  "language_info": {
   "codemirror_mode": {
    "name": "ipython",
    "version": 3
   },
   "file_extension": ".py",
   "mimetype": "text/x-python",
   "name": "python",
   "nbconvert_exporter": "python",
   "pygments_lexer": "ipython3",
   "version": "3.10.2"
  },
  "toc": {
   "base_numbering": 1,
   "nav_menu": {},
   "number_sections": true,
   "sideBar": true,
   "skip_h1_title": false,
   "title_cell": "Table of Contents",
   "title_sidebar": "Contents",
   "toc_cell": false,
   "toc_position": {},
   "toc_section_display": true,
   "toc_window_display": true
  },
  "varInspector": {
   "cols": {
    "lenName": 16,
    "lenType": 16,
    "lenVar": 40
   },
   "kernels_config": {
    "python": {
     "delete_cmd_postfix": "",
     "delete_cmd_prefix": "del ",
     "library": "var_list.py",
     "varRefreshCmd": "print(var_dic_list())"
    },
    "r": {
     "delete_cmd_postfix": ") ",
     "delete_cmd_prefix": "rm(",
     "library": "var_list.r",
     "varRefreshCmd": "cat(var_dic_list()) "
    }
   },
   "types_to_exclude": [
    "module",
    "function",
    "builtin_function_or_method",
    "instance",
    "_Feature"
   ],
   "window_display": false
  }
 },
 "nbformat": 4,
 "nbformat_minor": 5
}
