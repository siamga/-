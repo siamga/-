{
 "cells": [
  {
   "cell_type": "markdown",
   "metadata": {},
   "source": [
    "#  AI 자동차\n",
    "* wifi ap: ssid RpiAiCar001~10\n",
    "password 12345678\n",
    "id address 192.168.50.1\n",
    "ip/pw pi/raspberry\n",
    "\n",
    "## "
   ]
  },
  {
   "cell_type": "markdown",
   "metadata": {},
   "source": []
  }
 ],
 "metadata": {
  "language_info": {
   "name": "python"
  },
  "orig_nbformat": 4
 },
 "nbformat": 4,
 "nbformat_minor": 2
}
