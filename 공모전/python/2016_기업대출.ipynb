{
 "cells": [
  {
   "cell_type": "code",
   "execution_count": 12,
   "metadata": {},
   "outputs": [
    {
     "data": {
      "text/plain": [
       "0       BNK경남은행\n",
       "1       BNK부산은행\n",
       "2       DGB대구은행\n",
       "3       IBK기업은행\n",
       "4        KB국민은행\n",
       "5       KDB산업은행\n",
       "6        NH농협은행\n",
       "7        SH수협은행\n",
       "8          광주은행\n",
       "9     스탠다드차타드은행\n",
       "10         신한은행\n",
       "11         우리은행\n",
       "12         전북은행\n",
       "13         제주은행\n",
       "14         하나은행\n",
       "15       한국씨티은행\n",
       "Name: 은행, dtype: object"
      ]
     },
     "execution_count": 12,
     "metadata": {},
     "output_type": "execute_result"
    }
   ],
   "source": [
    "import pandas as pd\n",
    "import basic\n",
    "bank = pd.read_csv('..\\자료\\은행대출_금리\\_2016\\물적담보대출.csv', encoding='cp949')\n",
    "\n",
    "bank.columns =  ['은행','구분','1~3등급','4등급','5등급','6등급','7~10등급','평균금리','참고사항']\n",
    "bank.drop(0,axis=0,inplace=True)\n",
    "bank.drop(['구분','참고사항','평균금리'],axis=1,inplace=True)\n",
    "bank.replace('-',0,inplace=True)\n",
    "bank.reset_index(drop=True, inplace=True)\n",
    "bank = bank['은행']\n",
    "bank\n"
   ]
  },
  {
   "cell_type": "code",
   "execution_count": 13,
   "metadata": {},
   "outputs": [
    {
     "data": {
      "text/plain": [
       "[4.624886488648865,\n",
       " 4.074572457245725,\n",
       " 4.013699369936995,\n",
       " 3.3729362936293628,\n",
       " 3.486500650065007,\n",
       " 3.398803880388039,\n",
       " 3.786310631063107,\n",
       " 4.16018501850185,\n",
       " 4.392079207920792,\n",
       " 2.990741529722053,\n",
       " 4.0604640464046415,\n",
       " 4.452172217221722,\n",
       " 3.911863186318632,\n",
       " 4.533767376737674,\n",
       " 3.657885788578858,\n",
       " 3.1803630363036306]"
      ]
     },
     "execution_count": 13,
     "metadata": {},
     "output_type": "execute_result"
    }
   ],
   "source": [
    "#2016년 물적담보대출\n",
    "import pandas as pd\n",
    "import numpy as np\n",
    "import basic \n",
    "\n",
    "mort_2016 = basic.read('..\\자료\\은행대출_금리\\_2016\\물적담보대출.csv')\n",
    "mort_2016.tidy()\n",
    "mort = mort_2016.multi('2015년말')\n",
    "mort\n"
   ]
  },
  {
   "cell_type": "code",
   "execution_count": 14,
   "metadata": {},
   "outputs": [],
   "source": [
    "\n",
    "credit_2016 = basic.read('..\\자료\\은행대출_금리\\_2016\\신용대출.csv')\n",
    "credit_2016.tidy()\n",
    "credit = credit_2016.multi('2015년말')\n",
    "\n"
   ]
  },
  {
   "cell_type": "code",
   "execution_count": 15,
   "metadata": {},
   "outputs": [],
   "source": [
    "minusave_2016 = basic.read('..\\자료\\은행대출_금리\\_2016\\신용마통대출.csv')\n",
    "minusave_2016.tidy()\n",
    "minusave = minusave_2016.multi('2015년말')\n",
    "\n"
   ]
  },
  {
   "cell_type": "code",
   "execution_count": 16,
   "metadata": {},
   "outputs": [
    {
     "data": {
      "text/plain": [
       "5.7008029691630355"
      ]
     },
     "execution_count": 16,
     "metadata": {},
     "output_type": "execute_result"
    }
   ],
   "source": [
    "#2016년 은행 평균 기업대출 금리\n",
    "db = basic.bank_db(bank,mort,credit,minusave)\n",
    "\n",
    "list = db.loc[:,'mort':'minusave'].sum()/16\n",
    "result = list.sum()/3\n"
   ]
  }
 ],
 "metadata": {
  "interpreter": {
   "hash": "793a361c9cb33761c67c8442ce1c830393d9eace081562163e5d71d68ad47fd0"
  },
  "kernelspec": {
   "display_name": "Python 3.10.2 64-bit",
   "language": "python",
   "name": "python3"
  },
  "language_info": {
   "codemirror_mode": {
    "name": "ipython",
    "version": 3
   },
   "file_extension": ".py",
   "mimetype": "text/x-python",
   "name": "python",
   "nbconvert_exporter": "python",
   "pygments_lexer": "ipython3",
   "version": "3.10.2"
  },
  "orig_nbformat": 4
 },
 "nbformat": 4,
 "nbformat_minor": 2
}
