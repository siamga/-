{
 "cells": [
  {
   "cell_type": "code",
   "execution_count": 6,
   "metadata": {},
   "outputs": [
    {
     "data": {
      "text/plain": [
       "0       BNK경남은행\n",
       "1       BNK부산은행\n",
       "2       DGB대구은행\n",
       "3       IBK기업은행\n",
       "4        KB국민은행\n",
       "5       KDB산업은행\n",
       "6        NH농협은행\n",
       "7        SH수협은행\n",
       "8          광주은행\n",
       "9     스탠다드차타드은행\n",
       "10         신한은행\n",
       "11         우리은행\n",
       "12         전북은행\n",
       "13         제주은행\n",
       "14         하나은행\n",
       "15       한국씨티은행\n",
       "Name: 은행, dtype: object"
      ]
     },
     "execution_count": 6,
     "metadata": {},
     "output_type": "execute_result"
    }
   ],
   "source": [
    "import pandas as pd\n",
    "import basic\n",
    "\n",
    "bank = pd.read_csv('..\\자료\\은행대출_금리\\_2018\\물적담보대출.csv', encoding='cp949')\n",
    "\n",
    "bank.columns =  ['은행','구분','1~3등급','4등급','5등급','6등급','7~10등급','평균금리','참고사항']\n",
    "bank.drop(0,axis=0,inplace=True)\n",
    "bank.drop(['구분','참고사항','평균금리'],axis=1,inplace=True)\n",
    "bank.replace('-',0,inplace=True)\n",
    "bank.reset_index(drop=True, inplace=True)\n",
    "bank =bank['은행']\n",
    "bank"
   ]
  },
  {
   "cell_type": "code",
   "execution_count": 7,
   "metadata": {},
   "outputs": [
    {
     "data": {
      "text/plain": [
       "[4.857931,\n",
       " 4.360831,\n",
       " 4.4747,\n",
       " 3.5832819999999996,\n",
       " 4.520686,\n",
       " 3.666261,\n",
       " 4.184450999999999,\n",
       " 4.358446,\n",
       " 4.797916,\n",
       " 3.350141257188982,\n",
       " 4.463449000000001,\n",
       " 4.189185999999999,\n",
       " 4.347168999999999,\n",
       " 4.620583,\n",
       " 3.969175,\n",
       " 3.5244289999999996]"
      ]
     },
     "execution_count": 7,
     "metadata": {},
     "output_type": "execute_result"
    }
   ],
   "source": [
    "#2018년 물적담보대출\n",
    "import pandas as pd\n",
    "import numpy as np\n",
    "\n",
    "\n",
    "mort_2018 = basic.read('..\\자료\\은행대출_금리\\_2018\\물적담보대출.csv')\n",
    "mort_2018.tidy()\n",
    "mort = mort_2018.multi('2017년말')\n",
    "mort"
   ]
  },
  {
   "cell_type": "code",
   "execution_count": 8,
   "metadata": {},
   "outputs": [
    {
     "data": {
      "text/plain": [
       "[6.311968,\n",
       " 5.731267,\n",
       " 6.035711,\n",
       " 7.797846,\n",
       " 8.581454,\n",
       " 5.915376,\n",
       " 7.603135000000001,\n",
       " 6.888089,\n",
       " 6.30684,\n",
       " 4.7126991150442485,\n",
       " 6.941118,\n",
       " 8.575094,\n",
       " 10.122951000000002,\n",
       " 6.435986,\n",
       " 6.573843,\n",
       " 3.328226501868353]"
      ]
     },
     "execution_count": 8,
     "metadata": {},
     "output_type": "execute_result"
    }
   ],
   "source": [
    "#2018년 신용대출\n",
    "credit_2018 = basic.read('..\\자료\\은행대출_금리\\_2018\\신용대출.csv')\n",
    "credit_2018.tidy()\n",
    "credit = credit_2018.multi('2017년말')\n",
    "credit"
   ]
  },
  {
   "cell_type": "code",
   "execution_count": 9,
   "metadata": {},
   "outputs": [
    {
     "data": {
      "text/plain": [
       "[5.247731813136919,\n",
       " 5.869644999999999,\n",
       " 6.565430999999999,\n",
       " 8.411283999999998,\n",
       " 8.952282,\n",
       " 5.470834,\n",
       " 7.176326,\n",
       " 7.44985,\n",
       " 6.992209999999999,\n",
       " 3.0185122467493195,\n",
       " 7.102721000000001,\n",
       " 8.850863,\n",
       " 10.311578,\n",
       " 9.074775,\n",
       " 6.851391,\n",
       " 4.344125441696113]"
      ]
     },
     "execution_count": 9,
     "metadata": {},
     "output_type": "execute_result"
    }
   ],
   "source": [
    "#2018년 신용마통대출\n",
    "minusave_2018 = basic.read('..\\자료\\은행대출_금리\\_2018\\신용마통대출.csv')\n",
    "minusave_2018.tidy()\n",
    "minusave = minusave_2018.multi('2017년말')\n",
    "minusave"
   ]
  },
  {
   "cell_type": "code",
   "execution_count": 10,
   "metadata": {},
   "outputs": [
    {
     "data": {
      "text/plain": [
       "5.975412486993416"
      ]
     },
     "execution_count": 10,
     "metadata": {},
     "output_type": "execute_result"
    }
   ],
   "source": [
    "#2018년 은행 평균 기업대출 금리\n",
    "db = basic.bank_db(bank,mort,credit,minusave)\n",
    "\n",
    "list = db.loc[:,'mort':'minusave'].sum()/16\n",
    "list.sum()/3"
   ]
  }
 ],
 "metadata": {
  "interpreter": {
   "hash": "793a361c9cb33761c67c8442ce1c830393d9eace081562163e5d71d68ad47fd0"
  },
  "kernelspec": {
   "display_name": "Python 3.10.2 64-bit",
   "language": "python",
   "name": "python3"
  },
  "language_info": {
   "codemirror_mode": {
    "name": "ipython",
    "version": 3
   },
   "file_extension": ".py",
   "mimetype": "text/x-python",
   "name": "python",
   "nbconvert_exporter": "python",
   "pygments_lexer": "ipython3",
   "version": "3.10.2"
  },
  "orig_nbformat": 4
 },
 "nbformat": 4,
 "nbformat_minor": 2
}
