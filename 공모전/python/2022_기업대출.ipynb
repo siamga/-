{
 "cells": [
  {
   "cell_type": "code",
   "execution_count": 3,
   "metadata": {},
   "outputs": [
    {
     "data": {
      "text/plain": [
       "0       BNK경남은행\n",
       "1       BNK부산은행\n",
       "2       DGB대구은행\n",
       "3       IBK기업은행\n",
       "4        KB국민은행\n",
       "5       KDB산업은행\n",
       "6        NH농협은행\n",
       "7        SH수협은행\n",
       "8          광주은행\n",
       "9     스탠다드차타드은행\n",
       "10         신한은행\n",
       "11         우리은행\n",
       "12         전북은행\n",
       "13         제주은행\n",
       "14         하나은행\n",
       "15       한국씨티은행\n",
       "Name: 은행, dtype: object"
      ]
     },
     "execution_count": 3,
     "metadata": {},
     "output_type": "execute_result"
    }
   ],
   "source": [
    "import pandas as pd\n",
    "import basic\n",
    "\n",
    "bank = pd.read_csv('..\\자료\\은행대출_금리\\_2022\\물적담보대출.csv', encoding='cp949')\n",
    "\n",
    "bank.columns =  ['은행','구분','1~3등급','4등급','5등급','6등급','7~10등급','평균금리','참고사항']\n",
    "bank.drop(0,axis=0,inplace=True)\n",
    "bank.drop(['구분','참고사항','평균금리'],axis=1,inplace=True)\n",
    "bank.replace('-',0,inplace=True)\n",
    "bank.reset_index(drop=True, inplace=True)\n",
    "bank =bank['은행']\n",
    "bank"
   ]
  },
  {
   "cell_type": "code",
   "execution_count": 4,
   "metadata": {},
   "outputs": [
    {
     "data": {
      "text/plain": [
       "[3.6519220000000003,\n",
       " 3.882434000000001,\n",
       " 3.7013970000000005,\n",
       " 3.293549,\n",
       " 4.2597640000000006,\n",
       " 3.043726,\n",
       " 3.5846490000000006,\n",
       " 3.7784000000000004,\n",
       " 3.985387,\n",
       " 2.9786936428057924,\n",
       " 3.869349,\n",
       " 4.170089,\n",
       " 3.925718,\n",
       " 4.074441,\n",
       " 3.397423,\n",
       " 3.7720900000000004]"
      ]
     },
     "execution_count": 4,
     "metadata": {},
     "output_type": "execute_result"
    }
   ],
   "source": [
    "#2021년 물적담보대출\n",
    "import pandas as pd\n",
    "import numpy as np\n",
    "\n",
    "\n",
    "mort_2022 = basic.read('..\\자료\\은행대출_금리\\_2022\\물적담보대출.csv')\n",
    "mort_2022.tidy()\n",
    "mort = mort_2022.multi('2021년말')\n",
    "mort"
   ]
  },
  {
   "cell_type": "code",
   "execution_count": 6,
   "metadata": {},
   "outputs": [
    {
     "data": {
      "text/plain": [
       "[4.718083999999999,\n",
       " 5.11293,\n",
       " 5.357745,\n",
       " 7.494988000000001,\n",
       " 7.4141710000000005,\n",
       " 5.257896000000001,\n",
       " 6.264918,\n",
       " 6.1145190000000005,\n",
       " 5.274511,\n",
       " 4.6,\n",
       " 6.684206,\n",
       " 7.927104,\n",
       " 8.481217000000001,\n",
       " 7.17204,\n",
       " 4.796963000000001,\n",
       " 3.8579471343873517]"
      ]
     },
     "execution_count": 6,
     "metadata": {},
     "output_type": "execute_result"
    }
   ],
   "source": [
    "credit_2022 = basic.read('..\\자료\\은행대출_금리\\_2022\\신용대출.csv')\n",
    "credit_2022.tidy()\n",
    "credit = credit_2022.multi('2021년말')\n",
    "credit"
   ]
  },
  {
   "cell_type": "code",
   "execution_count": 7,
   "metadata": {},
   "outputs": [
    {
     "data": {
      "text/plain": [
       "[5.630059,\n",
       " 5.647787,\n",
       " 6.604920000000002,\n",
       " 8.227765,\n",
       " 7.753098,\n",
       " 5.499875,\n",
       " 6.141661000000001,\n",
       " 7.519735000000001,\n",
       " 6.068231,\n",
       " 3.34,\n",
       " 7.3153500000000005,\n",
       " 8.658134000000002,\n",
       " 9.589292,\n",
       " 5.933921766307088,\n",
       " 5.420027,\n",
       " 5.18]"
      ]
     },
     "execution_count": 7,
     "metadata": {},
     "output_type": "execute_result"
    }
   ],
   "source": [
    "#2021년 신용마통대출\n",
    "minusave_2022 = basic.read('..\\자료\\은행대출_금리\\_2022\\신용마통대출.csv')\n",
    "minusave_2022.tidy()\n",
    "minusave = minusave_2022.multi('2021년말')\n",
    "minusave"
   ]
  },
  {
   "cell_type": "code",
   "execution_count": 8,
   "metadata": {},
   "outputs": [
    {
     "data": {
      "text/plain": [
       "5.425585969656255"
      ]
     },
     "execution_count": 8,
     "metadata": {},
     "output_type": "execute_result"
    }
   ],
   "source": [
    "#2022년 은행 평균 기업대출 금리\n",
    "db = basic.bank_db(bank,mort,credit,minusave)\n",
    "\n",
    "list = db.loc[:,'mort':'minusave'].sum()/16\n",
    "list.sum()/3"
   ]
  }
 ],
 "metadata": {
  "interpreter": {
   "hash": "793a361c9cb33761c67c8442ce1c830393d9eace081562163e5d71d68ad47fd0"
  },
  "kernelspec": {
   "display_name": "Python 3.10.2 64-bit",
   "language": "python",
   "name": "python3"
  },
  "language_info": {
   "codemirror_mode": {
    "name": "ipython",
    "version": 3
   },
   "file_extension": ".py",
   "mimetype": "text/x-python",
   "name": "python",
   "nbconvert_exporter": "python",
   "pygments_lexer": "ipython3",
   "version": "3.10.2"
  },
  "orig_nbformat": 4
 },
 "nbformat": 4,
 "nbformat_minor": 2
}
