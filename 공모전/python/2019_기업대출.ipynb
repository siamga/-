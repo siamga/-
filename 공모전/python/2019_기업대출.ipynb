{
 "cells": [
  {
   "cell_type": "code",
   "execution_count": 6,
   "metadata": {},
   "outputs": [
    {
     "data": {
      "text/plain": [
       "0       BNK경남은행\n",
       "1       BNK부산은행\n",
       "2       DGB대구은행\n",
       "3       IBK기업은행\n",
       "4        KB국민은행\n",
       "5       KDB산업은행\n",
       "6        NH농협은행\n",
       "7        SH수협은행\n",
       "8          광주은행\n",
       "9     스탠다드차타드은행\n",
       "10         신한은행\n",
       "11         우리은행\n",
       "12         전북은행\n",
       "13         제주은행\n",
       "14         하나은행\n",
       "15       한국씨티은행\n",
       "Name: 은행, dtype: object"
      ]
     },
     "execution_count": 6,
     "metadata": {},
     "output_type": "execute_result"
    }
   ],
   "source": [
    "import pandas as pd\n",
    "import basic\n",
    "\n",
    "bank = pd.read_csv('..\\자료\\은행대출_금리\\_2019\\물적담보대출.csv', encoding='cp949')\n",
    "\n",
    "bank.columns =  ['은행','구분','1~3등급','4등급','5등급','6등급','7~10등급','평균금리','참고사항']\n",
    "bank.drop(0,axis=0,inplace=True)\n",
    "bank.drop(['구분','참고사항','평균금리'],axis=1,inplace=True)\n",
    "bank.replace('-',0,inplace=True)\n",
    "bank.reset_index(drop=True, inplace=True)\n",
    "bank =bank['은행']\n",
    "bank"
   ]
  },
  {
   "cell_type": "code",
   "execution_count": 7,
   "metadata": {},
   "outputs": [
    {
     "data": {
      "text/plain": [
       "[4.592154784521547,\n",
       " 4.356012398760124,\n",
       " 4.251232876712328,\n",
       " 3.7898670132986703,\n",
       " 4.743076692330766,\n",
       " 3.4447525247475252,\n",
       " 4.3184751524847504,\n",
       " 4.39942105789421,\n",
       " 4.728712128787121,\n",
       " 3.3307351013411317,\n",
       " 4.7794030596940305,\n",
       " 4.3601519848015196,\n",
       " 4.539400059994,\n",
       " 5.039012098790121,\n",
       " 4.1203129687031295,\n",
       " 3.810742925707429]"
      ]
     },
     "execution_count": 7,
     "metadata": {},
     "output_type": "execute_result"
    }
   ],
   "source": [
    "#2019년 물적담보대출\n",
    "import pandas as pd\n",
    "import numpy as np\n",
    "\n",
    "\n",
    "mort_2019 = basic.read('..\\자료\\은행대출_금리\\_2019\\물적담보대출.csv')\n",
    "mort_2019.tidy()\n",
    "mort = mort_2019.multi('2018년말')\n",
    "mort"
   ]
  },
  {
   "cell_type": "code",
   "execution_count": 8,
   "metadata": {},
   "outputs": [
    {
     "data": {
      "text/plain": [
       "[5.54867113288671,\n",
       " 5.334945505449455,\n",
       " 5.8622017798220165,\n",
       " 8.083635636436357,\n",
       " 8.577509249075092,\n",
       " 6.529902009799019,\n",
       " 7.295886411358863,\n",
       " 7.20976902309769,\n",
       " 6.711500849915007,\n",
       " 3.8297159437996333,\n",
       " 7.017082291770823,\n",
       " 8.64000299970003,\n",
       " 9.68973202679732,\n",
       " 5.325807419258074,\n",
       " 6.195402459754024,\n",
       " 3.741018463371054]"
      ]
     },
     "execution_count": 8,
     "metadata": {},
     "output_type": "execute_result"
    }
   ],
   "source": [
    "#2019년 신용대출\n",
    "credit_2019 = basic.read('..\\자료\\은행대출_금리\\_2019\\신용대출.csv')\n",
    "credit_2019.tidy()\n",
    "credit = credit_2019.multi('2018년말')\n",
    "credit"
   ]
  },
  {
   "cell_type": "code",
   "execution_count": 9,
   "metadata": {},
   "outputs": [
    {
     "data": {
      "text/plain": [
       "[7.141655834416557,\n",
       " 5.6834856514348555,\n",
       " 6.498487151284872,\n",
       " 8.297660233976602,\n",
       " 8.954161583841614,\n",
       " 6.313917608239175,\n",
       " 8.112780721927807,\n",
       " 7.785046495350464,\n",
       " 7.232729727027296,\n",
       " 4.814651802076971,\n",
       " 8.091428857114288,\n",
       " 8.825165483451654,\n",
       " 10.55953504649535,\n",
       " 6.862883936674398,\n",
       " 7.165367463253674,\n",
       " 4.226604351823475]"
      ]
     },
     "execution_count": 9,
     "metadata": {},
     "output_type": "execute_result"
    }
   ],
   "source": [
    "#2019년 신용마통대출\n",
    "minusave_2019 = basic.read('..\\자료\\은행대출_금리\\_2019\\신용마통대출.csv')\n",
    "minusave_2019.tidy()\n",
    "minusave = minusave_2019.multi('2018년말')\n",
    "minusave"
   ]
  },
  {
   "cell_type": "code",
   "execution_count": 10,
   "metadata": {},
   "outputs": [
    {
     "data": {
      "text/plain": [
       "6.057537666234346"
      ]
     },
     "execution_count": 10,
     "metadata": {},
     "output_type": "execute_result"
    }
   ],
   "source": [
    "#2019년 은행 평균 기업대출 금리\n",
    "db = basic.bank_db(bank,mort,credit,minusave)\n",
    "\n",
    "list = db.loc[:,'mort':'minusave'].sum()/16\n",
    "list.sum()/3"
   ]
  }
 ],
 "metadata": {
  "interpreter": {
   "hash": "793a361c9cb33761c67c8442ce1c830393d9eace081562163e5d71d68ad47fd0"
  },
  "kernelspec": {
   "display_name": "Python 3.10.2 64-bit",
   "language": "python",
   "name": "python3"
  },
  "language_info": {
   "codemirror_mode": {
    "name": "ipython",
    "version": 3
   },
   "file_extension": ".py",
   "mimetype": "text/x-python",
   "name": "python",
   "nbconvert_exporter": "python",
   "pygments_lexer": "ipython3",
   "version": "3.10.2"
  },
  "orig_nbformat": 4
 },
 "nbformat": 4,
 "nbformat_minor": 2
}
