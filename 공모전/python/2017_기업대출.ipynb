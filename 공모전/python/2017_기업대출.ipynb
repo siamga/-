{
 "cells": [
  {
   "cell_type": "code",
   "execution_count": 6,
   "metadata": {},
   "outputs": [
    {
     "data": {
      "text/plain": [
       "0       BNK경남은행\n",
       "1       BNK부산은행\n",
       "2       DGB대구은행\n",
       "3       IBK기업은행\n",
       "4        KB국민은행\n",
       "5       KDB산업은행\n",
       "6        NH농협은행\n",
       "7        SH수협은행\n",
       "8          광주은행\n",
       "9     스탠다드차타드은행\n",
       "10         신한은행\n",
       "11         우리은행\n",
       "12         전북은행\n",
       "13         제주은행\n",
       "14         하나은행\n",
       "15       한국씨티은행\n",
       "Name: 은행, dtype: object"
      ]
     },
     "execution_count": 6,
     "metadata": {},
     "output_type": "execute_result"
    }
   ],
   "source": [
    "import pandas as pd\n",
    "import basic\n",
    "\n",
    "bank = pd.read_csv('..\\자료\\은행대출_금리\\_2017\\물적담보대출.csv', encoding='cp949')\n",
    "\n",
    "bank.columns =  ['은행','구분','1~3등급','4등급','5등급','6등급','7~10등급','평균금리','참고사항']\n",
    "bank.drop(0,axis=0,inplace=True)\n",
    "bank.drop(['구분','참고사항','평균금리'],axis=1,inplace=True)\n",
    "bank.replace('-',0,inplace=True)\n",
    "bank.reset_index(drop=True, inplace=True)\n",
    "bank =bank['은행']\n",
    "bank"
   ]
  },
  {
   "cell_type": "code",
   "execution_count": 7,
   "metadata": {},
   "outputs": [
    {
     "data": {
      "text/plain": [
       "[4.545484451554843,\n",
       " 4.189942005799419,\n",
       " 4.19037696230377,\n",
       " 3.335280471952804,\n",
       " 4.112314768523147,\n",
       " 4.074866513348665,\n",
       " 4.130955904409558,\n",
       " 4.365685431456853,\n",
       " 4.5813858614138585,\n",
       " 3.1280171543895054,\n",
       " 4.607434256574343,\n",
       " 4.3895510448955095,\n",
       " 3.952474752524747,\n",
       " 4.918390160983901,\n",
       " 3.90950504949505,\n",
       " 3.116167383261674]"
      ]
     },
     "execution_count": 7,
     "metadata": {},
     "output_type": "execute_result"
    }
   ],
   "source": [
    "#2017년 물적담보대출\n",
    "import pandas as pd\n",
    "import numpy as np\n",
    "\n",
    "\n",
    "mort_2017 = basic.read('..\\자료\\은행대출_금리\\_2017\\물적담보대출.csv')\n",
    "mort_2017.tidy()\n",
    "mort = mort_2017.multi('2016년말')\n",
    "mort"
   ]
  },
  {
   "cell_type": "code",
   "execution_count": 8,
   "metadata": {},
   "outputs": [
    {
     "data": {
      "text/plain": [
       "[6.375688431156883,\n",
       " 5.2280971902809705,\n",
       " 5.430832916708329,\n",
       " 7.663974602539746,\n",
       " 8.421311868813117,\n",
       " 7.416172382761722,\n",
       " 7.731736826317368,\n",
       " 6.189283071692831,\n",
       " 6.080278972102789,\n",
       " 6.619995963673057,\n",
       " 6.318311168883111,\n",
       " 7.91830116988301,\n",
       " 8.40822917708229,\n",
       " 5.952904709529046,\n",
       " 6.423699630036996,\n",
       " 3.430778922107789]"
      ]
     },
     "execution_count": 8,
     "metadata": {},
     "output_type": "execute_result"
    }
   ],
   "source": [
    "#2017년 신용대출\n",
    "credit_2017 = basic.read('..\\자료\\은행대출_금리\\_2017\\신용대출.csv')\n",
    "credit_2017.tidy()\n",
    "credit = credit_2017.multi('2016년말')\n",
    "credit"
   ]
  },
  {
   "cell_type": "code",
   "execution_count": 9,
   "metadata": {},
   "outputs": [
    {
     "data": {
      "text/plain": [
       "[5.016952304769523,\n",
       " 6.355971402859713,\n",
       " 6.117748225177482,\n",
       " 8.158547145285471,\n",
       " 8.644566543345665,\n",
       " 5.163348567946375,\n",
       " 8.181622112377685,\n",
       " 6.5945965403459645,\n",
       " 5.844217578242175,\n",
       " 4.724847628657922,\n",
       " 7.0829217078292155,\n",
       " 8.816451354864512,\n",
       " 9.753167683231675,\n",
       " 7.640001008776354,\n",
       " 6.501370862913709,\n",
       " 3.9844515539305307]"
      ]
     },
     "execution_count": 9,
     "metadata": {},
     "output_type": "execute_result"
    }
   ],
   "source": [
    "#2017년 신용마통대출\n",
    "minusave_2017 = basic.read('..\\자료\\은행대출_금리\\_2017\\신용마통대출.csv')\n",
    "minusave_2017.tidy()\n",
    "minusave = minusave_2017.multi('2016년말')\n",
    "minusave"
   ]
  },
  {
   "cell_type": "code",
   "execution_count": 10,
   "metadata": {},
   "outputs": [
    {
     "data": {
      "text/plain": [
       "5.827879404104389"
      ]
     },
     "execution_count": 10,
     "metadata": {},
     "output_type": "execute_result"
    }
   ],
   "source": [
    "#2017년 은행 평균 기업대출 금리\n",
    "db = basic.bank_db(bank,mort,credit,minusave)\n",
    "\n",
    "list = db.loc[:,'mort':'minusave'].sum()/16\n",
    "list.sum()/3"
   ]
  }
 ],
 "metadata": {
  "interpreter": {
   "hash": "793a361c9cb33761c67c8442ce1c830393d9eace081562163e5d71d68ad47fd0"
  },
  "kernelspec": {
   "display_name": "Python 3.10.2 64-bit",
   "language": "python",
   "name": "python3"
  },
  "language_info": {
   "codemirror_mode": {
    "name": "ipython",
    "version": 3
   },
   "file_extension": ".py",
   "mimetype": "text/x-python",
   "name": "python",
   "nbconvert_exporter": "python",
   "pygments_lexer": "ipython3",
   "version": "3.10.2"
  },
  "orig_nbformat": 4
 },
 "nbformat": 4,
 "nbformat_minor": 2
}
