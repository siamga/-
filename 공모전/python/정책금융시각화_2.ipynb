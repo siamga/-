{
 "cells": [
  {
   "cell_type": "code",
   "execution_count": 2,
   "metadata": {},
   "outputs": [
    {
     "data": {
      "text/plain": [
       "[5.7008029691630355,\n",
       " 5.827879404104389,\n",
       " 5.975412486993416,\n",
       " 6.057537666234346,\n",
       " 5.783064667355152,\n",
       " 5.103092532622186,\n",
       " 5.425585969656255]"
      ]
     },
     "execution_count": 2,
     "metadata": {},
     "output_type": "execute_result"
    }
   ],
   "source": [
    "import basic_2\n",
    "bank_interest = []\n",
    "for i in range(2016,2023):\n",
    "    bank_interest.append(basic_2.db(i))\n",
    "bank_interest"
   ]
  },
  {
   "cell_type": "code",
   "execution_count": 4,
   "metadata": {},
   "outputs": [
    {
     "data": {
      "image/png": "[encoded data removed]",
      "text/plain": [
       "<Figure size 432x288 with 1 Axes>"
      ]
     },
     "metadata": {
      "needs_background": "light"
     },
     "output_type": "display_data"
    },
    {
     "data": {
      "text/html": [
       "<div>\n",
       "<style scoped>\n",
       "    .dataframe tbody tr th:only-of-type {\n",
       "        vertical-align: middle;\n",
       "    }\n",
       "\n",
       "    .dataframe tbody tr th {\n",
       "        vertical-align: top;\n",
       "    }\n",
       "\n",
       "    .dataframe thead th {\n",
       "        text-align: right;\n",
       "    }\n",
       "</style>\n",
       "<table border=\"1\" class=\"dataframe\">\n",
       "  <thead>\n",
       "    <tr style=\"text-align: right;\">\n",
       "      <th></th>\n",
       "      <th>policy_effect</th>\n",
       "    </tr>\n",
       "  </thead>\n",
       "  <tbody>\n",
       "    <tr>\n",
       "      <th>2016</th>\n",
       "      <td>3.700803</td>\n",
       "    </tr>\n",
       "    <tr>\n",
       "      <th>2017</th>\n",
       "      <td>3.827879</td>\n",
       "    </tr>\n",
       "    <tr>\n",
       "      <th>2018</th>\n",
       "      <td>3.975412</td>\n",
       "    </tr>\n",
       "    <tr>\n",
       "      <th>2019</th>\n",
       "      <td>4.057538</td>\n",
       "    </tr>\n",
       "    <tr>\n",
       "      <th>2020</th>\n",
       "      <td>3.783065</td>\n",
       "    </tr>\n",
       "    <tr>\n",
       "      <th>2021</th>\n",
       "      <td>3.103093</td>\n",
       "    </tr>\n",
       "    <tr>\n",
       "      <th>2022</th>\n",
       "      <td>3.925586</td>\n",
       "    </tr>\n",
       "  </tbody>\n",
       "</table>\n",
       "</div>"
      ],
      "text/plain": [
       "      policy_effect\n",
       "2016       3.700803\n",
       "2017       3.827879\n",
       "2018       3.975412\n",
       "2019       4.057538\n",
       "2020       3.783065\n",
       "2021       3.103093\n",
       "2022       3.925586"
      ]
     },
     "execution_count": 4,
     "metadata": {},
     "output_type": "execute_result"
    }
   ],
   "source": [
    "import matplotlib.pyplot as plt\n",
    "import numpy as np\n",
    "import pandas as pd\n",
    "from matplotlib import font_manager\n",
    "font_patch ='C:\\Windows\\Fonts\\H2HDRM.TTF'\n",
    "font = font_manager.FontProperties(fname=font_patch).get_name()\n",
    "plt.rc('font', family=font)\n",
    "\n",
    "policy_interest = [2,2,2,2,2,2,1.5]\n",
    "\n",
    "policy_effect =np.array(bank_interest) - np.array(policy_interest)\n",
    "policy_effect\n",
    "year = np.arange(2016,2023,1)\n",
    "\n",
    "fig, ax = plt.subplots()\n",
    "b_inter, = ax.plot(year, bank_interest, label='은행')\n",
    "\n",
    "\n",
    "p_inter, = ax.plot(year, policy_interest ,label = '정책 금리')\n",
    "\n",
    "\n",
    "p_effect, = ax.plot(year, policy_effect, label='정책 효용 수준')\n",
    "ax.legend(bbox_to_anchor=(1,1), handles=[b_inter,p_inter,p_effect])\n",
    "plt.title('은행 금리 대비 정책자금 금리 비교')\n",
    "plt.show()\n",
    "\n",
    "policy_ef = pd.DataFrame(policy_effect,columns=['policy_effect'],index=year)\n",
    "policy_ef\n"
   ]
  }
 ],
 "metadata": {
  "interpreter": {
   "hash": "793a361c9cb33761c67c8442ce1c830393d9eace081562163e5d71d68ad47fd0"
  },
  "kernelspec": {
   "display_name": "Python 3.10.2 64-bit",
   "language": "python",
   "name": "python3"
  },
  "language_info": {
   "codemirror_mode": {
    "name": "ipython",
    "version": 3
   },
   "file_extension": ".py",
   "mimetype": "text/x-python",
   "name": "python",
   "nbconvert_exporter": "python",
   "pygments_lexer": "ipython3",
   "version": "3.10.2"
  },
  "orig_nbformat": 4
 },
 "nbformat": 4,
 "nbformat_minor": 2
}
