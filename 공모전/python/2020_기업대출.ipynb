{
 "cells": [
  {
   "cell_type": "code",
   "execution_count": 6,
   "metadata": {},
   "outputs": [
    {
     "data": {
      "text/plain": [
       "0       BNK경남은행\n",
       "1       BNK부산은행\n",
       "2       DGB대구은행\n",
       "3       IBK기업은행\n",
       "4        KB국민은행\n",
       "5       KDB산업은행\n",
       "6        NH농협은행\n",
       "7        SH수협은행\n",
       "8          광주은행\n",
       "9     스탠다드차타드은행\n",
       "10         신한은행\n",
       "11         우리은행\n",
       "12         전북은행\n",
       "13         제주은행\n",
       "14         하나은행\n",
       "15       한국씨티은행\n",
       "Name: 은행, dtype: object"
      ]
     },
     "execution_count": 6,
     "metadata": {},
     "output_type": "execute_result"
    }
   ],
   "source": [
    "import pandas as pd\n",
    "import basic\n",
    "\n",
    "bank = pd.read_csv('..\\자료\\은행대출_금리\\_2020\\물적담보대출.csv', encoding='cp949')\n",
    "\n",
    "bank.columns =  ['은행','구분','1~3등급','4등급','5등급','6등급','7~10등급','평균금리','참고사항']\n",
    "bank.drop(0,axis=0,inplace=True)\n",
    "bank.drop(['구분','참고사항','평균금리'],axis=1,inplace=True)\n",
    "bank.replace('-',0,inplace=True)\n",
    "bank.reset_index(drop=True, inplace=True)\n",
    "bank =bank['은행']\n",
    "bank"
   ]
  },
  {
   "cell_type": "code",
   "execution_count": 7,
   "metadata": {},
   "outputs": [
    {
     "data": {
      "text/plain": [
       "[3.9594000000000005,\n",
       " 3.883814,\n",
       " 3.829434,\n",
       " 3.3668150000000003,\n",
       " 4.168934,\n",
       " 3.8045070000000005,\n",
       " 3.6349430000000003,\n",
       " 3.7152010000000004,\n",
       " 4.12438,\n",
       " 2.9761379031442723,\n",
       " 4.238538,\n",
       " 4.069941,\n",
       " 3.9529760000000005,\n",
       " 4.1151,\n",
       " 3.6720640000000007,\n",
       " 3.56167]"
      ]
     },
     "execution_count": 7,
     "metadata": {},
     "output_type": "execute_result"
    }
   ],
   "source": [
    "#2020년 물적담보대출\n",
    "import pandas as pd\n",
    "import numpy as np\n",
    "\n",
    "\n",
    "mort_2020 = basic.read('..\\자료\\은행대출_금리\\_2020\\물적담보대출.csv')\n",
    "mort_2020.tidy()\n",
    "mort = mort_2020.multi('2019년말')\n",
    "mort"
   ]
  },
  {
   "cell_type": "code",
   "execution_count": 8,
   "metadata": {},
   "outputs": [
    {
     "data": {
      "text/plain": [
       "[4.91652,\n",
       " 4.999996,\n",
       " 5.432502,\n",
       " 7.9716380000000004,\n",
       " 8.281709000000001,\n",
       " 5.837690000000001,\n",
       " 7.104245000000001,\n",
       " 7.015650000000001,\n",
       " 5.72891,\n",
       " 7.65702355676878,\n",
       " 6.6123460000000005,\n",
       " 8.138044,\n",
       " 9.191008000000002,\n",
       " 7.091133,\n",
       " 5.4893100000000015,\n",
       " 3.3710045074050226]"
      ]
     },
     "execution_count": 8,
     "metadata": {},
     "output_type": "execute_result"
    }
   ],
   "source": [
    "#2020년 신용대출\n",
    "credit_2020 = basic.read('..\\자료\\은행대출_금리\\_2020\\신용대출.csv')\n",
    "credit_2020.tidy()\n",
    "credit = credit_2020.multi('2019년말')\n",
    "credit"
   ]
  },
  {
   "cell_type": "code",
   "execution_count": 9,
   "metadata": {},
   "outputs": [
    {
     "data": {
      "text/plain": [
       "[6.068949000000001,\n",
       " 5.740011,\n",
       " 6.267478,\n",
       " 8.374302,\n",
       " 8.627191000000002,\n",
       " 5.530614,\n",
       " 7.280567,\n",
       " 6.831900000000001,\n",
       " 6.786598000000001,\n",
       " 7.4509210393286835,\n",
       " 7.62341,\n",
       " 8.652541000000001,\n",
       " 10.145768,\n",
       " 5.039375,\n",
       " 6.759792000000001,\n",
       " 4.495103026400516]"
      ]
     },
     "execution_count": 9,
     "metadata": {},
     "output_type": "execute_result"
    }
   ],
   "source": [
    "#2020년 신용마통대출\n",
    "minusave_2020 = basic.read('..\\자료\\은행대출_금리\\_2020\\신용마통대출.csv')\n",
    "minusave_2020.tidy()\n",
    "minusave = minusave_2020.multi('2019년말')\n",
    "minusave"
   ]
  },
  {
   "cell_type": "code",
   "execution_count": 10,
   "metadata": {},
   "outputs": [
    {
     "data": {
      "text/plain": [
       "5.783064667355152"
      ]
     },
     "execution_count": 10,
     "metadata": {},
     "output_type": "execute_result"
    }
   ],
   "source": [
    "#2020년 은행 평균 기업대출 금리\n",
    "db = basic.bank_db(bank,mort,credit,minusave)\n",
    "\n",
    "list = db.loc[:,'mort':'minusave'].sum()/16\n",
    "list.sum()/3"
   ]
  }
 ],
 "metadata": {
  "interpreter": {
   "hash": "793a361c9cb33761c67c8442ce1c830393d9eace081562163e5d71d68ad47fd0"
  },
  "kernelspec": {
   "display_name": "Python 3.10.2 64-bit",
   "language": "python",
   "name": "python3"
  },
  "language_info": {
   "codemirror_mode": {
    "name": "ipython",
    "version": 3
   },
   "file_extension": ".py",
   "mimetype": "text/x-python",
   "name": "python",
   "nbconvert_exporter": "python",
   "pygments_lexer": "ipython3",
   "version": "3.10.2"
  },
  "orig_nbformat": 4
 },
 "nbformat": 4,
 "nbformat_minor": 2
}
