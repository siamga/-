{
 "cells": [
  {
   "cell_type": "code",
   "execution_count": 1,
   "metadata": {},
   "outputs": [
    {
     "data": {
      "text/plain": [
       "0       BNK경남은행\n",
       "1       BNK부산은행\n",
       "2       DGB대구은행\n",
       "3       IBK기업은행\n",
       "4        KB국민은행\n",
       "5       KDB산업은행\n",
       "6        NH농협은행\n",
       "7        SH수협은행\n",
       "8          광주은행\n",
       "9     스탠다드차타드은행\n",
       "10         신한은행\n",
       "11         우리은행\n",
       "12         전북은행\n",
       "13         제주은행\n",
       "14         하나은행\n",
       "15       한국씨티은행\n",
       "Name: 은행, dtype: object"
      ]
     },
     "execution_count": 1,
     "metadata": {},
     "output_type": "execute_result"
    }
   ],
   "source": [
    "import pandas as pd\n",
    "import basic\n",
    "\n",
    "bank = pd.read_csv('..\\자료\\은행대출_금리\\_2021\\물적담보대출.csv', encoding='cp949')\n",
    "\n",
    "bank.columns =  ['은행','구분','1~3등급','4등급','5등급','6등급','7~10등급','평균금리','참고사항']\n",
    "bank.drop(0,axis=0,inplace=True)\n",
    "bank.drop(['구분','참고사항','평균금리'],axis=1,inplace=True)\n",
    "bank.replace('-',0,inplace=True)\n",
    "bank.reset_index(drop=True, inplace=True)\n",
    "bank =bank['은행']\n",
    "bank"
   ]
  },
  {
   "cell_type": "code",
   "execution_count": 2,
   "metadata": {},
   "outputs": [
    {
     "data": {
      "text/plain": [
       "[2.9977022297770226,\n",
       " 3.1489921007899215,\n",
       " 3.2604719528047204,\n",
       " 2.8209029097090292,\n",
       " 3.795098490150985,\n",
       " 2.4514478552144787,\n",
       " 3.181737826217378,\n",
       " 3.3057524247575243,\n",
       " 3.532117788221178,\n",
       " 2.4768251393816523,\n",
       " 3.418247175282472,\n",
       " 3.453578642135786,\n",
       " 3.3757084291570845,\n",
       " 3.925885411458854,\n",
       " 2.9055384461553846,\n",
       " 3.044144517433047]"
      ]
     },
     "execution_count": 2,
     "metadata": {},
     "output_type": "execute_result"
    }
   ],
   "source": [
    "#2021년 물적담보대출\n",
    "import pandas as pd\n",
    "import numpy as np\n",
    "\n",
    "\n",
    "mort_2021 = basic.read('..\\자료\\은행대출_금리\\_2021\\물적담보대출.csv')\n",
    "mort_2021.tidy()\n",
    "mort = mort_2021.multi('2020년말')\n",
    "mort"
   ]
  },
  {
   "cell_type": "code",
   "execution_count": 3,
   "metadata": {},
   "outputs": [
    {
     "data": {
      "text/plain": [
       "[4.370793920607939,\n",
       " 4.956549345065493,\n",
       " 5.129531046895311,\n",
       " 7.281981801819818,\n",
       " 7.726283371662835,\n",
       " 5.507409259074093,\n",
       " 7.627040295970404,\n",
       " 6.00183181681832,\n",
       " 5.252545745425458,\n",
       " 5.537608370702542,\n",
       " 5.703258674132586,\n",
       " 7.386477352264774,\n",
       " 8.212805719428058,\n",
       " 7.147136286371363,\n",
       " 4.466844315568443,\n",
       " 3.276502273875695]"
      ]
     },
     "execution_count": 3,
     "metadata": {},
     "output_type": "execute_result"
    }
   ],
   "source": [
    "credit_2021 = basic.read('..\\자료\\은행대출_금리\\_2021\\신용대출.csv')\n",
    "credit_2021.tidy()\n",
    "credit = credit_2021.multi('2020년말')\n",
    "credit"
   ]
  },
  {
   "cell_type": "code",
   "execution_count": 4,
   "metadata": {},
   "outputs": [
    {
     "data": {
      "text/plain": [
       "[5.4899900009999,\n",
       " 4.724941505849415,\n",
       " 5.718859114088591,\n",
       " 7.843084691530848,\n",
       " 7.886739326067394,\n",
       " 5.150438956104389,\n",
       " 6.1983181681831825,\n",
       " 6.753375662433757,\n",
       " 5.9126047395260475,\n",
       " 2.5302058823529414,\n",
       " 6.800365963403661,\n",
       " 7.4369493050694935,\n",
       " 8.904227577242278,\n",
       " 6.9699280071992815,\n",
       " 5.688394160583942,\n",
       " 4.261267570900123]"
      ]
     },
     "execution_count": 4,
     "metadata": {},
     "output_type": "execute_result"
    }
   ],
   "source": [
    "#2021년 신용마통대출\n",
    "minusave_2021 = basic.read('..\\자료\\은행대출_금리\\_2021\\신용마통대출.csv')\n",
    "minusave_2021.tidy()\n",
    "minusave = minusave_2021.multi('2020년말')\n",
    "minusave"
   ]
  },
  {
   "cell_type": "code",
   "execution_count": 5,
   "metadata": {},
   "outputs": [
    {
     "data": {
      "text/plain": [
       "5.103092532622186"
      ]
     },
     "execution_count": 5,
     "metadata": {},
     "output_type": "execute_result"
    }
   ],
   "source": [
    "#2021년 은행 평균 기업대출 금리\n",
    "db = basic.bank_db(bank,mort,credit,minusave)\n",
    "\n",
    "list = db.loc[:,'mort':'minusave'].sum()/16\n",
    "list.sum()/3"
   ]
  }
 ],
 "metadata": {
  "interpreter": {
   "hash": "793a361c9cb33761c67c8442ce1c830393d9eace081562163e5d71d68ad47fd0"
  },
  "kernelspec": {
   "display_name": "Python 3.10.2 64-bit",
   "language": "python",
   "name": "python3"
  },
  "language_info": {
   "codemirror_mode": {
    "name": "ipython",
    "version": 3
   },
   "file_extension": ".py",
   "mimetype": "text/x-python",
   "name": "python",
   "nbconvert_exporter": "python",
   "pygments_lexer": "ipython3",
   "version": "3.10.2"
  },
  "orig_nbformat": 4
 },
 "nbformat": 4,
 "nbformat_minor": 2
}
